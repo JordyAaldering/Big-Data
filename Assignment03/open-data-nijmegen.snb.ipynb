{
  "metadata" : {
    "id" : "3381ac31-51a8-409b-9ef4-601a0565a3a7",
    "name" : "open-data-Nijmegen",
    "user_save_timestamp" : "1970-01-01T00:00:00.000Z",
    "auto_save_timestamp" : "1970-01-01T00:00:00.000Z",
    "language_info" : {
      "name" : "scala",
      "file_extension" : "scala",
      "codemirror_mode" : "text/x-scala"
    },
    "trusted" : true,
    "sparkNotebook" : null,
    "customLocalRepo" : null,
    "customRepos" : null,
    "customDeps" : [ "org.orbisgis % cts % 1.5.2" ],
    "customImports" : null,
    "customArgs" : null,
    "customSparkConf" : null,
    "customVars" : null
  },
  "cells" : [ {
    "metadata" : {
      "id" : "7B36BF513C9645A18A7B800025A5BC05"
    },
    "cell_type" : "markdown",
    "source" : "# Nijmegen Open Data\n\nSpark Notebook to help you analyze data sets provided by Nijmegen's city council."
  }, {
    "metadata" : {
      "id" : "E57A66341EAE4E829036DD82071E0CC7"
    },
    "cell_type" : "markdown",
    "source" : "## Nijmegen data\n\nThe city of Nijmegen provides a variety of resources as open data at\n[opendata.nijmegen.nl](https://opendata.nijmegen.nl/).\n\nOur goal is to analyze these together - to investigate if we can say anything about the relation between population statistics in areas of the city and the activities that are organized there.\n\nSpecifically, we will integrate the following two data sets:\n- Streetnames and their quarters: _not available through portal anymore_, use the `wget` command instead\n    * `wget https://raw.githubusercontent.com/rubigdata/course/gh-pages/data/BAG_ADRES.csv`\n- Public artworks: https://www.nijmegen.nl/kos/opendata/\n    * Due to a mistake in the lastest version of this data, the CSV in this link is corrupt. Use the file `kunstopstraat-kunstwerk.csv` in your repository instead.\n\nYou need to download the data yourself and copy the files into the container, e.g. using `docker cp`.\nThe notebook assumes you choose the CSV version of the datasets, and copy them to a directory `/data/bigdata` in the notebook,\nthat you may still have to create (e.g., `mkdir -p /data/bigdata` inside the container).\n\nThis notebook contains code to get you started in the analysis, so you can pick up Spark by example and refresh your SQL.\n\nTo fully understand everything, you will need the documentation: http://spark.apache.org/docs/latest/sql-programming-guide.html\n\nHints of interesting things to discuss in the blog for assignment 3 start with  _**Q:**_."
  }, {
    "metadata" : {
      "id" : "430FFDBA0F334048B46A627573B79B21"
    },
    "cell_type" : "markdown",
    "source" : "Next, more preamble, importing some necessary classes and creating a `SparkSession` object."
  }, {
    "metadata" : {
      "trusted" : true,
      "input_collapsed" : false,
      "collapsed" : false,
      "id" : "B861A5974A85486D8FD774A92C7E0148"
    },
    "cell_type" : "code",
    "source" : [ "import org.apache.spark.sql.types._\n", "\n", "import java.text.NumberFormat\n", "import java.util.Locale\n", "\n", "val spark = SparkSession\n", "   .builder()\n", "   .appName(\"A3b-spark-df\")\n", "   .getOrCreate()" ],
    "outputs" : [ {
      "name" : "stdout",
      "output_type" : "stream",
      "text" : "import org.apache.spark.sql.types._\nimport java.text.NumberFormat\nimport java.util.Locale\nspark: org.apache.spark.sql.SparkSession = org.apache.spark.sql.SparkSession@2bb55b1c\n"
    }, {
      "metadata" : { },
      "data" : {
        "text/html" : ""
      },
      "output_type" : "execute_result",
      "execution_count" : 1,
      "time" : "Took: 2.260s, at 2020-05-01 12:18"
    } ]
  }, {
    "metadata" : {
      "id" : "B6D57E06C5744D378257D4211AF8DCB5"
    },
    "cell_type" : "markdown",
    "source" : "### Addresses and Quarters\n\nWe start with the so-called BAG (_basisadministratie adressen en gebouwen_, i.e., records of addresses and buildings), a standardized resource for which the definition is managed at the national level.\n\nLike most data, the BAG is distributed as CSV, Comma-Separated-Values. Just using `split` may work on very small datasets with regular data, but as soon as quoted values contain commas, we would get in trouble. Spark 2.0 comes with support to parse various data formats, including CSV and JSON, so let us use the standard interfaces."
  }, {
    "metadata" : {
      "trusted" : true,
      "input_collapsed" : false,
      "collapsed" : false,
      "id" : "2C9A3B0D07CE4E478083C575671B9DFE"
    },
    "cell_type" : "code",
    "source" : [ "val bagdata = spark.read.format(\"csv\").option(\"header\", true).load(\"./notebooks/rubigdata/bag-adres.csv\").cache()" ],
    "outputs" : [ {
      "name" : "stdout",
      "output_type" : "stream",
      "text" : "bagdata: org.apache.spark.sql.Dataset[org.apache.spark.sql.Row] = [ACTCODE: string, ADRES_ID: string ... 18 more fields]\n"
    }, {
      "metadata" : { },
      "data" : {
        "text/html" : ""
      },
      "output_type" : "execute_result",
      "execution_count" : 2,
      "time" : "Took: 5.131s, at 2020-05-01 12:18"
    } ]
  }, {
    "metadata" : {
      "trusted" : true,
      "input_collapsed" : false,
      "collapsed" : false,
      "id" : "85BB50FDA630413892657C654BF48EB2"
    },
    "cell_type" : "code",
    "source" : [ "bagdata.describe()" ],
    "outputs" : [ {
      "name" : "stdout",
      "output_type" : "stream",
      "text" : "res3: org.apache.spark.sql.DataFrame = [summary: string, ACTCODE: string ... 19 more fields]\n"
    }, {
      "metadata" : { },
      "data" : {
        "text/html" : "<div class=\"df-canvas\">\n      <script data-this=\"{&quot;dataId&quot;:&quot;anon106ed7ff15c142094e6a9dfe650589bb&quot;,&quot;partitionIndexId&quot;:&quot;anonffc19776d44edba51a17874fa1447eb1&quot;,&quot;numPartitions&quot;:1,&quot;dfSchema&quot;:{&quot;type&quot;:&quot;struct&quot;,&quot;fields&quot;:[{&quot;name&quot;:&quot;summary&quot;,&quot;type&quot;:&quot;string&quot;,&quot;nullable&quot;:true,&quot;metadata&quot;:{}},{&quot;name&quot;:&quot;ACTCODE&quot;,&quot;type&quot;:&quot;string&quot;,&quot;nullable&quot;:true,&quot;metadata&quot;:{}},{&quot;name&quot;:&quot;ADRES_ID&quot;,&quot;type&quot;:&quot;string&quot;,&quot;nullable&quot;:true,&quot;metadata&quot;:{}},{&quot;name&quot;:&quot;ADR_ADRESNR&quot;,&quot;type&quot;:&quot;string&quot;,&quot;nullable&quot;:true,&quot;metadata&quot;:{}},{&quot;name&quot;:&quot;HUISLETTER&quot;,&quot;type&quot;:&quot;string&quot;,&quot;nullable&quot;:true,&quot;metadata&quot;:{}},{&quot;name&quot;:&quot;HUISNUMMER&quot;,&quot;type&quot;:&quot;string&quot;,&quot;nullable&quot;:true,&quot;metadata&quot;:{}},{&quot;name&quot;:&quot;HUISNUMMERTOEVOEGING&quot;,&quot;type&quot;:&quot;string&quot;,&quot;nullable&quot;:true,&quot;metadata&quot;:{}},{&quot;name&quot;:&quot;OPENBARERUIMTE_ID&quot;,&quot;type&quot;:&quot;string&quot;,&quot;nullable&quot;:true,&quot;metadata&quot;:{}},{&quot;name&quot;:&quot;POSTK_A&quot;,&quot;type&quot;:&quot;string&quot;,&quot;nullable&quot;:true,&quot;metadata&quot;:{}},{&quot;name&quot;:&quot;POSTK_N&quot;,&quot;type&quot;:&quot;string&quot;,&quot;nullable&quot;:true,&quot;metadata&quot;:{}},{&quot;name&quot;:&quot;STADSDEEL&quot;,&quot;type&quot;:&quot;string&quot;,&quot;nullable&quot;:true,&quot;metadata&quot;:{}},{&quot;name&quot;:&quot;STATUS&quot;,&quot;type&quot;:&quot;string&quot;,&quot;nullable&quot;:true,&quot;metadata&quot;:{}},{&quot;name&quot;:&quot;STRAAT&quot;,&quot;type&quot;:&quot;string&quot;,&quot;nullable&quot;:true,&quot;metadata&quot;:{}},{&quot;name&quot;:&quot;STRAAT_OFF&quot;,&quot;type&quot;:&quot;string&quot;,&quot;nullable&quot;:true,&quot;metadata&quot;:{}},{&quot;name&quot;:&quot;STRAAT_OFF_D&quot;,&quot;type&quot;:&quot;string&quot;,&quot;nullable&quot;:true,&quot;metadata&quot;:{}},{&quot;name&quot;:&quot;VOLGNR&quot;,&quot;type&quot;:&quot;string&quot;,&quot;nullable&quot;:true,&quot;metadata&quot;:{}},{&quot;name&quot;:&quot;WIJKCODE&quot;,&quot;type&quot;:&quot;string&quot;,&quot;nullable&quot;:true,&quot;metadata&quot;:{}},{&quot;name&quot;:&quot;WIJK_OMS&quot;,&quot;type&quot;:&quot;string&quot;,&quot;nullable&quot;:true,&quot;metadata&quot;:{}},{&quot;name&quot;:&quot;WOONPLAATS&quot;,&quot;type&quot;:&quot;string&quot;,&quot;nullable&quot;:true,&quot;metadata&quot;:{}},{&quot;name&quot;:&quot;X_COORD&quot;,&quot;type&quot;:&quot;string&quot;,&quot;nullable&quot;:true,&quot;metadata&quot;:{}},{&quot;name&quot;:&quot;Y_COORD&quot;,&quot;type&quot;:&quot;string&quot;,&quot;nullable&quot;:true,&quot;metadata&quot;:{}}]}}\" type=\"text/x-scoped-javascript\">/*<![CDATA[*/req(['../javascripts/notebook/dataframe','../javascripts/notebook/consoleDir'], \n      function(dataframe, extension) {\n        dataframe.call(data, this, extension);\n      }\n    );/*]]>*/</script>\n      <link rel=\"stylesheet\" href=\"/assets/stylesheets/ipython/css/dataframe.css\" type=\"text/css\"/>\n    </div>"
      },
      "output_type" : "execute_result",
      "execution_count" : 3,
      "time" : "Took: 7.268s, at 2020-05-01 12:18"
    } ]
  }, {
    "metadata" : {
      "id" : "EE56D3095D2548618F0819BA50F2E0D6"
    },
    "cell_type" : "markdown",
    "source" : "#### Real-life data\n\nDataFrames are very handy to get a quick impression of the data, e.g., using `show()`, `sample()` and `describe()`."
  }, {
    "metadata" : {
      "id" : "1625B377A87143FC965634CF44A09EC8"
    },
    "cell_type" : "markdown",
    "source" : "If you think a bit longer about the reported statistics, you realize that not all the data is equally well formatted - the data dump contains address records without x and/or y coordinates; which you can validate as follows:"
  }, {
    "metadata" : {
      "trusted" : true,
      "input_collapsed" : false,
      "collapsed" : false,
      "id" : "DAE7853AC7274F1683333B8014C96234"
    },
    "cell_type" : "code",
    "source" : [ "println(\"X coord nulls: \" + bagdata.filter( $\"X_COORD\".isNull ).count)\n", "println(\"Y coord nulls: \" + bagdata.filter( $\"Y_COORD\".isNull ).count)" ],
    "outputs" : [ {
      "name" : "stdout",
      "output_type" : "stream",
      "text" : "X coord nulls: 45\nY coord nulls: 45\n"
    }, {
      "metadata" : { },
      "data" : {
        "text/html" : ""
      },
      "output_type" : "execute_result",
      "execution_count" : 4,
      "time" : "Took: 2.232s, at 2020-05-01 12:18"
    } ]
  }, {
    "metadata" : {
      "id" : "B7B42B7FEBE14FFFAC17FD96E0FC940C"
    },
    "cell_type" : "markdown",
    "source" : "How to proceed is a decision that the data scientist needs to take - that is, it will be up to your judgement. Can we proceed without these records? In this case, the inconsistent records concern only a very small fraction of the data (45 out of almost 100K records), and we might decide to simply ignore these without valid `(x,y)` coordinates.\n\nIn many real life situations, however, we would need to invest more effort and clean the data to overcome these deficiencies. If you look into examples of records without coordinates (_Q: can you write the small numbers of lines of code to inspect these records?_), you find that some of these records have a value \"Niet authentiek\" in field STATUS, whereas almost all records have \"Naamgeving uitgegeven\". We lack the domain knowledge to understand the details of this labelling, and may need to dig deeper, or even have a chat with the owners of the data to learn how these values are assigned.\n\nKeep in mind that we only discovered this anomaly in the data when we attempted to define a proper schema, and discovered that the data did not satisfy that schema. Switching from transformations over RDDs to the more structured Data Frame representation can help avoid mistakes in the analysis.\n\n**Q:** _Discuss decisions in data selection and data cleaning that you took to complete the assignment in your blog post._"
  }, {
    "metadata" : {
      "trusted" : true,
      "input_collapsed" : false,
      "collapsed" : false,
      "id" : "9706F0569BE04A9C9DEE9AEE8790E7B5"
    },
    "cell_type" : "code",
    "source" : [ "var bagdataFiltered = bagdata.filter(  $\"X_COORD\".isNotNull )" ],
    "outputs" : [ {
      "name" : "stdout",
      "output_type" : "stream",
      "text" : "bagdataFiltered: org.apache.spark.sql.Dataset[org.apache.spark.sql.Row] = [ACTCODE: string, ADRES_ID: string ... 18 more fields]\n"
    }, {
      "metadata" : { },
      "data" : {
        "text/html" : ""
      },
      "output_type" : "execute_result",
      "execution_count" : 5,
      "time" : "Took: 1.035s, at 2020-05-01 12:18"
    } ]
  }, {
    "metadata" : {
      "trusted" : true,
      "input_collapsed" : false,
      "collapsed" : false,
      "id" : "5B523D9A77DA46BC8D8FD5E23A9FBA34"
    },
    "cell_type" : "code",
    "source" : [ "println(\"X coord nulls: \" + bagdataFiltered.filter( $\"X_COORD\".isNull ).count)\n", "println(\"Y coord nulls: \" + bagdataFiltered.filter( $\"Y_COORD\".isNull ).count)" ],
    "outputs" : [ {
      "name" : "stdout",
      "output_type" : "stream",
      "text" : "X coord nulls: 0\nY coord nulls: 0\n"
    }, {
      "metadata" : { },
      "data" : {
        "text/html" : ""
      },
      "output_type" : "execute_result",
      "execution_count" : 6,
      "time" : "Took: 1.558s, at 2020-05-01 12:18"
    } ]
  }, {
    "metadata" : {
      "trusted" : true,
      "input_collapsed" : false,
      "collapsed" : false,
      "id" : "1F3C0E3DA4424B1C945F92EB693868AD"
    },
    "cell_type" : "code",
    "source" : [ "bagdataFiltered.describe()" ],
    "outputs" : [ {
      "name" : "stdout",
      "output_type" : "stream",
      "text" : "res10: org.apache.spark.sql.DataFrame = [summary: string, ACTCODE: string ... 19 more fields]\n"
    }, {
      "metadata" : { },
      "data" : {
        "text/html" : "<div class=\"df-canvas\">\n      <script data-this=\"{&quot;dataId&quot;:&quot;anon53725503fd15efc66d011dc2cd5c0fe4&quot;,&quot;partitionIndexId&quot;:&quot;anon04a4de88352e3effed262bfb21451241&quot;,&quot;numPartitions&quot;:1,&quot;dfSchema&quot;:{&quot;type&quot;:&quot;struct&quot;,&quot;fields&quot;:[{&quot;name&quot;:&quot;summary&quot;,&quot;type&quot;:&quot;string&quot;,&quot;nullable&quot;:true,&quot;metadata&quot;:{}},{&quot;name&quot;:&quot;ACTCODE&quot;,&quot;type&quot;:&quot;string&quot;,&quot;nullable&quot;:true,&quot;metadata&quot;:{}},{&quot;name&quot;:&quot;ADRES_ID&quot;,&quot;type&quot;:&quot;string&quot;,&quot;nullable&quot;:true,&quot;metadata&quot;:{}},{&quot;name&quot;:&quot;ADR_ADRESNR&quot;,&quot;type&quot;:&quot;string&quot;,&quot;nullable&quot;:true,&quot;metadata&quot;:{}},{&quot;name&quot;:&quot;HUISLETTER&quot;,&quot;type&quot;:&quot;string&quot;,&quot;nullable&quot;:true,&quot;metadata&quot;:{}},{&quot;name&quot;:&quot;HUISNUMMER&quot;,&quot;type&quot;:&quot;string&quot;,&quot;nullable&quot;:true,&quot;metadata&quot;:{}},{&quot;name&quot;:&quot;HUISNUMMERTOEVOEGING&quot;,&quot;type&quot;:&quot;string&quot;,&quot;nullable&quot;:true,&quot;metadata&quot;:{}},{&quot;name&quot;:&quot;OPENBARERUIMTE_ID&quot;,&quot;type&quot;:&quot;string&quot;,&quot;nullable&quot;:true,&quot;metadata&quot;:{}},{&quot;name&quot;:&quot;POSTK_A&quot;,&quot;type&quot;:&quot;string&quot;,&quot;nullable&quot;:true,&quot;metadata&quot;:{}},{&quot;name&quot;:&quot;POSTK_N&quot;,&quot;type&quot;:&quot;string&quot;,&quot;nullable&quot;:true,&quot;metadata&quot;:{}},{&quot;name&quot;:&quot;STADSDEEL&quot;,&quot;type&quot;:&quot;string&quot;,&quot;nullable&quot;:true,&quot;metadata&quot;:{}},{&quot;name&quot;:&quot;STATUS&quot;,&quot;type&quot;:&quot;string&quot;,&quot;nullable&quot;:true,&quot;metadata&quot;:{}},{&quot;name&quot;:&quot;STRAAT&quot;,&quot;type&quot;:&quot;string&quot;,&quot;nullable&quot;:true,&quot;metadata&quot;:{}},{&quot;name&quot;:&quot;STRAAT_OFF&quot;,&quot;type&quot;:&quot;string&quot;,&quot;nullable&quot;:true,&quot;metadata&quot;:{}},{&quot;name&quot;:&quot;STRAAT_OFF_D&quot;,&quot;type&quot;:&quot;string&quot;,&quot;nullable&quot;:true,&quot;metadata&quot;:{}},{&quot;name&quot;:&quot;VOLGNR&quot;,&quot;type&quot;:&quot;string&quot;,&quot;nullable&quot;:true,&quot;metadata&quot;:{}},{&quot;name&quot;:&quot;WIJKCODE&quot;,&quot;type&quot;:&quot;string&quot;,&quot;nullable&quot;:true,&quot;metadata&quot;:{}},{&quot;name&quot;:&quot;WIJK_OMS&quot;,&quot;type&quot;:&quot;string&quot;,&quot;nullable&quot;:true,&quot;metadata&quot;:{}},{&quot;name&quot;:&quot;WOONPLAATS&quot;,&quot;type&quot;:&quot;string&quot;,&quot;nullable&quot;:true,&quot;metadata&quot;:{}},{&quot;name&quot;:&quot;X_COORD&quot;,&quot;type&quot;:&quot;string&quot;,&quot;nullable&quot;:true,&quot;metadata&quot;:{}},{&quot;name&quot;:&quot;Y_COORD&quot;,&quot;type&quot;:&quot;string&quot;,&quot;nullable&quot;:true,&quot;metadata&quot;:{}}]}}\" type=\"text/x-scoped-javascript\">/*<![CDATA[*/req(['../javascripts/notebook/dataframe','../javascripts/notebook/consoleDir'], \n      function(dataframe, extension) {\n        dataframe.call(data, this, extension);\n      }\n    );/*]]>*/</script>\n      <link rel=\"stylesheet\" href=\"/assets/stylesheets/ipython/css/dataframe.css\" type=\"text/css\"/>\n    </div>"
      },
      "output_type" : "execute_result",
      "execution_count" : 7,
      "time" : "Took: 3.901s, at 2020-05-01 12:18"
    } ]
  }, {
    "metadata" : {
      "id" : "993CFA140F484EDC82E392E71A724C8D"
    },
    "cell_type" : "markdown",
    "source" : "#### Schema\n\nThe Data Frame API supports a more structured interface to data by defining a `case class` to represent the data."
  }, {
    "metadata" : {
      "trusted" : true,
      "input_collapsed" : false,
      "collapsed" : false,
      "id" : "5DEF2851B34B438DB8F802EDFEA556B6"
    },
    "cell_type" : "code",
    "source" : [ "case class Addr(street:String, quarter:String, x:Float, y:Float)" ],
    "outputs" : [ {
      "name" : "stdout",
      "output_type" : "stream",
      "text" : "defined class Addr\n"
    }, {
      "metadata" : { },
      "data" : {
        "text/html" : ""
      },
      "output_type" : "execute_result",
      "execution_count" : 8,
      "time" : "Took: 1.036s, at 2020-05-01 12:18"
    } ]
  }, {
    "metadata" : {
      "id" : "719CCFD68CAC42AD8E04E8FBB273EFCE"
    },
    "cell_type" : "markdown",
    "source" : "Project the desired columns onto the fields of the `case class` and convert to a so-called `dataset`."
  }, {
    "metadata" : {
      "trusted" : true,
      "input_collapsed" : false,
      "collapsed" : false,
      "id" : "E1B060D1C88545E584677058DCA18580"
    },
    "cell_type" : "code",
    "source" : [ "val addrDF = bagdataFiltered.select($\"STRAAT\" as \"street\",\n", "                            $\"X_COORD\".cast(FloatType) as \"x\",\n", "                            $\"Y_COORD\".cast(FloatType) as \"y\",\n", "                            $\"WIJK_OMS\" as \"quarter\").as[Addr].cache()\n", "addrDF.show(5)" ],
    "outputs" : [ {
      "name" : "stdout",
      "output_type" : "stream",
      "text" : "+--------------------+----+----+----------+\n|              street|   x|   y|   quarter|\n+--------------------+----+----+----------+\n|Dr. Claas Noordui...|null|null|Hunnerberg|\n|Dr. Claas Noordui...|null|null|Hunnerberg|\n|Dr. Claas Noordui...|null|null|Hunnerberg|\n|Dr. Claas Noordui...|null|null|Hunnerberg|\n|Dr. Claas Noordui...|null|null|Hunnerberg|\n+--------------------+----+----+----------+\nonly showing top 5 rows\n\naddrDF: org.apache.spark.sql.Dataset[Addr] = [street: string, x: float ... 2 more fields]\n"
    }, {
      "metadata" : { },
      "data" : {
        "text/html" : ""
      },
      "output_type" : "execute_result",
      "execution_count" : 9,
      "time" : "Took: 2.118s, at 2020-05-01 12:18"
    } ]
  }, {
    "metadata" : {
      "id" : "DDD4524221FB46A286EEE74E4D080022"
    },
    "cell_type" : "markdown",
    "source" : "Actually, parsing the X and Y coordinates is a little messy: the data contains the X and Y coordinates in the Dutch locale, which means that they are written as 0,5 instead of 0.5.\n\nWhen parsing fails, we end up with `null` values.\n\nWe define a function to convert values where possible."
  }, {
    "metadata" : {
      "trusted" : true,
      "input_collapsed" : false,
      "collapsed" : false,
      "id" : "2EE7A07C08EB49F4BE7218E15289C1C8"
    },
    "cell_type" : "code",
    "source" : [ "val nf = NumberFormat.getInstance(Locale.forLanguageTag(\"nl\"));\n", "\n", "def convToFloat(s: String): Option[Float] = {\n", "  try {\n", "    Some(nf.parse(s).floatValue)\n", "  } catch {\n", "    case e: Exception => None\n", "  }\n", "}" ],
    "outputs" : [ {
      "name" : "stdout",
      "output_type" : "stream",
      "text" : "nf: java.text.NumberFormat = java.text.DecimalFormat@674dc\nconvToFloat: (s: String)Option[Float]\n"
    }, {
      "metadata" : { },
      "data" : {
        "text/html" : ""
      },
      "output_type" : "execute_result",
      "execution_count" : 10,
      "time" : "Took: 0.960s, at 2020-05-01 12:18"
    } ]
  }, {
    "metadata" : {
      "id" : "EAD399C79491444D859BD36E69C15900"
    },
    "cell_type" : "markdown",
    "source" : "We have to register this function as a _user-defined function_ so it can be used in Spark SQL."
  }, {
    "metadata" : {
      "trusted" : true,
      "input_collapsed" : false,
      "collapsed" : false,
      "id" : "1ACD24DF278842079AFCFE338AEDF9CC"
    },
    "cell_type" : "code",
    "source" : [ "val tfloat = udf((f: String) => convToFloat(f).getOrElse(0f))\n", "\n", "val addrFloats = bagdataFiltered.select($\"STRAAT\" as \"street\",\n", "                            tfloat($\"X_COORD\").cast(FloatType) as \"x\",\n", "                            tfloat($\"Y_COORD\").cast(FloatType) as \"y\",\n", "                            $\"WIJK_OMS\" as \"quarter\").as[Addr].cache()\n", "addrFloats.show(5)" ],
    "outputs" : [ {
      "name" : "stdout",
      "output_type" : "stream",
      "text" : "+--------------------+----+----+----------+\n|              street|   x|   y|   quarter|\n+--------------------+----+----+----------+\n|Dr. Claas Noordui...|null|null|Hunnerberg|\n|Dr. Claas Noordui...|null|null|Hunnerberg|\n|Dr. Claas Noordui...|null|null|Hunnerberg|\n|Dr. Claas Noordui...|null|null|Hunnerberg|\n|Dr. Claas Noordui...|null|null|Hunnerberg|\n+--------------------+----+----+----------+\nonly showing top 5 rows\n\ntfloat: org.apache.spark.sql.expressions.UserDefinedFunction = UserDefinedFunction(<function1>,FloatType,Some(List(StringType)))\naddrFloats: org.apache.spark.sql.Dataset[Addr] = [street: string, x: float ... 2 more fields]\n"
    }, {
      "metadata" : { },
      "data" : {
        "text/html" : ""
      },
      "output_type" : "execute_result",
      "execution_count" : 11,
      "time" : "Took: 2.252s, at 2020-05-01 12:18"
    } ]
  }, {
    "metadata" : {
      "id" : "B55CE28CAF3A4B63B80E3618A45BFF8C"
    },
    "cell_type" : "markdown",
    "source" : "Let's check that the missing values have been placed on the origin:"
  }, {
    "metadata" : {
      "trusted" : true,
      "input_collapsed" : false,
      "collapsed" : false,
      "id" : "00E7170B80CA4EA9BC3EC8B7CB541181"
    },
    "cell_type" : "code",
    "source" : [ "printf(\n", "  \"%d points at origin, %d null values\",\n", "  addrFloats.filter(\"x = 0 or y = 0\").count,\n", "  addrFloats.filter('x.isNull or 'y.isNull).count\n", ")" ],
    "outputs" : [ {
      "name" : "stdout",
      "output_type" : "stream",
      "text" : "0 points at origin, 0 null values"
    }, {
      "metadata" : { },
      "data" : {
        "text/html" : ""
      },
      "output_type" : "execute_result",
      "execution_count" : 12,
      "time" : "Took: 2.105s, at 2020-05-01 12:18"
    } ]
  }, {
    "metadata" : {
      "id" : "039D4E2B27874DBAA0A20ABF90698C14"
    },
    "cell_type" : "markdown",
    "source" : "Use `describe` to get an overview of the data:"
  }, {
    "metadata" : {
      "trusted" : true,
      "input_collapsed" : false,
      "collapsed" : false,
      "id" : "905EE2F864204B408A28BEF5046EC495"
    },
    "cell_type" : "code",
    "source" : [ "addrFloats.describe()" ],
    "outputs" : [ {
      "name" : "stdout",
      "output_type" : "stream",
      "text" : "res20: org.apache.spark.sql.DataFrame = [summary: string, street: string ... 3 more fields]\n"
    }, {
      "metadata" : { },
      "data" : {
        "text/html" : "<div class=\"df-canvas\">\n      <script data-this=\"{&quot;dataId&quot;:&quot;anon7c290d8f5712512956f9f98b96b09427&quot;,&quot;partitionIndexId&quot;:&quot;anonc27622d89b3d629b2cfb8dd409c9b5b2&quot;,&quot;numPartitions&quot;:1,&quot;dfSchema&quot;:{&quot;type&quot;:&quot;struct&quot;,&quot;fields&quot;:[{&quot;name&quot;:&quot;summary&quot;,&quot;type&quot;:&quot;string&quot;,&quot;nullable&quot;:true,&quot;metadata&quot;:{}},{&quot;name&quot;:&quot;street&quot;,&quot;type&quot;:&quot;string&quot;,&quot;nullable&quot;:true,&quot;metadata&quot;:{}},{&quot;name&quot;:&quot;x&quot;,&quot;type&quot;:&quot;string&quot;,&quot;nullable&quot;:true,&quot;metadata&quot;:{}},{&quot;name&quot;:&quot;y&quot;,&quot;type&quot;:&quot;string&quot;,&quot;nullable&quot;:true,&quot;metadata&quot;:{}},{&quot;name&quot;:&quot;quarter&quot;,&quot;type&quot;:&quot;string&quot;,&quot;nullable&quot;:true,&quot;metadata&quot;:{}}]}}\" type=\"text/x-scoped-javascript\">/*<![CDATA[*/req(['../javascripts/notebook/dataframe','../javascripts/notebook/consoleDir'], \n      function(dataframe, extension) {\n        dataframe.call(data, this, extension);\n      }\n    );/*]]>*/</script>\n      <link rel=\"stylesheet\" href=\"/assets/stylesheets/ipython/css/dataframe.css\" type=\"text/css\"/>\n    </div>"
      },
      "output_type" : "execute_result",
      "execution_count" : 13,
      "time" : "Took: 2.031s, at 2020-05-01 12:18"
    } ]
  }, {
    "metadata" : {
      "id" : "8D6A7F6D606A460AAF08C132FDB7FF3E"
    },
    "cell_type" : "markdown",
    "source" : "#### Using Data Frame Operators"
  }, {
    "metadata" : {
      "trusted" : true,
      "input_collapsed" : false,
      "collapsed" : false,
      "id" : "524E39515785443EBFBF0BA269C26D22"
    },
    "cell_type" : "code",
    "source" : [ "val qc_1 = addrFloats.groupBy(\"quarter\").count.cache()\n", "\n", "qc_1.show(5)" ],
    "outputs" : [ {
      "name" : "stdout",
      "output_type" : "stream",
      "text" : "+-----------+-----+\n|    quarter|count|\n+-----------+-----+\n|    Malvert| 1817|\n|     Hatert| 6385|\n|Kwakkenberg|  929|\n|   Aldenhof| 1504|\n|  Meijhorst| 2058|\n+-----------+-----+\nonly showing top 5 rows\n\nqc_1: org.apache.spark.sql.Dataset[org.apache.spark.sql.Row] = [quarter: string, count: bigint]\n"
    }, {
      "metadata" : { },
      "data" : {
        "text/html" : ""
      },
      "output_type" : "execute_result",
      "execution_count" : 14,
      "time" : "Took: 2.112s, at 2020-05-01 12:18"
    } ]
  }, {
    "metadata" : {
      "id" : "FC80E0AFBF5B4F718ADB0483155C2F1A"
    },
    "cell_type" : "markdown",
    "source" : "What are the top 10 largest quarters of Nijmegen?"
  }, {
    "metadata" : {
      "trusted" : true,
      "input_collapsed" : false,
      "collapsed" : false,
      "id" : "22671278EFEC4D57B75A079EBE7D2F10"
    },
    "cell_type" : "code",
    "source" : [ "val qc_1_top = qc_1.orderBy(desc(\"count\")).limit(10)\n", "\n", "qc_1_top.show()" ],
    "outputs" : [ {
      "name" : "stdout",
      "output_type" : "stream",
      "text" : "+--------------+-----+\n|       quarter|count|\n+--------------+-----+\n|  Stadscentrum| 6468|\n|        Hatert| 6385|\n|        Biezen| 4945|\n|Neerbosch-Oost| 4415|\n|          Lent| 4332|\n|     Hengstdal| 3868|\n|      Heseveld| 3559|\n|    Galgenveld| 3510|\n|       Altrade| 3269|\n|     Grootstal| 3079|\n+--------------+-----+\n\nqc_1_top: org.apache.spark.sql.Dataset[org.apache.spark.sql.Row] = [quarter: string, count: bigint]\n"
    }, {
      "metadata" : { },
      "data" : {
        "text/html" : ""
      },
      "output_type" : "execute_result",
      "execution_count" : 15,
      "time" : "Took: 2.888s, at 2020-05-01 12:18"
    } ]
  }, {
    "metadata" : {
      "id" : "0AAF751C56294FFBAFD6A7026AB8EB9E"
    },
    "cell_type" : "markdown",
    "source" : "Wondering what happens inside? The `explain` operator gives you the _physical_ query plan. If you add a boolean, you also see the logical plans, both the initial as parsed, and the plan that is the result of query optimization.\n\n_It is okay if you do not fully understand the full query plan - but do try for a minute or so._"
  }, {
    "metadata" : {
      "trusted" : true,
      "input_collapsed" : false,
      "collapsed" : false,
      "id" : "C849377B8FDF456986830FC46DC86BCA"
    },
    "cell_type" : "code",
    "source" : [ "println(\"Group by and count:\")\n", "println(\"===================\")\n", "qc_1.explain(true)\n", "\n", "println(\"Order descending limit 10:\")\n", "println(\"==========================\")\n", "qc_1_top.explain(true)" ],
    "outputs" : [ {
      "name" : "stdout",
      "output_type" : "stream",
      "text" : "Group by and count:\n===================\n== Parsed Logical Plan ==\nAggregate [quarter#4059], [quarter#4059, count(1) AS count#4613L]\n+- AnalysisBarrier\n      +- Project [STRAAT#21 AS street#4056, cast(UDF(X_COORD#28) as float) AS x#4057, cast(UDF(Y_COORD#29) as float) AS y#4058, WIJK_OMS#26 AS quarter#4059]\n         +- Filter isnotnull(X_COORD#28)\n            +- Relation[ACTCODE#10,ADRES_ID#11,ADR_ADRESNR#12,HUISLETTER#13,HUISNUMMER#14,HUISNUMMERTOEVOEGING#15,OPENBARERUIMTE_ID#16,POSTK_A#17,POSTK_N#18,STADSDEEL#19,STATUS#20,STRAAT#21,STRAAT_OFF#22,STRAAT_OFF_D#23,VOLGNR#24,WIJKCODE#25,WIJK_OMS#26,WOONPLAATS#27,X_COORD#28,Y_COORD#29] csv\n\n== Analyzed Logical Plan ==\nquarter: string, count: bigint\nAggregate [quarter#4059], [quarter#4059, count(1) AS count#4613L]\n+- Project [STRAAT#21 AS street#4056, cast(UDF(X_COORD#28) as float) AS x#4057, cast(UDF(Y_COORD#29) as float) AS y#4058, WIJK_OMS#26 AS quarter#4059]\n   +- Filter isnotnull(X_COORD#28)\n      +- Relation[ACTCODE#10,ADRES_ID#11,ADR_ADRESNR#12,HUISLETTER#13,HUISNUMMER#14,HUISNUMMERTOEVOEGING#15,OPENBARERUIMTE_ID#16,POSTK_A#17,POSTK_N#18,STADSDEEL#19,STATUS#20,STRAAT#21,STRAAT_OFF#22,STRAAT_OFF_D#23,VOLGNR#24,WIJKCODE#25,WIJK_OMS#26,WOONPLAATS#27,X_COORD#28,Y_COORD#29] csv\n\n== Optimized Logical Plan ==\nInMemoryRelation [quarter#4059, count#4613L], true, 10000, StorageLevel(disk, memory, deserialized, 1 replicas)\n   +- *(2) HashAggregate(keys=[quarter#4059], functions=[count(1)], output=[quarter#4059, count#4613L])\n      +- Exchange hashpartitioning(quarter#4059, 200)\n         +- *(1) HashAggregate(keys=[quarter#4059], functions=[partial_count(1)], output=[quarter#4059, count#4637L])\n            +- InMemoryTableScan [quarter#4059]\n                  +- InMemoryRelation [street#4056, x#4057, y#4058, quarter#4059], true, 10000, StorageLevel(disk, memory, deserialized, 1 replicas)\n                        +- *(1) Project [STRAAT#21 AS street#4056, UDF(X_COORD#28) AS x#4057, UDF(Y_COORD#29) AS y#4058, WIJK_OMS#26 AS quarter#4059]\n                           +- *(1) Filter isnotnull(X_COORD#28)\n                              +- InMemoryTableScan [STRAAT#21, WIJK_OMS#26, X_COORD#28, Y_COORD#29], [isnotnull(X_COORD#28)]\n                                    +- InMemoryRelation [ACTCODE#10, ADRES_ID#11, ADR_ADRESNR#12, HUISLETTER#13, HUISNUMMER#14, HUISNUMMERTOEVOEGING#15, OPENBARERUIMTE_ID#16, POSTK_A#17, POSTK_N#18, STADSDEEL#19, STATUS#20, STRAAT#21, STRAAT_OFF#22, STRAAT_OFF_D#23, VOLGNR#24, WIJKCODE#25, WIJK_OMS#26, WOONPLAATS#27, X_COORD#28, Y_COORD#29], true, 10000, StorageLevel(disk, memory, deserialized, 1 replicas)\n                                          +- *(1) FileScan csv [ACTCODE#10,ADRES_ID#11,ADR_ADRESNR#12,HUISLETTER#13,HUISNUMMER#14,HUISNUMMERTOEVOEGING#15,OPENBARERUIMTE_ID#16,POSTK_A#17,POSTK_N#18,STADSDEEL#19,STATUS#20,STRAAT#21,STRAAT_OFF#22,STRAAT_OFF_D#23,VOLGNR#24,WIJKCODE#25,WIJK_OMS#26,WOONPLAATS#27,X_COORD#28,Y_COORD#29] Batched: false, Format: CSV, Location: InMemoryFileIndex[file:/opt/docker/notebooks/rubigdata/bag-adres.csv], PartitionFilters: [], PushedFilters: [], ReadSchema: struct<ACTCODE:string,ADRES_ID:string,ADR_ADRESNR:string,HUISLETTER:string,HUISNUMMER:string,HUIS...\n\n== Physical Plan ==\nInMemoryTableScan [quarter#4059, count#4613L]\n   +- InMemoryRelation [quarter#4059, count#4613L], true, 10000, StorageLevel(disk, memory, deserialized, 1 replicas)\n         +- *(2) HashAggregate(keys=[quarter#4059], functions=[count(1)], output=[quarter#4059, count#4613L])\n            +- Exchange hashpartitioning(quarter#4059, 200)\n               +- *(1) HashAggregate(keys=[quarter#4059], functions=[partial_count(1)], output=[quarter#4059, count#4637L])\n                  +- InMemoryTableScan [quarter#4059]\n                        +- InMemoryRelation [street#4056, x#4057, y#4058, quarter#4059], true, 10000, StorageLevel(disk, memory, deserialized, 1 replicas)\n                              +- *(1) Project [STRAAT#21 AS street#4056, UDF(X_COORD#28) AS x#4057, UDF(Y_COORD#29) AS y#4058, WIJK_OMS#26 AS quarter#4059]\n                                 +- *(1) Filter isnotnull(X_COORD#28)\n                                    +- InMemoryTableScan [STRAAT#21, WIJK_OMS#26, X_COORD#28, Y_COORD#29], [isnotnull(X_COORD#28)]\n                                          +- InMemoryRelation [ACTCODE#10, ADRES_ID#11, ADR_ADRESNR#12, HUISLETTER#13, HUISNUMMER#14, HUISNUMMERTOEVOEGING#15, OPENBARERUIMTE_ID#16, POSTK_A#17, POSTK_N#18, STADSDEEL#19, STATUS#20, STRAAT#21, STRAAT_OFF#22, STRAAT_OFF_D#23, VOLGNR#24, WIJKCODE#25, WIJK_OMS#26, WOONPLAATS#27, X_COORD#28, Y_COORD#29], true, 10000, StorageLevel(disk, memory, deserialized, 1 replicas)\n                                                +- *(1) FileScan csv [ACTCODE#10,ADRES_ID#11,ADR_ADRESNR#12,HUISLETTER#13,HUISNUMMER#14,HUISNUMMERTOEVOEGING#15,OPENBARERUIMTE_ID#16,POSTK_A#17,POSTK_N#18,STADSDEEL#19,STATUS#20,STRAAT#21,STRAAT_OFF#22,STRAAT_OFF_D#23,VOLGNR#24,WIJKCODE#25,WIJK_OMS#26,WOONPLAATS#27,X_COORD#28,Y_COORD#29] Batched: false, Format: CSV, Location: InMemoryFileIndex[file:/opt/docker/notebooks/rubigdata/bag-adres.csv], PartitionFilters: [], PushedFilters: [], ReadSchema: struct<ACTCODE:string,ADRES_ID:string,ADR_ADRESNR:string,HUISLETTER:string,HUISNUMMER:string,HUIS...\nOrder descending limit 10:\n==========================\n== Parsed Logical Plan ==\nGlobalLimit 10\n+- LocalLimit 10\n   +- AnalysisBarrier\n         +- Sort [count#4613L DESC NULLS LAST], true\n            +- Aggregate [quarter#4059], [quarter#4059, count(1) AS count#4613L]\n               +- Project [STRAAT#21 AS street#4056, cast(UDF(X_COORD#28) as float) AS x#4057, cast(UDF(Y_COORD#29) as float) AS y#4058, WIJK_OMS#26 AS quarter#4059]\n                  +- Filter isnotnull(X_COORD#28)\n                     +- Relation[ACTCODE#10,ADRES_ID#11,ADR_ADRESNR#12,HUISLETTER#13,HUISNUMMER#14,HUISNUMMERTOEVOEGING#15,OPENBARERUIMTE_ID#16,POSTK_A#17,POSTK_N#18,STADSDEEL#19,STATUS#20,STRAAT#21,STRAAT_OFF#22,STRAAT_OFF_D#23,VOLGNR#24,WIJKCODE#25,WIJK_OMS#26,WOONPLAATS#27,X_COORD#28,Y_COORD#29] csv\n\n== Analyzed Logical Plan ==\nquarter: string, count: bigint\nGlobalLimit 10\n+- LocalLimit 10\n   +- Sort [count#4613L DESC NULLS LAST], true\n      +- Aggregate [quarter#4059], [quarter#4059, count(1) AS count#4613L]\n         +- Project [STRAAT#21 AS street#4056, cast(UDF(X_COORD#28) as float) AS x#4057, cast(UDF(Y_COORD#29) as float) AS y#4058, WIJK_OMS#26 AS quarter#4059]\n            +- Filter isnotnull(X_COORD#28)\n               +- Relation[ACTCODE#10,ADRES_ID#11,ADR_ADRESNR#12,HUISLETTER#13,HUISNUMMER#14,HUISNUMMERTOEVOEGING#15,OPENBARERUIMTE_ID#16,POSTK_A#17,POSTK_N#18,STADSDEEL#19,STATUS#20,STRAAT#21,STRAAT_OFF#22,STRAAT_OFF_D#23,VOLGNR#24,WIJKCODE#25,WIJK_OMS#26,WOONPLAATS#27,X_COORD#28,Y_COORD#29] csv\n\n== Optimized Logical Plan ==\nGlobalLimit 10\n+- LocalLimit 10\n   +- Sort [count#4613L DESC NULLS LAST], true\n      +- InMemoryRelation [quarter#4059, count#4613L], true, 10000, StorageLevel(disk, memory, deserialized, 1 replicas)\n            +- *(2) HashAggregate(keys=[quarter#4059], functions=[count(1)], output=[quarter#4059, count#4613L])\n               +- Exchange hashpartitioning(quarter#4059, 200)\n                  +- *(1) HashAggregate(keys=[quarter#4059], functions=[partial_count(1)], output=[quarter#4059, count#4637L])\n                     +- InMemoryTableScan [quarter#4059]\n                           +- InMemoryRelation [street#4056, x#4057, y#4058, quarter#4059], true, 10000, StorageLevel(disk, memory, deserialized, 1 replicas)\n                                 +- *(1) Project [STRAAT#21 AS street#4056, UDF(X_COORD#28) AS x#4057, UDF(Y_COORD#29) AS y#4058, WIJK_OMS#26 AS quarter#4059]\n                                    +- *(1) Filter isnotnull(X_COORD#28)\n                                       +- InMemoryTableScan [STRAAT#21, WIJK_OMS#26, X_COORD#28, Y_COORD#29], [isnotnull(X_COORD#28)]\n                                             +- InMemoryRelation [ACTCODE#10, ADRES_ID#11, ADR_ADRESNR#12, HUISLETTER#13, HUISNUMMER#14, HUISNUMMERTOEVOEGING#15, OPENBARERUIMTE_ID#16, POSTK_A#17, POSTK_N#18, STADSDEEL#19, STATUS#20, STRAAT#21, STRAAT_OFF#22, STRAAT_OFF_D#23, VOLGNR#24, WIJKCODE#25, WIJK_OMS#26, WOONPLAATS#27, X_COORD#28, Y_COORD#29], true, 10000, StorageLevel(disk, memory, deserialized, 1 replicas)\n                                                   +- *(1) FileScan csv [ACTCODE#10,ADRES_ID#11,ADR_ADRESNR#12,HUISLETTER#13,HUISNUMMER#14,HUISNUMMERTOEVOEGING#15,OPENBARERUIMTE_ID#16,POSTK_A#17,POSTK_N#18,STADSDEEL#19,STATUS#20,STRAAT#21,STRAAT_OFF#22,STRAAT_OFF_D#23,VOLGNR#24,WIJKCODE#25,WIJK_OMS#26,WOONPLAATS#27,X_COORD#28,Y_COORD#29] Batched: false, Format: CSV, Location: InMemoryFileIndex[file:/opt/docker/notebooks/rubigdata/bag-adres.csv], PartitionFilters: [], PushedFilters: [], ReadSchema: struct<ACTCODE:string,ADRES_ID:string,ADR_ADRESNR:string,HUISLETTER:string,HUISNUMMER:string,HUIS...\n\n== Physical Plan ==\nTakeOrderedAndProject(limit=10, orderBy=[count#4613L DESC NULLS LAST], output=[quarter#4059,count#4613L])\n+- InMemoryTableScan [quarter#4059, count#4613L]\n      +- InMemoryRelation [quarter#4059, count#4613L], true, 10000, StorageLevel(disk, memory, deserialized, 1 replicas)\n            +- *(2) HashAggregate(keys=[quarter#4059], functions=[count(1)], output=[quarter#4059, count#4613L])\n               +- Exchange hashpartitioning(quarter#4059, 200)\n                  +- *(1) HashAggregate(keys=[quarter#4059], functions=[partial_count(1)], output=[quarter#4059, count#4637L])\n                     +- InMemoryTableScan [quarter#4059]\n                           +- InMemoryRelation [street#4056, x#4057, y#4058, quarter#4059], true, 10000, StorageLevel(disk, memory, deserialized, 1 replicas)\n                                 +- *(1) Project [STRAAT#21 AS street#4056, UDF(X_COORD#28) AS x#4057, UDF(Y_COORD#29) AS y#4058, WIJK_OMS#26 AS quarter#4059]\n                                    +- *(1) Filter isnotnull(X_COORD#28)\n                                       +- InMemoryTableScan [STRAAT#21, WIJK_OMS#26, X_COORD#28, Y_COORD#29], [isnotnull(X_COORD#28)]\n                                             +- InMemoryRelation [ACTCODE#10, ADRES_ID#11, ADR_ADRESNR#12, HUISLETTER#13, HUISNUMMER#14, HUISNUMMERTOEVOEGING#15, OPENBARERUIMTE_ID#16, POSTK_A#17, POSTK_N#18, STADSDEEL#19, STATUS#20, STRAAT#21, STRAAT_OFF#22, STRAAT_OFF_D#23, VOLGNR#24, WIJKCODE#25, WIJK_OMS#26, WOONPLAATS#27, X_COORD#28, Y_COORD#29], true, 10000, StorageLevel(disk, memory, deserialized, 1 replicas)\n                                                   +- *(1) FileScan csv [ACTCODE#10,ADRES_ID#11,ADR_ADRESNR#12,HUISLETTER#13,HUISNUMMER#14,HUISNUMMERTOEVOEGING#15,OPENBARERUIMTE_ID#16,POSTK_A#17,POSTK_N#18,STADSDEEL#19,STATUS#20,STRAAT#21,STRAAT_OFF#22,STRAAT_OFF_D#23,VOLGNR#24,WIJKCODE#25,WIJK_OMS#26,WOONPLAATS#27,X_COORD#28,Y_COORD#29] Batched: false, Format: CSV, Location: InMemoryFileIndex[file:/opt/docker/notebooks/rubigdata/bag-adres.csv], PartitionFilters: [], PushedFilters: [], ReadSchema: struct<ACTCODE:string,ADRES_ID:string,ADR_ADRESNR:string,HUISLETTER:string,HUISNUMMER:string,HUIS..."
    }, {
      "metadata" : { },
      "data" : {
        "text/html" : ""
      },
      "output_type" : "execute_result",
      "execution_count" : 16,
      "time" : "Took: 1.214s, at 2020-05-01 12:18"
    } ]
  }, {
    "metadata" : {
      "id" : "46A33671A60C46BE83C34AECC48A1890"
    },
    "cell_type" : "markdown",
    "source" : "#### Using SQL"
  }, {
    "metadata" : {
      "id" : "C3A6C9731A5E4F5B8FC83393F9FAACA1"
    },
    "cell_type" : "markdown",
    "source" : "You are not restricted to building queryplans yourself by applying operators to Data Frames; instead, you can also use the SQL interface, and, mix and match SQL querying with follow-up operations using the Data Frame API, or even convert the data back to RDDs and continue to perform analyses directly working with RDDs.\n\nUsing SQL is most convenient when queries get larger and more complicated. Consider for example the query for the 10 largest quarters:"
  }, {
    "metadata" : {
      "trusted" : true,
      "input_collapsed" : false,
      "collapsed" : false,
      "id" : "70FD626286454C2684CCB33C63DC103B"
    },
    "cell_type" : "code",
    "source" : [ "addrFloats.createOrReplaceTempView(\"addresses\")" ],
    "outputs" : [ {
      "metadata" : { },
      "data" : {
        "text/html" : ""
      },
      "output_type" : "execute_result",
      "execution_count" : 17,
      "time" : "Took: 1.067s, at 2020-05-01 12:18"
    } ]
  }, {
    "metadata" : {
      "trusted" : true,
      "input_collapsed" : false,
      "collapsed" : false,
      "id" : "47B6549888214275A5D50A6E50768194"
    },
    "cell_type" : "code",
    "source" : [ "val qc_2_top = spark.sql(\"SELECT quarter, count(quarter) AS qc FROM addresses GROUP BY quarter ORDER BY qc DESC LIMIT 10\")" ],
    "outputs" : [ {
      "name" : "stdout",
      "output_type" : "stream",
      "text" : "qc_2_top: org.apache.spark.sql.DataFrame = [quarter: string, qc: bigint]\n"
    }, {
      "metadata" : { },
      "data" : {
        "text/html" : ""
      },
      "output_type" : "execute_result",
      "execution_count" : 18,
      "time" : "Took: 1.079s, at 2020-05-01 12:18"
    } ]
  }, {
    "metadata" : {
      "trusted" : true,
      "input_collapsed" : false,
      "collapsed" : false,
      "id" : "16FE87C02753417DAE5BD57FB16E0481"
    },
    "cell_type" : "code",
    "source" : [ "qc_2_top.show" ],
    "outputs" : [ {
      "name" : "stdout",
      "output_type" : "stream",
      "text" : "+--------------+----+\n|       quarter|  qc|\n+--------------+----+\n|  Stadscentrum|6468|\n|        Hatert|6385|\n|        Biezen|4945|\n|Neerbosch-Oost|4415|\n|          Lent|4332|\n|     Hengstdal|3868|\n|      Heseveld|3559|\n|    Galgenveld|3510|\n|       Altrade|3269|\n|     Grootstal|3079|\n+--------------+----+\n\n"
    }, {
      "metadata" : { },
      "data" : {
        "text/html" : ""
      },
      "output_type" : "execute_result",
      "execution_count" : 19,
      "time" : "Took: 2.924s, at 2020-05-01 12:19"
    } ]
  }, {
    "metadata" : {
      "trusted" : true,
      "input_collapsed" : false,
      "collapsed" : false,
      "id" : "261781F463F046D2986EA105B8C87FD0"
    },
    "cell_type" : "code",
    "source" : [ "qc_2_top.explain(true)" ],
    "outputs" : [ {
      "name" : "stdout",
      "output_type" : "stream",
      "text" : "== Parsed Logical Plan ==\n'GlobalLimit 10\n+- 'LocalLimit 10\n   +- 'Sort ['qc DESC NULLS LAST], true\n      +- 'Aggregate ['quarter], ['quarter, 'count('quarter) AS qc#4710]\n         +- 'UnresolvedRelation `addresses`\n\n== Analyzed Logical Plan ==\nquarter: string, qc: bigint\nGlobalLimit 10\n+- LocalLimit 10\n   +- Sort [qc#4710L DESC NULLS LAST], true\n      +- Aggregate [quarter#4059], [quarter#4059, count(quarter#4059) AS qc#4710L]\n         +- SubqueryAlias addresses\n            +- Project [STRAAT#21 AS street#4056, cast(UDF(X_COORD#28) as float) AS x#4057, cast(UDF(Y_COORD#29) as float) AS y#4058, WIJK_OMS#26 AS quarter#4059]\n               +- Filter isnotnull(X_COORD#28)\n                  +- Relation[ACTCODE#10,ADRES_ID#11,ADR_ADRESNR#12,HUISLETTER#13,HUISNUMMER#14,HUISNUMMERTOEVOEGING#15,OPENBARERUIMTE_ID#16,POSTK_A#17,POSTK_N#18,STADSDEEL#19,STATUS#20,STRAAT#21,STRAAT_OFF#22,STRAAT_OFF_D#23,VOLGNR#24,WIJKCODE#25,WIJK_OMS#26,WOONPLAATS#27,X_COORD#28,Y_COORD#29] csv\n\n== Optimized Logical Plan ==\nGlobalLimit 10\n+- LocalLimit 10\n   +- Sort [qc#4710L DESC NULLS LAST], true\n      +- Aggregate [quarter#4059], [quarter#4059, count(quarter#4059) AS qc#4710L]\n         +- Project [quarter#4059]\n            +- InMemoryRelation [street#4056, x#4057, y#4058, quarter#4059], true, 10000, StorageLevel(disk, memory, deserialized, 1 replicas)\n                  +- *(1) Project [STRAAT#21 AS street#4056, UDF(X_COORD#28) AS x#4057, UDF(Y_COORD#29) AS y#4058, WIJK_OMS#26 AS quarter#4059]\n                     +- *(1) Filter isnotnull(X_COORD#28)\n                        +- InMemoryTableScan [STRAAT#21, WIJK_OMS#26, X_COORD#28, Y_COORD#29], [isnotnull(X_COORD#28)]\n                              +- InMemoryRelation [ACTCODE#10, ADRES_ID#11, ADR_ADRESNR#12, HUISLETTER#13, HUISNUMMER#14, HUISNUMMERTOEVOEGING#15, OPENBARERUIMTE_ID#16, POSTK_A#17, POSTK_N#18, STADSDEEL#19, STATUS#20, STRAAT#21, STRAAT_OFF#22, STRAAT_OFF_D#23, VOLGNR#24, WIJKCODE#25, WIJK_OMS#26, WOONPLAATS#27, X_COORD#28, Y_COORD#29], true, 10000, StorageLevel(disk, memory, deserialized, 1 replicas)\n                                    +- *(1) FileScan csv [ACTCODE#10,ADRES_ID#11,ADR_ADRESNR#12,HUISLETTER#13,HUISNUMMER#14,HUISNUMMERTOEVOEGING#15,OPENBARERUIMTE_ID#16,POSTK_A#17,POSTK_N#18,STADSDEEL#19,STATUS#20,STRAAT#21,STRAAT_OFF#22,STRAAT_OFF_D#23,VOLGNR#24,WIJKCODE#25,WIJK_OMS#26,WOONPLAATS#27,X_COORD#28,Y_COORD#29] Batched: false, Format: CSV, Location: InMemoryFileIndex[file:/opt/docker/notebooks/rubigdata/bag-adres.csv], PartitionFilters: [], PushedFilters: [], ReadSchema: struct<ACTCODE:string,ADRES_ID:string,ADR_ADRESNR:string,HUISLETTER:string,HUISNUMMER:string,HUIS...\n\n== Physical Plan ==\nTakeOrderedAndProject(limit=10, orderBy=[qc#4710L DESC NULLS LAST], output=[quarter#4059,qc#4710L])\n+- *(2) HashAggregate(keys=[quarter#4059], functions=[count(quarter#4059)], output=[quarter#4059, qc#4710L])\n   +- Exchange hashpartitioning(quarter#4059, 200)\n      +- *(1) HashAggregate(keys=[quarter#4059], functions=[partial_count(quarter#4059)], output=[quarter#4059, count#4770L])\n         +- InMemoryTableScan [quarter#4059]\n               +- InMemoryRelation [street#4056, x#4057, y#4058, quarter#4059], true, 10000, StorageLevel(disk, memory, deserialized, 1 replicas)\n                     +- *(1) Project [STRAAT#21 AS street#4056, UDF(X_COORD#28) AS x#4057, UDF(Y_COORD#29) AS y#4058, WIJK_OMS#26 AS quarter#4059]\n                        +- *(1) Filter isnotnull(X_COORD#28)\n                           +- InMemoryTableScan [STRAAT#21, WIJK_OMS#26, X_COORD#28, Y_COORD#29], [isnotnull(X_COORD#28)]\n                                 +- InMemoryRelation [ACTCODE#10, ADRES_ID#11, ADR_ADRESNR#12, HUISLETTER#13, HUISNUMMER#14, HUISNUMMERTOEVOEGING#15, OPENBARERUIMTE_ID#16, POSTK_A#17, POSTK_N#18, STADSDEEL#19, STATUS#20, STRAAT#21, STRAAT_OFF#22, STRAAT_OFF_D#23, VOLGNR#24, WIJKCODE#25, WIJK_OMS#26, WOONPLAATS#27, X_COORD#28, Y_COORD#29], true, 10000, StorageLevel(disk, memory, deserialized, 1 replicas)\n                                       +- *(1) FileScan csv [ACTCODE#10,ADRES_ID#11,ADR_ADRESNR#12,HUISLETTER#13,HUISNUMMER#14,HUISNUMMERTOEVOEGING#15,OPENBARERUIMTE_ID#16,POSTK_A#17,POSTK_N#18,STADSDEEL#19,STATUS#20,STRAAT#21,STRAAT_OFF#22,STRAAT_OFF_D#23,VOLGNR#24,WIJKCODE#25,WIJK_OMS#26,WOONPLAATS#27,X_COORD#28,Y_COORD#29] Batched: false, Format: CSV, Location: InMemoryFileIndex[file:/opt/docker/notebooks/rubigdata/bag-adres.csv], PartitionFilters: [], PushedFilters: [], ReadSchema: struct<ACTCODE:string,ADRES_ID:string,ADR_ADRESNR:string,HUISLETTER:string,HUISNUMMER:string,HUIS...\n"
    }, {
      "metadata" : { },
      "data" : {
        "text/html" : ""
      },
      "output_type" : "execute_result",
      "execution_count" : 20,
      "time" : "Took: 0.996s, at 2020-05-01 12:19"
    } ]
  }, {
    "metadata" : {
      "id" : "B7E07A735BFB47C6881CE5818ED0478C"
    },
    "cell_type" : "markdown",
    "source" : "### Artworks\n\nNow that we have the address data prepared, move on to look into the data about the artworks.\n\nLoad the data, look at the schema and global statistics, and inspect a small sample:"
  }, {
    "metadata" : {
      "trusted" : true,
      "input_collapsed" : false,
      "collapsed" : false,
      "id" : "E3EAA5EDD64041409F95BFFE263FE637"
    },
    "cell_type" : "code",
    "source" : [ "val kunst = spark.read\n", "    .format(\"csv\")\n", "    .option(\"header\", \"true\") // Use first line of all files as header\n", "    .option(\"inferSchema\", \"true\") // Automatically infer data types\n", "    .load(\"./notebooks/rubigdata/kunstopstraat-kunstwerk.csv\").cache()\n" ],
    "outputs" : [ {
      "name" : "stdout",
      "output_type" : "stream",
      "text" : "kunst: org.apache.spark.sql.Dataset[org.apache.spark.sql.Row] = [naam: string, bouwjaar: string ... 8 more fields]\n"
    }, {
      "metadata" : { },
      "data" : {
        "text/html" : ""
      },
      "output_type" : "execute_result",
      "execution_count" : 21,
      "time" : "Took: 0.883s, at 2020-05-01 12:19"
    } ]
  }, {
    "metadata" : {
      "trusted" : true,
      "input_collapsed" : false,
      "collapsed" : false,
      "id" : "1728A743089D442E8F9F9EDE7BE99747"
    },
    "cell_type" : "code",
    "source" : [ "kunst.printSchema" ],
    "outputs" : [ {
      "name" : "stdout",
      "output_type" : "stream",
      "text" : "root\n |-- naam: string (nullable = true)\n |-- bouwjaar: string (nullable = true)\n |-- kunstenaar: string (nullable = true)\n |-- locatie: string (nullable = true)\n |-- latitude: string (nullable = true)\n |-- longitude: string (nullable = true)\n |-- omschrijving: string (nullable = true)\n |-- eigendom: string (nullable = true)\n |-- bron: string (nullable = true)\n |-- url: string (nullable = true)\n\n"
    }, {
      "metadata" : { },
      "data" : {
        "text/html" : ""
      },
      "output_type" : "execute_result",
      "execution_count" : 22,
      "time" : "Took: 0.817s, at 2020-05-01 12:19"
    } ]
  }, {
    "metadata" : {
      "trusted" : true,
      "input_collapsed" : false,
      "collapsed" : false,
      "id" : "0838E3F28FBB49089455CF2AFCECAC53"
    },
    "cell_type" : "code",
    "source" : [ "// Select all the public art created before the year 2000\n", "val kunstwerken = kunst.select(\"naam\", \"locatie\", \"latitude\", \"longitude\", \"bouwjaar\", \"url\").where(\"bouwjaar <= 1999\")" ],
    "outputs" : [ {
      "name" : "stdout",
      "output_type" : "stream",
      "text" : "kunstwerken: org.apache.spark.sql.Dataset[org.apache.spark.sql.Row] = [naam: string, locatie: string ... 4 more fields]\n"
    }, {
      "metadata" : { },
      "data" : {
        "text/html" : ""
      },
      "output_type" : "execute_result",
      "execution_count" : 23,
      "time" : "Took: 0.712s, at 2020-05-01 12:19"
    } ]
  }, {
    "metadata" : {
      "trusted" : true,
      "input_collapsed" : false,
      "collapsed" : false,
      "id" : "D429016909A9411989AB6CD476D9701A"
    },
    "cell_type" : "code",
    "source" : [ "kunstwerken.sample(true, 0.1).show()" ],
    "outputs" : [ {
      "name" : "stdout",
      "output_type" : "stream",
      "text" : "+--------------------+--------------------+----------+----------+--------+--------------------+\n|                naam|             locatie|  latitude| longitude|bouwjaar|                 url|\n+--------------------+--------------------+----------+----------+--------+--------------------+\n|Weesjongen en wee...|   Begijnenstraat 29|51.8485003|5.86054756|    1645|                null|\n|               Leeuw|Groesbeekseweg (g...|51.8340911|5.87236642|    1903|                null|\n|    C.A.P. Ivensbank|          Hunnerpark| 51.847941|  5.872782|    1936|                null|\n|    Achttien hoofden|Burchtstraat (sta...|51.8470413|5.86588919|    1948|                null|\n|Acht keizerbeelde...|Burchtstraat (gev...|51.8470240|5.86595084|    1950|                null|\n|Zonnewijzer met z...|Groenestraat 310/336|51.8325252|5.84410544|    1953|http://www.nijmeg...|\n|          Mariabeeld|Burchtstraat 20 (...|51.8470070|5.86601127|    1953|                null|\n|         Zes reli?fs|      Burchtstraat 3| 51.847172|  5.866058|    1953|http://www.nijmeg...|\n|   Twee spaarvarkens|  Mari?nburgsestraat|51.8452700|5.86768048|    1954|                null|\n|     Vier Kerkvaders|Sint Stevenskerkh...| 51.847620|  5.862954|    1961|                null|\n|Micha?l met de draak|    Heemraadstraat 2|51.8122354|5.86049753|    1961|                null|\n|      Karel de Grote|   Keizer Karelplein| 51.842162|  5.859390|    1962|                null|\n| Mens in zijn wereld|     Hatertseweg 400| 51.815676|  5.838903|    1964|                null|\n|      Dame met stola|Nassausingel (ple...|51.8429477|5.85819385|    1966|http://www.nijmeg...|\n|              Vogels|Van den Boenhoffs...| 51.825279|  5.875208|    1967|http://www.nijmeg...|\n|     Zittende figuur|    Couwenbergstraat|51.8054775|5.82683857|    1969|                null|\n|       Schikgodinnen|         Hertogplein| 51.844417|  5.868756|    1974|   \"de onafwendbare\"|\n| Twee muursculpturen|   Veemarkt/Waalkade|51.8500001|5.85642344|    1982|                null|\n|Vrouw uitkijkend ...| Lage Markt/Waalkade| 51.849750|  5.863867|    1982|                null|\n| Omgevingsvormgeving|           Eiermarkt| 51.847501|  5.866319|    1984|                null|\n+--------------------+--------------------+----------+----------+--------+--------------------+\nonly showing top 20 rows\n\n"
    }, {
      "metadata" : { },
      "data" : {
        "text/html" : ""
      },
      "output_type" : "execute_result",
      "execution_count" : 24,
      "time" : "Took: 1.008s, at 2020-05-01 12:19"
    } ]
  }, {
    "metadata" : {
      "trusted" : true,
      "input_collapsed" : false,
      "collapsed" : true,
      "id" : "0B024D5FBECD4BC9A12E8BBA8C1231F4"
    },
    "cell_type" : "markdown",
    "source" : "The coordinates are not correctly detected as floats - again, due to the Locale.\nA quick hack (but not robust code) to cast the values to floats:"
  }, {
    "metadata" : {
      "trusted" : true,
      "input_collapsed" : false,
      "collapsed" : false,
      "id" : "86ACB3FFDD5241F3B4B71E668528157F"
    },
    "cell_type" : "code",
    "source" : [ "val kunstxy = kunstwerken\n", "  .withColumn(\"latitude\", translate(kunstwerken.col(\"latitude\"), \",\", \".\").cast(\"float\"))\n", "  .withColumn(\"longitude\", translate(kunstwerken.col(\"longitude\"), \",\", \".\").cast(\"float\"))" ],
    "outputs" : [ {
      "name" : "stdout",
      "output_type" : "stream",
      "text" : "kunstxy: org.apache.spark.sql.DataFrame = [naam: string, locatie: string ... 4 more fields]\n"
    }, {
      "metadata" : { },
      "data" : {
        "text/html" : ""
      },
      "output_type" : "execute_result",
      "execution_count" : 25,
      "time" : "Took: 0.751s, at 2020-05-01 12:19"
    } ]
  }, {
    "metadata" : {
      "id" : "BA382E45FC8441CC85069152862E47C4"
    },
    "cell_type" : "markdown",
    "source" : "Let's inspect some of the data, using global information and a sample."
  }, {
    "metadata" : {
      "trusted" : true,
      "input_collapsed" : false,
      "collapsed" : false,
      "id" : "88809D92DB1048908164A26F8EA30623"
    },
    "cell_type" : "code",
    "source" : [ "kunstxy.sample(true, 0.05).show()" ],
    "outputs" : [ {
      "name" : "stdout",
      "output_type" : "stream",
      "text" : "+--------------------+--------------------+---------+---------+--------+--------------------+\n|                naam|             locatie| latitude|longitude|bouwjaar|                 url|\n+--------------------+--------------------+---------+---------+--------+--------------------+\n|Weesjongen en wee...|   Begijnenstraat 29|  51.8485|5.8605475|    1645|                null|\n|           Dominicus|Heyendaalseweg 12...|51.827034|5.8713107|    1880|                null|\n|               Wapen|Smetiusstraat (Ko...| 51.84415| 5.858717|    1882|http://www.nijmeg...|\n|               Leeuw|    Kronenburgerpark|51.845955| 5.857805|    1886|                null|\n|Vincentius Ferrerius| Dominicanenstraat 6|51.841824|5.8734784|    1904|http://www.nijmeg...|\n|             Madonna|  Heyendaalseweg 239|51.812054|5.8674207|    1927|                null|\n|Zonnewijzer met z...|Groenestraat 310/336|51.832523|5.8441052|    1953|http://www.nijmeg...|\n|         Ruiterbeeld|       Stationsplein| 51.84214| 5.853131|    1953|                null|\n|    Gevel Mariakapel|Molenstraat 37 (P...|51.845043|5.8633647|    1959|                null|\n|    Gevel Mariakapel|Molenstraat 37 (P...|51.845043|5.8633647|    1959|                null|\n|     Vier Kerkvaders|Sint Stevenskerkh...| 51.84762| 5.862954|    1961|                null|\n|           Mercurius|               Depot|51.818153| 5.817281|    1962|                null|\n|        Wapenreli?fs|Sint Stevenskerkh...| 51.84764| 5.862948|    1965|http://www.nijmeg...|\n|      Moeder en kind|       Arsenaalpoort|51.845078| 5.865646|    1966|                null|\n|Symbool van Commu...|       Mari?nburg 85| 51.84493|5.8662043|    1972|                null|\n|           Sculptuur|          Westerpark|51.852596|5.8402953|    1973|                null|\n| Omgevingsvormgeving|Keizer Traianusplein|51.845566|5.8735094|    1974|http://www.nijmeg...|\n|            Andersom|Marie Curiestraat...|51.811474| 5.845214|    1980|http://www.nijmeg...|\n|       Schikgodinnen|         Hertogplein|51.844418| 5.868756|    1974|   \"de onafwendbare\"|\n|            Objecten| Groenewoudseweg 322|51.830437|  5.86028|    1987|                null|\n+--------------------+--------------------+---------+---------+--------+--------------------+\nonly showing top 20 rows\n\n"
    }, {
      "metadata" : { },
      "data" : {
        "text/html" : ""
      },
      "output_type" : "execute_result",
      "execution_count" : 26,
      "time" : "Took: 1.137s, at 2020-05-01 12:19"
    } ]
  }, {
    "metadata" : {
      "id" : "B3B112064FF74E238831D15A7C25EB51"
    },
    "cell_type" : "markdown",
    "source" : "Artworks created during WWII:"
  }, {
    "metadata" : {
      "trusted" : true,
      "input_collapsed" : false,
      "collapsed" : false,
      "id" : "4F84F3F8578F4B2183942FA51713039D"
    },
    "cell_type" : "code",
    "source" : [ "kunstxy.filter(\"bouwjaar >= 1940 and bouwjaar <= 1945\").show()" ],
    "outputs" : [ {
      "name" : "stdout",
      "output_type" : "stream",
      "text" : "+--------------------+--------------------+---------+---------+--------+--------------------+\n|                naam|             locatie| latitude|longitude|bouwjaar|                 url|\n+--------------------+--------------------+---------+---------+--------+--------------------+\n|        Twee leeuwen|    Veerpoorttrappen|51.848396| 5.868978|    1941|http://www.nijmeg...|\n|               Kopje|Nieuwstraat (stad...| 51.84608|5.8656554|    1943|http://www.nijmeg...|\n|Gedenksteen voor ...|    Joris Ivensplein| 51.84864|5.8566613|    1945|                null|\n|Gedenksteen Jan v...|Waalbrug, pijler ...| 51.85252| 5.870856|    1945|                null|\n+--------------------+--------------------+---------+---------+--------+--------------------+\n\n"
    }, {
      "metadata" : { },
      "data" : {
        "text/html" : ""
      },
      "output_type" : "execute_result",
      "execution_count" : 27,
      "time" : "Took: 1.019s, at 2020-05-01 12:19"
    } ]
  }, {
    "metadata" : {
      "trusted" : true,
      "input_collapsed" : false,
      "collapsed" : false,
      "id" : "313A89394977426AB908BD2122F43C0D"
    },
    "cell_type" : "code",
    "source" : [ "kunstxy.describe().show()" ],
    "outputs" : [ {
      "name" : "stdout",
      "output_type" : "stream",
      "text" : "+-------+--------------------+--------------------+--------------------+--------------------+------------------+--------------------+\n|summary|                naam|             locatie|            latitude|           longitude|          bouwjaar|                 url|\n+-------+--------------------+--------------------+--------------------+--------------------+------------------+--------------------+\n|  count|                 300|                 300|                 300|                 300|               300|                 102|\n|   mean|                null|                null|  51.838399492899576|    5.85550477027893|1948.7966666666666|                null|\n| stddev|                null|                null|0.012622929581466448|0.022618858781211955| 68.08067702490506|                null|\n|    min|'Vervult u met de...|Achter de Hoofdwacht|           51.800934|           5.7574415|              1554|   \"de onafwendbare\"|\n|    max|     muurschildering|d'Almarasweg (Bot...|           51.871082|           5.8993073|              1999|http://www.nijmeg...|\n+-------+--------------------+--------------------+--------------------+--------------------+------------------+--------------------+\n\n"
    }, {
      "metadata" : { },
      "data" : {
        "text/html" : ""
      },
      "output_type" : "execute_result",
      "execution_count" : 28,
      "time" : "Took: 1.390s, at 2020-05-01 12:19"
    } ]
  }, {
    "metadata" : {
      "id" : "55AD2AB4EE7B4A8183A276DE8F9CC307"
    },
    "cell_type" : "markdown",
    "source" : "Many items have no URL information, given the difference in counts between `url` and `latitude`.\n\nLet's inspect the problematic tuples (using SQL - _\"niet omdat het moet, maar omdat het kan\"_):"
  }, {
    "metadata" : {
      "trusted" : true,
      "input_collapsed" : false,
      "collapsed" : false,
      "id" : "524FDAFD474A4E6D81D8461903928D28"
    },
    "cell_type" : "code",
    "source" : [ "kunstxy.createOrReplaceTempView(\"kunstxy\")\n", "spark.sql(\"SELECT * FROM kunstxy WHERE url IS NULL LIMIT 10\").show()" ],
    "outputs" : [ {
      "name" : "stdout",
      "output_type" : "stream",
      "text" : "+--------------------+--------------------+---------+---------+--------+----+\n|                naam|             locatie| latitude|longitude|bouwjaar| url|\n+--------------------+--------------------+---------+---------+--------+----+\n|Ingangspoort van ...|     Burchtstraat 20| 51.84708| 5.865753|    1554|null|\n|              Reli?f|   Begijnenstraat 29| 51.84851|5.8605824|    1618|null|\n|Weesjongen en wee...|   Begijnenstraat 29|  51.8485|5.8605475|    1645|null|\n|Poort Oud Burgere...|Professor Corneli...|51.833538| 5.865971|    1645|null|\n|   Vier gevelbeelden|Postweg 80 (Villa...| 51.83032| 5.878629|    1930|null|\n|Poort Roomsch Kat...|   Begijnenstraat 29|51.848743|  5.86041|    1860|null|\n|Gevelsteen met Wa...|         Waalkade 65|51.849136| 5.867189|    1861|null|\n|           Dominicus|Heyendaalseweg 12...|51.827034|5.8713107|    1880|null|\n|Spoorwegmonument ...|Hoogstraat bij Va...|51.847115|5.8688755|    1884|null|\n|Spoorwegmonument ...|Hoogstraat bij Va...|51.847115|5.8688755|    1884|null|\n+--------------------+--------------------+---------+---------+--------+----+\n\n"
    }, {
      "metadata" : { },
      "data" : {
        "text/html" : ""
      },
      "output_type" : "execute_result",
      "execution_count" : 29,
      "time" : "Took: 1.146s, at 2020-05-01 12:19"
    } ]
  }, {
    "metadata" : {
      "trusted" : true,
      "input_collapsed" : false,
      "collapsed" : true,
      "id" : "F7DF75AADB1646A68EC682FA6BA8F95E"
    },
    "cell_type" : "markdown",
    "source" : "If you would use the data in practice, you can simply ignore the `url` column, or define a new table that excludes the NULL values.\n\nLet us however go back to the source data, in the Dataframe called `kunst`, and look into the dataset in more detail:"
  }, {
    "metadata" : {
      "trusted" : true,
      "input_collapsed" : false,
      "collapsed" : false,
      "id" : "F981DF79F153442E918E4F11B3D10BE4"
    },
    "cell_type" : "code",
    "source" : [ "kunst.createOrReplaceTempView(\"kunst\")\n", "kunst.describe().show()" ],
    "outputs" : [ {
      "name" : "stdout",
      "output_type" : "stream",
      "text" : "+-------+--------------------+-----------------+--------------------+--------------------+--------------------+--------------------+--------------------+-----------+--------------------+--------------------+\n|summary|                naam|         bouwjaar|          kunstenaar|             locatie|            latitude|           longitude|        omschrijving|   eigendom|                bron|                 url|\n+-------+--------------------+-----------------+--------------------+--------------------+--------------------+--------------------+--------------------+-----------+--------------------+--------------------+\n|  count|                1016|              812|                 607|                 589|                 488|                 416|                 376|        122|                  27|                 117|\n|   mean|                null|2043.293948126801|                null|                null|   51.83873464913294|   5.854925002441861|                null|       null|                null|                null|\n| stddev|                null|869.2142056536406|                null|                null|0.013075111708568643|0.022717841199844924|                null|       null|                null|                null|\n|    min| De kazerne heett...|                 |  jarenlang een l...| Adem en Arent; d...| 'levend kunstwer...|            5.865491| Gerard Bruning e...|    Heerlen| \"de verdeelster\"...|   \"de onafwendbare\"|\n|    max|?TER HERINNERING ...|      particulier|  www.pvandelocht.nl|      www.welwaar.nl|   www.tonycragg.com|     www.ruygrok.com|?Hulde aan den on...|particulier|  www.vlinderkas.com|http://www.nijmeg...|\n+-------+--------------------+-----------------+--------------------+--------------------+--------------------+--------------------+--------------------+-----------+--------------------+--------------------+\n\n"
    }, {
      "metadata" : { },
      "data" : {
        "text/html" : ""
      },
      "output_type" : "execute_result",
      "execution_count" : 30,
      "time" : "Took: 1.631s, at 2020-05-01 12:19"
    } ]
  }, {
    "metadata" : {
      "trusted" : true,
      "input_collapsed" : false,
      "collapsed" : true,
      "id" : "F7DF75AADB1646A68EC682FA6BA8F95E"
    },
    "cell_type" : "markdown",
    "source" : "Even the counts of tuples with longitude values does not equal the counts with latitude values... and a mean \"bouwjaar\" in the future is, well, suspicious!\n\nLet's investigate in more detail, listing missing lat/lon and out-of-range year values in a few SQL queries.\n\n__Q:__ _Try to understand the various data problems we encounter when working on this dataset. Which are fundamental, and which are just an artifact of our processing?_"
  }, {
    "metadata" : {
      "trusted" : true,
      "input_collapsed" : false,
      "collapsed" : false,
      "id" : "F3983427B81B4EE580A273DB8EF6E06E"
    },
    "cell_type" : "code",
    "source" : [ "spark.sql(\"select * from kunst where (latitude is not null and longitude is null) or (latitude is null and longitude is not null)\")\n", "  .show(15)" ],
    "outputs" : [ {
      "name" : "stdout",
      "output_type" : "stream",
      "text" : "+--------------------+--------------------+--------------------+--------------------+--------------------+--------------------+--------------------+--------+----+----+\n|                naam|            bouwjaar|          kunstenaar|             locatie|            latitude|           longitude|        omschrijving|eigendom|bron| url|\n+--------------------+--------------------+--------------------+--------------------+--------------------+--------------------+--------------------+--------+----+----+\n|De gebeeldhouwde ...| in 1554 gemaakt ...| is grotendeels a...|   gemeente Nijmegen|                null|http://www.nijmeg...|                null|    null|null|null|\n|De wegens faillis...| maar ook de natu...| afkomstig van de...| wordt ook meldin...|   gemeente Nijmegen|                null|http://www.nijmeg...|    null|null|null|\n|Wie de vier besch...| omdat vaststaat ...|         particulier|                null|http://www.nijmeg...|                null|                null|    null|null|null|\n|Voor deze poort i...| in licht vereenv...| in de tuin van h...|   gemeente Nijmegen|                null|http://www.nijmeg...|                null|    null|null|null|\n|Christian Dani?l ...| de ontwerper van...| was een vooraans...|   gemeente Nijmegen|                null|http://www.nijmeg...|                null|    null|null|null|\n|Christian Dani?l ...| de ontwerper van...| was een vooraans...|   gemeente Nijmegen|                null|http://www.nijmeg...|                null|    null|null|null|\n|Het monument best...| rijk versierde s...| attribuut van ma...| met de tekst ?Ik...| gaat kinderen. G...|                null|                null|    null|null|null|\n|Tot 1949 heeft he...| in 1999 is het m...|   gemeente Nijmegen|                null|http://www.nijmeg...|                null|                null|    null|null|null|\n|De Eerste Infante...| die leefde van 1...| iets wat nog nie...| omringd door een...|      zijn grafzerk.|                null|                null|    null|null|null|\n|De Snijderskazern...| die van 1951 tot...|         particulier|                null|http://www.nijmeg...|                null|                null|    null|null|null|\n|De bank is ontwor...| de dorpsarts van...|   gemeente Nijmegen|                null|http://www.nijmeg...|                null|                null|    null|null|null|\n|De bank is ontwor...| de dorpsarts van...|   gemeente Nijmegen|                null|http://www.nijmeg...|                null|                null|    null|null|null|\n|Het beeld staat n...| vlak achter het ...|   gemeente Nijmegen|   www.noviomagus.nl|http://www.nijmeg...|                null|                null|    null|null|null|\n|Van Hoof zelf sti...| loodste hij die ...| vlak bij de spoo...| werd deze in bra...| maar tijdens een...|                null|                null|    null|null|null|\n|Omdat er twijfel ...| beleid en trouw ...|   gemeente Nijmegen|                null|http://www.nijmeg...|                null|                null|    null|null|null|\n+--------------------+--------------------+--------------------+--------------------+--------------------+--------------------+--------------------+--------+----+----+\nonly showing top 15 rows\n\n"
    }, {
      "metadata" : { },
      "data" : {
        "text/html" : ""
      },
      "output_type" : "execute_result",
      "execution_count" : 31,
      "time" : "Took: 0.989s, at 2020-05-01 12:19"
    } ]
  }, {
    "metadata" : {
      "trusted" : true,
      "input_collapsed" : false,
      "collapsed" : false,
      "id" : "1E474D5F8504419E800C773FF3E25F5C"
    },
    "cell_type" : "code",
    "source" : [ "spark.sql(\"select * from kunst where bouwjaar > 2017\")\n", "  .show(10)" ],
    "outputs" : [ {
      "name" : "stdout",
      "output_type" : "stream",
      "text" : "+-------------+--------+--------------------+--------------------+----------+----------+--------------------+-----------------+--------------------+--------------------+\n|         naam|bouwjaar|          kunstenaar|             locatie|  latitude| longitude|        omschrijving|         eigendom|                bron|                 url|\n+-------------+--------+--------------------+--------------------+----------+----------+--------------------+-----------------+--------------------+--------------------+\n|       Object|    9999|            Onbekend|   Geert Grooteplein|51.8239293|5.86176819|Deze gespleten st...|             null|                null|                null|\n|Glazen Paneel|    9999|Montse Hernandez ...|Eikenlaan (Lent-N...|51.8676363|5.87309422|Dit kunstwerk wer...|gemeente Nijmegen|www.montsehern?nd...|http://www.nijmeg...|\n|    Sculptuur|    9999|    Gerard Walraeven|Wout Wagtmanspad ...| 51.810100|  5.782957|Dit kunstwerk is ...|             null|                null|                null|\n|  Zonnewijzer|    9999|LaSalle (Albert G...|        Keplerstraat| 51.811175|  5.831423|         Zonnewijzer|gemeente Nijmegen|                null|http://www.nijmeg...|\n+-------------+--------+--------------------+--------------------+----------+----------+--------------------+-----------------+--------------------+--------------------+\n\n"
    }, {
      "metadata" : { },
      "data" : {
        "text/html" : ""
      },
      "output_type" : "execute_result",
      "execution_count" : 32,
      "time" : "Took: 1.276s, at 2020-05-01 12:19"
    } ]
  }, {
    "metadata" : {
      "trusted" : true,
      "input_collapsed" : false,
      "collapsed" : false,
      "id" : "8B23DD283EB8471FA0618B0F78FBC13C"
    },
    "cell_type" : "code",
    "source" : [ "spark.sql(\"select * from kunst where bouwjaar is null\")\n", "  .show(10)" ],
    "outputs" : [ {
      "name" : "stdout",
      "output_type" : "stream",
      "text" : "+--------------------+--------+----------+-------+--------+---------+------------+--------+----+----+\n|                naam|bouwjaar|kunstenaar|locatie|latitude|longitude|omschrijving|eigendom|bron| url|\n+--------------------+--------+----------+-------+--------+---------+------------+--------+----+----+\n|Het reli?f hoort ...|    null|      null|   null|    null|     null|        null|    null|null|null|\n|In het midden van...|    null|      null|   null|    null|     null|        null|    null|null|null|\n|De volgende tekst...|    null|      null|   null|    null|     null|        null|    null|null|null|\n|Aenschouwer van t...|    null|      null|   null|    null|     null|        null|    null|null|null|\n|Wilt doch om Chri...|    null|      null|   null|    null|     null|        null|    null|null|null|\n|Gedachtlich syn g...|    null|      null|   null|    null|     null|        null|    null|null|null|\n|Want sulcx is aen...|    null|      null|   null|    null|     null|        null|    null|null|null|\n|De heilige Domini...|    null|      null|   null|    null|     null|        null|    null|null|null|\n|Victoria staat vo...|    null|      null|   null|    null|     null|        null|    null|null|null|\n|Het beeld ligt aa...|    null|      null|   null|    null|     null|        null|    null|null|null|\n+--------------------+--------+----------+-------+--------+---------+------------+--------+----+----+\nonly showing top 10 rows\n\n"
    }, {
      "metadata" : { },
      "data" : {
        "text/html" : ""
      },
      "output_type" : "execute_result",
      "execution_count" : 33,
      "time" : "Took: 1.082s, at 2020-05-01 12:19"
    } ]
  }, {
    "metadata" : {
      "id" : "A40AC6D417D64F72846896702165C891"
    },
    "cell_type" : "markdown",
    "source" : "### Art on the map\n\nTo continue, let us first create an artworks dataset that is relatively clean, removing tuples that resulted from parsing errors and/or those with missing values.\n\nCan we then find out which quarters have the most artworks?\nPerhaps we can even identify the development of the city over time using the dates of these artworks?\n\nTo answer these questions, we need to join the dataset with addresses with the one with the artworks.\nThe best link between the two datasets seems to be the coordinates. Let's see how to exploit the location fields to answer our questions."
  }, {
    "metadata" : {
      "trusted" : true,
      "input_collapsed" : false,
      "collapsed" : false,
      "id" : "AAE28B97FAFF459D8C6FB1550ACEF92E"
    },
    "cell_type" : "code",
    "source" : [ "val ks = spark.sql(\"select * from kunst where (latitude is not null and longitude is not null) and bouwjaar < 9999\")" ],
    "outputs" : [ {
      "name" : "stdout",
      "output_type" : "stream",
      "text" : "ks: org.apache.spark.sql.DataFrame = [naam: string, bouwjaar: string ... 8 more fields]\n"
    }, {
      "metadata" : { },
      "data" : {
        "text/html" : ""
      },
      "output_type" : "execute_result",
      "execution_count" : 34,
      "time" : "Took: 0.605s, at 2020-05-01 12:19"
    } ]
  }, {
    "metadata" : {
      "trusted" : true,
      "input_collapsed" : false,
      "collapsed" : false,
      "id" : "FE98462F08C144C19ACA412DDC66FDEA"
    },
    "cell_type" : "code",
    "source" : [ "ks.describe()" ],
    "outputs" : [ {
      "name" : "stdout",
      "output_type" : "stream",
      "text" : "res61: org.apache.spark.sql.DataFrame = [summary: string, naam: string ... 9 more fields]\n"
    }, {
      "metadata" : { },
      "data" : {
        "text/html" : "<div class=\"df-canvas\">\n      <script data-this=\"{&quot;dataId&quot;:&quot;anon38e71b5193c5c32cae127059f1a9ffe5&quot;,&quot;partitionIndexId&quot;:&quot;anon19eaba3fa03df52191f14e0681ec7838&quot;,&quot;numPartitions&quot;:1,&quot;dfSchema&quot;:{&quot;type&quot;:&quot;struct&quot;,&quot;fields&quot;:[{&quot;name&quot;:&quot;summary&quot;,&quot;type&quot;:&quot;string&quot;,&quot;nullable&quot;:true,&quot;metadata&quot;:{}},{&quot;name&quot;:&quot;naam&quot;,&quot;type&quot;:&quot;string&quot;,&quot;nullable&quot;:true,&quot;metadata&quot;:{}},{&quot;name&quot;:&quot;bouwjaar&quot;,&quot;type&quot;:&quot;string&quot;,&quot;nullable&quot;:true,&quot;metadata&quot;:{}},{&quot;name&quot;:&quot;kunstenaar&quot;,&quot;type&quot;:&quot;string&quot;,&quot;nullable&quot;:true,&quot;metadata&quot;:{}},{&quot;name&quot;:&quot;locatie&quot;,&quot;type&quot;:&quot;string&quot;,&quot;nullable&quot;:true,&quot;metadata&quot;:{}},{&quot;name&quot;:&quot;latitude&quot;,&quot;type&quot;:&quot;string&quot;,&quot;nullable&quot;:true,&quot;metadata&quot;:{}},{&quot;name&quot;:&quot;longitude&quot;,&quot;type&quot;:&quot;string&quot;,&quot;nullable&quot;:true,&quot;metadata&quot;:{}},{&quot;name&quot;:&quot;omschrijving&quot;,&quot;type&quot;:&quot;string&quot;,&quot;nullable&quot;:true,&quot;metadata&quot;:{}},{&quot;name&quot;:&quot;eigendom&quot;,&quot;type&quot;:&quot;string&quot;,&quot;nullable&quot;:true,&quot;metadata&quot;:{}},{&quot;name&quot;:&quot;bron&quot;,&quot;type&quot;:&quot;string&quot;,&quot;nullable&quot;:true,&quot;metadata&quot;:{}},{&quot;name&quot;:&quot;url&quot;,&quot;type&quot;:&quot;string&quot;,&quot;nullable&quot;:true,&quot;metadata&quot;:{}}]}}\" type=\"text/x-scoped-javascript\">/*<![CDATA[*/req(['../javascripts/notebook/dataframe','../javascripts/notebook/consoleDir'], \n      function(dataframe, extension) {\n        dataframe.call(data, this, extension);\n      }\n    );/*]]>*/</script>\n      <link rel=\"stylesheet\" href=\"/assets/stylesheets/ipython/css/dataframe.css\" type=\"text/css\"/>\n    </div>"
      },
      "output_type" : "execute_result",
      "execution_count" : 36,
      "time" : "Took: 1.144s, at 2020-05-01 12:19"
    } ]
  }, {
    "metadata" : {
      "trusted" : true,
      "input_collapsed" : false,
      "collapsed" : false,
      "id" : "C4D83E573C854C598A6A6A9C9517A963"
    },
    "cell_type" : "code",
    "source" : [ "val kos = ks\n", "  .withColumn(\"latitude\", translate(ks.col(\"latitude\"), \",\", \".\").cast(\"float\"))\n", "  .withColumn(\"longitude\", translate(ks.col(\"longitude\"), \",\", \".\").cast(\"float\"))\n", "  .withColumn(\"bouwjaar\", col(\"bouwjaar\").cast(\"int\"))\n", "  .select(\"naam\", \"locatie\", \"latitude\", \"longitude\", \"bouwjaar\", \"url\")" ],
    "outputs" : [ {
      "name" : "stdout",
      "output_type" : "stream",
      "text" : "kos: org.apache.spark.sql.DataFrame = [naam: string, locatie: string ... 4 more fields]\n"
    }, {
      "metadata" : { },
      "data" : {
        "text/html" : ""
      },
      "output_type" : "execute_result",
      "execution_count" : 1,
      "time" : "Took: 0.596s, at 2020-05-01 12:20"
    } ]
  }, {
    "metadata" : {
      "trusted" : true,
      "input_collapsed" : false,
      "collapsed" : false,
      "id" : "C68DC0321A2744768B966F984ACDEDF4"
    },
    "cell_type" : "code",
    "source" : [ "kos.createOrReplaceTempView(\"kos\")\n", "kos.printSchema" ],
    "outputs" : [ {
      "name" : "stdout",
      "output_type" : "stream",
      "text" : "root\n |-- naam: string (nullable = true)\n |-- locatie: string (nullable = true)\n |-- latitude: float (nullable = true)\n |-- longitude: float (nullable = true)\n |-- bouwjaar: integer (nullable = true)\n |-- url: string (nullable = true)\n\n"
    }, {
      "metadata" : { },
      "data" : {
        "text/html" : ""
      },
      "output_type" : "execute_result",
      "execution_count" : 2,
      "time" : "Took: 0.712s, at 2020-05-01 12:20"
    } ]
  }, {
    "metadata" : {
      "trusted" : true,
      "input_collapsed" : false,
      "collapsed" : false,
      "presentation" : {
        "tabs_state" : "{\n  \"tab_id\": \"#tab315996847-0\"\n}",
        "pivot_chart_state" : "{\n  \"hiddenAttributes\": [],\n  \"menuLimit\": 200,\n  \"cols\": [],\n  \"rows\": [],\n  \"vals\": [],\n  \"exclusions\": {},\n  \"inclusions\": {},\n  \"unusedAttrsVertical\": 85,\n  \"autoSortUnusedAttrs\": false,\n  \"inclusionsInfo\": {},\n  \"aggregatorName\": \"Count\",\n  \"rendererName\": \"Table\"\n}"
      },
      "id" : "E951D6BF4BA8485EA1238AD460593F07"
    },
    "cell_type" : "code",
    "source" : [ "kos.show(5, false)" ],
    "outputs" : [ {
      "name" : "stdout",
      "output_type" : "stream",
      "text" : "+----------------------------------------------+-------------------------------------------+---------+---------+--------+----------------------------------------------+\n|naam                                          |locatie                                    |latitude |longitude|bouwjaar|url                                           |\n+----------------------------------------------+-------------------------------------------+---------+---------+--------+----------------------------------------------+\n|Ingangspoort van het stadhuis                 |Burchtstraat 20                            |51.84708 |5.865753 |1554    |null                                          |\n|Reli?f                                        |Begijnenstraat 29                          |51.84851 |5.8605824|1618    |null                                          |\n|Poort van het Oude Weeshuis                   |Gebroeders van Limburgplein                |51.84726 |5.859645 |1640    |http://www.nijmegen.nl/kos/kunstwerk.aspx?id=4|\n|Poort met het wapen van de familie Singendonck|Burchtstraat (Gedeputeerdenplaats stadhuis)|51.846905|5.8655868|1643    |http://www.nijmegen.nl/kos/kunstwerk.aspx?id=5|\n|Weesjongen en weesmeisje                      |Begijnenstraat 29                          |51.8485  |5.8605475|1645    |null                                          |\n+----------------------------------------------+-------------------------------------------+---------+---------+--------+----------------------------------------------+\nonly showing top 5 rows\n\n"
    }, {
      "metadata" : { },
      "data" : {
        "text/html" : ""
      },
      "output_type" : "execute_result",
      "execution_count" : 3,
      "time" : "Took: 0.812s, at 2020-05-01 12:20"
    } ]
  }, {
    "metadata" : {
      "trusted" : true,
      "input_collapsed" : false,
      "collapsed" : false,
      "id" : "4091C7DF738B47328BDB2C70B19773EC"
    },
    "cell_type" : "code",
    "source" : [ "// Metadata from the catalogue\n", "spark.catalog.listDatabases.show(false)\n", "spark.catalog.listTables.show(false)" ],
    "outputs" : [ {
      "name" : "stdout",
      "output_type" : "stream",
      "text" : "+-------+----------------+--------------------------------+\n|name   |description     |locationUri                     |\n+-------+----------------+--------------------------------+\n|default|default database|file:/opt/docker/spark-warehouse|\n+-------+----------------+--------------------------------+\n\n+---------+--------+-----------+---------+-----------+\n|name     |database|description|tableType|isTemporary|\n+---------+--------+-----------+---------+-----------+\n|addresses|null    |null       |TEMPORARY|true       |\n|kos      |null    |null       |TEMPORARY|true       |\n|kunst    |null    |null       |TEMPORARY|true       |\n|kunstxy  |null    |null       |TEMPORARY|true       |\n+---------+--------+-----------+---------+-----------+\n\n"
    }, {
      "metadata" : { },
      "data" : {
        "text/html" : ""
      },
      "output_type" : "execute_result",
      "execution_count" : 4,
      "time" : "Took: 0.884s, at 2020-05-01 12:21"
    } ]
  }, {
    "metadata" : {
      "id" : "66DF06B3725C44BF88226486AD80CF96"
    },
    "cell_type" : "markdown",
    "source" : "#### Coordinates, coordinates\n\nBoth datasets include (x,y) locations, but they are in different coordinate systems. BAG uses an official Dutch system known as RD New, from \"Rijksdriehoeksco??rdinaten\" (~ \"national triangle coordinates\").\n\nThe other dataset uses (lat,lon) coordinates to show artworks on the map, see e.g.:\n[\"de pleinenroute\"](http://www.nijmegen.nl/kos/kunstroute.aspx?id=1) (Route of the squares) \n\nLuckily, we are not the first who need to convert values between coordinate systems - I found the following \"easy-to-use\" (compared to geo-informatics alternatives) \nJava library:\n[Coordinate Transformation Suite (CTS)](https://github.com/orbisgis/cts). \n\n_(We already loaded this library using the `:dp` directive at the top of the notebook.)_\n\nThe following snippet of Java/Scala code sets up the library to transform map coordinates to RD. To use an external library in Spark, all the objects must be serializable; as they are shipped to the worker nodes. Here, this is achieved by using the `@transient` directive to instruct Scala not to include this part of the\nobject in the serialization, in combination with checking for `null` values when using these variables.\n\nMore information, if you want to dig deeper:\n* RD New, or \"Amersfoort\": [Wikipedia entry](https://nl.wikipedia.org/wiki/Rijksdriehoeksco%C3%B6rdinaten)\n* The transformation: http://pdok-ngr.readthedocs.io/handleidingen.html#coord-trans\n* Serialization and `object` vs. `class`: http://spark.apache.org/docs/latest/programming-guide.html#passing-functions-to-spark\n* Role of \"annotation\" `@transient`: http://fdahms.com/2015/10/14/scala-and-the-transient-lazy-val-pattern/\n\n_Understanding all the details of the `CT` class and its inner workings is not necessary to complete assignment 3._"
  }, {
    "metadata" : {
      "trusted" : true,
      "input_collapsed" : false,
      "collapsed" : false,
      "id" : "AF215715756C461283481E1450C05C96"
    },
    "cell_type" : "code",
    "source" : [ "object CT extends Serializable {\n", "  \n", "  import org.cts.CRSFactory;\n", "  import org.cts.crs.GeodeticCRS;\n", "  import org.cts.registry.EPSGRegistry;\n", "  import org.cts.op.CoordinateOperationFactory;\n", "  import org.cts.op.CoordinateOperation;\n", "\n", "  // global variables to keep state for transformations\n", "  @transient private var xy2latlonOp : CoordinateOperation = null;\n", "  @transient private var latlon2xyOp : CoordinateOperation = null;\n", "\n", "  // Create the coordinate transformation functions to convert from RD New to WGS:84 and vice versa\n", "  def initTransforms : (CoordinateOperation, CoordinateOperation) = {\n", "    \n", "    // Create a new CRSFactory, a necessary element to create a CRS without defining one by one all its components\n", "    val cRSFactory = new CRSFactory();\n", "\n", "    // Add the appropriate registry to the CRSFactory's registry manager. Here the EPSG registry is used.\n", "    val registryManager = cRSFactory.getRegistryManager();\n", "    registryManager.addRegistry(new EPSGRegistry());\n", "\n", "    // CTS will read the EPSG registry seeking the 4326 code, when it finds it,\n", "    // it will create a CoordinateReferenceSystem using the parameters found in the registry.\n", "    val crs1 : GeodeticCRS = (cRSFactory.getCRS(\"EPSG:28992\")).asInstanceOf[GeodeticCRS];\n", "    val crs2 : GeodeticCRS = (cRSFactory.getCRS(\"EPSG:4326\") ).asInstanceOf[GeodeticCRS];\n", "    \n", "    // Transformation (x,y) -> (lon,lat)\n", "    val xy2latlonOps = CoordinateOperationFactory.createCoordinateOperations(crs1,crs2);\n", "    val xy2latlon = xy2latlonOps.iterator().next(); //get(0);\n", "    \n", "    val latlon2xyOps = CoordinateOperationFactory.createCoordinateOperations(crs2,crs1);\n", "    val latlon2xy = latlon2xyOps.iterator().next(); //get(0);\n", "    \n", "    (xy2latlon, latlon2xy)\n", "  }\n", "\n", "  // Encapsulate private transient variable (for serializability of the object)\n", "  def getXYOp : CoordinateOperation = {\n", "    if (xy2latlonOp == null){\n", "      val ts = initTransforms\n", "      xy2latlonOp = ts._1\n", "      latlon2xyOp = ts._2\n", "    }\n", "    xy2latlonOp\n", "  }\n", "\n", "  // Encapsulate private transient variable (for serializability of the object)\n", "  def getLatLonOp : CoordinateOperation = {\n", "    if (latlon2xyOp == null){\n", "      val ts = initTransforms\n", "      xy2latlonOp = ts._1\n", "      latlon2xyOp = ts._2\n", "    }\n", "    latlon2xyOp\n", "  }\n", "  \n", "  // Use the library's transformation function to convert the coordinates\n", "  def transformXY(x:Float, y:Float) : (Float, Float) = {   \n", "    // Note: easily confused, (lat,lon) <-> (y,x)\n", "    val lonlat = this.getXYOp.transform(Array(x.toDouble, y.toDouble));\n", "    return ( lonlat(1).toFloat, lonlat(0).toFloat)\n", "  }\n", "  \n", "  // Use the library's transformation function to convert the coordinates\n", "  def transformLatLon(lat:Float, lon:Float) : (Float, Float) = {\n", "    // Note: easily confused, (lat,lon) <-> (y,x)\n", "    val xy = this.getLatLonOp.transform(Array(lon.toDouble, lat.toDouble));\n", "    return ( xy(0).toFloat, xy(1).toFloat)\n", "  }\n", "}" ],
    "outputs" : [ {
      "name" : "stdout",
      "output_type" : "stream",
      "text" : "defined object CT\n"
    }, {
      "metadata" : { },
      "data" : {
        "text/html" : ""
      },
      "output_type" : "execute_result",
      "execution_count" : 1,
      "time" : "Took: 0.878s, at 2020-05-01 12:22"
    } ]
  }, {
    "metadata" : {
      "id" : "564013FEB2AD495D848C0DCFD549E8D9"
    },
    "cell_type" : "markdown",
    "source" : "Using the transformation from RD New to WGS:84 (the latitude/longitude pairs used in google maps and open streetmap), we can now plot our BAG data on a map.\n\nConsider the following example, where we take a sample of points from the address data that corresponds to _Toernooiveld_ and put these on the map of Nijmegen, using the widgets provided by spark notebook."
  }, {
    "metadata" : {
      "trusted" : true,
      "input_collapsed" : false,
      "collapsed" : false,
      "id" : "7A3BF42472944FA790174687FBEDAAC2"
    },
    "cell_type" : "code",
    "source" : [ "val txyudf = udf( CT.transformXY _ )" ],
    "outputs" : [ {
      "name" : "stdout",
      "output_type" : "stream",
      "text" : "txyudf: org.apache.spark.sql.expressions.UserDefinedFunction = UserDefinedFunction(<function2>,StructType(StructField(_1,FloatType,false), StructField(_2,FloatType,false)),Some(List(FloatType, FloatType)))\n"
    }, {
      "metadata" : { },
      "data" : {
        "text/html" : ""
      },
      "output_type" : "execute_result",
      "execution_count" : 2,
      "time" : "Took: 0.839s, at 2020-05-01 12:23"
    } ]
  }, {
    "metadata" : {
      "trusted" : true,
      "input_collapsed" : false,
      "collapsed" : false,
      "id" : "3F13AB4552274DC8BE91F5ACD7D573DD"
    },
    "cell_type" : "code",
    "source" : [ "// Register the transformation function as UDF and apply it to the BAG dataframe\n", "val ta = addrFloats.withColumn(\"latlon\", txyudf($\"x\", $\"y\"))\n", "ta.show(5)" ],
    "outputs" : [ {
      "name" : "stdout",
      "output_type" : "stream",
      "text" : "+--------------------+---------+---------+----------+--------------------+\n|              street|        x|        y|   quarter|              latlon|\n+--------------------+---------+---------+----------+--------------------+\n|Dr. Claas Noordui...|188670.94|428403.16|Hunnerberg|[51.843193, 5.875...|\n|Dr. Claas Noordui...| 188679.6| 428375.1|Hunnerberg|[51.84294, 5.875935]|\n|Dr. Claas Noordui...|188685.73|428373.06|Hunnerberg|[51.842922, 5.876...|\n|Dr. Claas Noordui...|188692.36|428389.72|Hunnerberg|[51.84307, 5.876122]|\n|Dr. Claas Noordui...|188699.69| 428403.5|Hunnerberg|[51.843193, 5.876...|\n+--------------------+---------+---------+----------+--------------------+\nonly showing top 5 rows\n\nta: org.apache.spark.sql.DataFrame = [street: string, x: float ... 3 more fields]\n"
    }, {
      "metadata" : { },
      "data" : {
        "text/html" : ""
      },
      "output_type" : "execute_result",
      "execution_count" : 1,
      "time" : "Took: 1.179s, at 2020-05-01 12:26"
    } ]
  }, {
    "metadata" : {
      "trusted" : true,
      "input_collapsed" : false,
      "collapsed" : false,
      "id" : "A59D313E5BD14F0181533007B68AA7E7"
    },
    "cell_type" : "code",
    "source" : [ "val ds = ta.filter('street === \"Toernooiveld\").select('street, 'x, 'y, 'latlon .getField(\"_1\") as \"lat\", 'latlon .getField(\"_2\") as \"lon\")\n", "ds.show(10)" ],
    "outputs" : [ {
      "name" : "stdout",
      "output_type" : "stream",
      "text" : "+------------+---------+---------+---------+---------+\n|      street|        x|        y|      lat|      lon|\n+------------+---------+---------+---------+---------+\n|Toernooiveld| 188226.5| 426080.1|51.822342|5.8691397|\n|Toernooiveld|188207.22|425981.78|51.821457|5.8688507|\n|Toernooiveld| 188179.1|426072.34|51.822273| 5.868451|\n|Toernooiveld|188190.48|426339.44|51.824673|5.8686423|\n|Toernooiveld|188190.48|426339.44|51.824673|5.8686423|\n|Toernooiveld|188207.19| 426401.2|51.825226|5.8688903|\n|Toernooiveld|188204.88| 426401.3| 51.82523| 5.868857|\n|Toernooiveld|188337.97|426131.72|51.822796|5.8707614|\n|Toernooiveld|188504.58|426120.12| 51.82268|5.8731766|\n|Toernooiveld|188429.06|426198.25| 51.82339| 5.872089|\n+------------+---------+---------+---------+---------+\nonly showing top 10 rows\n\nds: org.apache.spark.sql.DataFrame = [street: string, x: float ... 3 more fields]\n"
    }, {
      "metadata" : { },
      "data" : {
        "text/html" : ""
      },
      "output_type" : "execute_result",
      "execution_count" : 1,
      "time" : "Took: 1.172s, at 2020-05-01 12:29"
    } ]
  }, {
    "metadata" : {
      "trusted" : true,
      "input_collapsed" : false,
      "collapsed" : false,
      "id" : "082BAAB82A13419C8E22F85730BF9092"
    },
    "cell_type" : "code",
    "source" : [ "ds.select('lat,'lon).show(5)" ],
    "outputs" : [ {
      "name" : "stdout",
      "output_type" : "stream",
      "text" : "+---------+---------+\n|      lat|      lon|\n+---------+---------+\n|51.822342|5.8691397|\n|51.821457|5.8688507|\n|51.822273| 5.868451|\n|51.824673|5.8686423|\n|51.824673|5.8686423|\n+---------+---------+\nonly showing top 5 rows\n\n"
    }, {
      "metadata" : { },
      "data" : {
        "text/html" : ""
      },
      "output_type" : "execute_result",
      "execution_count" : 5,
      "time" : "Took: 1.020s, at 2020-05-01 12:30"
    } ]
  }, {
    "metadata" : {
      "trusted" : true,
      "input_collapsed" : false,
      "collapsed" : false,
      "id" : "0C6EFF8E9FA54B209B844D37DAC2E540"
    },
    "cell_type" : "code",
    "source" : [ "val w = GeoPointsChart(ds.select('lat, 'lon))\n", "w" ],
    "outputs" : [ {
      "name" : "stdout",
      "output_type" : "stream",
      "text" : "w: notebook.front.widgets.charts.GeoPointsChart[org.apache.spark.sql.DataFrame] = <GeoPointsChart widget>\nres89: notebook.front.widgets.charts.GeoPointsChart[org.apache.spark.sql.DataFrame] = <GeoPointsChart widget>\n"
    }, {
      "metadata" : { },
      "data" : {
        "text/html" : "<div>\n      <script data-this=\"{&quot;dataId&quot;:&quot;anon11b22e27ab77bfb400fd87c483d542c6&quot;,&quot;dataInit&quot;:[{&quot;lat&quot;:51.82234191894531,&quot;lon&quot;:5.869139671325684},{&quot;lat&quot;:51.82145690917969,&quot;lon&quot;:5.8688507080078125},{&quot;lat&quot;:51.82227325439453,&quot;lon&quot;:5.868451118469238},{&quot;lat&quot;:51.82467269897461,&quot;lon&quot;:5.868642330169678},{&quot;lat&quot;:51.82467269897461,&quot;lon&quot;:5.868642330169678},{&quot;lat&quot;:51.825225830078125,&quot;lon&quot;:5.868890285491943},{&quot;lat&quot;:51.82522964477539,&quot;lon&quot;:5.868856906890869},{&quot;lat&quot;:51.82279586791992,&quot;lon&quot;:5.870761394500732},{&quot;lat&quot;:51.82268142700195,&quot;lon&quot;:5.873176574707031},{&quot;lat&quot;:51.82339096069336,&quot;lon&quot;:5.87208890914917},{&quot;lat&quot;:51.822025299072266,&quot;lon&quot;:5.869159698486328},{&quot;lat&quot;:51.82337951660156,&quot;lon&quot;:5.8705735206604},{&quot;lat&quot;:51.82526779174805,&quot;lon&quot;:5.868555545806885},{&quot;lat&quot;:51.82526779174805,&quot;lon&quot;:5.868555545806885},{&quot;lat&quot;:51.82526779174805,&quot;lon&quot;:5.868555545806885},{&quot;lat&quot;:51.82526779174805,&quot;lon&quot;:5.868555545806885},{&quot;lat&quot;:51.82526779174805,&quot;lon&quot;:5.868555545806885},{&quot;lat&quot;:51.823184967041016,&quot;lon&quot;:5.8697614669799805},{&quot;lat&quot;:51.82308578491211,&quot;lon&quot;:5.870805740356445},{&quot;lat&quot;:51.82526779174805,&quot;lon&quot;:5.868555545806885},{&quot;lat&quot;:51.82526779174805,&quot;lon&quot;:5.868555545806885},{&quot;lat&quot;:51.822044372558594,&quot;lon&quot;:5.870955467224121},{&quot;lat&quot;:51.822044372558594,&quot;lon&quot;:5.870955467224121},{&quot;lat&quot;:51.822044372558594,&quot;lon&quot;:5.870955467224121},{&quot;lat&quot;:51.822044372558594,&quot;lon&quot;:5.870955467224121},{&quot;lat&quot;:51.822044372558594,&quot;lon&quot;:5.870955467224121},{&quot;lat&quot;:51.823768615722656,&quot;lon&quot;:5.871424674987793},{&quot;lat&quot;:51.82263946533203,&quot;lon&quot;:5.872023105621338},{&quot;lat&quot;:51.823028564453125,&quot;lon&quot;:5.871556758880615},{&quot;lat&quot;:51.82522964477539,&quot;lon&quot;:5.868831634521484},{&quot;lat&quot;:51.82522964477539,&quot;lon&quot;:5.868805885314941},{&quot;lat&quot;:51.825233459472656,&quot;lon&quot;:5.868772506713867},{&quot;lat&quot;:51.82378005981445,&quot;lon&quot;:5.869901180267334},{&quot;lat&quot;:51.822044372558594,&quot;lon&quot;:5.870955467224121},{&quot;lat&quot;:51.822044372558594,&quot;lon&quot;:5.870955467224121},{&quot;lat&quot;:51.822044372558594,&quot;lon&quot;:5.870955467224121},{&quot;lat&quot;:51.822044372558594,&quot;lon&quot;:5.870955467224121},{&quot;lat&quot;:51.822044372558594,&quot;lon&quot;:5.870955467224121},{&quot;lat&quot;:51.822044372558594,&quot;lon&quot;:5.870955467224121},{&quot;lat&quot;:51.822044372558594,&quot;lon&quot;:5.870955467224121},{&quot;lat&quot;:51.822044372558594,&quot;lon&quot;:5.870955467224121},{&quot;lat&quot;:51.822044372558594,&quot;lon&quot;:5.870955467224121},{&quot;lat&quot;:51.822044372558594,&quot;lon&quot;:5.870955467224121},{&quot;lat&quot;:51.825157165527344,&quot;lon&quot;:5.86924409866333},{&quot;lat&quot;:51.82467269897461,&quot;lon&quot;:5.8701348304748535},{&quot;lat&quot;:51.82467269897461,&quot;lon&quot;:5.8701348304748535},{&quot;lat&quot;:51.82467269897461,&quot;lon&quot;:5.8701348304748535},{&quot;lat&quot;:51.82467269897461,&quot;lon&quot;:5.8701348304748535},{&quot;lat&quot;:51.82467269897461,&quot;lon&quot;:5.8701348304748535},{&quot;lat&quot;:51.82467269897461,&quot;lon&quot;:5.8701348304748535},{&quot;lat&quot;:51.82467269897461,&quot;lon&quot;:5.8701348304748535},{&quot;lat&quot;:51.82467269897461,&quot;lon&quot;:5.8701348304748535},{&quot;lat&quot;:51.82467269897461,&quot;lon&quot;:5.8701348304748535},{&quot;lat&quot;:51.82467269897461,&quot;lon&quot;:5.8701348304748535},{&quot;lat&quot;:51.822044372558594,&quot;lon&quot;:5.870955467224121},{&quot;lat&quot;:51.822044372558594,&quot;lon&quot;:5.870955467224121},{&quot;lat&quot;:51.822044372558594,&quot;lon&quot;:5.870955467224121},{&quot;lat&quot;:51.822044372558594,&quot;lon&quot;:5.870955467224121},{&quot;lat&quot;:51.822044372558594,&quot;lon&quot;:5.870955467224121},{&quot;lat&quot;:51.822044372558594,&quot;lon&quot;:5.870955467224121},{&quot;lat&quot;:51.822044372558594,&quot;lon&quot;:5.870955467224121},{&quot;lat&quot;:51.822242736816406,&quot;lon&quot;:5.8722100257873535},{&quot;lat&quot;:51.822044372558594,&quot;lon&quot;:5.870955467224121},{&quot;lat&quot;:51.822044372558594,&quot;lon&quot;:5.870955467224121},{&quot;lat&quot;:51.822044372558594,&quot;lon&quot;:5.870955467224121},{&quot;lat&quot;:51.822044372558594,&quot;lon&quot;:5.870955467224121},{&quot;lat&quot;:51.822044372558594,&quot;lon&quot;:5.870955467224121},{&quot;lat&quot;:51.822044372558594,&quot;lon&quot;:5.870955467224121},{&quot;lat&quot;:51.824615478515625,&quot;lon&quot;:5.870534896850586}],&quot;genId&quot;:&quot;973796130&quot;}\" type=\"text/x-scoped-javascript\">/*<![CDATA[*/req(['../javascripts/notebook/playground','../javascripts/notebook/magic/geoPointsChart'], \n      function(playground, _magicgeoPointsChart) {\n        // data ==> data-this (in observable.js's scopedEval) ==> this in JS => { dataId, dataInit, ... }\n        // this ==> scope (in observable.js's scopedEval) ==> this.parentElement ==> div.container below (toHtml)\n\n        playground.call(data,\n                        this\n                        ,\n                        {\n    \"f\": _magicgeoPointsChart,\n    \"o\": {\"lat\":\"lat\",\"lon\":\"lon\",\"width\":600,\"height\":400,\"rField\":null,\"colorField\":null}\n  }\n  \n                        \n                        \n                      );\n      }\n    );/*]]>*/</script>\n    <div>\n      <span class=\"chart-total-item-count\"><p data-bind=\"text: value\"><script data-this=\"{&quot;valueId&quot;:&quot;anon2e650695fa8266d8abf0d194d28a078e&quot;,&quot;initialValue&quot;:&quot;69&quot;}\" type=\"text/x-scoped-javascript\">/*<![CDATA[*/\nreq(\n['observable', 'knockout'],\nfunction (O, ko) {\n  ko.applyBindings({\n      value: O.makeObservable(valueId, initialValue)\n    },\n    this\n  );\n});\n        /*]]>*/</script></p> entries total</span>\n      <span class=\"chart-sampling-warning\"><p data-bind=\"text: value\"><script data-this=\"{&quot;valueId&quot;:&quot;anon6e4541707220164181ac61c76d2df239&quot;,&quot;initialValue&quot;:&quot;&quot;}\" type=\"text/x-scoped-javascript\">/*<![CDATA[*/\nreq(\n['observable', 'knockout'],\nfunction (O, ko) {\n  ko.applyBindings({\n      value: O.makeObservable(valueId, initialValue)\n    },\n    this\n  );\n});\n        /*]]>*/</script></p></span>\n      <div>\n      </div>\n    </div></div>"
      },
      "output_type" : "execute_result",
      "execution_count" : 1,
      "time" : "Took: 1.157s, at 2020-05-01 12:34"
    } ]
  }, {
    "metadata" : {
      "trusted" : true,
      "input_collapsed" : false,
      "collapsed" : true,
      "id" : "7BDABEEEB1E74C86822BB30DA3AAB55C"
    },
    "cell_type" : "code",
    "source" : [ "// Cell left empty on purpose, to encourage you to plot your own street data on the map!\n", "\n" ],
    "outputs" : [ ]
  }, {
    "metadata" : {
      "id" : "4C09F8644FF94B7284F9A4F9933AABFF"
    },
    "cell_type" : "markdown",
    "source" : "After all this fun with the open address data, we'd almost forget that we set out to join the two datasets!\n\nLet's switch back to SQL, and use the artworks as a starting point.\n\n__Q:__ _Why would you apply the transformation on the artworks dataset to join the result against the addresses, instead of vice versa?_"
  }, {
    "metadata" : {
      "trusted" : true,
      "input_collapsed" : false,
      "collapsed" : false,
      "id" : "CDF77718E8AE4972887C5347498C6EB8"
    },
    "cell_type" : "code",
    "source" : [ "spark.udf.register(\"transformLatLon\", (lat:Float, lon:Float) => CT.transformLatLon(lat,lon))" ],
    "outputs" : [ {
      "name" : "stdout",
      "output_type" : "stream",
      "text" : "res91: org.apache.spark.sql.expressions.UserDefinedFunction = UserDefinedFunction(<function2>,StructType(StructField(_1,FloatType,false), StructField(_2,FloatType,false)),Some(List(FloatType, FloatType)))\n"
    }, {
      "metadata" : { },
      "data" : {
        "text/html" : "UserDefinedFunction(&lt;function2&gt;,StructType(StructField(_1,FloatType,false), StructField(_2,FloatType,false)),Some(List(FloatType, FloatType)))"
      },
      "output_type" : "execute_result",
      "execution_count" : 1,
      "time" : "Took: 0.870s, at 2020-05-01 12:44"
    } ]
  }, {
    "metadata" : {
      "trusted" : true,
      "input_collapsed" : false,
      "collapsed" : false,
      "id" : "99CB57D905C84BA8A6CFCEBB9270EE63"
    },
    "cell_type" : "code",
    "source" : [ "val kosxy = spark.sql(\"select naam, bouwjaar, transformLatLon(latitude, longitude) as XY from kos\")\n", "kosxy.createOrReplaceTempView(\"kosxy\")" ],
    "outputs" : [ {
      "name" : "stdout",
      "output_type" : "stream",
      "text" : "kosxy: org.apache.spark.sql.DataFrame = [naam: string, bouwjaar: int ... 1 more field]\n"
    }, {
      "metadata" : { },
      "data" : {
        "text/html" : ""
      },
      "output_type" : "execute_result",
      "execution_count" : 2,
      "time" : "Took: 0.811s, at 2020-05-01 12:44"
    } ]
  }, {
    "metadata" : {
      "trusted" : true,
      "input_collapsed" : false,
      "collapsed" : false,
      "id" : "96C8F31EF9EE4E4180DFEA093B884406"
    },
    "cell_type" : "code",
    "source" : [ "val kosquarter = spark.sql(\n", "  \"select distinct naam, quarter, min(bouwjaar) as jaar from kosxy, addresses \" +\n", "  \"where abs(XY._1 - x) < 10.0 and abs(XY._2 - y) < 10.0 \" +\n", "  \"group by naam, quarter \"\n", ").cache()" ],
    "outputs" : [ {
      "name" : "stdout",
      "output_type" : "stream",
      "text" : "kosquarter: org.apache.spark.sql.Dataset[org.apache.spark.sql.Row] = [naam: string, quarter: string ... 1 more field]\n"
    }, {
      "metadata" : { },
      "data" : {
        "text/html" : ""
      },
      "output_type" : "execute_result",
      "execution_count" : 3,
      "time" : "Took: 0.946s, at 2020-05-01 12:44"
    } ]
  }, {
    "metadata" : {
      "trusted" : true,
      "input_collapsed" : false,
      "collapsed" : false,
      "id" : "661FE56E507A449B8B96ABB7409A3A6B"
    },
    "cell_type" : "code",
    "source" : [ "kosquarter.show(5, false)" ],
    "outputs" : [ {
      "name" : "stdout",
      "output_type" : "stream",
      "text" : "+-------------------------------+------------+----+\n|naam                           |quarter     |jaar|\n+-------------------------------+------------+----+\n|Maria, Middelares              |Galgenveld  |1955|\n|Spoorwegmonument Nijmegen-Kleve|Benedenstad |1884|\n|Petrus Canisius                |Stadscentrum|1927|\n|Madonna                        |Hazenkamp   |1909|\n|Objecten                       |Heijendaal  |1987|\n+-------------------------------+------------+----+\nonly showing top 5 rows\n\n"
    }, {
      "metadata" : { },
      "data" : {
        "text/html" : ""
      },
      "output_type" : "execute_result",
      "execution_count" : 4,
      "time" : "Took: 3.295s, at 2020-05-01 12:44"
    } ]
  }, {
    "metadata" : {
      "id" : "9F65A5A0B684415A9120B86E1351A2B7"
    },
    "cell_type" : "markdown",
    "source" : "Let us now answer the question we started out with initially: can we infer the growth of the city of Nijmegen through the years from the years in which the artworks were created?"
  }, {
    "metadata" : {
      "trusted" : true,
      "input_collapsed" : false,
      "collapsed" : false,
      "id" : "9A072D55670B4F7B837E070576019B22"
    },
    "cell_type" : "code",
    "source" : [ "// A nice example where SQL is a good choice to answer the information need:\n", "kosquarter.createOrReplaceTempView(\"kosquarter\")\n", "spark.sql(\"select distinct quarter, min(jaar) as jaar from kosquarter group by quarter order by jaar\").show(20, false)" ],
    "outputs" : [ {
      "name" : "stdout",
      "output_type" : "stream",
      "text" : "+--------------+----+\n|quarter       |jaar|\n+--------------+----+\n|Stadscentrum  |1554|\n|Benedenstad   |1618|\n|Bottendaal    |1900|\n|Altrade       |1904|\n|Hazenkamp     |1909|\n|Hees          |1922|\n|Hengstdal     |1930|\n|Nije Veld     |1955|\n|Galgenveld    |1955|\n|Heijendaal    |1959|\n|Hunnerberg    |1960|\n|Meijhorst     |1970|\n|Neerbosch-Oost|1983|\n|Wolfskuil     |1985|\n|Hatert        |1985|\n|Lent          |1990|\n|Goffert       |1995|\n|Biezen        |2015|\n+--------------+----+\n\n"
    }, {
      "metadata" : { },
      "data" : {
        "text/html" : ""
      },
      "output_type" : "execute_result",
      "execution_count" : 6,
      "time" : "Took: 3.016s, at 2020-05-01 12:45"
    } ]
  }, {
    "metadata" : {
      "id" : "BF7C78C3BAC4431F8AA0DB7ED2ACA579"
    },
    "cell_type" : "markdown",
    "source" : "A few missing city quarters in this list. Do they really have no artworks, or did we not manage to find their corresponding quarter using the spatial join on coordinates?\n\nInspecting the artworks not matched up with their quarters is easy, and there are quite a few of those:"
  }, {
    "metadata" : {
      "trusted" : true,
      "input_collapsed" : false,
      "collapsed" : false,
      "id" : "91D446FF523F47E787F871359CD50DD8"
    },
    "cell_type" : "code",
    "source" : [ "// Artworks not found in the spatial join result:\n", "spark.sql(\"select naam from kos where naam not in (select naam from kosquarter)\").count" ],
    "outputs" : [ {
      "name" : "stdout",
      "output_type" : "stream",
      "text" : "res102: Long = 189\n"
    }, {
      "metadata" : { },
      "data" : {
        "text/html" : "189"
      },
      "output_type" : "execute_result",
      "execution_count" : 7,
      "time" : "Took: 1.758s, at 2020-05-01 12:45"
    } ]
  }, {
    "metadata" : {
      "id" : "6F12D2BE815E4AA08E72F9268ECBC7AC"
    },
    "cell_type" : "markdown",
    "source" : "__Q:__ _Can you produce the list of quarters that is missing because no artwork has been situated in the quarter?_\n\n__Q:__ _Can you produce a longer list of quarters and their oldest artworks?_\n\n__Q:__ _What are the years associated to artworks not yet matched up with the addresses database? What does this mean for our initial research question?_"
  }, {
    "metadata" : {
      "trusted" : true,
      "input_collapsed" : false,
      "collapsed" : true,
      "id" : "395F3566DFF946C783487B8A39C34CEA"
    },
    "cell_type" : "code",
    "source" : [ "// Cell empty on purpose, try your approach here!\n" ],
    "outputs" : [ ]
  } ],
  "nbformat" : 4
}