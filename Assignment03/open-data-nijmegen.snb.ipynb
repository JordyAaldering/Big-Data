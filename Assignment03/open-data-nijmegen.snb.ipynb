{
  "metadata" : {
    "id" : "3381ac31-51a8-409b-9ef4-601a0565a3a7",
    "name" : "open-data-Nijmegen",
    "user_save_timestamp" : "1970-01-01T00:00:00.000Z",
    "auto_save_timestamp" : "1970-01-01T00:00:00.000Z",
    "language_info" : {
      "name" : "scala",
      "file_extension" : "scala",
      "codemirror_mode" : "text/x-scala"
    },
    "trusted" : true,
    "sparkNotebook" : null,
    "customLocalRepo" : null,
    "customRepos" : null,
    "customDeps" : [ "org.orbisgis % cts % 1.5.2" ],
    "customImports" : null,
    "customArgs" : null,
    "customSparkConf" : null,
    "customVars" : null
  },
  "cells" : [ {
    "metadata" : {
      "id" : "7B36BF513C9645A18A7B800025A5BC05"
    },
    "cell_type" : "markdown",
    "source" : "# Nijmegen Open Data\n\nSpark Notebook to help you analyze data sets provided by Nijmegen's city council."
  }, {
    "metadata" : {
      "id" : "E57A66341EAE4E829036DD82071E0CC7"
    },
    "cell_type" : "markdown",
    "source" : "## Nijmegen data\n\nThe city of Nijmegen provides a variety of resources as open data at\n[opendata.nijmegen.nl](https://opendata.nijmegen.nl/).\n\nOur goal is to analyze these together - to investigate if we can say anything about the relation between population statistics in areas of the city and the activities that are organized there.\n\nSpecifically, we will integrate the following two data sets:\n- Streetnames and their quarters: _not available through portal anymore_, use the `wget` command instead\n    * `wget https://raw.githubusercontent.com/rubigdata/course/gh-pages/data/BAG_ADRES.csv`\n- Public artworks: https://www.nijmegen.nl/kos/opendata/\n    * Due to a mistake in the lastest version of this data, the CSV in this link is corrupt. Use the file `kunstopstraat-kunstwerk.csv` in your repository instead.\n\nYou need to download the data yourself and copy the files into the container, e.g. using `docker cp`.\nThe notebook assumes you choose the CSV version of the datasets, and copy them to a directory `/data/bigdata` in the notebook,\nthat you may still have to create (e.g., `mkdir -p /data/bigdata` inside the container).\n\nThis notebook contains code to get you started in the analysis, so you can pick up Spark by example and refresh your SQL.\n\nTo fully understand everything, you will need the documentation: http://spark.apache.org/docs/latest/sql-programming-guide.html\n\nHints of interesting things to discuss in the blog for assignment 3 start with  _**Q:**_."
  }, {
    "metadata" : {
      "id" : "430FFDBA0F334048B46A627573B79B21"
    },
    "cell_type" : "markdown",
    "source" : "Next, more preamble, importing some necessary classes and creating a `SparkSession` object."
  }, {
    "metadata" : {
      "trusted" : true,
      "input_collapsed" : false,
      "collapsed" : false,
      "id" : "B861A5974A85486D8FD774A92C7E0148"
    },
    "cell_type" : "code",
    "source" : [ "import org.apache.spark.sql.types._\n", "\n", "import java.text.NumberFormat\n", "import java.util.Locale\n", "\n", "val spark = SparkSession\n", "   .builder()\n", "   .appName(\"A3b-spark-df\")\n", "   .getOrCreate()" ],
    "outputs" : [ {
      "name" : "stdout",
      "output_type" : "stream",
      "text" : "import org.apache.spark.sql.types._\nimport java.text.NumberFormat\nimport java.util.Locale\nspark: org.apache.spark.sql.SparkSession = org.apache.spark.sql.SparkSession@2141bfd\n"
    }, {
      "metadata" : { },
      "data" : {
        "text/html" : ""
      },
      "output_type" : "execute_result",
      "execution_count" : 1,
      "time" : "Took: 0.850s, at 2020-05-03 14:49"
    } ]
  }, {
    "metadata" : {
      "id" : "B6D57E06C5744D378257D4211AF8DCB5"
    },
    "cell_type" : "markdown",
    "source" : "### Addresses and Quarters\n\nWe start with the so-called BAG (_basisadministratie adressen en gebouwen_, i.e., records of addresses and buildings), a standardized resource for which the definition is managed at the national level.\n\nLike most data, the BAG is distributed as CSV, Comma-Separated-Values. Just using `split` may work on very small datasets with regular data, but as soon as quoted values contain commas, we would get in trouble. Spark 2.0 comes with support to parse various data formats, including CSV and JSON, so let us use the standard interfaces."
  }, {
    "metadata" : {
      "trusted" : true,
      "input_collapsed" : false,
      "collapsed" : false,
      "id" : "2C9A3B0D07CE4E478083C575671B9DFE"
    },
    "cell_type" : "code",
    "source" : [ "val bagdata = spark.read.format(\"csv\").option(\"header\", true).load(\"./notebooks/rubigdata/bag-adres.csv\").cache()" ],
    "outputs" : [ {
      "name" : "stdout",
      "output_type" : "stream",
      "text" : "bagdata: org.apache.spark.sql.Dataset[org.apache.spark.sql.Row] = [ACTCODE: string, ADRES_ID: string ... 18 more fields]\n"
    }, {
      "metadata" : { },
      "data" : {
        "text/html" : ""
      },
      "output_type" : "execute_result",
      "execution_count" : 2,
      "time" : "Took: 0.892s, at 2020-05-03 14:49"
    } ]
  }, {
    "metadata" : {
      "trusted" : true,
      "input_collapsed" : false,
      "collapsed" : false,
      "id" : "85BB50FDA630413892657C654BF48EB2"
    },
    "cell_type" : "code",
    "source" : [ "bagdata.describe()" ],
    "outputs" : [ {
      "name" : "stdout",
      "output_type" : "stream",
      "text" : "res430: org.apache.spark.sql.DataFrame = [summary: string, ACTCODE: string ... 19 more fields]\n"
    }, {
      "metadata" : { },
      "data" : {
        "text/html" : "<div class=\"df-canvas\">\n      <script data-this=\"{&quot;dataId&quot;:&quot;anon5cd0b250c129a53c4bd3427174806ec2&quot;,&quot;partitionIndexId&quot;:&quot;anon74e8c44dc893f86ad82f89500986007b&quot;,&quot;numPartitions&quot;:1,&quot;dfSchema&quot;:{&quot;type&quot;:&quot;struct&quot;,&quot;fields&quot;:[{&quot;name&quot;:&quot;summary&quot;,&quot;type&quot;:&quot;string&quot;,&quot;nullable&quot;:true,&quot;metadata&quot;:{}},{&quot;name&quot;:&quot;ACTCODE&quot;,&quot;type&quot;:&quot;string&quot;,&quot;nullable&quot;:true,&quot;metadata&quot;:{}},{&quot;name&quot;:&quot;ADRES_ID&quot;,&quot;type&quot;:&quot;string&quot;,&quot;nullable&quot;:true,&quot;metadata&quot;:{}},{&quot;name&quot;:&quot;ADR_ADRESNR&quot;,&quot;type&quot;:&quot;string&quot;,&quot;nullable&quot;:true,&quot;metadata&quot;:{}},{&quot;name&quot;:&quot;HUISLETTER&quot;,&quot;type&quot;:&quot;string&quot;,&quot;nullable&quot;:true,&quot;metadata&quot;:{}},{&quot;name&quot;:&quot;HUISNUMMER&quot;,&quot;type&quot;:&quot;string&quot;,&quot;nullable&quot;:true,&quot;metadata&quot;:{}},{&quot;name&quot;:&quot;HUISNUMMERTOEVOEGING&quot;,&quot;type&quot;:&quot;string&quot;,&quot;nullable&quot;:true,&quot;metadata&quot;:{}},{&quot;name&quot;:&quot;OPENBARERUIMTE_ID&quot;,&quot;type&quot;:&quot;string&quot;,&quot;nullable&quot;:true,&quot;metadata&quot;:{}},{&quot;name&quot;:&quot;POSTK_A&quot;,&quot;type&quot;:&quot;string&quot;,&quot;nullable&quot;:true,&quot;metadata&quot;:{}},{&quot;name&quot;:&quot;POSTK_N&quot;,&quot;type&quot;:&quot;string&quot;,&quot;nullable&quot;:true,&quot;metadata&quot;:{}},{&quot;name&quot;:&quot;STADSDEEL&quot;,&quot;type&quot;:&quot;string&quot;,&quot;nullable&quot;:true,&quot;metadata&quot;:{}},{&quot;name&quot;:&quot;STATUS&quot;,&quot;type&quot;:&quot;string&quot;,&quot;nullable&quot;:true,&quot;metadata&quot;:{}},{&quot;name&quot;:&quot;STRAAT&quot;,&quot;type&quot;:&quot;string&quot;,&quot;nullable&quot;:true,&quot;metadata&quot;:{}},{&quot;name&quot;:&quot;STRAAT_OFF&quot;,&quot;type&quot;:&quot;string&quot;,&quot;nullable&quot;:true,&quot;metadata&quot;:{}},{&quot;name&quot;:&quot;STRAAT_OFF_D&quot;,&quot;type&quot;:&quot;string&quot;,&quot;nullable&quot;:true,&quot;metadata&quot;:{}},{&quot;name&quot;:&quot;VOLGNR&quot;,&quot;type&quot;:&quot;string&quot;,&quot;nullable&quot;:true,&quot;metadata&quot;:{}},{&quot;name&quot;:&quot;WIJKCODE&quot;,&quot;type&quot;:&quot;string&quot;,&quot;nullable&quot;:true,&quot;metadata&quot;:{}},{&quot;name&quot;:&quot;WIJK_OMS&quot;,&quot;type&quot;:&quot;string&quot;,&quot;nullable&quot;:true,&quot;metadata&quot;:{}},{&quot;name&quot;:&quot;WOONPLAATS&quot;,&quot;type&quot;:&quot;string&quot;,&quot;nullable&quot;:true,&quot;metadata&quot;:{}},{&quot;name&quot;:&quot;X_COORD&quot;,&quot;type&quot;:&quot;string&quot;,&quot;nullable&quot;:true,&quot;metadata&quot;:{}},{&quot;name&quot;:&quot;Y_COORD&quot;,&quot;type&quot;:&quot;string&quot;,&quot;nullable&quot;:true,&quot;metadata&quot;:{}}]}}\" type=\"text/x-scoped-javascript\">/*<![CDATA[*/req(['../javascripts/notebook/dataframe','../javascripts/notebook/consoleDir'], \n      function(dataframe, extension) {\n        dataframe.call(data, this, extension);\n      }\n    );/*]]>*/</script>\n      <link rel=\"stylesheet\" href=\"/assets/stylesheets/ipython/css/dataframe.css\" type=\"text/css\"/>\n    </div>"
      },
      "output_type" : "execute_result",
      "execution_count" : 3,
      "time" : "Took: 3.862s, at 2020-05-03 14:49"
    } ]
  }, {
    "metadata" : {
      "id" : "EE56D3095D2548618F0819BA50F2E0D6"
    },
    "cell_type" : "markdown",
    "source" : "#### Real-life data\n\nDataFrames are very handy to get a quick impression of the data, e.g., using `show()`, `sample()` and `describe()`."
  }, {
    "metadata" : {
      "id" : "1625B377A87143FC965634CF44A09EC8"
    },
    "cell_type" : "markdown",
    "source" : "If you think a bit longer about the reported statistics, you realize that not all the data is equally well formatted - the data dump contains address records without x and/or y coordinates; which you can validate as follows:"
  }, {
    "metadata" : {
      "trusted" : true,
      "input_collapsed" : false,
      "collapsed" : false,
      "id" : "DAE7853AC7274F1683333B8014C96234"
    },
    "cell_type" : "code",
    "source" : [ "println(\"X coord nulls: \" + bagdata.filter( $\"X_COORD\".isNull ).count)\n", "println(\"Y coord nulls: \" + bagdata.filter( $\"Y_COORD\".isNull ).count)" ],
    "outputs" : [ {
      "name" : "stdout",
      "output_type" : "stream",
      "text" : "X coord nulls: 45\nY coord nulls: 45\n"
    }, {
      "metadata" : { },
      "data" : {
        "text/html" : ""
      },
      "output_type" : "execute_result",
      "execution_count" : 4,
      "time" : "Took: 1.203s, at 2020-05-03 14:49"
    } ]
  }, {
    "metadata" : {
      "id" : "B7B42B7FEBE14FFFAC17FD96E0FC940C"
    },
    "cell_type" : "markdown",
    "source" : "How to proceed is a decision that the data scientist needs to take - that is, it will be up to your judgement. Can we proceed without these records? In this case, the inconsistent records concern only a very small fraction of the data (45 out of almost 100K records), and we might decide to simply ignore these without valid `(x,y)` coordinates.\n\nIn many real life situations, however, we would need to invest more effort and clean the data to overcome these deficiencies. If you look into examples of records without coordinates (_Q: can you write the small numbers of lines of code to inspect these records?_), you find that some of these records have a value \"Niet authentiek\" in field STATUS, whereas almost all records have \"Naamgeving uitgegeven\". We lack the domain knowledge to understand the details of this labelling, and may need to dig deeper, or even have a chat with the owners of the data to learn how these values are assigned.\n\nKeep in mind that we only discovered this anomaly in the data when we attempted to define a proper schema, and discovered that the data did not satisfy that schema. Switching from transformations over RDDs to the more structured Data Frame representation can help avoid mistakes in the analysis.\n\n**Q:** _Discuss decisions in data selection and data cleaning that you took to complete the assignment in your blog post._"
  }, {
    "metadata" : {
      "trusted" : true,
      "input_collapsed" : false,
      "collapsed" : false,
      "id" : "9706F0569BE04A9C9DEE9AEE8790E7B5"
    },
    "cell_type" : "code",
    "source" : [ "var bagdataFiltered = bagdata.filter(  $\"X_COORD\".isNotNull )" ],
    "outputs" : [ {
      "name" : "stdout",
      "output_type" : "stream",
      "text" : "bagdataFiltered: org.apache.spark.sql.Dataset[org.apache.spark.sql.Row] = [ACTCODE: string, ADRES_ID: string ... 18 more fields]\n"
    }, {
      "metadata" : { },
      "data" : {
        "text/html" : ""
      },
      "output_type" : "execute_result",
      "execution_count" : 5,
      "time" : "Took: 0.656s, at 2020-05-03 14:49"
    } ]
  }, {
    "metadata" : {
      "trusted" : true,
      "input_collapsed" : false,
      "collapsed" : false,
      "id" : "5B523D9A77DA46BC8D8FD5E23A9FBA34"
    },
    "cell_type" : "code",
    "source" : [ "println(\"X coord nulls: \" + bagdataFiltered.filter( $\"X_COORD\".isNull ).count)\n", "println(\"Y coord nulls: \" + bagdataFiltered.filter( $\"Y_COORD\".isNull ).count)" ],
    "outputs" : [ {
      "name" : "stdout",
      "output_type" : "stream",
      "text" : "X coord nulls: 0\nY coord nulls: 0\n"
    }, {
      "metadata" : { },
      "data" : {
        "text/html" : ""
      },
      "output_type" : "execute_result",
      "execution_count" : 6,
      "time" : "Took: 1.056s, at 2020-05-03 14:49"
    } ]
  }, {
    "metadata" : {
      "trusted" : true,
      "input_collapsed" : false,
      "collapsed" : false,
      "id" : "1F3C0E3DA4424B1C945F92EB693868AD"
    },
    "cell_type" : "code",
    "source" : [ "bagdataFiltered.describe()" ],
    "outputs" : [ {
      "name" : "stdout",
      "output_type" : "stream",
      "text" : "res437: org.apache.spark.sql.DataFrame = [summary: string, ACTCODE: string ... 19 more fields]\n"
    }, {
      "metadata" : { },
      "data" : {
        "text/html" : "<div class=\"df-canvas\">\n      <script data-this=\"{&quot;dataId&quot;:&quot;anon2b4b403b75b9214714406a3fbae14b00&quot;,&quot;partitionIndexId&quot;:&quot;anon8b8037fad9ca60d077bf89ab51a7afc0&quot;,&quot;numPartitions&quot;:1,&quot;dfSchema&quot;:{&quot;type&quot;:&quot;struct&quot;,&quot;fields&quot;:[{&quot;name&quot;:&quot;summary&quot;,&quot;type&quot;:&quot;string&quot;,&quot;nullable&quot;:true,&quot;metadata&quot;:{}},{&quot;name&quot;:&quot;ACTCODE&quot;,&quot;type&quot;:&quot;string&quot;,&quot;nullable&quot;:true,&quot;metadata&quot;:{}},{&quot;name&quot;:&quot;ADRES_ID&quot;,&quot;type&quot;:&quot;string&quot;,&quot;nullable&quot;:true,&quot;metadata&quot;:{}},{&quot;name&quot;:&quot;ADR_ADRESNR&quot;,&quot;type&quot;:&quot;string&quot;,&quot;nullable&quot;:true,&quot;metadata&quot;:{}},{&quot;name&quot;:&quot;HUISLETTER&quot;,&quot;type&quot;:&quot;string&quot;,&quot;nullable&quot;:true,&quot;metadata&quot;:{}},{&quot;name&quot;:&quot;HUISNUMMER&quot;,&quot;type&quot;:&quot;string&quot;,&quot;nullable&quot;:true,&quot;metadata&quot;:{}},{&quot;name&quot;:&quot;HUISNUMMERTOEVOEGING&quot;,&quot;type&quot;:&quot;string&quot;,&quot;nullable&quot;:true,&quot;metadata&quot;:{}},{&quot;name&quot;:&quot;OPENBARERUIMTE_ID&quot;,&quot;type&quot;:&quot;string&quot;,&quot;nullable&quot;:true,&quot;metadata&quot;:{}},{&quot;name&quot;:&quot;POSTK_A&quot;,&quot;type&quot;:&quot;string&quot;,&quot;nullable&quot;:true,&quot;metadata&quot;:{}},{&quot;name&quot;:&quot;POSTK_N&quot;,&quot;type&quot;:&quot;string&quot;,&quot;nullable&quot;:true,&quot;metadata&quot;:{}},{&quot;name&quot;:&quot;STADSDEEL&quot;,&quot;type&quot;:&quot;string&quot;,&quot;nullable&quot;:true,&quot;metadata&quot;:{}},{&quot;name&quot;:&quot;STATUS&quot;,&quot;type&quot;:&quot;string&quot;,&quot;nullable&quot;:true,&quot;metadata&quot;:{}},{&quot;name&quot;:&quot;STRAAT&quot;,&quot;type&quot;:&quot;string&quot;,&quot;nullable&quot;:true,&quot;metadata&quot;:{}},{&quot;name&quot;:&quot;STRAAT_OFF&quot;,&quot;type&quot;:&quot;string&quot;,&quot;nullable&quot;:true,&quot;metadata&quot;:{}},{&quot;name&quot;:&quot;STRAAT_OFF_D&quot;,&quot;type&quot;:&quot;string&quot;,&quot;nullable&quot;:true,&quot;metadata&quot;:{}},{&quot;name&quot;:&quot;VOLGNR&quot;,&quot;type&quot;:&quot;string&quot;,&quot;nullable&quot;:true,&quot;metadata&quot;:{}},{&quot;name&quot;:&quot;WIJKCODE&quot;,&quot;type&quot;:&quot;string&quot;,&quot;nullable&quot;:true,&quot;metadata&quot;:{}},{&quot;name&quot;:&quot;WIJK_OMS&quot;,&quot;type&quot;:&quot;string&quot;,&quot;nullable&quot;:true,&quot;metadata&quot;:{}},{&quot;name&quot;:&quot;WOONPLAATS&quot;,&quot;type&quot;:&quot;string&quot;,&quot;nullable&quot;:true,&quot;metadata&quot;:{}},{&quot;name&quot;:&quot;X_COORD&quot;,&quot;type&quot;:&quot;string&quot;,&quot;nullable&quot;:true,&quot;metadata&quot;:{}},{&quot;name&quot;:&quot;Y_COORD&quot;,&quot;type&quot;:&quot;string&quot;,&quot;nullable&quot;:true,&quot;metadata&quot;:{}}]}}\" type=\"text/x-scoped-javascript\">/*<![CDATA[*/req(['../javascripts/notebook/dataframe','../javascripts/notebook/consoleDir'], \n      function(dataframe, extension) {\n        dataframe.call(data, this, extension);\n      }\n    );/*]]>*/</script>\n      <link rel=\"stylesheet\" href=\"/assets/stylesheets/ipython/css/dataframe.css\" type=\"text/css\"/>\n    </div>"
      },
      "output_type" : "execute_result",
      "execution_count" : 7,
      "time" : "Took: 3.175s, at 2020-05-03 14:49"
    } ]
  }, {
    "metadata" : {
      "id" : "993CFA140F484EDC82E392E71A724C8D"
    },
    "cell_type" : "markdown",
    "source" : "#### Schema\n\nThe Data Frame API supports a more structured interface to data by defining a `case class` to represent the data."
  }, {
    "metadata" : {
      "trusted" : true,
      "input_collapsed" : false,
      "collapsed" : false,
      "id" : "5DEF2851B34B438DB8F802EDFEA556B6"
    },
    "cell_type" : "code",
    "source" : [ "case class Addr(street:String, quarter:String, x:Float, y:Float)" ],
    "outputs" : [ {
      "name" : "stdout",
      "output_type" : "stream",
      "text" : "defined class Addr\n"
    }, {
      "metadata" : { },
      "data" : {
        "text/html" : ""
      },
      "output_type" : "execute_result",
      "execution_count" : 8,
      "time" : "Took: 0.633s, at 2020-05-03 14:49"
    } ]
  }, {
    "metadata" : {
      "id" : "719CCFD68CAC42AD8E04E8FBB273EFCE"
    },
    "cell_type" : "markdown",
    "source" : "Project the desired columns onto the fields of the `case class` and convert to a so-called `dataset`."
  }, {
    "metadata" : {
      "trusted" : true,
      "input_collapsed" : false,
      "collapsed" : false,
      "id" : "E1B060D1C88545E584677058DCA18580"
    },
    "cell_type" : "code",
    "source" : [ "val addrDF = bagdataFiltered.select($\"STRAAT\" as \"street\",\n", "                            $\"X_COORD\".cast(FloatType) as \"x\",\n", "                            $\"Y_COORD\".cast(FloatType) as \"y\",\n", "                            $\"WIJK_OMS\" as \"quarter\").as[Addr].cache()\n", "addrDF.show(5)" ],
    "outputs" : [ {
      "name" : "stdout",
      "output_type" : "stream",
      "text" : "+--------------------+----+----+----------+\n|              street|   x|   y|   quarter|\n+--------------------+----+----+----------+\n|Dr. Claas Noordui...|null|null|Hunnerberg|\n|Dr. Claas Noordui...|null|null|Hunnerberg|\n|Dr. Claas Noordui...|null|null|Hunnerberg|\n|Dr. Claas Noordui...|null|null|Hunnerberg|\n|Dr. Claas Noordui...|null|null|Hunnerberg|\n+--------------------+----+----+----------+\nonly showing top 5 rows\n\naddrDF: org.apache.spark.sql.Dataset[Addr] = [street: string, x: float ... 2 more fields]\n"
    }, {
      "metadata" : { },
      "data" : {
        "text/html" : ""
      },
      "output_type" : "execute_result",
      "execution_count" : 9,
      "time" : "Took: 1.077s, at 2020-05-03 14:49"
    } ]
  }, {
    "metadata" : {
      "id" : "DDD4524221FB46A286EEE74E4D080022"
    },
    "cell_type" : "markdown",
    "source" : "Actually, parsing the X and Y coordinates is a little messy: the data contains the X and Y coordinates in the Dutch locale, which means that they are written as 0,5 instead of 0.5.\n\nWhen parsing fails, we end up with `null` values.\n\nWe define a function to convert values where possible."
  }, {
    "metadata" : {
      "trusted" : true,
      "input_collapsed" : false,
      "collapsed" : false,
      "id" : "2EE7A07C08EB49F4BE7218E15289C1C8"
    },
    "cell_type" : "code",
    "source" : [ "val nf = NumberFormat.getInstance(Locale.forLanguageTag(\"nl\"));\n", "\n", "def convToFloat(s: String): Option[Float] = {\n", "  try {\n", "    Some(nf.parse(s).floatValue)\n", "  } catch {\n", "    case e: Exception => None\n", "  }\n", "}" ],
    "outputs" : [ {
      "name" : "stdout",
      "output_type" : "stream",
      "text" : "nf: java.text.NumberFormat = java.text.DecimalFormat@674dc\nconvToFloat: (s: String)Option[Float]\n"
    }, {
      "metadata" : { },
      "data" : {
        "text/html" : ""
      },
      "output_type" : "execute_result",
      "execution_count" : 10,
      "time" : "Took: 0.587s, at 2020-05-03 14:49"
    } ]
  }, {
    "metadata" : {
      "id" : "EAD399C79491444D859BD36E69C15900"
    },
    "cell_type" : "markdown",
    "source" : "We have to register this function as a _user-defined function_ so it can be used in Spark SQL."
  }, {
    "metadata" : {
      "trusted" : true,
      "input_collapsed" : false,
      "collapsed" : false,
      "id" : "1ACD24DF278842079AFCFE338AEDF9CC"
    },
    "cell_type" : "code",
    "source" : [ "val tfloat = udf((f: String) => convToFloat(f).getOrElse(0f))\n", "\n", "val addrFloats = bagdataFiltered.select($\"STRAAT\" as \"street\",\n", "                            tfloat($\"X_COORD\").cast(FloatType) as \"x\",\n", "                            tfloat($\"Y_COORD\").cast(FloatType) as \"y\",\n", "                            $\"WIJK_OMS\" as \"quarter\").as[Addr].cache()\n", "addrFloats.show(5)" ],
    "outputs" : [ {
      "name" : "stdout",
      "output_type" : "stream",
      "text" : "+--------------------+---------+---------+----------+\n|              street|        x|        y|   quarter|\n+--------------------+---------+---------+----------+\n|Dr. Claas Noordui...|188670.94|428403.16|Hunnerberg|\n|Dr. Claas Noordui...| 188679.6| 428375.1|Hunnerberg|\n|Dr. Claas Noordui...|188685.73|428373.06|Hunnerberg|\n|Dr. Claas Noordui...|188692.36|428389.72|Hunnerberg|\n|Dr. Claas Noordui...|188699.69| 428403.5|Hunnerberg|\n+--------------------+---------+---------+----------+\nonly showing top 5 rows\n\ntfloat: org.apache.spark.sql.expressions.UserDefinedFunction = UserDefinedFunction(<function1>,FloatType,Some(List(StringType)))\naddrFloats: org.apache.spark.sql.Dataset[Addr] = [street: string, x: float ... 2 more fields]\n"
    }, {
      "metadata" : { },
      "data" : {
        "text/html" : ""
      },
      "output_type" : "execute_result",
      "execution_count" : 11,
      "time" : "Took: 1.604s, at 2020-05-03 14:49"
    } ]
  }, {
    "metadata" : {
      "id" : "B55CE28CAF3A4B63B80E3618A45BFF8C"
    },
    "cell_type" : "markdown",
    "source" : "Let's check that the missing values have been placed on the origin:"
  }, {
    "metadata" : {
      "trusted" : true,
      "input_collapsed" : false,
      "collapsed" : false,
      "id" : "00E7170B80CA4EA9BC3EC8B7CB541181"
    },
    "cell_type" : "code",
    "source" : [ "printf(\n", "  \"%d points at origin, %d null values\",\n", "  addrFloats.filter(\"x = 0 or y = 0\").count,\n", "  addrFloats.filter('x.isNull or 'y.isNull).count\n", ")" ],
    "outputs" : [ {
      "name" : "stdout",
      "output_type" : "stream",
      "text" : "0 points at origin, 0 null values"
    }, {
      "metadata" : { },
      "data" : {
        "text/html" : ""
      },
      "output_type" : "execute_result",
      "execution_count" : 12,
      "time" : "Took: 1.097s, at 2020-05-03 14:49"
    } ]
  }, {
    "metadata" : {
      "id" : "039D4E2B27874DBAA0A20ABF90698C14"
    },
    "cell_type" : "markdown",
    "source" : "Use `describe` to get an overview of the data:"
  }, {
    "metadata" : {
      "trusted" : true,
      "input_collapsed" : false,
      "collapsed" : false,
      "id" : "905EE2F864204B408A28BEF5046EC495"
    },
    "cell_type" : "code",
    "source" : [ "addrFloats.describe()" ],
    "outputs" : [ {
      "name" : "stdout",
      "output_type" : "stream",
      "text" : "res447: org.apache.spark.sql.DataFrame = [summary: string, street: string ... 3 more fields]\n"
    }, {
      "metadata" : { },
      "data" : {
        "text/html" : "<div class=\"df-canvas\">\n      <script data-this=\"{&quot;dataId&quot;:&quot;anon7da0f8046063dc242c68c1511d55a17d&quot;,&quot;partitionIndexId&quot;:&quot;anon09f4d6d81d81627b489c98ca94c755b3&quot;,&quot;numPartitions&quot;:1,&quot;dfSchema&quot;:{&quot;type&quot;:&quot;struct&quot;,&quot;fields&quot;:[{&quot;name&quot;:&quot;summary&quot;,&quot;type&quot;:&quot;string&quot;,&quot;nullable&quot;:true,&quot;metadata&quot;:{}},{&quot;name&quot;:&quot;street&quot;,&quot;type&quot;:&quot;string&quot;,&quot;nullable&quot;:true,&quot;metadata&quot;:{}},{&quot;name&quot;:&quot;x&quot;,&quot;type&quot;:&quot;string&quot;,&quot;nullable&quot;:true,&quot;metadata&quot;:{}},{&quot;name&quot;:&quot;y&quot;,&quot;type&quot;:&quot;string&quot;,&quot;nullable&quot;:true,&quot;metadata&quot;:{}},{&quot;name&quot;:&quot;quarter&quot;,&quot;type&quot;:&quot;string&quot;,&quot;nullable&quot;:true,&quot;metadata&quot;:{}}]}}\" type=\"text/x-scoped-javascript\">/*<![CDATA[*/req(['../javascripts/notebook/dataframe','../javascripts/notebook/consoleDir'], \n      function(dataframe, extension) {\n        dataframe.call(data, this, extension);\n      }\n    );/*]]>*/</script>\n      <link rel=\"stylesheet\" href=\"/assets/stylesheets/ipython/css/dataframe.css\" type=\"text/css\"/>\n    </div>"
      },
      "output_type" : "execute_result",
      "execution_count" : 13,
      "time" : "Took: 1.631s, at 2020-05-03 14:49"
    } ]
  }, {
    "metadata" : {
      "id" : "8D6A7F6D606A460AAF08C132FDB7FF3E"
    },
    "cell_type" : "markdown",
    "source" : "#### Using Data Frame Operators"
  }, {
    "metadata" : {
      "trusted" : true,
      "input_collapsed" : false,
      "collapsed" : false,
      "id" : "524E39515785443EBFBF0BA269C26D22"
    },
    "cell_type" : "code",
    "source" : [ "val qc_1 = addrFloats.groupBy(\"quarter\").count.cache()\n", "\n", "qc_1.show(5)" ],
    "outputs" : [ {
      "name" : "stdout",
      "output_type" : "stream",
      "text" : "+-----------+-----+\n|    quarter|count|\n+-----------+-----+\n|    Malvert| 1817|\n|     Hatert| 6385|\n|Kwakkenberg|  929|\n|   Aldenhof| 1504|\n|  Meijhorst| 2058|\n+-----------+-----+\nonly showing top 5 rows\n\nqc_1: org.apache.spark.sql.Dataset[org.apache.spark.sql.Row] = [quarter: string, count: bigint]\n"
    }, {
      "metadata" : { },
      "data" : {
        "text/html" : ""
      },
      "output_type" : "execute_result",
      "execution_count" : 14,
      "time" : "Took: 1.273s, at 2020-05-03 14:49"
    } ]
  }, {
    "metadata" : {
      "id" : "FC80E0AFBF5B4F718ADB0483155C2F1A"
    },
    "cell_type" : "markdown",
    "source" : "What are the top 10 largest quarters of Nijmegen?"
  }, {
    "metadata" : {
      "trusted" : true,
      "input_collapsed" : false,
      "collapsed" : false,
      "id" : "22671278EFEC4D57B75A079EBE7D2F10"
    },
    "cell_type" : "code",
    "source" : [ "val qc_1_top = qc_1.orderBy(desc(\"count\")).limit(10)\n", "\n", "qc_1_top.show()" ],
    "outputs" : [ {
      "name" : "stdout",
      "output_type" : "stream",
      "text" : "+--------------+-----+\n|       quarter|count|\n+--------------+-----+\n|  Stadscentrum| 6468|\n|        Hatert| 6385|\n|        Biezen| 4945|\n|Neerbosch-Oost| 4415|\n|          Lent| 4332|\n|     Hengstdal| 3868|\n|      Heseveld| 3559|\n|    Galgenveld| 3510|\n|       Altrade| 3269|\n|     Grootstal| 3079|\n+--------------+-----+\n\nqc_1_top: org.apache.spark.sql.Dataset[org.apache.spark.sql.Row] = [quarter: string, count: bigint]\n"
    }, {
      "metadata" : { },
      "data" : {
        "text/html" : ""
      },
      "output_type" : "execute_result",
      "execution_count" : 15,
      "time" : "Took: 2.148s, at 2020-05-03 14:49"
    } ]
  }, {
    "metadata" : {
      "id" : "0AAF751C56294FFBAFD6A7026AB8EB9E"
    },
    "cell_type" : "markdown",
    "source" : "Wondering what happens inside? The `explain` operator gives you the _physical_ query plan. If you add a boolean, you also see the logical plans, both the initial as parsed, and the plan that is the result of query optimization.\n\n_It is okay if you do not fully understand the full query plan - but do try for a minute or so._"
  }, {
    "metadata" : {
      "trusted" : true,
      "input_collapsed" : false,
      "collapsed" : false,
      "id" : "C849377B8FDF456986830FC46DC86BCA"
    },
    "cell_type" : "code",
    "source" : [ "println(\"Group by and count:\")\n", "println(\"===================\")\n", "qc_1.explain(true)\n", "\n", "println(\"Order descending limit 10:\")\n", "println(\"==========================\")\n", "qc_1_top.explain(true)" ],
    "outputs" : [ {
      "name" : "stdout",
      "output_type" : "stream",
      "text" : "Group by and count:\n===================\n== Parsed Logical Plan ==\nAggregate [quarter#27529], [quarter#27529, count(1) AS count#28083L]\n+- AnalysisBarrier\n      +- Project [STRAAT#23731 AS street#27526, cast(UDF(X_COORD#23738) as float) AS x#27527, cast(UDF(Y_COORD#23739) as float) AS y#27528, WIJK_OMS#23736 AS quarter#27529]\n         +- Filter isnotnull(X_COORD#23738)\n            +- Relation[ACTCODE#23720,ADRES_ID#23721,ADR_ADRESNR#23722,HUISLETTER#23723,HUISNUMMER#23724,HUISNUMMERTOEVOEGING#23725,OPENBARERUIMTE_ID#23726,POSTK_A#23727,POSTK_N#23728,STADSDEEL#23729,STATUS#23730,STRAAT#23731,STRAAT_OFF#23732,STRAAT_OFF_D#23733,VOLGNR#23734,WIJKCODE#23735,WIJK_OMS#23736,WOONPLAATS#23737,X_COORD#23738,Y_COORD#23739] csv\n\n== Analyzed Logical Plan ==\nquarter: string, count: bigint\nAggregate [quarter#27529], [quarter#27529, count(1) AS count#28083L]\n+- Project [STRAAT#23731 AS street#27526, cast(UDF(X_COORD#23738) as float) AS x#27527, cast(UDF(Y_COORD#23739) as float) AS y#27528, WIJK_OMS#23736 AS quarter#27529]\n   +- Filter isnotnull(X_COORD#23738)\n      +- Relation[ACTCODE#23720,ADRES_ID#23721,ADR_ADRESNR#23722,HUISLETTER#23723,HUISNUMMER#23724,HUISNUMMERTOEVOEGING#23725,OPENBARERUIMTE_ID#23726,POSTK_A#23727,POSTK_N#23728,STADSDEEL#23729,STATUS#23730,STRAAT#23731,STRAAT_OFF#23732,STRAAT_OFF_D#23733,VOLGNR#23734,WIJKCODE#23735,WIJK_OMS#23736,WOONPLAATS#23737,X_COORD#23738,Y_COORD#23739] csv\n\n== Optimized Logical Plan ==\nInMemoryRelation [quarter#27529, count#28083L], true, 10000, StorageLevel(disk, memory, deserialized, 1 replicas)\n   +- *(2) HashAggregate(keys=[quarter#27529], functions=[count(1)], output=[quarter#27529, count#28083L])\n      +- Exchange hashpartitioning(quarter#27529, 200)\n         +- *(1) HashAggregate(keys=[quarter#27529], functions=[partial_count(1)], output=[quarter#27529, count#28107L])\n            +- InMemoryTableScan [quarter#27529]\n                  +- InMemoryRelation [street#27526, x#27527, y#27528, quarter#27529], true, 10000, StorageLevel(disk, memory, deserialized, 1 replicas)\n                        +- *(1) Project [STRAAT#23731 AS street#27526, UDF(X_COORD#23738) AS x#27527, UDF(Y_COORD#23739) AS y#27528, WIJK_OMS#23736 AS quarter#27529]\n                           +- *(1) Filter isnotnull(X_COORD#23738)\n                              +- InMemoryTableScan [STRAAT#23731, WIJK_OMS#23736, X_COORD#23738, Y_COORD#23739], [isnotnull(X_COORD#23738)]\n                                    +- InMemoryRelation [ACTCODE#23720, ADRES_ID#23721, ADR_ADRESNR#23722, HUISLETTER#23723, HUISNUMMER#23724, HUISNUMMERTOEVOEGING#23725, OPENBARERUIMTE_ID#23726, POSTK_A#23727, POSTK_N#23728, STADSDEEL#23729, STATUS#23730, STRAAT#23731, STRAAT_OFF#23732, STRAAT_OFF_D#23733, VOLGNR#23734, WIJKCODE#23735, WIJK_OMS#23736, WOONPLAATS#23737, X_COORD#23738, Y_COORD#23739], true, 10000, StorageLevel(disk, memory, deserialized, 1 replicas)\n                                          +- *(1) FileScan csv [ACTCODE#10,ADRES_ID#11,ADR_ADRESNR#12,HUISLETTER#13,HUISNUMMER#14,HUISNUMMERTOEVOEGING#15,OPENBARERUIMTE_ID#16,POSTK_A#17,POSTK_N#18,STADSDEEL#19,STATUS#20,STRAAT#21,STRAAT_OFF#22,STRAAT_OFF_D#23,VOLGNR#24,WIJKCODE#25,WIJK_OMS#26,WOONPLAATS#27,X_COORD#28,Y_COORD#29] Batched: false, Format: CSV, Location: InMemoryFileIndex[file:/opt/docker/notebooks/rubigdata/bag-adres.csv], PartitionFilters: [], PushedFilters: [], ReadSchema: struct<ACTCODE:string,ADRES_ID:string,ADR_ADRESNR:string,HUISLETTER:string,HUISNUMMER:string,HUIS...\n\n== Physical Plan ==\nInMemoryTableScan [quarter#27529, count#28083L]\n   +- InMemoryRelation [quarter#27529, count#28083L], true, 10000, StorageLevel(disk, memory, deserialized, 1 replicas)\n         +- *(2) HashAggregate(keys=[quarter#27529], functions=[count(1)], output=[quarter#27529, count#28083L])\n            +- Exchange hashpartitioning(quarter#27529, 200)\n               +- *(1) HashAggregate(keys=[quarter#27529], functions=[partial_count(1)], output=[quarter#27529, count#28107L])\n                  +- InMemoryTableScan [quarter#27529]\n                        +- InMemoryRelation [street#27526, x#27527, y#27528, quarter#27529], true, 10000, StorageLevel(disk, memory, deserialized, 1 replicas)\n                              +- *(1) Project [STRAAT#23731 AS street#27526, UDF(X_COORD#23738) AS x#27527, UDF(Y_COORD#23739) AS y#27528, WIJK_OMS#23736 AS quarter#27529]\n                                 +- *(1) Filter isnotnull(X_COORD#23738)\n                                    +- InMemoryTableScan [STRAAT#23731, WIJK_OMS#23736, X_COORD#23738, Y_COORD#23739], [isnotnull(X_COORD#23738)]\n                                          +- InMemoryRelation [ACTCODE#23720, ADRES_ID#23721, ADR_ADRESNR#23722, HUISLETTER#23723, HUISNUMMER#23724, HUISNUMMERTOEVOEGING#23725, OPENBARERUIMTE_ID#23726, POSTK_A#23727, POSTK_N#23728, STADSDEEL#23729, STATUS#23730, STRAAT#23731, STRAAT_OFF#23732, STRAAT_OFF_D#23733, VOLGNR#23734, WIJKCODE#23735, WIJK_OMS#23736, WOONPLAATS#23737, X_COORD#23738, Y_COORD#23739], true, 10000, StorageLevel(disk, memory, deserialized, 1 replicas)\n                                                +- *(1) FileScan csv [ACTCODE#10,ADRES_ID#11,ADR_ADRESNR#12,HUISLETTER#13,HUISNUMMER#14,HUISNUMMERTOEVOEGING#15,OPENBARERUIMTE_ID#16,POSTK_A#17,POSTK_N#18,STADSDEEL#19,STATUS#20,STRAAT#21,STRAAT_OFF#22,STRAAT_OFF_D#23,VOLGNR#24,WIJKCODE#25,WIJK_OMS#26,WOONPLAATS#27,X_COORD#28,Y_COORD#29] Batched: false, Format: CSV, Location: InMemoryFileIndex[file:/opt/docker/notebooks/rubigdata/bag-adres.csv], PartitionFilters: [], PushedFilters: [], ReadSchema: struct<ACTCODE:string,ADRES_ID:string,ADR_ADRESNR:string,HUISLETTER:string,HUISNUMMER:string,HUIS...\nOrder descending limit 10:\n==========================\n== Parsed Logical Plan ==\nGlobalLimit 10\n+- LocalLimit 10\n   +- AnalysisBarrier\n         +- Sort [count#28083L DESC NULLS LAST], true\n            +- Aggregate [quarter#27529], [quarter#27529, count(1) AS count#28083L]\n               +- Project [STRAAT#23731 AS street#27526, cast(UDF(X_COORD#23738) as float) AS x#27527, cast(UDF(Y_COORD#23739) as float) AS y#27528, WIJK_OMS#23736 AS quarter#27529]\n                  +- Filter isnotnull(X_COORD#23738)\n                     +- Relation[ACTCODE#23720,ADRES_ID#23721,ADR_ADRESNR#23722,HUISLETTER#23723,HUISNUMMER#23724,HUISNUMMERTOEVOEGING#23725,OPENBARERUIMTE_ID#23726,POSTK_A#23727,POSTK_N#23728,STADSDEEL#23729,STATUS#23730,STRAAT#23731,STRAAT_OFF#23732,STRAAT_OFF_D#23733,VOLGNR#23734,WIJKCODE#23735,WIJK_OMS#23736,WOONPLAATS#23737,X_COORD#23738,Y_COORD#23739] csv\n\n== Analyzed Logical Plan ==\nquarter: string, count: bigint\nGlobalLimit 10\n+- LocalLimit 10\n   +- Sort [count#28083L DESC NULLS LAST], true\n      +- Aggregate [quarter#27529], [quarter#27529, count(1) AS count#28083L]\n         +- Project [STRAAT#23731 AS street#27526, cast(UDF(X_COORD#23738) as float) AS x#27527, cast(UDF(Y_COORD#23739) as float) AS y#27528, WIJK_OMS#23736 AS quarter#27529]\n            +- Filter isnotnull(X_COORD#23738)\n               +- Relation[ACTCODE#23720,ADRES_ID#23721,ADR_ADRESNR#23722,HUISLETTER#23723,HUISNUMMER#23724,HUISNUMMERTOEVOEGING#23725,OPENBARERUIMTE_ID#23726,POSTK_A#23727,POSTK_N#23728,STADSDEEL#23729,STATUS#23730,STRAAT#23731,STRAAT_OFF#23732,STRAAT_OFF_D#23733,VOLGNR#23734,WIJKCODE#23735,WIJK_OMS#23736,WOONPLAATS#23737,X_COORD#23738,Y_COORD#23739] csv\n\n== Optimized Logical Plan ==\nGlobalLimit 10\n+- LocalLimit 10\n   +- Sort [count#28083L DESC NULLS LAST], true\n      +- InMemoryRelation [quarter#27529, count#28083L], true, 10000, StorageLevel(disk, memory, deserialized, 1 replicas)\n            +- *(2) HashAggregate(keys=[quarter#27529], functions=[count(1)], output=[quarter#27529, count#28083L])\n               +- Exchange hashpartitioning(quarter#27529, 200)\n                  +- *(1) HashAggregate(keys=[quarter#27529], functions=[partial_count(1)], output=[quarter#27529, count#28107L])\n                     +- InMemoryTableScan [quarter#27529]\n                           +- InMemoryRelation [street#27526, x#27527, y#27528, quarter#27529], true, 10000, StorageLevel(disk, memory, deserialized, 1 replicas)\n                                 +- *(1) Project [STRAAT#23731 AS street#27526, UDF(X_COORD#23738) AS x#27527, UDF(Y_COORD#23739) AS y#27528, WIJK_OMS#23736 AS quarter#27529]\n                                    +- *(1) Filter isnotnull(X_COORD#23738)\n                                       +- InMemoryTableScan [STRAAT#23731, WIJK_OMS#23736, X_COORD#23738, Y_COORD#23739], [isnotnull(X_COORD#23738)]\n                                             +- InMemoryRelation [ACTCODE#23720, ADRES_ID#23721, ADR_ADRESNR#23722, HUISLETTER#23723, HUISNUMMER#23724, HUISNUMMERTOEVOEGING#23725, OPENBARERUIMTE_ID#23726, POSTK_A#23727, POSTK_N#23728, STADSDEEL#23729, STATUS#23730, STRAAT#23731, STRAAT_OFF#23732, STRAAT_OFF_D#23733, VOLGNR#23734, WIJKCODE#23735, WIJK_OMS#23736, WOONPLAATS#23737, X_COORD#23738, Y_COORD#23739], true, 10000, StorageLevel(disk, memory, deserialized, 1 replicas)\n                                                   +- *(1) FileScan csv [ACTCODE#10,ADRES_ID#11,ADR_ADRESNR#12,HUISLETTER#13,HUISNUMMER#14,HUISNUMMERTOEVOEGING#15,OPENBARERUIMTE_ID#16,POSTK_A#17,POSTK_N#18,STADSDEEL#19,STATUS#20,STRAAT#21,STRAAT_OFF#22,STRAAT_OFF_D#23,VOLGNR#24,WIJKCODE#25,WIJK_OMS#26,WOONPLAATS#27,X_COORD#28,Y_COORD#29] Batched: false, Format: CSV, Location: InMemoryFileIndex[file:/opt/docker/notebooks/rubigdata/bag-adres.csv], PartitionFilters: [], PushedFilters: [], ReadSchema: struct<ACTCODE:string,ADRES_ID:string,ADR_ADRESNR:string,HUISLETTER:string,HUISNUMMER:string,HUIS...\n\n== Physical Plan ==\nTakeOrderedAndProject(limit=10, orderBy=[count#28083L DESC NULLS LAST], output=[quarter#27529,count#28083L])\n+- InMemoryTableScan [quarter#27529, count#28083L]\n      +- InMemoryRelation [quarter#27529, count#28083L], true, 10000, StorageLevel(disk, memory, deserialized, 1 replicas)\n            +- *(2) HashAggregate(keys=[quarter#27529], functions=[count(1)], output=[quarter#27529, count#28083L])\n               +- Exchange hashpartitioning(quarter#27529, 200)\n                  +- *(1) HashAggregate(keys=[quarter#27529], functions=[partial_count(1)], output=[quarter#27529, count#28107L])\n                     +- InMemoryTableScan [quarter#27529]\n                           +- InMemoryRelation [street#27526, x#27527, y#27528, quarter#27529], true, 10000, StorageLevel(disk, memory, deserialized, 1 replicas)\n                                 +- *(1) Project [STRAAT#23731 AS street#27526, UDF(X_COORD#23738) AS x#27527, UDF(Y_COORD#23739) AS y#27528, WIJK_OMS#23736 AS quarter#27529]\n                                    +- *(1) Filter isnotnull(X_COORD#23738)\n                                       +- InMemoryTableScan [STRAAT#23731, WIJK_OMS#23736, X_COORD#23738, Y_COORD#23739], [isnotnull(X_COORD#23738)]\n                                             +- InMemoryRelation [ACTCODE#23720, ADRES_ID#23721, ADR_ADRESNR#23722, HUISLETTER#23723, HUISNUMMER#23724, HUISNUMMERTOEVOEGING#23725, OPENBARERUIMTE_ID#23726, POSTK_A#23727, POSTK_N#23728, STADSDEEL#23729, STATUS#23730, STRAAT#23731, STRAAT_OFF#23732, STRAAT_OFF_D#23733, VOLGNR#23734, WIJKCODE#23735, WIJK_OMS#23736, WOONPLAATS#23737, X_COORD#23738, Y_COORD#23739], true, 10000, StorageLevel(disk, memory, deserialized, 1 replicas)\n                                                   +- *(1) FileScan csv [ACTCODE#10,ADRES_ID#11,ADR_ADRESNR#12,HUISLETTER#13,HUISNUMMER#14,HUISNUMMERTOEVOEGING#15,OPENBARERUIMTE_ID#16,POSTK_A#17,POSTK_N#18,STADSDEEL#19,STATUS#20,STRAAT#21,STRAAT_OFF#22,STRAAT_OFF_D#23,VOLGNR#24,WIJKCODE#25,WIJK_OMS#26,WOONPLAATS#27,X_COORD#28,Y_COORD#29] Batched: false, Format: CSV, Location: InMemoryFileIndex[file:/opt/docker/notebooks/rubigdata/bag-adres.csv], PartitionFilters: [], PushedFilters: [], ReadSchema: struct<ACTCODE:string,ADRES_ID:string,ADR_ADRESNR:string,HUISLETTER:string,HUISNUMMER:string,HUIS..."
    }, {
      "metadata" : { },
      "data" : {
        "text/html" : ""
      },
      "output_type" : "execute_result",
      "execution_count" : 16,
      "time" : "Took: 0.851s, at 2020-05-03 14:49"
    } ]
  }, {
    "metadata" : {
      "id" : "46A33671A60C46BE83C34AECC48A1890"
    },
    "cell_type" : "markdown",
    "source" : "#### Using SQL"
  }, {
    "metadata" : {
      "id" : "C3A6C9731A5E4F5B8FC83393F9FAACA1"
    },
    "cell_type" : "markdown",
    "source" : "You are not restricted to building queryplans yourself by applying operators to Data Frames; instead, you can also use the SQL interface, and, mix and match SQL querying with follow-up operations using the Data Frame API, or even convert the data back to RDDs and continue to perform analyses directly working with RDDs.\n\nUsing SQL is most convenient when queries get larger and more complicated. Consider for example the query for the 10 largest quarters:"
  }, {
    "metadata" : {
      "trusted" : true,
      "input_collapsed" : false,
      "collapsed" : false,
      "id" : "70FD626286454C2684CCB33C63DC103B"
    },
    "cell_type" : "code",
    "source" : [ "addrFloats.createOrReplaceTempView(\"addresses\")" ],
    "outputs" : [ {
      "metadata" : { },
      "data" : {
        "text/html" : ""
      },
      "output_type" : "execute_result",
      "execution_count" : 17,
      "time" : "Took: 0.776s, at 2020-05-03 14:49"
    } ]
  }, {
    "metadata" : {
      "trusted" : true,
      "input_collapsed" : false,
      "collapsed" : false,
      "id" : "47B6549888214275A5D50A6E50768194"
    },
    "cell_type" : "code",
    "source" : [ "val qc_2_top = spark.sql(\"SELECT quarter, count(quarter) AS qc FROM addresses GROUP BY quarter ORDER BY qc DESC LIMIT 10\")" ],
    "outputs" : [ {
      "name" : "stdout",
      "output_type" : "stream",
      "text" : "qc_2_top: org.apache.spark.sql.DataFrame = [quarter: string, qc: bigint]\n"
    }, {
      "metadata" : { },
      "data" : {
        "text/html" : ""
      },
      "output_type" : "execute_result",
      "execution_count" : 18,
      "time" : "Took: 0.774s, at 2020-05-03 14:49"
    } ]
  }, {
    "metadata" : {
      "trusted" : true,
      "input_collapsed" : false,
      "collapsed" : false,
      "id" : "16FE87C02753417DAE5BD57FB16E0481"
    },
    "cell_type" : "code",
    "source" : [ "qc_2_top.show" ],
    "outputs" : [ {
      "name" : "stdout",
      "output_type" : "stream",
      "text" : "+--------------+----+\n|       quarter|  qc|\n+--------------+----+\n|  Stadscentrum|6468|\n|        Hatert|6385|\n|        Biezen|4945|\n|Neerbosch-Oost|4415|\n|          Lent|4332|\n|     Hengstdal|3868|\n|      Heseveld|3559|\n|    Galgenveld|3510|\n|       Altrade|3269|\n|     Grootstal|3079|\n+--------------+----+\n\n"
    }, {
      "metadata" : { },
      "data" : {
        "text/html" : ""
      },
      "output_type" : "execute_result",
      "execution_count" : 19,
      "time" : "Took: 1.931s, at 2020-05-03 14:49"
    } ]
  }, {
    "metadata" : {
      "trusted" : true,
      "input_collapsed" : false,
      "collapsed" : false,
      "id" : "261781F463F046D2986EA105B8C87FD0"
    },
    "cell_type" : "code",
    "source" : [ "qc_2_top.explain(true)" ],
    "outputs" : [ {
      "name" : "stdout",
      "output_type" : "stream",
      "text" : "== Parsed Logical Plan ==\n'GlobalLimit 10\n+- 'LocalLimit 10\n   +- 'Sort ['qc DESC NULLS LAST], true\n      +- 'Aggregate ['quarter], ['quarter, 'count('quarter) AS qc#28180]\n         +- 'UnresolvedRelation `addresses`\n\n== Analyzed Logical Plan ==\nquarter: string, qc: bigint\nGlobalLimit 10\n+- LocalLimit 10\n   +- Sort [qc#28180L DESC NULLS LAST], true\n      +- Aggregate [quarter#27529], [quarter#27529, count(quarter#27529) AS qc#28180L]\n         +- SubqueryAlias addresses\n            +- Project [STRAAT#23731 AS street#27526, cast(UDF(X_COORD#23738) as float) AS x#27527, cast(UDF(Y_COORD#23739) as float) AS y#27528, WIJK_OMS#23736 AS quarter#27529]\n               +- Filter isnotnull(X_COORD#23738)\n                  +- Relation[ACTCODE#23720,ADRES_ID#23721,ADR_ADRESNR#23722,HUISLETTER#23723,HUISNUMMER#23724,HUISNUMMERTOEVOEGING#23725,OPENBARERUIMTE_ID#23726,POSTK_A#23727,POSTK_N#23728,STADSDEEL#23729,STATUS#23730,STRAAT#23731,STRAAT_OFF#23732,STRAAT_OFF_D#23733,VOLGNR#23734,WIJKCODE#23735,WIJK_OMS#23736,WOONPLAATS#23737,X_COORD#23738,Y_COORD#23739] csv\n\n== Optimized Logical Plan ==\nGlobalLimit 10\n+- LocalLimit 10\n   +- Sort [qc#28180L DESC NULLS LAST], true\n      +- Aggregate [quarter#27529], [quarter#27529, count(quarter#27529) AS qc#28180L]\n         +- Project [quarter#27529]\n            +- InMemoryRelation [street#27526, x#27527, y#27528, quarter#27529], true, 10000, StorageLevel(disk, memory, deserialized, 1 replicas)\n                  +- *(1) Project [STRAAT#23731 AS street#27526, UDF(X_COORD#23738) AS x#27527, UDF(Y_COORD#23739) AS y#27528, WIJK_OMS#23736 AS quarter#27529]\n                     +- *(1) Filter isnotnull(X_COORD#23738)\n                        +- InMemoryTableScan [STRAAT#23731, WIJK_OMS#23736, X_COORD#23738, Y_COORD#23739], [isnotnull(X_COORD#23738)]\n                              +- InMemoryRelation [ACTCODE#23720, ADRES_ID#23721, ADR_ADRESNR#23722, HUISLETTER#23723, HUISNUMMER#23724, HUISNUMMERTOEVOEGING#23725, OPENBARERUIMTE_ID#23726, POSTK_A#23727, POSTK_N#23728, STADSDEEL#23729, STATUS#23730, STRAAT#23731, STRAAT_OFF#23732, STRAAT_OFF_D#23733, VOLGNR#23734, WIJKCODE#23735, WIJK_OMS#23736, WOONPLAATS#23737, X_COORD#23738, Y_COORD#23739], true, 10000, StorageLevel(disk, memory, deserialized, 1 replicas)\n                                    +- *(1) FileScan csv [ACTCODE#10,ADRES_ID#11,ADR_ADRESNR#12,HUISLETTER#13,HUISNUMMER#14,HUISNUMMERTOEVOEGING#15,OPENBARERUIMTE_ID#16,POSTK_A#17,POSTK_N#18,STADSDEEL#19,STATUS#20,STRAAT#21,STRAAT_OFF#22,STRAAT_OFF_D#23,VOLGNR#24,WIJKCODE#25,WIJK_OMS#26,WOONPLAATS#27,X_COORD#28,Y_COORD#29] Batched: false, Format: CSV, Location: InMemoryFileIndex[file:/opt/docker/notebooks/rubigdata/bag-adres.csv], PartitionFilters: [], PushedFilters: [], ReadSchema: struct<ACTCODE:string,ADRES_ID:string,ADR_ADRESNR:string,HUISLETTER:string,HUISNUMMER:string,HUIS...\n\n== Physical Plan ==\nTakeOrderedAndProject(limit=10, orderBy=[qc#28180L DESC NULLS LAST], output=[quarter#27529,qc#28180L])\n+- *(2) HashAggregate(keys=[quarter#27529], functions=[count(quarter#27529)], output=[quarter#27529, qc#28180L])\n   +- Exchange hashpartitioning(quarter#27529, 200)\n      +- *(1) HashAggregate(keys=[quarter#27529], functions=[partial_count(quarter#27529)], output=[quarter#27529, count#28240L])\n         +- InMemoryTableScan [quarter#27529]\n               +- InMemoryRelation [street#27526, x#27527, y#27528, quarter#27529], true, 10000, StorageLevel(disk, memory, deserialized, 1 replicas)\n                     +- *(1) Project [STRAAT#23731 AS street#27526, UDF(X_COORD#23738) AS x#27527, UDF(Y_COORD#23739) AS y#27528, WIJK_OMS#23736 AS quarter#27529]\n                        +- *(1) Filter isnotnull(X_COORD#23738)\n                           +- InMemoryTableScan [STRAAT#23731, WIJK_OMS#23736, X_COORD#23738, Y_COORD#23739], [isnotnull(X_COORD#23738)]\n                                 +- InMemoryRelation [ACTCODE#23720, ADRES_ID#23721, ADR_ADRESNR#23722, HUISLETTER#23723, HUISNUMMER#23724, HUISNUMMERTOEVOEGING#23725, OPENBARERUIMTE_ID#23726, POSTK_A#23727, POSTK_N#23728, STADSDEEL#23729, STATUS#23730, STRAAT#23731, STRAAT_OFF#23732, STRAAT_OFF_D#23733, VOLGNR#23734, WIJKCODE#23735, WIJK_OMS#23736, WOONPLAATS#23737, X_COORD#23738, Y_COORD#23739], true, 10000, StorageLevel(disk, memory, deserialized, 1 replicas)\n                                       +- *(1) FileScan csv [ACTCODE#10,ADRES_ID#11,ADR_ADRESNR#12,HUISLETTER#13,HUISNUMMER#14,HUISNUMMERTOEVOEGING#15,OPENBARERUIMTE_ID#16,POSTK_A#17,POSTK_N#18,STADSDEEL#19,STATUS#20,STRAAT#21,STRAAT_OFF#22,STRAAT_OFF_D#23,VOLGNR#24,WIJKCODE#25,WIJK_OMS#26,WOONPLAATS#27,X_COORD#28,Y_COORD#29] Batched: false, Format: CSV, Location: InMemoryFileIndex[file:/opt/docker/notebooks/rubigdata/bag-adres.csv], PartitionFilters: [], PushedFilters: [], ReadSchema: struct<ACTCODE:string,ADRES_ID:string,ADR_ADRESNR:string,HUISLETTER:string,HUISNUMMER:string,HUIS...\n"
    }, {
      "metadata" : { },
      "data" : {
        "text/html" : ""
      },
      "output_type" : "execute_result",
      "execution_count" : 20,
      "time" : "Took: 1.672s, at 2020-05-03 14:49"
    } ]
  }, {
    "metadata" : {
      "id" : "B7E07A735BFB47C6881CE5818ED0478C"
    },
    "cell_type" : "markdown",
    "source" : "### Artworks\n\nNow that we have the address data prepared, move on to look into the data about the artworks.\n\nLoad the data, look at the schema and global statistics, and inspect a small sample:"
  }, {
    "metadata" : {
      "trusted" : true,
      "input_collapsed" : false,
      "collapsed" : false,
      "id" : "E3EAA5EDD64041409F95BFFE263FE637"
    },
    "cell_type" : "code",
    "source" : [ "val kunst = spark.read\n", "    .format(\"csv\")\n", "    .option(\"header\", \"true\") // Use first line of all files as header\n", "    .option(\"inferSchema\", \"true\") // Automatically infer data types\n", "    .load(\"./notebooks/rubigdata/kunstopstraat-kunstwerk.csv\").cache()\n" ],
    "outputs" : [ {
      "name" : "stdout",
      "output_type" : "stream",
      "text" : "kunst: org.apache.spark.sql.Dataset[org.apache.spark.sql.Row] = [naam: string, bouwjaar: string ... 8 more fields]\n"
    }, {
      "metadata" : { },
      "data" : {
        "text/html" : ""
      },
      "output_type" : "execute_result",
      "execution_count" : 21,
      "time" : "Took: 0.745s, at 2020-05-03 14:49"
    } ]
  }, {
    "metadata" : {
      "trusted" : true,
      "input_collapsed" : false,
      "collapsed" : false,
      "id" : "1728A743089D442E8F9F9EDE7BE99747"
    },
    "cell_type" : "code",
    "source" : [ "kunst.printSchema" ],
    "outputs" : [ {
      "name" : "stdout",
      "output_type" : "stream",
      "text" : "root\n |-- naam: string (nullable = true)\n |-- bouwjaar: string (nullable = true)\n |-- kunstenaar: string (nullable = true)\n |-- locatie: string (nullable = true)\n |-- latitude: string (nullable = true)\n |-- longitude: string (nullable = true)\n |-- omschrijving: string (nullable = true)\n |-- eigendom: string (nullable = true)\n |-- bron: string (nullable = true)\n |-- url: string (nullable = true)\n\n"
    }, {
      "metadata" : { },
      "data" : {
        "text/html" : ""
      },
      "output_type" : "execute_result",
      "execution_count" : 22,
      "time" : "Took: 0.762s, at 2020-05-03 14:49"
    } ]
  }, {
    "metadata" : {
      "trusted" : true,
      "input_collapsed" : false,
      "collapsed" : false,
      "id" : "0838E3F28FBB49089455CF2AFCECAC53"
    },
    "cell_type" : "code",
    "source" : [ "// Select all the public art created before the year 2000\n", "val kunstwerken = kunst.select(\"naam\", \"locatie\", \"latitude\", \"longitude\", \"bouwjaar\", \"url\").where(\"bouwjaar <= 1999\")" ],
    "outputs" : [ {
      "name" : "stdout",
      "output_type" : "stream",
      "text" : "kunstwerken: org.apache.spark.sql.Dataset[org.apache.spark.sql.Row] = [naam: string, locatie: string ... 4 more fields]\n"
    }, {
      "metadata" : { },
      "data" : {
        "text/html" : ""
      },
      "output_type" : "execute_result",
      "execution_count" : 23,
      "time" : "Took: 0.580s, at 2020-05-03 14:49"
    } ]
  }, {
    "metadata" : {
      "trusted" : true,
      "input_collapsed" : false,
      "collapsed" : false,
      "id" : "D429016909A9411989AB6CD476D9701A"
    },
    "cell_type" : "code",
    "source" : [ "kunstwerken.sample(true, 0.1).show()" ],
    "outputs" : [ {
      "name" : "stdout",
      "output_type" : "stream",
      "text" : "+--------------------+--------------------+----------+----------+--------+--------------------+\n|                naam|             locatie|  latitude| longitude|bouwjaar|                 url|\n+--------------------+--------------------+----------+----------+--------+--------------------+\n|Ingangspoort van ...|     Burchtstraat 20|51.8470815|5.86575320|    1554|                null|\n|           Dominicus|Heyendaalseweg 12...|51.8270344|5.87131094|    1880|                null|\n|Spoorwegmonument ...|Hoogstraat bij Va...|51.8471154|5.86887559|    1884|                null|\n|    Vier stadswapens|Grote Markt (Waag...|51.8478125|5.86369593|    1886|                null|\n|Johannes van Sagu...|      Graafseweg 274|51.8342970|5.83837820|    1925|http://www.nijmeg...|\n|Gedenksteen voor ...|    Joris Ivensplein|51.8486404|5.85666127|    1945|                null|\n|Meisje met schooltas|Archipelstraat/At...|51.8344429|5.86580803|    1959|                null|\n|De zeven dagen va...|       Goffertweg 20|51.8287233|5.83946257|    1957|                null|\n|Dubbelkoppige ade...|            In depot|51.8485194|5.86875431|    1958|                null|\n|Monument voor de ...| Sint Stevenskerkhof|51.8480095|5.86205887|    1959|                null|\n|      Karel de Grote|   Keizer Karelplein| 51.842162|  5.859390|    1962|                null|\n|Moeder Gods als b...|   Vleeshouwerstraat|51.8488842|5.86656096|    1966|                null|\n|      Dame met stola|Nassausingel (ple...|51.8429477|5.85819385|    1966|http://www.nijmeg...|\n| Omgevingsvormgeving|Keizer Traianusplein|51.8455672|5.87350928|    1974|http://www.nijmeg...|\n|         Afsluitpaal|       Vijfringengas|51.8476808|5.86417863|    1974|                null|\n|           Entr'acte|               Depot| 51.818154|  5.817281|    1975|                null|\n|           Sculptuur|     Steve Bikoplein|51.8170001|5.80293243|    1979|                null|\n|Reeks vormen uit ...|Aubadestraat/O.C....|51.8315515|5.81792147|    1979|http://www.nijmeg...|\n|           Sculptuur|Derde van Hezewij...|51.8368645|5.84454470|    1981|                null|\n| Omgevingsvormgeving|           Eiermarkt| 51.847501|  5.866319|    1984|                null|\n+--------------------+--------------------+----------+----------+--------+--------------------+\nonly showing top 20 rows\n\n"
    }, {
      "metadata" : { },
      "data" : {
        "text/html" : ""
      },
      "output_type" : "execute_result",
      "execution_count" : 24,
      "time" : "Took: 0.990s, at 2020-05-03 14:49"
    } ]
  }, {
    "metadata" : {
      "trusted" : true,
      "input_collapsed" : false,
      "collapsed" : true,
      "id" : "0B024D5FBECD4BC9A12E8BBA8C1231F4"
    },
    "cell_type" : "markdown",
    "source" : "The coordinates are not correctly detected as floats - again, due to the Locale.\nA quick hack (but not robust code) to cast the values to floats:"
  }, {
    "metadata" : {
      "trusted" : true,
      "input_collapsed" : false,
      "collapsed" : false,
      "id" : "86ACB3FFDD5241F3B4B71E668528157F"
    },
    "cell_type" : "code",
    "source" : [ "val kunstxy = kunstwerken\n", "  .withColumn(\"latitude\", translate(kunstwerken.col(\"latitude\"), \",\", \".\").cast(\"float\"))\n", "  .withColumn(\"longitude\", translate(kunstwerken.col(\"longitude\"), \",\", \".\").cast(\"float\"))" ],
    "outputs" : [ {
      "name" : "stdout",
      "output_type" : "stream",
      "text" : "kunstxy: org.apache.spark.sql.DataFrame = [naam: string, locatie: string ... 4 more fields]\n"
    }, {
      "metadata" : { },
      "data" : {
        "text/html" : ""
      },
      "output_type" : "execute_result",
      "execution_count" : 25,
      "time" : "Took: 0.654s, at 2020-05-03 14:49"
    } ]
  }, {
    "metadata" : {
      "id" : "BA382E45FC8441CC85069152862E47C4"
    },
    "cell_type" : "markdown",
    "source" : "Let's inspect some of the data, using global information and a sample."
  }, {
    "metadata" : {
      "trusted" : true,
      "input_collapsed" : false,
      "collapsed" : false,
      "id" : "88809D92DB1048908164A26F8EA30623"
    },
    "cell_type" : "code",
    "source" : [ "kunstxy.sample(true, 0.05).show()" ],
    "outputs" : [ {
      "name" : "stdout",
      "output_type" : "stream",
      "text" : "+--------------------+--------------------+---------+---------+--------+--------------------+\n|                naam|             locatie| latitude|longitude|bouwjaar|                 url|\n+--------------------+--------------------+---------+---------+--------+--------------------+\n|Johanna de Lestonnac|     Dobbelmannweg 5| 51.82932| 5.847052|    1912|http://www.nijmeg...|\n|De Barmhartige Sa...|Van Schaeck Matho...| 51.84287|5.8559737|    1949|                null|\n|      Geveldecoratie|Dominicanenstraat 91| 51.84122| 5.873702|    1958|http://www.nijmeg...|\n|Majoor J.N. Breun...|         Julianapark|51.840565| 5.866932|    1966|                null|\n|           Labyrinth|            Waalkade|51.850185| 5.860435|    1982|                null|\n| Twee muursculpturen|   Veemarkt/Waalkade|    51.85|5.8564234|    1982|                null|\n|        Twee reli?fs|Waalkade (ter hoo...|51.849926| 5.860052|    1983|                null|\n|Moeder met kind e...|O.C. Huismanstraa...| 51.83009|5.8139477|    1983|                null|\n|       Speelplastiek|  Leuvensbroek 20-10|51.832996|5.7788434|    1986|http://www.nijmeg...|\n|         Afsluitpaal|Achter de Vismark...|51.849422|5.8638926|    1987|                null|\n|Joris Ivens Monument|    Joris Ivensplein| 51.84872| 5.856625|    1990|                null|\n|           Sculptuur|Kanaalstraat (Wes...|51.850792|  5.83874|    1973|                null|\n|      Nature Vivante|Professor Bellefr...| 51.82851| 5.867503|    1975|                null|\n+--------------------+--------------------+---------+---------+--------+--------------------+\n\n"
    }, {
      "metadata" : { },
      "data" : {
        "text/html" : ""
      },
      "output_type" : "execute_result",
      "execution_count" : 26,
      "time" : "Took: 0.831s, at 2020-05-03 14:49"
    } ]
  }, {
    "metadata" : {
      "id" : "B3B112064FF74E238831D15A7C25EB51"
    },
    "cell_type" : "markdown",
    "source" : "Artworks created during WWII:"
  }, {
    "metadata" : {
      "trusted" : true,
      "input_collapsed" : false,
      "collapsed" : false,
      "id" : "4F84F3F8578F4B2183942FA51713039D"
    },
    "cell_type" : "code",
    "source" : [ "kunstxy.filter(\"bouwjaar >= 1940 and bouwjaar <= 1945\").show()" ],
    "outputs" : [ {
      "name" : "stdout",
      "output_type" : "stream",
      "text" : "+--------------------+--------------------+---------+---------+--------+--------------------+\n|                naam|             locatie| latitude|longitude|bouwjaar|                 url|\n+--------------------+--------------------+---------+---------+--------+--------------------+\n|        Twee leeuwen|    Veerpoorttrappen|51.848396| 5.868978|    1941|http://www.nijmeg...|\n|               Kopje|Nieuwstraat (stad...| 51.84608|5.8656554|    1943|http://www.nijmeg...|\n|Gedenksteen voor ...|    Joris Ivensplein| 51.84864|5.8566613|    1945|                null|\n|Gedenksteen Jan v...|Waalbrug, pijler ...| 51.85252| 5.870856|    1945|                null|\n+--------------------+--------------------+---------+---------+--------+--------------------+\n\n"
    }, {
      "metadata" : { },
      "data" : {
        "text/html" : ""
      },
      "output_type" : "execute_result",
      "execution_count" : 27,
      "time" : "Took: 0.880s, at 2020-05-03 14:49"
    } ]
  }, {
    "metadata" : {
      "trusted" : true,
      "input_collapsed" : false,
      "collapsed" : false,
      "id" : "313A89394977426AB908BD2122F43C0D"
    },
    "cell_type" : "code",
    "source" : [ "kunstxy.describe().show()" ],
    "outputs" : [ {
      "name" : "stdout",
      "output_type" : "stream",
      "text" : "+-------+--------------------+--------------------+--------------------+--------------------+------------------+--------------------+\n|summary|                naam|             locatie|            latitude|           longitude|          bouwjaar|                 url|\n+-------+--------------------+--------------------+--------------------+--------------------+------------------+--------------------+\n|  count|                 300|                 300|                 300|                 300|               300|                 102|\n|   mean|                null|                null|  51.838399492899576|    5.85550477027893|1948.7966666666666|                null|\n| stddev|                null|                null|0.012622929581466448|0.022618858781211955| 68.08067702490506|                null|\n|    min|'Vervult u met de...|Achter de Hoofdwacht|           51.800934|           5.7574415|              1554|   \"de onafwendbare\"|\n|    max|     muurschildering|d'Almarasweg (Bot...|           51.871082|           5.8993073|              1999|http://www.nijmeg...|\n+-------+--------------------+--------------------+--------------------+--------------------+------------------+--------------------+\n\n"
    }, {
      "metadata" : { },
      "data" : {
        "text/html" : ""
      },
      "output_type" : "execute_result",
      "execution_count" : 28,
      "time" : "Took: 1.191s, at 2020-05-03 14:49"
    } ]
  }, {
    "metadata" : {
      "id" : "55AD2AB4EE7B4A8183A276DE8F9CC307"
    },
    "cell_type" : "markdown",
    "source" : "Many items have no URL information, given the difference in counts between `url` and `latitude`.\n\nLet's inspect the problematic tuples (using SQL - _\"niet omdat het moet, maar omdat het kan\"_):"
  }, {
    "metadata" : {
      "trusted" : true,
      "input_collapsed" : false,
      "collapsed" : false,
      "id" : "524FDAFD474A4E6D81D8461903928D28"
    },
    "cell_type" : "code",
    "source" : [ "kunstxy.createOrReplaceTempView(\"kunstxy\")\n", "spark.sql(\"SELECT * FROM kunstxy WHERE url IS NULL LIMIT 10\").show()" ],
    "outputs" : [ {
      "name" : "stdout",
      "output_type" : "stream",
      "text" : "+--------------------+--------------------+---------+---------+--------+----+\n|                naam|             locatie| latitude|longitude|bouwjaar| url|\n+--------------------+--------------------+---------+---------+--------+----+\n|Ingangspoort van ...|     Burchtstraat 20| 51.84708| 5.865753|    1554|null|\n|              Reli?f|   Begijnenstraat 29| 51.84851|5.8605824|    1618|null|\n|Weesjongen en wee...|   Begijnenstraat 29|  51.8485|5.8605475|    1645|null|\n|Poort Oud Burgere...|Professor Corneli...|51.833538| 5.865971|    1645|null|\n|   Vier gevelbeelden|Postweg 80 (Villa...| 51.83032| 5.878629|    1930|null|\n|Poort Roomsch Kat...|   Begijnenstraat 29|51.848743|  5.86041|    1860|null|\n|Gevelsteen met Wa...|         Waalkade 65|51.849136| 5.867189|    1861|null|\n|           Dominicus|Heyendaalseweg 12...|51.827034|5.8713107|    1880|null|\n|Spoorwegmonument ...|Hoogstraat bij Va...|51.847115|5.8688755|    1884|null|\n|Spoorwegmonument ...|Hoogstraat bij Va...|51.847115|5.8688755|    1884|null|\n+--------------------+--------------------+---------+---------+--------+----+\n\n"
    }, {
      "metadata" : { },
      "data" : {
        "text/html" : ""
      },
      "output_type" : "execute_result",
      "execution_count" : 29,
      "time" : "Took: 0.857s, at 2020-05-03 14:49"
    } ]
  }, {
    "metadata" : {
      "trusted" : true,
      "input_collapsed" : false,
      "collapsed" : true,
      "id" : "F7DF75AADB1646A68EC682FA6BA8F95E"
    },
    "cell_type" : "markdown",
    "source" : "If you would use the data in practice, you can simply ignore the `url` column, or define a new table that excludes the NULL values.\n\nLet us however go back to the source data, in the Dataframe called `kunst`, and look into the dataset in more detail:"
  }, {
    "metadata" : {
      "trusted" : true,
      "input_collapsed" : false,
      "collapsed" : false,
      "id" : "F981DF79F153442E918E4F11B3D10BE4"
    },
    "cell_type" : "code",
    "source" : [ "kunst.createOrReplaceTempView(\"kunst\")\n", "kunst.describe().show()" ],
    "outputs" : [ {
      "name" : "stdout",
      "output_type" : "stream",
      "text" : "+-------+--------------------+-----------------+--------------------+--------------------+--------------------+--------------------+--------------------+-----------+--------------------+--------------------+\n|summary|                naam|         bouwjaar|          kunstenaar|             locatie|            latitude|           longitude|        omschrijving|   eigendom|                bron|                 url|\n+-------+--------------------+-----------------+--------------------+--------------------+--------------------+--------------------+--------------------+-----------+--------------------+--------------------+\n|  count|                1016|              812|                 607|                 589|                 488|                 416|                 376|        122|                  27|                 117|\n|   mean|                null|2043.293948126801|                null|                null|   51.83873464913294|   5.854925002441861|                null|       null|                null|                null|\n| stddev|                null|869.2142056536406|                null|                null|0.013075111708568643|0.022717841199844924|                null|       null|                null|                null|\n|    min| De kazerne heett...|                 |  jarenlang een l...| Adem en Arent; d...| 'levend kunstwer...|            5.865491| Gerard Bruning e...|    Heerlen| \"de verdeelster\"...|   \"de onafwendbare\"|\n|    max|?TER HERINNERING ...|      particulier|  www.pvandelocht.nl|      www.welwaar.nl|   www.tonycragg.com|     www.ruygrok.com|?Hulde aan den on...|particulier|  www.vlinderkas.com|http://www.nijmeg...|\n+-------+--------------------+-----------------+--------------------+--------------------+--------------------+--------------------+--------------------+-----------+--------------------+--------------------+\n\n"
    }, {
      "metadata" : { },
      "data" : {
        "text/html" : ""
      },
      "output_type" : "execute_result",
      "execution_count" : 30,
      "time" : "Took: 1.343s, at 2020-05-03 14:49"
    } ]
  }, {
    "metadata" : {
      "trusted" : true,
      "input_collapsed" : false,
      "collapsed" : true,
      "id" : "F7DF75AADB1646A68EC682FA6BA8F95E"
    },
    "cell_type" : "markdown",
    "source" : "Even the counts of tuples with longitude values does not equal the counts with latitude values... and a mean \"bouwjaar\" in the future is, well, suspicious!\n\nLet's investigate in more detail, listing missing lat/lon and out-of-range year values in a few SQL queries.\n\n__Q:__ _Try to understand the various data problems we encounter when working on this dataset. Which are fundamental, and which are just an artifact of our processing?_"
  }, {
    "metadata" : {
      "trusted" : true,
      "input_collapsed" : false,
      "collapsed" : false,
      "id" : "F3983427B81B4EE580A273DB8EF6E06E"
    },
    "cell_type" : "code",
    "source" : [ "spark.sql(\"select * from kunst where (latitude is not null and longitude is null) or (latitude is null and longitude is not null)\")\n", "  .show(15)" ],
    "outputs" : [ {
      "name" : "stdout",
      "output_type" : "stream",
      "text" : "+--------------------+--------------------+--------------------+--------------------+--------------------+--------------------+--------------------+--------+----+----+\n|                naam|            bouwjaar|          kunstenaar|             locatie|            latitude|           longitude|        omschrijving|eigendom|bron| url|\n+--------------------+--------------------+--------------------+--------------------+--------------------+--------------------+--------------------+--------+----+----+\n|De gebeeldhouwde ...| in 1554 gemaakt ...| is grotendeels a...|   gemeente Nijmegen|                null|http://www.nijmeg...|                null|    null|null|null|\n|De wegens faillis...| maar ook de natu...| afkomstig van de...| wordt ook meldin...|   gemeente Nijmegen|                null|http://www.nijmeg...|    null|null|null|\n|Wie de vier besch...| omdat vaststaat ...|         particulier|                null|http://www.nijmeg...|                null|                null|    null|null|null|\n|Voor deze poort i...| in licht vereenv...| in de tuin van h...|   gemeente Nijmegen|                null|http://www.nijmeg...|                null|    null|null|null|\n|Christian Dani?l ...| de ontwerper van...| was een vooraans...|   gemeente Nijmegen|                null|http://www.nijmeg...|                null|    null|null|null|\n|Christian Dani?l ...| de ontwerper van...| was een vooraans...|   gemeente Nijmegen|                null|http://www.nijmeg...|                null|    null|null|null|\n|Het monument best...| rijk versierde s...| attribuut van ma...| met de tekst ?Ik...| gaat kinderen. G...|                null|                null|    null|null|null|\n|Tot 1949 heeft he...| in 1999 is het m...|   gemeente Nijmegen|                null|http://www.nijmeg...|                null|                null|    null|null|null|\n|De Eerste Infante...| die leefde van 1...| iets wat nog nie...| omringd door een...|      zijn grafzerk.|                null|                null|    null|null|null|\n|De Snijderskazern...| die van 1951 tot...|         particulier|                null|http://www.nijmeg...|                null|                null|    null|null|null|\n|De bank is ontwor...| de dorpsarts van...|   gemeente Nijmegen|                null|http://www.nijmeg...|                null|                null|    null|null|null|\n|De bank is ontwor...| de dorpsarts van...|   gemeente Nijmegen|                null|http://www.nijmeg...|                null|                null|    null|null|null|\n|Het beeld staat n...| vlak achter het ...|   gemeente Nijmegen|   www.noviomagus.nl|http://www.nijmeg...|                null|                null|    null|null|null|\n|Van Hoof zelf sti...| loodste hij die ...| vlak bij de spoo...| werd deze in bra...| maar tijdens een...|                null|                null|    null|null|null|\n|Omdat er twijfel ...| beleid en trouw ...|   gemeente Nijmegen|                null|http://www.nijmeg...|                null|                null|    null|null|null|\n+--------------------+--------------------+--------------------+--------------------+--------------------+--------------------+--------------------+--------+----+----+\nonly showing top 15 rows\n\n"
    }, {
      "metadata" : { },
      "data" : {
        "text/html" : ""
      },
      "output_type" : "execute_result",
      "execution_count" : 31,
      "time" : "Took: 0.855s, at 2020-05-03 14:49"
    } ]
  }, {
    "metadata" : {
      "trusted" : true,
      "input_collapsed" : false,
      "collapsed" : false,
      "id" : "1E474D5F8504419E800C773FF3E25F5C"
    },
    "cell_type" : "code",
    "source" : [ "spark.sql(\"select * from kunst where bouwjaar > 2017\")\n", "  .show(10)" ],
    "outputs" : [ {
      "name" : "stdout",
      "output_type" : "stream",
      "text" : "+-------------+--------+--------------------+--------------------+----------+----------+--------------------+-----------------+--------------------+--------------------+\n|         naam|bouwjaar|          kunstenaar|             locatie|  latitude| longitude|        omschrijving|         eigendom|                bron|                 url|\n+-------------+--------+--------------------+--------------------+----------+----------+--------------------+-----------------+--------------------+--------------------+\n|       Object|    9999|            Onbekend|   Geert Grooteplein|51.8239293|5.86176819|Deze gespleten st...|             null|                null|                null|\n|Glazen Paneel|    9999|Montse Hernandez ...|Eikenlaan (Lent-N...|51.8676363|5.87309422|Dit kunstwerk wer...|gemeente Nijmegen|www.montsehern?nd...|http://www.nijmeg...|\n|    Sculptuur|    9999|    Gerard Walraeven|Wout Wagtmanspad ...| 51.810100|  5.782957|Dit kunstwerk is ...|             null|                null|                null|\n|  Zonnewijzer|    9999|LaSalle (Albert G...|        Keplerstraat| 51.811175|  5.831423|         Zonnewijzer|gemeente Nijmegen|                null|http://www.nijmeg...|\n+-------------+--------+--------------------+--------------------+----------+----------+--------------------+-----------------+--------------------+--------------------+\n\n"
    }, {
      "metadata" : { },
      "data" : {
        "text/html" : ""
      },
      "output_type" : "execute_result",
      "execution_count" : 32,
      "time" : "Took: 0.812s, at 2020-05-03 14:49"
    } ]
  }, {
    "metadata" : {
      "trusted" : true,
      "input_collapsed" : false,
      "collapsed" : false,
      "id" : "8B23DD283EB8471FA0618B0F78FBC13C"
    },
    "cell_type" : "code",
    "source" : [ "spark.sql(\"select * from kunst where bouwjaar is null\")\n", "  .show(10)" ],
    "outputs" : [ {
      "name" : "stdout",
      "output_type" : "stream",
      "text" : "+--------------------+--------+----------+-------+--------+---------+------------+--------+----+----+\n|                naam|bouwjaar|kunstenaar|locatie|latitude|longitude|omschrijving|eigendom|bron| url|\n+--------------------+--------+----------+-------+--------+---------+------------+--------+----+----+\n|Het reli?f hoort ...|    null|      null|   null|    null|     null|        null|    null|null|null|\n|In het midden van...|    null|      null|   null|    null|     null|        null|    null|null|null|\n|De volgende tekst...|    null|      null|   null|    null|     null|        null|    null|null|null|\n|Aenschouwer van t...|    null|      null|   null|    null|     null|        null|    null|null|null|\n|Wilt doch om Chri...|    null|      null|   null|    null|     null|        null|    null|null|null|\n|Gedachtlich syn g...|    null|      null|   null|    null|     null|        null|    null|null|null|\n|Want sulcx is aen...|    null|      null|   null|    null|     null|        null|    null|null|null|\n|De heilige Domini...|    null|      null|   null|    null|     null|        null|    null|null|null|\n|Victoria staat vo...|    null|      null|   null|    null|     null|        null|    null|null|null|\n|Het beeld ligt aa...|    null|      null|   null|    null|     null|        null|    null|null|null|\n+--------------------+--------+----------+-------+--------+---------+------------+--------+----+----+\nonly showing top 10 rows\n\n"
    }, {
      "metadata" : { },
      "data" : {
        "text/html" : ""
      },
      "output_type" : "execute_result",
      "execution_count" : 33,
      "time" : "Took: 0.904s, at 2020-05-03 14:49"
    } ]
  }, {
    "metadata" : {
      "id" : "A40AC6D417D64F72846896702165C891"
    },
    "cell_type" : "markdown",
    "source" : "### Art on the map\n\nTo continue, let us first create an artworks dataset that is relatively clean, removing tuples that resulted from parsing errors and/or those with missing values.\n\nCan we then find out which quarters have the most artworks?\nPerhaps we can even identify the development of the city over time using the dates of these artworks?\n\nTo answer these questions, we need to join the dataset with addresses with the one with the artworks.\nThe best link between the two datasets seems to be the coordinates. Let's see how to exploit the location fields to answer our questions."
  }, {
    "metadata" : {
      "trusted" : true,
      "input_collapsed" : false,
      "collapsed" : false,
      "id" : "AAE28B97FAFF459D8C6FB1550ACEF92E"
    },
    "cell_type" : "code",
    "source" : [ "val ks = spark.sql(\"select * from kunst where (latitude is not null and longitude is not null) and bouwjaar < 9999\")" ],
    "outputs" : [ {
      "name" : "stdout",
      "output_type" : "stream",
      "text" : "ks: org.apache.spark.sql.DataFrame = [naam: string, bouwjaar: string ... 8 more fields]\n"
    }, {
      "metadata" : { },
      "data" : {
        "text/html" : ""
      },
      "output_type" : "execute_result",
      "execution_count" : 34,
      "time" : "Took: 0.657s, at 2020-05-03 14:49"
    } ]
  }, {
    "metadata" : {
      "trusted" : true,
      "input_collapsed" : false,
      "collapsed" : false,
      "id" : "FE98462F08C144C19ACA412DDC66FDEA"
    },
    "cell_type" : "code",
    "source" : [ "ks.describe()" ],
    "outputs" : [ {
      "name" : "stdout",
      "output_type" : "stream",
      "text" : "res486: org.apache.spark.sql.DataFrame = [summary: string, naam: string ... 9 more fields]\n"
    }, {
      "metadata" : { },
      "data" : {
        "text/html" : "<div class=\"df-canvas\">\n      <script data-this=\"{&quot;dataId&quot;:&quot;anon30c7c7856b54ceccd0682fb37fc9dab4&quot;,&quot;partitionIndexId&quot;:&quot;anon14b5e7269fc1ac9fee615ae5400fed58&quot;,&quot;numPartitions&quot;:1,&quot;dfSchema&quot;:{&quot;type&quot;:&quot;struct&quot;,&quot;fields&quot;:[{&quot;name&quot;:&quot;summary&quot;,&quot;type&quot;:&quot;string&quot;,&quot;nullable&quot;:true,&quot;metadata&quot;:{}},{&quot;name&quot;:&quot;naam&quot;,&quot;type&quot;:&quot;string&quot;,&quot;nullable&quot;:true,&quot;metadata&quot;:{}},{&quot;name&quot;:&quot;bouwjaar&quot;,&quot;type&quot;:&quot;string&quot;,&quot;nullable&quot;:true,&quot;metadata&quot;:{}},{&quot;name&quot;:&quot;kunstenaar&quot;,&quot;type&quot;:&quot;string&quot;,&quot;nullable&quot;:true,&quot;metadata&quot;:{}},{&quot;name&quot;:&quot;locatie&quot;,&quot;type&quot;:&quot;string&quot;,&quot;nullable&quot;:true,&quot;metadata&quot;:{}},{&quot;name&quot;:&quot;latitude&quot;,&quot;type&quot;:&quot;string&quot;,&quot;nullable&quot;:true,&quot;metadata&quot;:{}},{&quot;name&quot;:&quot;longitude&quot;,&quot;type&quot;:&quot;string&quot;,&quot;nullable&quot;:true,&quot;metadata&quot;:{}},{&quot;name&quot;:&quot;omschrijving&quot;,&quot;type&quot;:&quot;string&quot;,&quot;nullable&quot;:true,&quot;metadata&quot;:{}},{&quot;name&quot;:&quot;eigendom&quot;,&quot;type&quot;:&quot;string&quot;,&quot;nullable&quot;:true,&quot;metadata&quot;:{}},{&quot;name&quot;:&quot;bron&quot;,&quot;type&quot;:&quot;string&quot;,&quot;nullable&quot;:true,&quot;metadata&quot;:{}},{&quot;name&quot;:&quot;url&quot;,&quot;type&quot;:&quot;string&quot;,&quot;nullable&quot;:true,&quot;metadata&quot;:{}}]}}\" type=\"text/x-scoped-javascript\">/*<![CDATA[*/req(['../javascripts/notebook/dataframe','../javascripts/notebook/consoleDir'], \n      function(dataframe, extension) {\n        dataframe.call(data, this, extension);\n      }\n    );/*]]>*/</script>\n      <link rel=\"stylesheet\" href=\"/assets/stylesheets/ipython/css/dataframe.css\" type=\"text/css\"/>\n    </div>"
      },
      "output_type" : "execute_result",
      "execution_count" : 35,
      "time" : "Took: 1.150s, at 2020-05-03 14:49"
    } ]
  }, {
    "metadata" : {
      "trusted" : true,
      "input_collapsed" : false,
      "collapsed" : false,
      "id" : "C4D83E573C854C598A6A6A9C9517A963"
    },
    "cell_type" : "code",
    "source" : [ "val kos = ks\n", "  .withColumn(\"lat\", translate(ks.col(\"latitude\"), \",\", \".\").cast(\"float\"))\n", "  .withColumn(\"lon\", translate(ks.col(\"longitude\"), \",\", \".\").cast(\"float\"))\n", "  .withColumn(\"year\", col(\"bouwjaar\").cast(\"int\"))\n", "  .select(\"naam\", \"locatie\", \"lat\", \"lon\", \"year\")" ],
    "outputs" : [ {
      "name" : "stdout",
      "output_type" : "stream",
      "text" : "kos: org.apache.spark.sql.DataFrame = [naam: string, locatie: string ... 3 more fields]\n"
    }, {
      "metadata" : { },
      "data" : {
        "text/html" : ""
      },
      "output_type" : "execute_result",
      "execution_count" : 36,
      "time" : "Took: 0.704s, at 2020-05-03 14:49"
    } ]
  }, {
    "metadata" : {
      "trusted" : true,
      "input_collapsed" : false,
      "collapsed" : false,
      "id" : "C68DC0321A2744768B966F984ACDEDF4"
    },
    "cell_type" : "code",
    "source" : [ "kos.createOrReplaceTempView(\"kos\")\n", "kos.printSchema" ],
    "outputs" : [ {
      "name" : "stdout",
      "output_type" : "stream",
      "text" : "root\n |-- naam: string (nullable = true)\n |-- locatie: string (nullable = true)\n |-- lat: float (nullable = true)\n |-- lon: float (nullable = true)\n |-- year: integer (nullable = true)\n\n"
    }, {
      "metadata" : { },
      "data" : {
        "text/html" : ""
      },
      "output_type" : "execute_result",
      "execution_count" : 37,
      "time" : "Took: 0.904s, at 2020-05-03 14:49"
    } ]
  }, {
    "metadata" : {
      "trusted" : true,
      "input_collapsed" : false,
      "collapsed" : false,
      "presentation" : {
        "tabs_state" : "{\n  \"tab_id\": \"#tab315996847-0\"\n}",
        "pivot_chart_state" : "{\n  \"hiddenAttributes\": [],\n  \"menuLimit\": 200,\n  \"cols\": [],\n  \"rows\": [],\n  \"vals\": [],\n  \"exclusions\": {},\n  \"inclusions\": {},\n  \"unusedAttrsVertical\": 85,\n  \"autoSortUnusedAttrs\": false,\n  \"inclusionsInfo\": {},\n  \"aggregatorName\": \"Count\",\n  \"rendererName\": \"Table\"\n}"
      },
      "id" : "E951D6BF4BA8485EA1238AD460593F07"
    },
    "cell_type" : "code",
    "source" : [ "kos.show(5, false)" ],
    "outputs" : [ {
      "name" : "stdout",
      "output_type" : "stream",
      "text" : "+----------------------------------------------+-------------------------------------------+---------+---------+----+\n|naam                                          |locatie                                    |lat      |lon      |year|\n+----------------------------------------------+-------------------------------------------+---------+---------+----+\n|Ingangspoort van het stadhuis                 |Burchtstraat 20                            |51.84708 |5.865753 |1554|\n|Reli?f                                        |Begijnenstraat 29                          |51.84851 |5.8605824|1618|\n|Poort van het Oude Weeshuis                   |Gebroeders van Limburgplein                |51.84726 |5.859645 |1640|\n|Poort met het wapen van de familie Singendonck|Burchtstraat (Gedeputeerdenplaats stadhuis)|51.846905|5.8655868|1643|\n|Weesjongen en weesmeisje                      |Begijnenstraat 29                          |51.8485  |5.8605475|1645|\n+----------------------------------------------+-------------------------------------------+---------+---------+----+\nonly showing top 5 rows\n\n"
    }, {
      "metadata" : { },
      "data" : {
        "text/html" : ""
      },
      "output_type" : "execute_result",
      "execution_count" : 38,
      "time" : "Took: 0.856s, at 2020-05-03 14:49"
    } ]
  }, {
    "metadata" : {
      "trusted" : true,
      "input_collapsed" : false,
      "collapsed" : false,
      "id" : "4091C7DF738B47328BDB2C70B19773EC"
    },
    "cell_type" : "code",
    "source" : [ "// Metadata from the catalogue\n", "spark.catalog.listDatabases.show(false)\n", "spark.catalog.listTables.show(false)" ],
    "outputs" : [ {
      "name" : "stdout",
      "output_type" : "stream",
      "text" : "+-------+----------------+--------------------------------+\n|name   |description     |locationUri                     |\n+-------+----------------+--------------------------------+\n|default|default database|file:/opt/docker/spark-warehouse|\n+-------+----------------+--------------------------------+\n\n+----------+--------+-----------+---------+-----------+\n|name      |database|description|tableType|isTemporary|\n+----------+--------+-----------+---------+-----------+\n|addresses |null    |null       |TEMPORARY|true       |\n|kos       |null    |null       |TEMPORARY|true       |\n|kosquarter|null    |null       |TEMPORARY|true       |\n|kosxy     |null    |null       |TEMPORARY|true       |\n|kunst     |null    |null       |TEMPORARY|true       |\n|kunstxy   |null    |null       |TEMPORARY|true       |\n+----------+--------+-----------+---------+-----------+\n\n"
    }, {
      "metadata" : { },
      "data" : {
        "text/html" : ""
      },
      "output_type" : "execute_result",
      "execution_count" : 39,
      "time" : "Took: 0.890s, at 2020-05-03 14:49"
    } ]
  }, {
    "metadata" : {
      "id" : "66DF06B3725C44BF88226486AD80CF96"
    },
    "cell_type" : "markdown",
    "source" : "#### Coordinates, coordinates\n\nBoth datasets include (x,y) locations, but they are in different coordinate systems. BAG uses an official Dutch system known as RD New, from \"Rijksdriehoeksco??rdinaten\" (~ \"national triangle coordinates\").\n\nThe other dataset uses (lat,lon) coordinates to show artworks on the map, see e.g.:\n[\"de pleinenroute\"](http://www.nijmegen.nl/kos/kunstroute.aspx?id=1) (Route of the squares) \n\nLuckily, we are not the first who need to convert values between coordinate systems - I found the following \"easy-to-use\" (compared to geo-informatics alternatives) \nJava library:\n[Coordinate Transformation Suite (CTS)](https://github.com/orbisgis/cts). \n\n_(We already loaded this library using the `:dp` directive at the top of the notebook.)_\n\nThe following snippet of Java/Scala code sets up the library to transform map coordinates to RD. To use an external library in Spark, all the objects must be serializable; as they are shipped to the worker nodes. Here, this is achieved by using the `@transient` directive to instruct Scala not to include this part of the\nobject in the serialization, in combination with checking for `null` values when using these variables.\n\nMore information, if you want to dig deeper:\n* RD New, or \"Amersfoort\": [Wikipedia entry](https://nl.wikipedia.org/wiki/Rijksdriehoeksco%C3%B6rdinaten)\n* The transformation: http://pdok-ngr.readthedocs.io/handleidingen.html#coord-trans\n* Serialization and `object` vs. `class`: http://spark.apache.org/docs/latest/programming-guide.html#passing-functions-to-spark\n* Role of \"annotation\" `@transient`: http://fdahms.com/2015/10/14/scala-and-the-transient-lazy-val-pattern/\n\n_Understanding all the details of the `CT` class and its inner workings is not necessary to complete assignment 3._"
  }, {
    "metadata" : {
      "trusted" : true,
      "input_collapsed" : false,
      "collapsed" : false,
      "id" : "AF215715756C461283481E1450C05C96"
    },
    "cell_type" : "code",
    "source" : [ "object CT extends Serializable {\n", "  \n", "  import org.cts.CRSFactory;\n", "  import org.cts.crs.GeodeticCRS;\n", "  import org.cts.registry.EPSGRegistry;\n", "  import org.cts.op.CoordinateOperationFactory;\n", "  import org.cts.op.CoordinateOperation;\n", "\n", "  // global variables to keep state for transformations\n", "  @transient private var xy2latlonOp : CoordinateOperation = null;\n", "  @transient private var latlon2xyOp : CoordinateOperation = null;\n", "\n", "  // Create the coordinate transformation functions to convert from RD New to WGS:84 and vice versa\n", "  def initTransforms : (CoordinateOperation, CoordinateOperation) = {\n", "    \n", "    // Create a new CRSFactory, a necessary element to create a CRS without defining one by one all its components\n", "    val cRSFactory = new CRSFactory();\n", "\n", "    // Add the appropriate registry to the CRSFactory's registry manager. Here the EPSG registry is used.\n", "    val registryManager = cRSFactory.getRegistryManager();\n", "    registryManager.addRegistry(new EPSGRegistry());\n", "\n", "    // CTS will read the EPSG registry seeking the 4326 code, when it finds it,\n", "    // it will create a CoordinateReferenceSystem using the parameters found in the registry.\n", "    val crs1 : GeodeticCRS = (cRSFactory.getCRS(\"EPSG:28992\")).asInstanceOf[GeodeticCRS];\n", "    val crs2 : GeodeticCRS = (cRSFactory.getCRS(\"EPSG:4326\") ).asInstanceOf[GeodeticCRS];\n", "    \n", "    // Transformation (x,y) -> (lon,lat)\n", "    val xy2latlonOps = CoordinateOperationFactory.createCoordinateOperations(crs1,crs2);\n", "    val xy2latlon = xy2latlonOps.iterator().next(); //get(0);\n", "    \n", "    val latlon2xyOps = CoordinateOperationFactory.createCoordinateOperations(crs2,crs1);\n", "    val latlon2xy = latlon2xyOps.iterator().next(); //get(0);\n", "    \n", "    (xy2latlon, latlon2xy)\n", "  }\n", "\n", "  // Encapsulate private transient variable (for serializability of the object)\n", "  def getXYOp : CoordinateOperation = {\n", "    if (xy2latlonOp == null){\n", "      val ts = initTransforms\n", "      xy2latlonOp = ts._1\n", "      latlon2xyOp = ts._2\n", "    }\n", "    xy2latlonOp\n", "  }\n", "\n", "  // Encapsulate private transient variable (for serializability of the object)\n", "  def getLatLonOp : CoordinateOperation = {\n", "    if (latlon2xyOp == null){\n", "      val ts = initTransforms\n", "      xy2latlonOp = ts._1\n", "      latlon2xyOp = ts._2\n", "    }\n", "    latlon2xyOp\n", "  }\n", "  \n", "  // Use the library's transformation function to convert the coordinates\n", "  def transformXY(x:Float, y:Float) : (Float, Float) = {   \n", "    // Note: easily confused, (lat,lon) <-> (y,x)\n", "    val lonlat = this.getXYOp.transform(Array(x.toDouble, y.toDouble));\n", "    return ( lonlat(1).toFloat, lonlat(0).toFloat)\n", "  }\n", "  \n", "  // Use the library's transformation function to convert the coordinates\n", "  def transformLatLon(lat:Float, lon:Float) : (Float, Float) = {\n", "    // Note: easily confused, (lat,lon) <-> (y,x)\n", "    val xy = this.getLatLonOp.transform(Array(lon.toDouble, lat.toDouble));\n", "    return ( xy(0).toFloat, xy(1).toFloat)\n", "  }\n", "}" ],
    "outputs" : [ {
      "name" : "stdout",
      "output_type" : "stream",
      "text" : "defined object CT\n"
    }, {
      "metadata" : { },
      "data" : {
        "text/html" : ""
      },
      "output_type" : "execute_result",
      "execution_count" : 40,
      "time" : "Took: 0.717s, at 2020-05-03 14:49"
    } ]
  }, {
    "metadata" : {
      "id" : "564013FEB2AD495D848C0DCFD549E8D9"
    },
    "cell_type" : "markdown",
    "source" : "Using the transformation from RD New to WGS:84 (the latitude/longitude pairs used in google maps and open streetmap), we can now plot our BAG data on a map.\n\nConsider the following example, where we take a sample of points from the address data that corresponds to _Toernooiveld_ and put these on the map of Nijmegen, using the widgets provided by spark notebook."
  }, {
    "metadata" : {
      "trusted" : true,
      "input_collapsed" : false,
      "collapsed" : false,
      "id" : "7A3BF42472944FA790174687FBEDAAC2"
    },
    "cell_type" : "code",
    "source" : [ "val txyudf = udf( CT.transformXY _ )" ],
    "outputs" : [ {
      "name" : "stdout",
      "output_type" : "stream",
      "text" : "txyudf: org.apache.spark.sql.expressions.UserDefinedFunction = UserDefinedFunction(<function2>,StructType(StructField(_1,FloatType,false), StructField(_2,FloatType,false)),Some(List(FloatType, FloatType)))\n"
    }, {
      "metadata" : { },
      "data" : {
        "text/html" : ""
      },
      "output_type" : "execute_result",
      "execution_count" : 41,
      "time" : "Took: 0.768s, at 2020-05-03 14:49"
    } ]
  }, {
    "metadata" : {
      "trusted" : true,
      "input_collapsed" : false,
      "collapsed" : false,
      "id" : "3F13AB4552274DC8BE91F5ACD7D573DD"
    },
    "cell_type" : "code",
    "source" : [ "// Register the transformation function as UDF and apply it to the BAG dataframe\n", "val ta = addrFloats.withColumn(\"latlon\", txyudf($\"x\", $\"y\"))\n", "ta.show(5)" ],
    "outputs" : [ {
      "name" : "stdout",
      "output_type" : "stream",
      "text" : "+--------------------+---------+---------+----------+--------------------+\n|              street|        x|        y|   quarter|              latlon|\n+--------------------+---------+---------+----------+--------------------+\n|Dr. Claas Noordui...|188670.94|428403.16|Hunnerberg|[51.843193, 5.875...|\n|Dr. Claas Noordui...| 188679.6| 428375.1|Hunnerberg|[51.84294, 5.875935]|\n|Dr. Claas Noordui...|188685.73|428373.06|Hunnerberg|[51.842922, 5.876...|\n|Dr. Claas Noordui...|188692.36|428389.72|Hunnerberg|[51.84307, 5.876122]|\n|Dr. Claas Noordui...|188699.69| 428403.5|Hunnerberg|[51.843193, 5.876...|\n+--------------------+---------+---------+----------+--------------------+\nonly showing top 5 rows\n\nta: org.apache.spark.sql.DataFrame = [street: string, x: float ... 3 more fields]\n"
    }, {
      "metadata" : { },
      "data" : {
        "text/html" : ""
      },
      "output_type" : "execute_result",
      "execution_count" : 42,
      "time" : "Took: 1.016s, at 2020-05-03 14:49"
    } ]
  }, {
    "metadata" : {
      "trusted" : true,
      "input_collapsed" : false,
      "collapsed" : false,
      "id" : "A59D313E5BD14F0181533007B68AA7E7"
    },
    "cell_type" : "code",
    "source" : [ "val ds = ta.filter('street === \"Toernooiveld\")\n", "           .select('street, 'x, 'y, 'latlon .getField(\"_1\") as \"lat\", 'latlon .getField(\"_2\") as \"lon\")\n", "ds.show(10)" ],
    "outputs" : [ {
      "name" : "stdout",
      "output_type" : "stream",
      "text" : "+------------+---------+---------+---------+---------+\n|      street|        x|        y|      lat|      lon|\n+------------+---------+---------+---------+---------+\n|Toernooiveld| 188226.5| 426080.1|51.822342|5.8691397|\n|Toernooiveld|188207.22|425981.78|51.821457|5.8688507|\n|Toernooiveld| 188179.1|426072.34|51.822273| 5.868451|\n|Toernooiveld|188190.48|426339.44|51.824673|5.8686423|\n|Toernooiveld|188190.48|426339.44|51.824673|5.8686423|\n|Toernooiveld|188207.19| 426401.2|51.825226|5.8688903|\n|Toernooiveld|188204.88| 426401.3| 51.82523| 5.868857|\n|Toernooiveld|188337.97|426131.72|51.822796|5.8707614|\n|Toernooiveld|188504.58|426120.12| 51.82268|5.8731766|\n|Toernooiveld|188429.06|426198.25| 51.82339| 5.872089|\n+------------+---------+---------+---------+---------+\nonly showing top 10 rows\n\nds: org.apache.spark.sql.DataFrame = [street: string, x: float ... 3 more fields]\n"
    }, {
      "metadata" : { },
      "data" : {
        "text/html" : ""
      },
      "output_type" : "execute_result",
      "execution_count" : 43,
      "time" : "Took: 1.114s, at 2020-05-03 14:49"
    } ]
  }, {
    "metadata" : {
      "trusted" : true,
      "input_collapsed" : false,
      "collapsed" : false,
      "id" : "082BAAB82A13419C8E22F85730BF9092"
    },
    "cell_type" : "code",
    "source" : [ "ds.select('lat,'lon).show(5)" ],
    "outputs" : [ {
      "name" : "stdout",
      "output_type" : "stream",
      "text" : "+---------+---------+\n|      lat|      lon|\n+---------+---------+\n|51.822342|5.8691397|\n|51.821457|5.8688507|\n|51.822273| 5.868451|\n|51.824673|5.8686423|\n|51.824673|5.8686423|\n+---------+---------+\nonly showing top 5 rows\n\n"
    }, {
      "metadata" : { },
      "data" : {
        "text/html" : ""
      },
      "output_type" : "execute_result",
      "execution_count" : 44,
      "time" : "Took: 1.117s, at 2020-05-03 14:49"
    } ]
  }, {
    "metadata" : {
      "trusted" : true,
      "input_collapsed" : false,
      "collapsed" : false,
      "id" : "0C6EFF8E9FA54B209B844D37DAC2E540"
    },
    "cell_type" : "code",
    "source" : [ "GeoPointsChart(ds.select('lat, 'lon))" ],
    "outputs" : [ {
      "name" : "stdout",
      "output_type" : "stream",
      "text" : "res503: notebook.front.widgets.charts.GeoPointsChart[org.apache.spark.sql.DataFrame] = <GeoPointsChart widget>\n"
    }, {
      "metadata" : { },
      "data" : {
        "text/html" : "<div>\n      <script data-this=\"{&quot;dataId&quot;:&quot;anonda6f5928279c34ec4372bd129441cd41&quot;,&quot;dataInit&quot;:[{&quot;lat&quot;:51.82234191894531,&quot;lon&quot;:5.869139671325684},{&quot;lat&quot;:51.82145690917969,&quot;lon&quot;:5.8688507080078125},{&quot;lat&quot;:51.82227325439453,&quot;lon&quot;:5.868451118469238},{&quot;lat&quot;:51.82467269897461,&quot;lon&quot;:5.868642330169678},{&quot;lat&quot;:51.82467269897461,&quot;lon&quot;:5.868642330169678},{&quot;lat&quot;:51.825225830078125,&quot;lon&quot;:5.868890285491943},{&quot;lat&quot;:51.82522964477539,&quot;lon&quot;:5.868856906890869},{&quot;lat&quot;:51.82279586791992,&quot;lon&quot;:5.870761394500732},{&quot;lat&quot;:51.82268142700195,&quot;lon&quot;:5.873176574707031},{&quot;lat&quot;:51.82339096069336,&quot;lon&quot;:5.87208890914917},{&quot;lat&quot;:51.822025299072266,&quot;lon&quot;:5.869159698486328},{&quot;lat&quot;:51.82337951660156,&quot;lon&quot;:5.8705735206604},{&quot;lat&quot;:51.82526779174805,&quot;lon&quot;:5.868555545806885},{&quot;lat&quot;:51.82526779174805,&quot;lon&quot;:5.868555545806885},{&quot;lat&quot;:51.82526779174805,&quot;lon&quot;:5.868555545806885},{&quot;lat&quot;:51.82526779174805,&quot;lon&quot;:5.868555545806885},{&quot;lat&quot;:51.82526779174805,&quot;lon&quot;:5.868555545806885},{&quot;lat&quot;:51.823184967041016,&quot;lon&quot;:5.8697614669799805},{&quot;lat&quot;:51.82308578491211,&quot;lon&quot;:5.870805740356445},{&quot;lat&quot;:51.82526779174805,&quot;lon&quot;:5.868555545806885},{&quot;lat&quot;:51.82526779174805,&quot;lon&quot;:5.868555545806885},{&quot;lat&quot;:51.822044372558594,&quot;lon&quot;:5.870955467224121},{&quot;lat&quot;:51.822044372558594,&quot;lon&quot;:5.870955467224121},{&quot;lat&quot;:51.822044372558594,&quot;lon&quot;:5.870955467224121},{&quot;lat&quot;:51.822044372558594,&quot;lon&quot;:5.870955467224121},{&quot;lat&quot;:51.822044372558594,&quot;lon&quot;:5.870955467224121},{&quot;lat&quot;:51.823768615722656,&quot;lon&quot;:5.871424674987793},{&quot;lat&quot;:51.82263946533203,&quot;lon&quot;:5.872023105621338},{&quot;lat&quot;:51.823028564453125,&quot;lon&quot;:5.871556758880615},{&quot;lat&quot;:51.82522964477539,&quot;lon&quot;:5.868831634521484},{&quot;lat&quot;:51.82522964477539,&quot;lon&quot;:5.868805885314941},{&quot;lat&quot;:51.825233459472656,&quot;lon&quot;:5.868772506713867},{&quot;lat&quot;:51.82378005981445,&quot;lon&quot;:5.869901180267334},{&quot;lat&quot;:51.822044372558594,&quot;lon&quot;:5.870955467224121},{&quot;lat&quot;:51.822044372558594,&quot;lon&quot;:5.870955467224121},{&quot;lat&quot;:51.822044372558594,&quot;lon&quot;:5.870955467224121},{&quot;lat&quot;:51.822044372558594,&quot;lon&quot;:5.870955467224121},{&quot;lat&quot;:51.822044372558594,&quot;lon&quot;:5.870955467224121},{&quot;lat&quot;:51.822044372558594,&quot;lon&quot;:5.870955467224121},{&quot;lat&quot;:51.822044372558594,&quot;lon&quot;:5.870955467224121},{&quot;lat&quot;:51.822044372558594,&quot;lon&quot;:5.870955467224121},{&quot;lat&quot;:51.822044372558594,&quot;lon&quot;:5.870955467224121},{&quot;lat&quot;:51.822044372558594,&quot;lon&quot;:5.870955467224121},{&quot;lat&quot;:51.825157165527344,&quot;lon&quot;:5.86924409866333},{&quot;lat&quot;:51.82467269897461,&quot;lon&quot;:5.8701348304748535},{&quot;lat&quot;:51.82467269897461,&quot;lon&quot;:5.8701348304748535},{&quot;lat&quot;:51.82467269897461,&quot;lon&quot;:5.8701348304748535},{&quot;lat&quot;:51.82467269897461,&quot;lon&quot;:5.8701348304748535},{&quot;lat&quot;:51.82467269897461,&quot;lon&quot;:5.8701348304748535},{&quot;lat&quot;:51.82467269897461,&quot;lon&quot;:5.8701348304748535},{&quot;lat&quot;:51.82467269897461,&quot;lon&quot;:5.8701348304748535},{&quot;lat&quot;:51.82467269897461,&quot;lon&quot;:5.8701348304748535},{&quot;lat&quot;:51.82467269897461,&quot;lon&quot;:5.8701348304748535},{&quot;lat&quot;:51.82467269897461,&quot;lon&quot;:5.8701348304748535},{&quot;lat&quot;:51.822044372558594,&quot;lon&quot;:5.870955467224121},{&quot;lat&quot;:51.822044372558594,&quot;lon&quot;:5.870955467224121},{&quot;lat&quot;:51.822044372558594,&quot;lon&quot;:5.870955467224121},{&quot;lat&quot;:51.822044372558594,&quot;lon&quot;:5.870955467224121},{&quot;lat&quot;:51.822044372558594,&quot;lon&quot;:5.870955467224121},{&quot;lat&quot;:51.822044372558594,&quot;lon&quot;:5.870955467224121},{&quot;lat&quot;:51.822044372558594,&quot;lon&quot;:5.870955467224121},{&quot;lat&quot;:51.822242736816406,&quot;lon&quot;:5.8722100257873535},{&quot;lat&quot;:51.822044372558594,&quot;lon&quot;:5.870955467224121},{&quot;lat&quot;:51.822044372558594,&quot;lon&quot;:5.870955467224121},{&quot;lat&quot;:51.822044372558594,&quot;lon&quot;:5.870955467224121},{&quot;lat&quot;:51.822044372558594,&quot;lon&quot;:5.870955467224121},{&quot;lat&quot;:51.822044372558594,&quot;lon&quot;:5.870955467224121},{&quot;lat&quot;:51.822044372558594,&quot;lon&quot;:5.870955467224121},{&quot;lat&quot;:51.824615478515625,&quot;lon&quot;:5.870534896850586}],&quot;genId&quot;:&quot;1391642544&quot;}\" type=\"text/x-scoped-javascript\">/*<![CDATA[*/req(['../javascripts/notebook/playground','../javascripts/notebook/magic/geoPointsChart'], \n      function(playground, _magicgeoPointsChart) {\n        // data ==> data-this (in observable.js's scopedEval) ==> this in JS => { dataId, dataInit, ... }\n        // this ==> scope (in observable.js's scopedEval) ==> this.parentElement ==> div.container below (toHtml)\n\n        playground.call(data,\n                        this\n                        ,\n                        {\n    \"f\": _magicgeoPointsChart,\n    \"o\": {\"lat\":\"lat\",\"lon\":\"lon\",\"width\":600,\"height\":400,\"rField\":null,\"colorField\":null}\n  }\n  \n                        \n                        \n                      );\n      }\n    );/*]]>*/</script>\n    <div>\n      <span class=\"chart-total-item-count\"><p data-bind=\"text: value\"><script data-this=\"{&quot;valueId&quot;:&quot;anon5fbefde2e56f5cb79008b5f102f0289c&quot;,&quot;initialValue&quot;:&quot;69&quot;}\" type=\"text/x-scoped-javascript\">/*<![CDATA[*/\nreq(\n['observable', 'knockout'],\nfunction (O, ko) {\n  ko.applyBindings({\n      value: O.makeObservable(valueId, initialValue)\n    },\n    this\n  );\n});\n        /*]]>*/</script></p> entries total</span>\n      <span class=\"chart-sampling-warning\"><p data-bind=\"text: value\"><script data-this=\"{&quot;valueId&quot;:&quot;anone15839c774d409d97cff2279b9594094&quot;,&quot;initialValue&quot;:&quot;&quot;}\" type=\"text/x-scoped-javascript\">/*<![CDATA[*/\nreq(\n['observable', 'knockout'],\nfunction (O, ko) {\n  ko.applyBindings({\n      value: O.makeObservable(valueId, initialValue)\n    },\n    this\n  );\n});\n        /*]]>*/</script></p></span>\n      <div>\n      </div>\n    </div></div>"
      },
      "output_type" : "execute_result",
      "execution_count" : 45,
      "time" : "Took: 1.042s, at 2020-05-03 14:49"
    } ]
  }, {
    "metadata" : {
      "id" : "4C09F8644FF94B7284F9A4F9933AABFF"
    },
    "cell_type" : "markdown",
    "source" : "After all this fun with the open address data, we'd almost forget that we set out to join the two datasets!\n\nLet's switch back to SQL, and use the artworks as a starting point.\n\n__Q:__ _Why would you apply the transformation on the artworks dataset to join the result against the addresses, instead of vice versa?_"
  }, {
    "metadata" : {
      "trusted" : true,
      "input_collapsed" : false,
      "collapsed" : false,
      "id" : "CDF77718E8AE4972887C5347498C6EB8"
    },
    "cell_type" : "code",
    "source" : [ "spark.udf.register(\"transformLatLon\", (lat:Float, lon:Float) => CT.transformLatLon(lat,lon))" ],
    "outputs" : [ {
      "name" : "stdout",
      "output_type" : "stream",
      "text" : "res505: org.apache.spark.sql.expressions.UserDefinedFunction = UserDefinedFunction(<function2>,StructType(StructField(_1,FloatType,false), StructField(_2,FloatType,false)),Some(List(FloatType, FloatType)))\n"
    }, {
      "metadata" : { },
      "data" : {
        "text/html" : "UserDefinedFunction(&lt;function2&gt;,StructType(StructField(_1,FloatType,false), StructField(_2,FloatType,false)),Some(List(FloatType, FloatType)))"
      },
      "output_type" : "execute_result",
      "execution_count" : 46,
      "time" : "Took: 0.852s, at 2020-05-03 14:49"
    } ]
  }, {
    "metadata" : {
      "trusted" : true,
      "input_collapsed" : false,
      "collapsed" : false,
      "id" : "99CB57D905C84BA8A6CFCEBB9270EE63"
    },
    "cell_type" : "code",
    "source" : [ "val kosxy = spark.sql(\"select naam, year, transformLatLon(lat, lon) as XY from kos\")\n", "kosxy.createOrReplaceTempView(\"kosxy\")\n", "kosxy.show(5)" ],
    "outputs" : [ {
      "name" : "stdout",
      "output_type" : "stream",
      "text" : "+--------------------+----+--------------------+\n|                naam|year|                  XY|\n+--------------------+----+--------------------+\n|Ingangspoort van ...|1554|[187974.9, 428830...|\n|              Reli?f|1618|[187617.58, 42898...|\n|Poort van het Oud...|1640|[187553.89, 42884...|\n|Poort met het wap...|1643|[187963.58, 42881...|\n|Weesjongen en wee...|1645|[187615.19, 42898...|\n+--------------------+----+--------------------+\nonly showing top 5 rows\n\nkosxy: org.apache.spark.sql.DataFrame = [naam: string, year: int ... 1 more field]\n"
    }, {
      "metadata" : { },
      "data" : {
        "text/html" : ""
      },
      "output_type" : "execute_result",
      "execution_count" : 47,
      "time" : "Took: 1.129s, at 2020-05-03 14:50"
    } ]
  }, {
    "metadata" : {
      "trusted" : true,
      "input_collapsed" : false,
      "collapsed" : false,
      "id" : "96C8F31EF9EE4E4180DFEA093B884406"
    },
    "cell_type" : "code",
    "source" : [ "val kosquarter = spark.sql(\n", "  \"select distinct naam, quarter, min(year) as year from kosxy, addresses \" +\n", "  \"where abs(XY._1 - x) < 10.0 and abs(XY._2 - y) < 10.0 \" +\n", "  \"group by naam, quarter \"\n", ").cache()" ],
    "outputs" : [ {
      "name" : "stdout",
      "output_type" : "stream",
      "text" : "kosquarter: org.apache.spark.sql.Dataset[org.apache.spark.sql.Row] = [naam: string, quarter: string ... 1 more field]\n"
    }, {
      "metadata" : { },
      "data" : {
        "text/html" : ""
      },
      "output_type" : "execute_result",
      "execution_count" : 48,
      "time" : "Took: 0.875s, at 2020-05-03 14:50"
    } ]
  }, {
    "metadata" : {
      "trusted" : true,
      "input_collapsed" : false,
      "collapsed" : false,
      "id" : "661FE56E507A449B8B96ABB7409A3A6B"
    },
    "cell_type" : "code",
    "source" : [ "kosquarter.show(5)" ],
    "outputs" : [ {
      "name" : "stdout",
      "output_type" : "stream",
      "text" : "+--------------------+------------+----+\n|                naam|     quarter|year|\n+--------------------+------------+----+\n|   Maria, Middelares|  Galgenveld|1955|\n|Spoorwegmonument ...| Benedenstad|1884|\n|     Petrus Canisius|Stadscentrum|1927|\n|             Madonna|   Hazenkamp|1909|\n|            Objecten|  Heijendaal|1987|\n+--------------------+------------+----+\nonly showing top 5 rows\n\n"
    }, {
      "metadata" : { },
      "data" : {
        "text/html" : ""
      },
      "output_type" : "execute_result",
      "execution_count" : 49,
      "time" : "Took: 2.995s, at 2020-05-03 14:50"
    } ]
  }, {
    "metadata" : {
      "id" : "9F65A5A0B684415A9120B86E1351A2B7"
    },
    "cell_type" : "markdown",
    "source" : "Let us now answer the question we started out with initially: can we infer the growth of the city of Nijmegen through the years from the years in which the artworks were created?"
  }, {
    "metadata" : {
      "trusted" : true,
      "input_collapsed" : false,
      "collapsed" : false,
      "id" : "9A072D55670B4F7B837E070576019B22"
    },
    "cell_type" : "code",
    "source" : [ "kosquarter.createOrReplaceTempView(\"kosquarter\")\n", "spark.sql(\"select distinct quarter, min(year) as year from kosquarter group by quarter order by year\")\n", "  .show(25)" ],
    "outputs" : [ {
      "name" : "stdout",
      "output_type" : "stream",
      "text" : "+--------------+----+\n|       quarter|year|\n+--------------+----+\n|  Stadscentrum|1554|\n|   Benedenstad|1618|\n|    Bottendaal|1900|\n|       Altrade|1904|\n|     Hazenkamp|1909|\n|          Hees|1922|\n|     Hengstdal|1930|\n|     Nije Veld|1955|\n|    Galgenveld|1955|\n|    Heijendaal|1959|\n|    Hunnerberg|1960|\n|     Meijhorst|1970|\n|Neerbosch-Oost|1983|\n|     Wolfskuil|1985|\n|        Hatert|1985|\n|          Lent|1990|\n|       Goffert|1995|\n|        Biezen|2015|\n+--------------+----+\n\n"
    }, {
      "metadata" : { },
      "data" : {
        "text/html" : ""
      },
      "output_type" : "execute_result",
      "execution_count" : 50,
      "time" : "Took: 3.938s, at 2020-05-03 14:50"
    } ]
  }, {
    "metadata" : {
      "id" : "BF7C78C3BAC4431F8AA0DB7ED2ACA579"
    },
    "cell_type" : "markdown",
    "source" : "A few missing city quarters in this list. Do they really have no artworks, or did we not manage to find their corresponding quarter using the spatial join on coordinates?\n\nInspecting the artworks not matched up with their quarters is easy, and there are quite a few of those:"
  }, {
    "metadata" : {
      "trusted" : true,
      "input_collapsed" : false,
      "collapsed" : false,
      "id" : "91D446FF523F47E787F871359CD50DD8"
    },
    "cell_type" : "code",
    "source" : [ "// Artworks not found in the spatial join result:\n", "spark.sql(\"select naam from kos where naam not in (select naam from kosquarter)\").count" ],
    "outputs" : [ {
      "name" : "stdout",
      "output_type" : "stream",
      "text" : "res514: Long = 189\n"
    }, {
      "metadata" : { },
      "data" : {
        "text/html" : "189"
      },
      "output_type" : "execute_result",
      "execution_count" : 51,
      "time" : "Took: 2.255s, at 2020-05-03 14:50"
    } ]
  }, {
    "metadata" : {
      "id" : "6F12D2BE815E4AA08E72F9268ECBC7AC"
    },
    "cell_type" : "markdown",
    "source" : "__Q:__ _Can you produce the list of quarters that is missing because no artwork has been situated in the quarter?_\n\n__Q:__ _Can you produce a longer list of quarters and their oldest artworks?_\n\n__Q:__ _What are the years associated to artworks not yet matched up with the addresses database? What does this mean for our initial research question?_"
  }, {
    "metadata" : {
      "trusted" : true,
      "input_collapsed" : false,
      "collapsed" : false,
      "id" : "B524C3B94F6A44ABAB64DC169CBFE6C5"
    },
    "cell_type" : "code",
    "source" : [ "GeoPointsChart(kos.filter('year >= 1960 and 'year < 1970).select('lat, 'lon))" ],
    "outputs" : [ {
      "name" : "stdout",
      "output_type" : "stream",
      "text" : "res516: notebook.front.widgets.charts.GeoPointsChart[org.apache.spark.sql.DataFrame] = <GeoPointsChart widget>\n"
    }, {
      "metadata" : { },
      "data" : {
        "text/html" : "<div>\n      <script data-this=\"{&quot;dataId&quot;:&quot;anon42da29d6b43d875170c0c81fd3402f43&quot;,&quot;dataInit&quot;:[{&quot;lat&quot;:51.847042083740234,&quot;lon&quot;:5.859395980834961},{&quot;lat&quot;:51.81228256225586,&quot;lon&quot;:5.884623050689697},{&quot;lat&quot;:51.84523010253906,&quot;lon&quot;:5.876356601715088},{&quot;lat&quot;:51.84468460083008,&quot;lon&quot;:5.87698221206665},{&quot;lat&quot;:51.83725357055664,&quot;lon&quot;:5.816504001617432},{&quot;lat&quot;:51.847618103027344,&quot;lon&quot;:5.862954139709473},{&quot;lat&quot;:51.83309555053711,&quot;lon&quot;:5.8993072509765625},{&quot;lat&quot;:51.81223678588867,&quot;lon&quot;:5.86049747467041},{&quot;lat&quot;:51.80801010131836,&quot;lon&quot;:5.827444076538086},{&quot;lat&quot;:51.818153381347656,&quot;lon&quot;:5.8172807693481445},{&quot;lat&quot;:51.8421630859375,&quot;lon&quot;:5.859389781951904},{&quot;lat&quot;:51.83724594116211,&quot;lon&quot;:5.884855270385742},{&quot;lat&quot;:51.82938003540039,&quot;lon&quot;:5.853578567504883},{&quot;lat&quot;:51.84091567993164,&quot;lon&quot;:5.864964962005615},{&quot;lat&quot;:51.82606887817383,&quot;lon&quot;:5.875136852264404},{&quot;lat&quot;:51.824806213378906,&quot;lon&quot;:5.858290195465088},{&quot;lat&quot;:51.83360290527344,&quot;lon&quot;:5.836616039276123},{&quot;lat&quot;:51.815677642822266,&quot;lon&quot;:5.838902950286865},{&quot;lat&quot;:51.812496185302734,&quot;lon&quot;:5.846477508544922},{&quot;lat&quot;:51.831993103027344,&quot;lon&quot;:5.896245002746582},{&quot;lat&quot;:51.84764099121094,&quot;lon&quot;:5.862947940826416},{&quot;lat&quot;:51.8405647277832,&quot;lon&quot;:5.866931915283203},{&quot;lat&quot;:51.84888458251953,&quot;lon&quot;:5.866560935974121},{&quot;lat&quot;:51.805145263671875,&quot;lon&quot;:5.829154014587402},{&quot;lat&quot;:51.820472717285156,&quot;lon&quot;:5.846312046051025},{&quot;lat&quot;:51.83425521850586,&quot;lon&quot;:5.863935470581055},{&quot;lat&quot;:51.84294891357422,&quot;lon&quot;:5.858193874359131},{&quot;lat&quot;:51.84507751464844,&quot;lon&quot;:5.865645885467529},{&quot;lat&quot;:51.82590103149414,&quot;lon&quot;:5.878736972808838},{&quot;lat&quot;:51.84062194824219,&quot;lon&quot;:5.86686372756958},{&quot;lat&quot;:51.825279235839844,&quot;lon&quot;:5.875207901000977},{&quot;lat&quot;:51.847312927246094,&quot;lon&quot;:5.8558454513549805},{&quot;lat&quot;:51.84764862060547,&quot;lon&quot;:5.862693786621094},{&quot;lat&quot;:51.80680847167969,&quot;lon&quot;:5.836792469024658},{&quot;lat&quot;:51.80624008178711,&quot;lon&quot;:5.798069000244141},{&quot;lat&quot;:51.805477142333984,&quot;lon&quot;:5.826838493347168},{&quot;lat&quot;:51.83144760131836,&quot;lon&quot;:5.869700908660889},{&quot;lat&quot;:51.830814361572266,&quot;lon&quot;:5.814881324768066},{&quot;lat&quot;:51.84416580200195,&quot;lon&quot;:5.867068767547607},{&quot;lat&quot;:51.82009506225586,&quot;lon&quot;:5.865574836730957},{&quot;lat&quot;:51.81572341918945,&quot;lon&quot;:5.827174186706543},{&quot;lat&quot;:51.81224060058594,&quot;lon&quot;:5.858601093292236},{&quot;lat&quot;:51.86387252807617,&quot;lon&quot;:5.865917205810547},{&quot;lat&quot;:51.84682083129883,&quot;lon&quot;:5.859374046325684},{&quot;lat&quot;:51.840824127197266,&quot;lon&quot;:5.865877151489258}],&quot;genId&quot;:&quot;156468765&quot;}\" type=\"text/x-scoped-javascript\">/*<![CDATA[*/req(['../javascripts/notebook/playground','../javascripts/notebook/magic/geoPointsChart'], \n      function(playground, _magicgeoPointsChart) {\n        // data ==> data-this (in observable.js's scopedEval) ==> this in JS => { dataId, dataInit, ... }\n        // this ==> scope (in observable.js's scopedEval) ==> this.parentElement ==> div.container below (toHtml)\n\n        playground.call(data,\n                        this\n                        ,\n                        {\n    \"f\": _magicgeoPointsChart,\n    \"o\": {\"lat\":\"lat\",\"lon\":\"lon\",\"width\":600,\"height\":400,\"rField\":null,\"colorField\":null}\n  }\n  \n                        \n                        \n                      );\n      }\n    );/*]]>*/</script>\n    <div>\n      <span class=\"chart-total-item-count\"><p data-bind=\"text: value\"><script data-this=\"{&quot;valueId&quot;:&quot;anon541d8705def2a5f89440f4a882e4a94a&quot;,&quot;initialValue&quot;:&quot;45&quot;}\" type=\"text/x-scoped-javascript\">/*<![CDATA[*/\nreq(\n['observable', 'knockout'],\nfunction (O, ko) {\n  ko.applyBindings({\n      value: O.makeObservable(valueId, initialValue)\n    },\n    this\n  );\n});\n        /*]]>*/</script></p> entries total</span>\n      <span class=\"chart-sampling-warning\"><p data-bind=\"text: value\"><script data-this=\"{&quot;valueId&quot;:&quot;anon4c9c70fe2ee494a1068a486e687acb86&quot;,&quot;initialValue&quot;:&quot;&quot;}\" type=\"text/x-scoped-javascript\">/*<![CDATA[*/\nreq(\n['observable', 'knockout'],\nfunction (O, ko) {\n  ko.applyBindings({\n      value: O.makeObservable(valueId, initialValue)\n    },\n    this\n  );\n});\n        /*]]>*/</script></p></span>\n      <div>\n      </div>\n    </div></div>"
      },
      "output_type" : "execute_result",
      "execution_count" : 52,
      "time" : "Took: 1.105s, at 2020-05-03 14:50"
    } ]
  }, {
    "metadata" : {
      "trusted" : true,
      "input_collapsed" : false,
      "collapsed" : false,
      "id" : "03CFC751A36E4838BFA943A445C659CE"
    },
    "cell_type" : "code",
    "source" : [ "GeoPointsChart(kos.filter('year >= 1970 and 'year < 1980).select('lat, 'lon))" ],
    "outputs" : [ {
      "name" : "stdout",
      "output_type" : "stream",
      "text" : "res518: notebook.front.widgets.charts.GeoPointsChart[org.apache.spark.sql.DataFrame] = <GeoPointsChart widget>\n"
    }, {
      "metadata" : { },
      "data" : {
        "text/html" : "<div>\n      <script data-this=\"{&quot;dataId&quot;:&quot;anonc55edac6c6ed5712992afd933127e2b9&quot;,&quot;dataInit&quot;:[{&quot;lat&quot;:51.80775451660156,&quot;lon&quot;:5.836423873901367},{&quot;lat&quot;:51.80467987060547,&quot;lon&quot;:5.827013969421387},{&quot;lat&quot;:51.84638595581055,&quot;lon&quot;:5.864297389984131},{&quot;lat&quot;:51.847747802734375,&quot;lon&quot;:5.863312721252441},{&quot;lat&quot;:51.84492874145508,&quot;lon&quot;:5.866204261779785},{&quot;lat&quot;:51.84748077392578,&quot;lon&quot;:5.8683600425720215},{&quot;lat&quot;:51.852596282958984,&quot;lon&quot;:5.840295314788818},{&quot;lat&quot;:51.84556579589844,&quot;lon&quot;:5.873509407043457},{&quot;lat&quot;:51.84556579589844,&quot;lon&quot;:5.873509407043457},{&quot;lat&quot;:51.847679138183594,&quot;lon&quot;:5.864178657531738},{&quot;lat&quot;:51.84864044189453,&quot;lon&quot;:5.860813140869141},{&quot;lat&quot;:51.818153381347656,&quot;lon&quot;:5.8172807693481445},{&quot;lat&quot;:51.848201751708984,&quot;lon&quot;:5.864625930786133},{&quot;lat&quot;:51.84434127807617,&quot;lon&quot;:5.877709865570068},{&quot;lat&quot;:51.800933837890625,&quot;lon&quot;:5.804938793182373},{&quot;lat&quot;:51.84798812866211,&quot;lon&quot;:5.863383769989014},{&quot;lat&quot;:51.84304428100586,&quot;lon&quot;:5.84479284286499},{&quot;lat&quot;:51.84551239013672,&quot;lon&quot;:5.876185417175293},{&quot;lat&quot;:51.8475227355957,&quot;lon&quot;:5.862652778625488},{&quot;lat&quot;:51.801239013671875,&quot;lon&quot;:5.809277057647705},{&quot;lat&quot;:51.81700134277344,&quot;lon&quot;:5.802932262420654},{&quot;lat&quot;:51.83155059814453,&quot;lon&quot;:5.8179216384887695},{&quot;lat&quot;:51.849571228027344,&quot;lon&quot;:5.862705230712891},{&quot;lat&quot;:51.855926513671875,&quot;lon&quot;:5.840882301330566},{&quot;lat&quot;:51.844417572021484,&quot;lon&quot;:5.86875581741333},{&quot;lat&quot;:51.824344635009766,&quot;lon&quot;:5.757441520690918},{&quot;lat&quot;:51.8182373046875,&quot;lon&quot;:5.856420040130615},{&quot;lat&quot;:51.84791946411133,&quot;lon&quot;:5.863526344299316},{&quot;lat&quot;:51.84819793701172,&quot;lon&quot;:5.862210750579834},{&quot;lat&quot;:51.846046447753906,&quot;lon&quot;:5.873019218444824},{&quot;lat&quot;:51.85153579711914,&quot;lon&quot;:5.838387966156006},{&quot;lat&quot;:51.85354232788086,&quot;lon&quot;:5.838785171508789},{&quot;lat&quot;:51.85297775268555,&quot;lon&quot;:5.839118003845215},{&quot;lat&quot;:51.850791931152344,&quot;lon&quot;:5.83873987197876},{&quot;lat&quot;:51.85173034667969,&quot;lon&quot;:5.839554786682129},{&quot;lat&quot;:51.82851028442383,&quot;lon&quot;:5.8675031661987305},{&quot;lat&quot;:51.863494873046875,&quot;lon&quot;:5.864795207977295},{&quot;lat&quot;:51.81073760986328,&quot;lon&quot;:5.799651145935059}],&quot;genId&quot;:&quot;1248442080&quot;}\" type=\"text/x-scoped-javascript\">/*<![CDATA[*/req(['../javascripts/notebook/playground','../javascripts/notebook/magic/geoPointsChart'], \n      function(playground, _magicgeoPointsChart) {\n        // data ==> data-this (in observable.js's scopedEval) ==> this in JS => { dataId, dataInit, ... }\n        // this ==> scope (in observable.js's scopedEval) ==> this.parentElement ==> div.container below (toHtml)\n\n        playground.call(data,\n                        this\n                        ,\n                        {\n    \"f\": _magicgeoPointsChart,\n    \"o\": {\"lat\":\"lat\",\"lon\":\"lon\",\"width\":600,\"height\":400,\"rField\":null,\"colorField\":null}\n  }\n  \n                        \n                        \n                      );\n      }\n    );/*]]>*/</script>\n    <div>\n      <span class=\"chart-total-item-count\"><p data-bind=\"text: value\"><script data-this=\"{&quot;valueId&quot;:&quot;anonf85f74399b10c3b6f9a34fb9a5ea4e35&quot;,&quot;initialValue&quot;:&quot;38&quot;}\" type=\"text/x-scoped-javascript\">/*<![CDATA[*/\nreq(\n['observable', 'knockout'],\nfunction (O, ko) {\n  ko.applyBindings({\n      value: O.makeObservable(valueId, initialValue)\n    },\n    this\n  );\n});\n        /*]]>*/</script></p> entries total</span>\n      <span class=\"chart-sampling-warning\"><p data-bind=\"text: value\"><script data-this=\"{&quot;valueId&quot;:&quot;anon10210e7090c3b406ff00e56a554b7a41&quot;,&quot;initialValue&quot;:&quot;&quot;}\" type=\"text/x-scoped-javascript\">/*<![CDATA[*/\nreq(\n['observable', 'knockout'],\nfunction (O, ko) {\n  ko.applyBindings({\n      value: O.makeObservable(valueId, initialValue)\n    },\n    this\n  );\n});\n        /*]]>*/</script></p></span>\n      <div>\n      </div>\n    </div></div>"
      },
      "output_type" : "execute_result",
      "execution_count" : 53,
      "time" : "Took: 0.936s, at 2020-05-03 14:50"
    } ]
  }, {
    "metadata" : {
      "trusted" : true,
      "input_collapsed" : false,
      "collapsed" : false,
      "id" : "CEC8395641D4423487037ECADC8AA48C"
    },
    "cell_type" : "code",
    "source" : [ "GeoPointsChart(kos.filter('year >= 1980 and 'year < 1990).select('lat, 'lon))" ],
    "outputs" : [ {
      "name" : "stdout",
      "output_type" : "stream",
      "text" : "res520: notebook.front.widgets.charts.GeoPointsChart[org.apache.spark.sql.DataFrame] = <GeoPointsChart widget>\n"
    }, {
      "metadata" : { },
      "data" : {
        "text/html" : "<div>\n      <script data-this=\"{&quot;dataId&quot;:&quot;anon2a712c4cffd52f95805899cb41ea0048&quot;,&quot;dataInit&quot;:[{&quot;lat&quot;:51.837642669677734,&quot;lon&quot;:5.889978885650635},{&quot;lat&quot;:51.84717559814453,&quot;lon&quot;:5.858504295349121},{&quot;lat&quot;:51.81147384643555,&quot;lon&quot;:5.845213890075684},{&quot;lat&quot;:51.818992614746094,&quot;lon&quot;:5.794412136077881},{&quot;lat&quot;:51.83656311035156,&quot;lon&quot;:5.865540981292725},{&quot;lat&quot;:51.81205749511719,&quot;lon&quot;:5.800905227661133},{&quot;lat&quot;:51.8294563293457,&quot;lon&quot;:5.867639541625977},{&quot;lat&quot;:51.831153869628906,&quot;lon&quot;:5.812537670135498},{&quot;lat&quot;:51.848487854003906,&quot;lon&quot;:5.859716892242432},{&quot;lat&quot;:51.82854080200195,&quot;lon&quot;:5.867908954620361},{&quot;lat&quot;:51.8334846496582,&quot;lon&quot;:5.8836669921875},{&quot;lat&quot;:51.83686447143555,&quot;lon&quot;:5.844544887542725},{&quot;lat&quot;:51.85018539428711,&quot;lon&quot;:5.8604350090026855},{&quot;lat&quot;:51.85018539428711,&quot;lon&quot;:5.8604350090026855},{&quot;lat&quot;:51.850074768066406,&quot;lon&quot;:5.8614630699157715},{&quot;lat&quot;:51.849998474121094,&quot;lon&quot;:5.856423377990723},{&quot;lat&quot;:51.849945068359375,&quot;lon&quot;:5.856663227081299},{&quot;lat&quot;:51.84971237182617,&quot;lon&quot;:5.863764762878418},{&quot;lat&quot;:51.84981918334961,&quot;lon&quot;:5.863694190979004},{&quot;lat&quot;:51.8504524230957,&quot;lon&quot;:5.857914924621582},{&quot;lat&quot;:51.84975051879883,&quot;lon&quot;:5.863866806030273},{&quot;lat&quot;:51.8495979309082,&quot;lon&quot;:5.865490913391113},{&quot;lat&quot;:51.84445571899414,&quot;lon&quot;:5.876262187957764},{&quot;lat&quot;:51.84466552734375,&quot;lon&quot;:5.876155853271484},{&quot;lat&quot;:51.838565826416016,&quot;lon&quot;:5.868808269500732},{&quot;lat&quot;:51.834739685058594,&quot;lon&quot;:5.791861057281494},{&quot;lat&quot;:51.834739685058594,&quot;lon&quot;:5.791861057281494},{&quot;lat&quot;:51.834739685058594,&quot;lon&quot;:5.791861057281494},{&quot;lat&quot;:51.84993362426758,&quot;lon&quot;:5.8600077629089355},{&quot;lat&quot;:51.84992599487305,&quot;lon&quot;:5.860052108764648},{&quot;lat&quot;:51.850067138671875,&quot;lon&quot;:5.8616838455200195},{&quot;lat&quot;:51.8300895690918,&quot;lon&quot;:5.813947677612305},{&quot;lat&quot;:51.848419189453125,&quot;lon&quot;:5.862813949584961},{&quot;lat&quot;:51.84749984741211,&quot;lon&quot;:5.866319179534912},{&quot;lat&quot;:51.84749984741211,&quot;lon&quot;:5.866319179534912},{&quot;lat&quot;:51.833858489990234,&quot;lon&quot;:5.789016246795654},{&quot;lat&quot;:51.8070068359375,&quot;lon&quot;:5.83758020401001},{&quot;lat&quot;:51.843231201171875,&quot;lon&quot;:5.845715522766113},{&quot;lat&quot;:51.838287353515625,&quot;lon&quot;:5.828238487243652},{&quot;lat&quot;:51.8329963684082,&quot;lon&quot;:5.778843402862549},{&quot;lat&quot;:51.847381591796875,&quot;lon&quot;:5.871164321899414},{&quot;lat&quot;:51.83555221557617,&quot;lon&quot;:5.8708109855651855},{&quot;lat&quot;:51.849002838134766,&quot;lon&quot;:5.866926193237305},{&quot;lat&quot;:51.84663772583008,&quot;lon&quot;:5.86541223526001},{&quot;lat&quot;:51.847721099853516,&quot;lon&quot;:5.863387107849121},{&quot;lat&quot;:51.849422454833984,&quot;lon&quot;:5.863892555236816},{&quot;lat&quot;:51.84837341308594,&quot;lon&quot;:5.862023830413818},{&quot;lat&quot;:51.814308166503906,&quot;lon&quot;:5.8616943359375},{&quot;lat&quot;:51.83043670654297,&quot;lon&quot;:5.8602800369262695},{&quot;lat&quot;:51.82923889160156,&quot;lon&quot;:5.877793312072754},{&quot;lat&quot;:51.84461975097656,&quot;lon&quot;:5.8765411376953125},{&quot;lat&quot;:51.844810485839844,&quot;lon&quot;:5.8674540519714355},{&quot;lat&quot;:51.83161544799805,&quot;lon&quot;:5.864356994628906},{&quot;lat&quot;:51.83161544799805,&quot;lon&quot;:5.864356994628906},{&quot;lat&quot;:51.83158493041992,&quot;lon&quot;:5.780630111694336},{&quot;lat&quot;:51.813194274902344,&quot;lon&quot;:5.844275951385498},{&quot;lat&quot;:51.83184814453125,&quot;lon&quot;:5.843595504760742},{&quot;lat&quot;:51.838653564453125,&quot;lon&quot;:5.871212959289551},{&quot;lat&quot;:51.82455062866211,&quot;lon&quot;:5.81831693649292},{&quot;lat&quot;:51.839393615722656,&quot;lon&quot;:5.867938995361328},{&quot;lat&quot;:51.84065628051758,&quot;lon&quot;:5.8666558265686035},{&quot;lat&quot;:51.81980514526367,&quot;lon&quot;:5.874322891235352},{&quot;lat&quot;:51.82090759277344,&quot;lon&quot;:5.874319076538086},{&quot;lat&quot;:51.84532928466797,&quot;lon&quot;:5.862033367156982},{&quot;lat&quot;:51.831478118896484,&quot;lon&quot;:5.778538227081299},{&quot;lat&quot;:51.84668731689453,&quot;lon&quot;:5.8725972175598145},{&quot;lat&quot;:51.825836181640625,&quot;lon&quot;:5.8685479164123535},{&quot;lat&quot;:51.8189697265625,&quot;lon&quot;:5.8631157875061035},{&quot;lat&quot;:51.84379959106445,&quot;lon&quot;:5.860014915466309},{&quot;lat&quot;:51.863773345947266,&quot;lon&quot;:5.847129821777344},{&quot;lat&quot;:51.8474235534668,&quot;lon&quot;:5.865752220153809}],&quot;genId&quot;:&quot;1583025283&quot;}\" type=\"text/x-scoped-javascript\">/*<![CDATA[*/req(['../javascripts/notebook/playground','../javascripts/notebook/magic/geoPointsChart'], \n      function(playground, _magicgeoPointsChart) {\n        // data ==> data-this (in observable.js's scopedEval) ==> this in JS => { dataId, dataInit, ... }\n        // this ==> scope (in observable.js's scopedEval) ==> this.parentElement ==> div.container below (toHtml)\n\n        playground.call(data,\n                        this\n                        ,\n                        {\n    \"f\": _magicgeoPointsChart,\n    \"o\": {\"lat\":\"lat\",\"lon\":\"lon\",\"width\":600,\"height\":400,\"rField\":null,\"colorField\":null}\n  }\n  \n                        \n                        \n                      );\n      }\n    );/*]]>*/</script>\n    <div>\n      <span class=\"chart-total-item-count\"><p data-bind=\"text: value\"><script data-this=\"{&quot;valueId&quot;:&quot;anonc6fd599a67af1fc432eb019ffb9a58e7&quot;,&quot;initialValue&quot;:&quot;71&quot;}\" type=\"text/x-scoped-javascript\">/*<![CDATA[*/\nreq(\n['observable', 'knockout'],\nfunction (O, ko) {\n  ko.applyBindings({\n      value: O.makeObservable(valueId, initialValue)\n    },\n    this\n  );\n});\n        /*]]>*/</script></p> entries total</span>\n      <span class=\"chart-sampling-warning\"><p data-bind=\"text: value\"><script data-this=\"{&quot;valueId&quot;:&quot;anon43699e3f17ceb4ba585ea4d9e23f5a54&quot;,&quot;initialValue&quot;:&quot;&quot;}\" type=\"text/x-scoped-javascript\">/*<![CDATA[*/\nreq(\n['observable', 'knockout'],\nfunction (O, ko) {\n  ko.applyBindings({\n      value: O.makeObservable(valueId, initialValue)\n    },\n    this\n  );\n});\n        /*]]>*/</script></p></span>\n      <div>\n      </div>\n    </div></div>"
      },
      "output_type" : "execute_result",
      "execution_count" : 54,
      "time" : "Took: 1.010s, at 2020-05-03 14:50"
    } ]
  }, {
    "metadata" : {
      "trusted" : true,
      "input_collapsed" : false,
      "collapsed" : false,
      "id" : "59126F195F6549D28F01F1A13036C80B"
    },
    "cell_type" : "code",
    "source" : [ "GeoPointsChart(kos.filter('year >= 1990 and 'year < 2000).select('lat, 'lon))" ],
    "outputs" : [ {
      "name" : "stdout",
      "output_type" : "stream",
      "text" : "res522: notebook.front.widgets.charts.GeoPointsChart[org.apache.spark.sql.DataFrame] = <GeoPointsChart widget>\n"
    }, {
      "metadata" : { },
      "data" : {
        "text/html" : "<div>\n      <script data-this=\"{&quot;dataId&quot;:&quot;anon4315046c5c93d1298e746a54eb080ef3&quot;,&quot;dataInit&quot;:[{&quot;lat&quot;:51.835205078125,&quot;lon&quot;:5.828737735748291},{&quot;lat&quot;:51.837562561035156,&quot;lon&quot;:5.876479148864746},{&quot;lat&quot;:51.83153533935547,&quot;lon&quot;:5.777879238128662},{&quot;lat&quot;:51.81718444824219,&quot;lon&quot;:5.837828159332275},{&quot;lat&quot;:51.8399658203125,&quot;lon&quot;:5.867495059967041},{&quot;lat&quot;:51.83941650390625,&quot;lon&quot;:5.868556976318359},{&quot;lat&quot;:51.818153381347656,&quot;lon&quot;:5.8172807693481445},{&quot;lat&quot;:51.81657791137695,&quot;lon&quot;:5.802413463592529},{&quot;lat&quot;:51.82183837890625,&quot;lon&quot;:5.792256832122803},{&quot;lat&quot;:51.8710823059082,&quot;lon&quot;:5.863702774047852},{&quot;lat&quot;:51.842960357666016,&quot;lon&quot;:5.859306812286377},{&quot;lat&quot;:51.849178314208984,&quot;lon&quot;:5.869028091430664},{&quot;lat&quot;:51.834922790527344,&quot;lon&quot;:5.891700267791748},{&quot;lat&quot;:51.829307556152344,&quot;lon&quot;:5.776963233947754},{&quot;lat&quot;:51.8404426574707,&quot;lon&quot;:5.867812156677246},{&quot;lat&quot;:51.84872055053711,&quot;lon&quot;:5.856625080108643},{&quot;lat&quot;:51.83842849731445,&quot;lon&quot;:5.856254577636719},{&quot;lat&quot;:51.83702087402344,&quot;lon&quot;:5.84272575378418},{&quot;lat&quot;:51.84259033203125,&quot;lon&quot;:5.853777885437012},{&quot;lat&quot;:51.84672546386719,&quot;lon&quot;:5.869189739227295},{&quot;lat&quot;:51.848690032958984,&quot;lon&quot;:5.862491130828857},{&quot;lat&quot;:51.83412551879883,&quot;lon&quot;:5.861778259277344},{&quot;lat&quot;:51.8106575012207,&quot;lon&quot;:5.834877967834473},{&quot;lat&quot;:51.82087707519531,&quot;lon&quot;:5.856023788452148},{&quot;lat&quot;:51.846370697021484,&quot;lon&quot;:5.855945110321045},{&quot;lat&quot;:51.838470458984375,&quot;lon&quot;:5.852237224578857},{&quot;lat&quot;:51.83112335205078,&quot;lon&quot;:5.869575023651123},{&quot;lat&quot;:51.862674713134766,&quot;lon&quot;:5.865896224975586},{&quot;lat&quot;:51.85182571411133,&quot;lon&quot;:5.838911056518555},{&quot;lat&quot;:51.8349494934082,&quot;lon&quot;:5.842903137207031},{&quot;lat&quot;:51.863975524902344,&quot;lon&quot;:5.868762016296387}],&quot;genId&quot;:&quot;622289835&quot;}\" type=\"text/x-scoped-javascript\">/*<![CDATA[*/req(['../javascripts/notebook/playground','../javascripts/notebook/magic/geoPointsChart'], \n      function(playground, _magicgeoPointsChart) {\n        // data ==> data-this (in observable.js's scopedEval) ==> this in JS => { dataId, dataInit, ... }\n        // this ==> scope (in observable.js's scopedEval) ==> this.parentElement ==> div.container below (toHtml)\n\n        playground.call(data,\n                        this\n                        ,\n                        {\n    \"f\": _magicgeoPointsChart,\n    \"o\": {\"lat\":\"lat\",\"lon\":\"lon\",\"width\":600,\"height\":400,\"rField\":null,\"colorField\":null}\n  }\n  \n                        \n                        \n                      );\n      }\n    );/*]]>*/</script>\n    <div>\n      <span class=\"chart-total-item-count\"><p data-bind=\"text: value\"><script data-this=\"{&quot;valueId&quot;:&quot;anonc1c37ce34c2e839d6fbf28dea4408ea7&quot;,&quot;initialValue&quot;:&quot;31&quot;}\" type=\"text/x-scoped-javascript\">/*<![CDATA[*/\nreq(\n['observable', 'knockout'],\nfunction (O, ko) {\n  ko.applyBindings({\n      value: O.makeObservable(valueId, initialValue)\n    },\n    this\n  );\n});\n        /*]]>*/</script></p> entries total</span>\n      <span class=\"chart-sampling-warning\"><p data-bind=\"text: value\"><script data-this=\"{&quot;valueId&quot;:&quot;anon38e3465d78d5cfa09e0ab87f3d5c097c&quot;,&quot;initialValue&quot;:&quot;&quot;}\" type=\"text/x-scoped-javascript\">/*<![CDATA[*/\nreq(\n['observable', 'knockout'],\nfunction (O, ko) {\n  ko.applyBindings({\n      value: O.makeObservable(valueId, initialValue)\n    },\n    this\n  );\n});\n        /*]]>*/</script></p></span>\n      <div>\n      </div>\n    </div></div>"
      },
      "output_type" : "execute_result",
      "execution_count" : 55,
      "time" : "Took: 1.080s, at 2020-05-03 14:50"
    } ]
  }, {
    "metadata" : {
      "trusted" : true,
      "input_collapsed" : false,
      "collapsed" : false,
      "id" : "3F3332AC39D34E748827E4E885337D64"
    },
    "cell_type" : "code",
    "source" : [ "GeoPointsChart(kos.filter('year >= 2000 and 'year < 2010).select('lat, 'lon))" ],
    "outputs" : [ {
      "name" : "stdout",
      "output_type" : "stream",
      "text" : "res524: notebook.front.widgets.charts.GeoPointsChart[org.apache.spark.sql.DataFrame] = <GeoPointsChart widget>\n"
    }, {
      "metadata" : { },
      "data" : {
        "text/html" : "<div>\n      <script data-this=\"{&quot;dataId&quot;:&quot;anon4013f0c0acf2ee8d3da40a825120afbc&quot;,&quot;dataInit&quot;:[{&quot;lat&quot;:51.846099853515625,&quot;lon&quot;:5.8662590980529785},{&quot;lat&quot;:51.8382568359375,&quot;lon&quot;:5.887890815734863},{&quot;lat&quot;:51.84443283081055,&quot;lon&quot;:5.8544816970825195},{&quot;lat&quot;:51.82368087768555,&quot;lon&quot;:5.854980945587158},{&quot;lat&quot;:51.847774505615234,&quot;lon&quot;:5.861207962036133},{&quot;lat&quot;:51.82007598876953,&quot;lon&quot;:5.874053955078125},{&quot;lat&quot;:51.82782745361328,&quot;lon&quot;:5.8607988357543945},{&quot;lat&quot;:51.84678268432617,&quot;lon&quot;:5.870822906494141},{&quot;lat&quot;:51.87741470336914,&quot;lon&quot;:5.843950271606445},{&quot;lat&quot;:51.854156494140625,&quot;lon&quot;:5.865235805511475},{&quot;lat&quot;:51.87175369262695,&quot;lon&quot;:5.869786262512207},{&quot;lat&quot;:51.8472785949707,&quot;lon&quot;:5.8656110763549805},{&quot;lat&quot;:51.846527099609375,&quot;lon&quot;:5.867921829223633},{&quot;lat&quot;:51.82344436645508,&quot;lon&quot;:5.839083194732666},{&quot;lat&quot;:51.83790969848633,&quot;lon&quot;:5.839546203613281},{&quot;lat&quot;:51.846988677978516,&quot;lon&quot;:5.865629196166992},{&quot;lat&quot;:51.844573974609375,&quot;lon&quot;:5.868534088134766},{&quot;lat&quot;:51.82430648803711,&quot;lon&quot;:5.7972187995910645},{&quot;lat&quot;:51.83033752441406,&quot;lon&quot;:5.862985134124756}],&quot;genId&quot;:&quot;1317072447&quot;}\" type=\"text/x-scoped-javascript\">/*<![CDATA[*/req(['../javascripts/notebook/playground','../javascripts/notebook/magic/geoPointsChart'], \n      function(playground, _magicgeoPointsChart) {\n        // data ==> data-this (in observable.js's scopedEval) ==> this in JS => { dataId, dataInit, ... }\n        // this ==> scope (in observable.js's scopedEval) ==> this.parentElement ==> div.container below (toHtml)\n\n        playground.call(data,\n                        this\n                        ,\n                        {\n    \"f\": _magicgeoPointsChart,\n    \"o\": {\"lat\":\"lat\",\"lon\":\"lon\",\"width\":600,\"height\":400,\"rField\":null,\"colorField\":null}\n  }\n  \n                        \n                        \n                      );\n      }\n    );/*]]>*/</script>\n    <div>\n      <span class=\"chart-total-item-count\"><p data-bind=\"text: value\"><script data-this=\"{&quot;valueId&quot;:&quot;anon3f0cca68ed02fc41bc923ba88ff2266d&quot;,&quot;initialValue&quot;:&quot;19&quot;}\" type=\"text/x-scoped-javascript\">/*<![CDATA[*/\nreq(\n['observable', 'knockout'],\nfunction (O, ko) {\n  ko.applyBindings({\n      value: O.makeObservable(valueId, initialValue)\n    },\n    this\n  );\n});\n        /*]]>*/</script></p> entries total</span>\n      <span class=\"chart-sampling-warning\"><p data-bind=\"text: value\"><script data-this=\"{&quot;valueId&quot;:&quot;anone7689ecfb8ae25bad947d2ee5b988c4e&quot;,&quot;initialValue&quot;:&quot;&quot;}\" type=\"text/x-scoped-javascript\">/*<![CDATA[*/\nreq(\n['observable', 'knockout'],\nfunction (O, ko) {\n  ko.applyBindings({\n      value: O.makeObservable(valueId, initialValue)\n    },\n    this\n  );\n});\n        /*]]>*/</script></p></span>\n      <div>\n      </div>\n    </div></div>"
      },
      "output_type" : "execute_result",
      "execution_count" : 56,
      "time" : "Took: 0.923s, at 2020-05-03 14:50"
    } ]
  } ],
  "nbformat" : 4
}