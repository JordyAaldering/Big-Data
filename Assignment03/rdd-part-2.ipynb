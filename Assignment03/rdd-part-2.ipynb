{
  "metadata" : {
    "id" : "45e8bc32-75e1-4901-a6e3-da7ba3beb97f",
    "name" : "BigData-big-data-spark-rdd-part-2",
    "user_save_timestamp" : "2019-03-13T22:08:08.809Z",
    "auto_save_timestamp" : "1970-01-01T00:00:00.000Z",
    "language_info" : {
      "name" : "scala",
      "file_extension" : "scala",
      "codemirror_mode" : "text/x-scala"
    },
    "trusted" : true,
    "sparkNotebook" : null,
    "customLocalRepo" : null,
    "customRepos" : null,
    "customDeps" : null,
    "customImports" : null,
    "customArgs" : null,
    "customSparkConf" : {
      "spark.app.name" : "Notebook",
      "spark.master" : "local[8]",
      "spark.executor.memory" : "1G"
    },
    "customVars" : null
  },
  "cells" : [ {
    "metadata" : {
      "id" : "FBE76734AF7B4C71875E497B740C990E"
    },
    "cell_type" : "markdown",
    "source" : "# Big Data: Spark RDD\n\n## Getting acquainted with Spark and Spark Notebook\n\n Never used a Notebook? \n Find useful advice in the User Interface Tour (in the help menu) or in the \n [Spark Notebook documentation](https://github.com/spark-notebook/spark-notebook/blob/master/docs/exploring_notebook.md) itself.\n "
  }, {
    "metadata" : {
      "id" : "C3243A44228E43A5858434D90500EE52"
    },
    "cell_type" : "markdown",
    "source" : "## Deeper Understanding of Spark\n\nThe goal of the next steps in the assignment is to gain a deeper understanding in what happens \"inside\".\n\nDo not just click shift enter on every cell, but try to grasp what is happening by looking into the Spark UI after executing each command.\n\nYou should try to learn by using variants of the example queries; create a new cell, or duplicate the cell and modify it."
  }, {
    "metadata" : {
      "trusted" : true,
      "input_collapsed" : false,
      "collapsed" : true,
      "id" : "792C2F486B5C4A2EB83A4F80897C44B3"
    },
    "cell_type" : "code",
    "source" : [ "import org.apache.spark.HashPartitioner" ],
    "outputs" : [ ]
  }, {
    "metadata" : {
      "trusted" : true,
      "input_collapsed" : false,
      "collapsed" : true,
      "id" : "F6F7338FA12446948DEA1A201C96E970"
    },
    "cell_type" : "code",
    "source" : [ "val rddRange = sc.parallelize(0 to 999,8)" ],
    "outputs" : [ ]
  }, {
    "metadata" : {
      "id" : "A4167B271EDD444C894A6EB69C0B0557"
    },
    "cell_type" : "markdown",
    "source" : "Remember that evaluation is lazy, and only happens upon actions, not transformations; i.e., so far, nothing happened. \n\nCheck the Spark UI: jobs and stages do not yet contain entries corresponding to this command.\n\n_Note: Port number :4040 can be higher, e.g., :4041, depending on how many notebooks you have running in the kernel._"
  }, {
    "metadata" : {
      "trusted" : true,
      "input_collapsed" : false,
      "collapsed" : true,
      "id" : "124B1DBAB9DE4EF5B89129165299106A"
    },
    "cell_type" : "code",
    "source" : [ "printf( \"Number of partitions: %d\\n\", rddRange.partitions.length)\n", "rddRange.partitioner" ],
    "outputs" : [ ]
  }, {
    "metadata" : {
      "id" : "00EC4570F76F46969AF856977E10A1B9"
    },
    "cell_type" : "markdown",
    "source" : "The default number of partitions depends on the number of cores in the machine that runs the docker engine; see e.g., `cat /proc/cpuinfo` from a `bash` shell in the docker engine."
  }, {
    "metadata" : {
      "id" : "85CE74955E7442E581F0D0ED58C9B604"
    },
    "cell_type" : "markdown",
    "source" : "The next command creates pairs of numbers, that we will treat as key-value pairs in the remainder of this notebook.\n\nIf you have not looked at Spark documentation so far, this would be a good time to go through the information on transformations and PairRDD functions:\n- https://spark.apache.org/docs/2.3.2/rdd-programming-guide.html#transformations\n- https://spark.apache.org/docs/2.3.2/api/scala/index.html#org.apache.spark.rdd.PairRDDFunctions"
  }, {
    "metadata" : {
      "trusted" : true,
      "input_collapsed" : false,
      "collapsed" : true,
      "id" : "D0B0F0E7391445A8AB17B2F9081D9E74"
    },
    "cell_type" : "code",
    "source" : [ "val rddPairs = rddRange.map(x => (x % 100, 1000 - x))" ],
    "outputs" : [ ]
  }, {
    "metadata" : {
      "trusted" : true,
      "input_collapsed" : false,
      "collapsed" : true,
      "presentation" : {
        "tabs_state" : "{\n  \"tab_id\": \"#tab1845826871-0\"\n}",
        "pivot_chart_state" : "{\n  \"hiddenAttributes\": [],\n  \"menuLimit\": 200,\n  \"cols\": [],\n  \"rows\": [],\n  \"vals\": [],\n  \"exclusions\": {},\n  \"inclusions\": {},\n  \"unusedAttrsVertical\": 85,\n  \"autoSortUnusedAttrs\": false,\n  \"inclusionsInfo\": {},\n  \"aggregatorName\": \"Count\",\n  \"rendererName\": \"Table\"\n}"
      },
      "id" : "2C16B0B59808456F8953FEE71BBEB603"
    },
    "cell_type" : "code",
    "source" : [ "rddPairs.take(15)" ],
    "outputs" : [ ]
  }, {
    "metadata" : {
      "trusted" : true,
      "input_collapsed" : false,
      "collapsed" : true,
      "id" : "4850FBD47B3B444E8BCCB1607B269A56"
    },
    "cell_type" : "code",
    "source" : [ "rddPairs.partitioner" ],
    "outputs" : [ ]
  }, {
    "metadata" : {
      "id" : "78584CADC11A4091AC360A52DD74C760"
    },
    "cell_type" : "markdown",
    "source" : "As we see, the default way of processing does not assign a partitioner; the framework partitions the data in the default way, which is merely a guess. Several ways influence how partitioning takes place, where the easiest is to assign a partitioner."
  }, {
    "metadata" : {
      "trusted" : true,
      "input_collapsed" : false,
      "collapsed" : true,
      "id" : "A5312336AFC242A5A59FBDBDF31A2102"
    },
    "cell_type" : "code",
    "source" : [ "val rddPairsPart2 = rddPairs.partitionBy(new HashPartitioner(2))" ],
    "outputs" : [ ]
  }, {
    "metadata" : {
      "trusted" : true,
      "input_collapsed" : false,
      "collapsed" : true,
      "id" : "810E14041F9D4D848781B1F41C3F3AE9"
    },
    "cell_type" : "code",
    "source" : [ "printf( \"Number of partitions: %d\\n\", rddPairsPart2.partitions.length)\n", "rddPairsPart2.partitioner" ],
    "outputs" : [ ]
  }, {
    "metadata" : {
      "id" : "DE5CD775ADB648168F9F5E19E503FC60"
    },
    "cell_type" : "markdown",
    "source" : "See how that influences processing; notice that `rddPairs` is partitioned in the default way, whereas `rddPairsPart2` uses only two partitions, based on our instructions."
  }, {
    "metadata" : {
      "trusted" : true,
      "input_collapsed" : false,
      "collapsed" : true,
      "id" : "18A889521E034581892AEBA30E99F8B9"
    },
    "cell_type" : "code",
    "source" : [ "val rddPairsGroup = rddPairs.groupByKey()" ],
    "outputs" : [ ]
  }, {
    "metadata" : {
      "trusted" : true,
      "input_collapsed" : false,
      "collapsed" : true,
      "id" : "5951DAE5B8F44F6F821EC79FF0A81105"
    },
    "cell_type" : "code",
    "source" : [ "rddPairsGroup.toDebugString" ],
    "outputs" : [ ]
  }, {
    "metadata" : {
      "trusted" : true,
      "input_collapsed" : false,
      "collapsed" : true,
      "id" : "F59DF38D54FC4BDB847189F24C418DF0"
    },
    "cell_type" : "code",
    "source" : [ "printf( \"Number of partitions: %d\\n\", rddPairsGroup.partitions.length)\n", "rddPairsGroup.partitioner" ],
    "outputs" : [ ]
  }, {
    "metadata" : {
      "trusted" : true,
      "input_collapsed" : false,
      "collapsed" : true,
      "presentation" : {
        "tabs_state" : "{\n  \"tab_id\": \"#tab698659400-0\"\n}",
        "pivot_chart_state" : "{\n  \"hiddenAttributes\": [],\n  \"menuLimit\": 200,\n  \"cols\": [],\n  \"rows\": [],\n  \"vals\": [],\n  \"exclusions\": {},\n  \"inclusions\": {},\n  \"unusedAttrsVertical\": 85,\n  \"autoSortUnusedAttrs\": false,\n  \"inclusionsInfo\": {},\n  \"aggregatorName\": \"Count\",\n  \"rendererName\": \"Table\"\n}"
      },
      "id" : "0C332CCC142B4326A5826E9BFACEB4A0"
    },
    "cell_type" : "code",
    "source" : [ "rddPairsGroup.partitions.map(p => (p, p.index, p.hashCode))" ],
    "outputs" : [ ]
  }, {
    "metadata" : {
      "trusted" : true,
      "input_collapsed" : false,
      "collapsed" : true,
      "id" : "469CF1CFD0264A0487C84246C57197D7"
    },
    "cell_type" : "code",
    "source" : [ "val rddPairsGroupPart2 = rddPairsPart2.groupByKey()" ],
    "outputs" : [ ]
  }, {
    "metadata" : {
      "trusted" : true,
      "input_collapsed" : false,
      "collapsed" : true,
      "presentation" : {
        "tabs_state" : "{\n  \"tab_id\": \"#tab443351016-0\"\n}",
        "pivot_chart_state" : "{\n  \"hiddenAttributes\": [],\n  \"menuLimit\": 200,\n  \"cols\": [],\n  \"rows\": [],\n  \"vals\": [],\n  \"exclusions\": {},\n  \"inclusions\": {},\n  \"unusedAttrsVertical\": 85,\n  \"autoSortUnusedAttrs\": false,\n  \"inclusionsInfo\": {},\n  \"aggregatorName\": \"Count\",\n  \"rendererName\": \"Table\"\n}"
      },
      "id" : "F9D915CA9CF84CC09898F2E0AD618747"
    },
    "cell_type" : "code",
    "source" : [ "rddPairsGroupPart2.partitions.map(p => (p, p.index, p.hashCode))" ],
    "outputs" : [ ]
  }, {
    "metadata" : {
      "id" : "389ED574C2EC44FC9CAD32F0F2E6662C"
    },
    "cell_type" : "markdown",
    "source" : "_Q: Spot the differences between the results, and try to map what you see on Chapter 2 that we read for the course._\n\nObserve how the number of partitions of a groupByKey operation varies depending on the way the input is partitioned. This in turn affects the number of machines that will be at work in subsequent operations. Take a look at the Spark UI to see the difference for the two cases.\n\n_Note: using explicit naming of RDDs helps you keep track of which job corresponds to which case._"
  }, {
    "metadata" : {
      "trusted" : true,
      "input_collapsed" : false,
      "collapsed" : true,
      "id" : "BB31AD21B3C3432F880826C51F128452"
    },
    "cell_type" : "code",
    "source" : [ "val rddPGP2Count = rddPairsGroupPart2.map( {case(x,y) => (x, y.reduce((a,b) => a + b))} )" ],
    "outputs" : [ ]
  }, {
    "metadata" : {
      "trusted" : true,
      "input_collapsed" : false,
      "collapsed" : true,
      "id" : "2633BBDB9BA74879888CC382E37ED878"
    },
    "cell_type" : "code",
    "source" : [ "rddPGP2Count.name = \"Partitioned Group Counts (2)\"" ],
    "outputs" : [ ]
  }, {
    "metadata" : {
      "trusted" : true,
      "input_collapsed" : false,
      "collapsed" : true,
      "presentation" : {
        "tabs_state" : "{\n  \"tab_id\": \"#tab379218816-0\"\n}",
        "pivot_chart_state" : "{\n  \"hiddenAttributes\": [],\n  \"menuLimit\": 200,\n  \"cols\": [],\n  \"rows\": [],\n  \"vals\": [],\n  \"exclusions\": {},\n  \"inclusions\": {},\n  \"unusedAttrsVertical\": 85,\n  \"autoSortUnusedAttrs\": false,\n  \"inclusionsInfo\": {},\n  \"aggregatorName\": \"Count\",\n  \"rendererName\": \"Table\"\n}"
      },
      "id" : "61354A57CA244500ADA1D9BF03A5D33B"
    },
    "cell_type" : "code",
    "source" : [ "rddPGP2Count.take(10)" ],
    "outputs" : [ ]
  }, {
    "metadata" : {
      "trusted" : true,
      "input_collapsed" : false,
      "collapsed" : true,
      "id" : "31801B9ACEC2461196165FACEA6B187F"
    },
    "cell_type" : "code",
    "source" : [ "rddPGP2Count.partitions.size" ],
    "outputs" : [ ]
  }, {
    "metadata" : {
      "trusted" : true,
      "input_collapsed" : false,
      "collapsed" : true,
      "id" : "29B4DE775B534240923B66E5A54BA26F"
    },
    "cell_type" : "code",
    "source" : [ "rddPGP2Count.toDebugString" ],
    "outputs" : [ ]
  }, {
    "metadata" : {
      "trusted" : true,
      "input_collapsed" : false,
      "collapsed" : true,
      "id" : "CD42852AFACE4534A74C0AAB6E409A98"
    },
    "cell_type" : "code",
    "source" : [ "printf( \"Number of partitions: %d\\n\", rddPGP2Count.partitions.length)\n", "rddPGP2Count.partitioner" ],
    "outputs" : [ ]
  }, {
    "metadata" : {
      "id" : "FF85C430DF0640C9AD5A2431FB72960D"
    },
    "cell_type" : "markdown",
    "source" : "Q: do you understand why the partitioner is none? (No worries if not, you will find a clue below.)"
  }, {
    "metadata" : {
      "trusted" : true,
      "input_collapsed" : false,
      "collapsed" : true,
      "id" : "2C41CAC1ECA447178A6AA4D2609747AA"
    },
    "cell_type" : "code",
    "source" : [ "val rddPairsPart4 = rddPairs.partitionBy(new HashPartitioner(4))" ],
    "outputs" : [ ]
  }, {
    "metadata" : {
      "trusted" : true,
      "input_collapsed" : false,
      "collapsed" : true,
      "presentation" : {
        "tabs_state" : "{\n  \"tab_id\": \"#tab694237200-0\"\n}",
        "pivot_chart_state" : "{\n  \"hiddenAttributes\": [],\n  \"menuLimit\": 200,\n  \"cols\": [],\n  \"rows\": [],\n  \"vals\": [],\n  \"exclusions\": {},\n  \"inclusions\": {},\n  \"unusedAttrsVertical\": 85,\n  \"autoSortUnusedAttrs\": false,\n  \"inclusionsInfo\": {},\n  \"aggregatorName\": \"Count\",\n  \"rendererName\": \"Table\"\n}"
      },
      "id" : "AD1873BFC54444B1A489CA0F728CACD7"
    },
    "cell_type" : "code",
    "source" : [ "rddPairsPart4.take(10)" ],
    "outputs" : [ ]
  }, {
    "metadata" : {
      "trusted" : true,
      "input_collapsed" : false,
      "collapsed" : true,
      "id" : "BE0EA906F5F845BFB2555A9459CDFF60"
    },
    "cell_type" : "code",
    "source" : [ "val rddA = rddPairsPart4.values.map( x => x  + 10 )" ],
    "outputs" : [ ]
  }, {
    "metadata" : {
      "trusted" : true,
      "input_collapsed" : false,
      "collapsed" : true,
      "id" : "E69714ABA270460284C14E82DBBCC829"
    },
    "cell_type" : "code",
    "source" : [ "printf( \"Number of partitions: %d\\n\", rddA.partitions.length)\n", "rddA.partitioner" ],
    "outputs" : [ ]
  }, {
    "metadata" : {
      "trusted" : true,
      "input_collapsed" : false,
      "collapsed" : true,
      "id" : "662AD3585C0F44908B379026555C5A6A"
    },
    "cell_type" : "code",
    "source" : [ "val rddB = rddPairsPart4.mapValues( x => x + 10 )" ],
    "outputs" : [ ]
  }, {
    "metadata" : {
      "trusted" : true,
      "input_collapsed" : false,
      "collapsed" : true,
      "id" : "B6AEA92C47C54F89BA307AC32F67BE64"
    },
    "cell_type" : "code",
    "source" : [ "printf( \"Number of partitions: %d\\n\", rddB.partitions.length)\n", "rddB.partitioner" ],
    "outputs" : [ ]
  }, {
    "metadata" : {
      "id" : "DE8DFAACC314449A857B278F6BBE214F"
    },
    "cell_type" : "markdown",
    "source" : "_Q: Why are the results different for rddA and rddB? How is query processing affected by the partitioners?"
  }, {
    "metadata" : {
      "id" : "0E4FBD8005B445F086EA2BBB43E73A98"
    },
    "cell_type" : "markdown",
    "source" : "Summarizing: partitioning depends on the distributed operations that are executed, and only operations with guarantees about the output distribution will carry an existing partitioner over to its result.\n\nAnother way to control the level of parallellism during query execution is to use the `repartition` and `coalesce` operations. "
  }, {
    "metadata" : {
      "trusted" : true,
      "input_collapsed" : false,
      "collapsed" : true,
      "id" : "5010A4D47D804ABA807C14FF64B14A23"
    },
    "cell_type" : "code",
    "source" : [ "val rddC = rddA.repartition(2)" ],
    "outputs" : [ ]
  }, {
    "metadata" : {
      "trusted" : true,
      "input_collapsed" : false,
      "collapsed" : true,
      "presentation" : {
        "tabs_state" : "{\n  \"tab_id\": \"#tab1599185339-0\"\n}",
        "pivot_chart_state" : "{\n  \"hiddenAttributes\": [],\n  \"menuLimit\": 200,\n  \"cols\": [],\n  \"rows\": [],\n  \"vals\": [],\n  \"exclusions\": {},\n  \"inclusions\": {},\n  \"unusedAttrsVertical\": 85,\n  \"autoSortUnusedAttrs\": false,\n  \"inclusionsInfo\": {},\n  \"aggregatorName\": \"Count\",\n  \"rendererName\": \"Table\"\n}"
      },
      "id" : "5DA62551D8A04EB189B51D1F0CE666F0"
    },
    "cell_type" : "code",
    "source" : [ "rddC.partitions.map(p => (p, p.index, p.hashCode))" ],
    "outputs" : [ ]
  }, {
    "metadata" : {
      "trusted" : true,
      "input_collapsed" : false,
      "collapsed" : true,
      "id" : "EBD31B1FF4E746A78DE9AE647B5D9CAA"
    },
    "cell_type" : "code",
    "source" : [ "rddC.toDebugString" ],
    "outputs" : [ ]
  }, {
    "metadata" : {
      "trusted" : true,
      "input_collapsed" : false,
      "collapsed" : true,
      "id" : "86BA0B0B70AF47A5807175DC6CDD8E42"
    },
    "cell_type" : "code",
    "source" : [ "val rddD = rddB.coalesce(2)" ],
    "outputs" : [ ]
  }, {
    "metadata" : {
      "id" : "6454D1A814A74E0A9CA9143B5CD24C9D"
    },
    "cell_type" : "markdown",
    "source" : "Remember that we need actions for things to happen - so if you inspect the Spark UI, there are now no query plans corresponding to the above commands. Let us take two samples from the results. Do you understand the jobs and stages that you find in the Spark UI?"
  }, {
    "metadata" : {
      "trusted" : true,
      "input_collapsed" : false,
      "collapsed" : true,
      "presentation" : {
        "tabs_state" : "{\n  \"tab_id\": \"#tab1933501194-0\"\n}",
        "pivot_chart_state" : "{\n  \"hiddenAttributes\": [],\n  \"menuLimit\": 200,\n  \"cols\": [],\n  \"rows\": [],\n  \"vals\": [],\n  \"exclusions\": {},\n  \"inclusions\": {},\n  \"unusedAttrsVertical\": 85,\n  \"autoSortUnusedAttrs\": false,\n  \"inclusionsInfo\": {},\n  \"aggregatorName\": \"Count\",\n  \"rendererName\": \"Table\"\n}"
      },
      "id" : "87D3C20E0AB64045BF1ACCF1A7B14882"
    },
    "cell_type" : "code",
    "source" : [ "rddC.takeSample(true, 10);" ],
    "outputs" : [ ]
  }, {
    "metadata" : {
      "trusted" : true,
      "input_collapsed" : false,
      "collapsed" : true,
      "presentation" : {
        "tabs_state" : "{\n  \"tab_id\": \"#tab1741441417-0\"\n}",
        "pivot_chart_state" : "{\n  \"hiddenAttributes\": [],\n  \"menuLimit\": 200,\n  \"cols\": [],\n  \"rows\": [],\n  \"vals\": [],\n  \"exclusions\": {},\n  \"inclusions\": {},\n  \"unusedAttrsVertical\": 85,\n  \"autoSortUnusedAttrs\": false,\n  \"inclusionsInfo\": {},\n  \"aggregatorName\": \"Count\",\n  \"rendererName\": \"Table\"\n}"
      },
      "id" : "53EBE9CBB13F4802831788A15D983CAF"
    },
    "cell_type" : "code",
    "source" : [ "rddD.takeSample(true, 10);" ],
    "outputs" : [ ]
  }, {
    "metadata" : {
      "id" : "2CB8AF23FB424943A84E890EF72B5123"
    },
    "cell_type" : "markdown",
    "source" : "_Q: Compare the two query plans for `rddC` and `rddD`. Can you explain why the second query plan has on less shuffle phase?_"
  }, {
    "metadata" : {
      "id" : "BA7896AF195248DC8EE968F80122AB93"
    },
    "cell_type" : "markdown",
    "source" : "## Wrap up\n\nIf you have reached this point propery and understood what you observed, you have a solid understanding of Spark and its execution model.\n\nAssignment 3B will move up the stack to consider the Dataframe API."
  } ],
  "nbformat" : 4
}