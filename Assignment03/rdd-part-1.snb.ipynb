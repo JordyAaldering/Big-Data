{
  "metadata" : {
    "id" : "0ac912f8-88a6-4fe9-9010-5082e92103d3",
    "name" : "BigData-big-data-spark-rdd-part-1",
    "user_save_timestamp" : "1970-01-01T00:00:00.000Z",
    "auto_save_timestamp" : "1970-01-01T00:00:00.000Z",
    "language_info" : {
      "name" : "scala",
      "file_extension" : "scala",
      "codemirror_mode" : "text/x-scala"
    },
    "trusted" : true,
    "sparkNotebook" : null,
    "customLocalRepo" : null,
    "customRepos" : null,
    "customDeps" : null,
    "customImports" : null,
    "customArgs" : null,
    "customSparkConf" : {
      "spark.app.name" : "Notebook",
      "spark.master" : "local[8]",
      "spark.executor.memory" : "1G"
    },
    "customVars" : null
  },
  "cells" : [ {
    "metadata" : {
      "id" : "FBE76734AF7B4C71875E497B740C990E"
    },
    "cell_type" : "markdown",
    "source" : "# Big Data: Spark RDD\n\n## Getting acquainted with Spark and Spark Notebook\n\n Never used a Notebook? \n Find useful advice in the UI tour (in the help menu) or in the \n [Spark Notebook documentation](https://github.com/spark-notebook/spark-notebook/blob/master/docs/exploring_notebook.md) itself.\n \n Take your time to practice using the Notebook environment, add new cells, split existing ones, switch between code and markdown, _etc. etc._"
  }, {
    "metadata" : {
      "id" : "D1C7F975861E47B5A264ABAE7D54B597"
    },
    "cell_type" : "markdown",
    "source" : "## Scala\n\nThe first weeks of the course, you had the chance to try out some Scala with a special docker container. Now, you can return to the exercises you tried, but enter the scala in this notebook instead of using an editor and standalone scala compiler. Refer to the following resources for additional info on Scala:\n* Main [Scala site](http://scala-lang.org/), [tutorial](http://docs.scala-lang.org/tutorials/scala-for-java-programmers.html) and [API documentation](http://www.scala-lang.org/api/current/index.html)\n"
  }, {
    "metadata" : {
      "trusted" : true,
      "input_collapsed" : false,
      "collapsed" : false,
      "presentation" : {
        "tabs_state" : "{\n  \"tab_id\": \"#tab1594194700-0\"\n}",
        "pivot_chart_state" : "{\n  \"hiddenAttributes\": [],\n  \"menuLimit\": 200,\n  \"cols\": [],\n  \"rows\": [],\n  \"vals\": [],\n  \"exclusions\": {},\n  \"inclusions\": {},\n  \"unusedAttrsVertical\": 85,\n  \"autoSortUnusedAttrs\": false,\n  \"inclusionsInfo\": {},\n  \"aggregatorName\": \"Count\",\n  \"rendererName\": \"Table\"\n}"
      },
      "id" : "04BACA08063745B69B85A27FF64A3C58"
    },
    "cell_type" : "code",
    "source" : [ "// A Scala expression for you to execute:\n", "\n", "1 to 4" ],
    "outputs" : [ {
      "name" : "stdout",
      "output_type" : "stream",
      "text" : "res1: scala.collection.immutable.Range.Inclusive = Range(1, 2, 3, 4)\n"
    }, {
      "metadata" : { },
      "data" : {
        "text/html" : "<div>\n      <script data-this=\"{&quot;dataId&quot;:&quot;anon1d8500efd905a0d0721919464f3f89d7&quot;,&quot;dataInit&quot;:[],&quot;genId&quot;:&quot;1594194700&quot;}\" type=\"text/x-scoped-javascript\">/*<![CDATA[*/req(['../javascripts/notebook/playground','../javascripts/notebook/magic/tabs'], \n      function(playground, _magictabs) {\n        // data ==> data-this (in observable.js's scopedEval) ==> this in JS => { dataId, dataInit, ... }\n        // this ==> scope (in observable.js's scopedEval) ==> this.parentElement ==> div.container below (toHtml)\n\n        playground.call(data,\n                        this\n                        ,\n                        {\n    \"f\": _magictabs,\n    \"o\": {}\n  }\n  \n                        \n                        \n                      );\n      }\n    );/*]]>*/</script>\n    <div>\n      <div>\n        <ul class=\"nav nav-tabs\" id=\"ul1594194700\"><li>\n              <a href=\"#tab1594194700-0\"><i class=\"fa fa-table\"/></a>\n            </li><li>\n              <a href=\"#tab1594194700-1\"><i class=\"fa fa-dot-circle-o\"/></a>\n            </li><li>\n              <a href=\"#tab1594194700-2\"><i class=\"fa fa-line-chart\"/></a>\n            </li><li>\n              <a href=\"#tab1594194700-3\"><i class=\"fa fa-bar-chart\"/></a>\n            </li><li>\n              <a href=\"#tab1594194700-4\"><i class=\"fa fa-cubes\"/></a>\n            </li></ul>\n\n        <div class=\"tab-content\" id=\"tab1594194700\"><div class=\"tab-pane\" id=\"tab1594194700-0\">\n            <div>\n      <script data-this=\"{&quot;dataId&quot;:&quot;anon6335a7cadb43ff32b225c59a10f3fd8b&quot;,&quot;dataInit&quot;:[{&quot;_1&quot;:0,&quot;_2&quot;:1},{&quot;_1&quot;:1,&quot;_2&quot;:2},{&quot;_1&quot;:2,&quot;_2&quot;:3},{&quot;_1&quot;:3,&quot;_2&quot;:4}],&quot;genId&quot;:&quot;1395697191&quot;}\" type=\"text/x-scoped-javascript\">/*<![CDATA[*/req(['../javascripts/notebook/playground','../javascripts/notebook/magic/tableChart'], \n      function(playground, _magictableChart) {\n        // data ==> data-this (in observable.js's scopedEval) ==> this in JS => { dataId, dataInit, ... }\n        // this ==> scope (in observable.js's scopedEval) ==> this.parentElement ==> div.container below (toHtml)\n\n        playground.call(data,\n                        this\n                        ,\n                        {\n    \"f\": _magictableChart,\n    \"o\": {\"headers\":[\"_1\",\"_2\"],\"width\":600,\"height\":400}\n  }\n  \n                        \n                        \n                      );\n      }\n    );/*]]>*/</script>\n    <div>\n      <span class=\"chart-total-item-count\"><p data-bind=\"text: value\"><script data-this=\"{&quot;valueId&quot;:&quot;anon0877b753b765f8b559aa8e01fd67c5de&quot;,&quot;initialValue&quot;:&quot;4&quot;}\" type=\"text/x-scoped-javascript\">/*<![CDATA[*/\nreq(\n['observable', 'knockout'],\nfunction (O, ko) {\n  ko.applyBindings({\n      value: O.makeObservable(valueId, initialValue)\n    },\n    this\n  );\n});\n        /*]]>*/</script></p> entries total</span>\n      <span class=\"chart-sampling-warning\"><p data-bind=\"text: value\"><script data-this=\"{&quot;valueId&quot;:&quot;anonf855e61cab96dfbe9fb42c526feb4a1a&quot;,&quot;initialValue&quot;:&quot;&quot;}\" type=\"text/x-scoped-javascript\">/*<![CDATA[*/\nreq(\n['observable', 'knockout'],\nfunction (O, ko) {\n  ko.applyBindings({\n      value: O.makeObservable(valueId, initialValue)\n    },\n    this\n  );\n});\n        /*]]>*/</script></p></span>\n      <div>\n      </div>\n    </div></div>\n            </div><div class=\"tab-pane\" id=\"tab1594194700-1\">\n            <div>\n      <script data-this=\"{&quot;dataId&quot;:&quot;anon86b1dde03aaf4ad18cdcbf2209bcf60c&quot;,&quot;dataInit&quot;:[{&quot;_1&quot;:0,&quot;_2&quot;:1},{&quot;_1&quot;:1,&quot;_2&quot;:2},{&quot;_1&quot;:2,&quot;_2&quot;:3},{&quot;_1&quot;:3,&quot;_2&quot;:4}],&quot;genId&quot;:&quot;1660696673&quot;}\" type=\"text/x-scoped-javascript\">/*<![CDATA[*/req(['../javascripts/notebook/playground','../javascripts/notebook/magic/scatterChart'], \n      function(playground, _magicscatterChart) {\n        // data ==> data-this (in observable.js's scopedEval) ==> this in JS => { dataId, dataInit, ... }\n        // this ==> scope (in observable.js's scopedEval) ==> this.parentElement ==> div.container below (toHtml)\n\n        playground.call(data,\n                        this\n                        ,\n                        {\n    \"f\": _magicscatterChart,\n    \"o\": {\"x\":\"_1\",\"y\":\"_2\",\"width\":600,\"height\":400}\n  }\n  \n                        \n                        \n                      );\n      }\n    );/*]]>*/</script>\n    <div>\n      <span class=\"chart-total-item-count\"><p data-bind=\"text: value\"><script data-this=\"{&quot;valueId&quot;:&quot;anonc59d9a2a1c52a7d139aa67ec797d5d73&quot;,&quot;initialValue&quot;:&quot;4&quot;}\" type=\"text/x-scoped-javascript\">/*<![CDATA[*/\nreq(\n['observable', 'knockout'],\nfunction (O, ko) {\n  ko.applyBindings({\n      value: O.makeObservable(valueId, initialValue)\n    },\n    this\n  );\n});\n        /*]]>*/</script></p> entries total</span>\n      <span class=\"chart-sampling-warning\"><p data-bind=\"text: value\"><script data-this=\"{&quot;valueId&quot;:&quot;anon93d26e0aa919aefe9d588b7e2bdba9bd&quot;,&quot;initialValue&quot;:&quot;&quot;}\" type=\"text/x-scoped-javascript\">/*<![CDATA[*/\nreq(\n['observable', 'knockout'],\nfunction (O, ko) {\n  ko.applyBindings({\n      value: O.makeObservable(valueId, initialValue)\n    },\n    this\n  );\n});\n        /*]]>*/</script></p></span>\n      <div>\n      </div>\n    </div></div>\n            </div><div class=\"tab-pane\" id=\"tab1594194700-2\">\n            <div>\n      <script data-this=\"{&quot;dataId&quot;:&quot;anonc75de49d2aaa1fdbe8dd51ff7ee9c1fc&quot;,&quot;dataInit&quot;:[{&quot;_1&quot;:0,&quot;_2&quot;:1},{&quot;_1&quot;:1,&quot;_2&quot;:2},{&quot;_1&quot;:2,&quot;_2&quot;:3},{&quot;_1&quot;:3,&quot;_2&quot;:4}],&quot;genId&quot;:&quot;1400249643&quot;}\" type=\"text/x-scoped-javascript\">/*<![CDATA[*/req(['../javascripts/notebook/playground','../javascripts/notebook/magic/lineChart'], \n      function(playground, _magiclineChart) {\n        // data ==> data-this (in observable.js's scopedEval) ==> this in JS => { dataId, dataInit, ... }\n        // this ==> scope (in observable.js's scopedEval) ==> this.parentElement ==> div.container below (toHtml)\n\n        playground.call(data,\n                        this\n                        ,\n                        {\n    \"f\": _magiclineChart,\n    \"o\": {\"x\":\"_1\",\"y\":\"_2\",\"width\":600,\"height\":400}\n  }\n  \n                        \n                        \n                      );\n      }\n    );/*]]>*/</script>\n    <div>\n      <span class=\"chart-total-item-count\"><p data-bind=\"text: value\"><script data-this=\"{&quot;valueId&quot;:&quot;anone64e0622e57bef1c74cd133e64c264e4&quot;,&quot;initialValue&quot;:&quot;4&quot;}\" type=\"text/x-scoped-javascript\">/*<![CDATA[*/\nreq(\n['observable', 'knockout'],\nfunction (O, ko) {\n  ko.applyBindings({\n      value: O.makeObservable(valueId, initialValue)\n    },\n    this\n  );\n});\n        /*]]>*/</script></p> entries total</span>\n      <span class=\"chart-sampling-warning\"><p data-bind=\"text: value\"><script data-this=\"{&quot;valueId&quot;:&quot;anon741fc146e6447709be87c0e871ef891e&quot;,&quot;initialValue&quot;:&quot;&quot;}\" type=\"text/x-scoped-javascript\">/*<![CDATA[*/\nreq(\n['observable', 'knockout'],\nfunction (O, ko) {\n  ko.applyBindings({\n      value: O.makeObservable(valueId, initialValue)\n    },\n    this\n  );\n});\n        /*]]>*/</script></p></span>\n      <div>\n      </div>\n    </div></div>\n            </div><div class=\"tab-pane\" id=\"tab1594194700-3\">\n            <div>\n      <script data-this=\"{&quot;dataId&quot;:&quot;anond78fdf8d4e7b7c40335a2d9d747d4b6e&quot;,&quot;dataInit&quot;:[{&quot;_1&quot;:0,&quot;_2&quot;:1},{&quot;_1&quot;:1,&quot;_2&quot;:2},{&quot;_1&quot;:2,&quot;_2&quot;:3},{&quot;_1&quot;:3,&quot;_2&quot;:4}],&quot;genId&quot;:&quot;1170479554&quot;}\" type=\"text/x-scoped-javascript\">/*<![CDATA[*/req(['../javascripts/notebook/playground','../javascripts/notebook/magic/barChart'], \n      function(playground, _magicbarChart) {\n        // data ==> data-this (in observable.js's scopedEval) ==> this in JS => { dataId, dataInit, ... }\n        // this ==> scope (in observable.js's scopedEval) ==> this.parentElement ==> div.container below (toHtml)\n\n        playground.call(data,\n                        this\n                        ,\n                        {\n    \"f\": _magicbarChart,\n    \"o\": {\"x\":\"_1\",\"y\":\"_2\",\"width\":600,\"height\":400}\n  }\n  \n                        \n                        \n                      );\n      }\n    );/*]]>*/</script>\n    <div>\n      <span class=\"chart-total-item-count\"><p data-bind=\"text: value\"><script data-this=\"{&quot;valueId&quot;:&quot;anona52ede768178d85f5fc9f1b80d530988&quot;,&quot;initialValue&quot;:&quot;4&quot;}\" type=\"text/x-scoped-javascript\">/*<![CDATA[*/\nreq(\n['observable', 'knockout'],\nfunction (O, ko) {\n  ko.applyBindings({\n      value: O.makeObservable(valueId, initialValue)\n    },\n    this\n  );\n});\n        /*]]>*/</script></p> entries total</span>\n      <span class=\"chart-sampling-warning\"><p data-bind=\"text: value\"><script data-this=\"{&quot;valueId&quot;:&quot;anon80967d24845387b2fe8b171d0d20a1cf&quot;,&quot;initialValue&quot;:&quot;&quot;}\" type=\"text/x-scoped-javascript\">/*<![CDATA[*/\nreq(\n['observable', 'knockout'],\nfunction (O, ko) {\n  ko.applyBindings({\n      value: O.makeObservable(valueId, initialValue)\n    },\n    this\n  );\n});\n        /*]]>*/</script></p></span>\n      <div>\n      </div>\n    </div></div>\n            </div><div class=\"tab-pane\" id=\"tab1594194700-4\">\n            <div>\n      <script data-this=\"{&quot;dataId&quot;:&quot;anonb4fea7530f58dc9a7e8c90bd28e0b2ed&quot;,&quot;dataInit&quot;:[{&quot;_1&quot;:0,&quot;_2&quot;:1},{&quot;_1&quot;:1,&quot;_2&quot;:2},{&quot;_1&quot;:2,&quot;_2&quot;:3},{&quot;_1&quot;:3,&quot;_2&quot;:4}],&quot;genId&quot;:&quot;110640013&quot;}\" type=\"text/x-scoped-javascript\">/*<![CDATA[*/req(['../javascripts/notebook/playground','../javascripts/notebook/magic/pivotChart'], \n      function(playground, _magicpivotChart) {\n        // data ==> data-this (in observable.js's scopedEval) ==> this in JS => { dataId, dataInit, ... }\n        // this ==> scope (in observable.js's scopedEval) ==> this.parentElement ==> div.container below (toHtml)\n\n        playground.call(data,\n                        this\n                        ,\n                        {\n    \"f\": _magicpivotChart,\n    \"o\": {\"width\":600,\"height\":400,\"derivedAttributes\":{},\"extraOptions\":{}}\n  }\n  \n                        \n                        \n                      );\n      }\n    );/*]]>*/</script>\n    <div>\n      <span class=\"chart-total-item-count\"><p data-bind=\"text: value\"><script data-this=\"{&quot;valueId&quot;:&quot;anond4e5e018d5ff4c6e0b0b27b4a638d79a&quot;,&quot;initialValue&quot;:&quot;4&quot;}\" type=\"text/x-scoped-javascript\">/*<![CDATA[*/\nreq(\n['observable', 'knockout'],\nfunction (O, ko) {\n  ko.applyBindings({\n      value: O.makeObservable(valueId, initialValue)\n    },\n    this\n  );\n});\n        /*]]>*/</script></p> entries total</span>\n      <span class=\"chart-sampling-warning\"><p data-bind=\"text: value\"><script data-this=\"{&quot;valueId&quot;:&quot;anon9c4af006617bbb01f18030175614f849&quot;,&quot;initialValue&quot;:&quot;&quot;}\" type=\"text/x-scoped-javascript\">/*<![CDATA[*/\nreq(\n['observable', 'knockout'],\nfunction (O, ko) {\n  ko.applyBindings({\n      value: O.makeObservable(valueId, initialValue)\n    },\n    this\n  );\n});\n        /*]]>*/</script></p></span>\n      <div>\n      </div>\n    </div></div>\n            </div></div>\n      </div>\n    </div></div>"
      },
      "output_type" : "execute_result",
      "execution_count" : 1,
      "time" : "Took: 2.021s, at 2020-04-23 12:50"
    } ]
  }, {
    "metadata" : {
      "trusted" : true,
      "input_collapsed" : false,
      "collapsed" : true,
      "presentation" : {
        "tabs_state" : "{\n  \"tab_id\": \"#tab782323885-0\"\n}",
        "pivot_chart_state" : "{\n  \"hiddenAttributes\": [],\n  \"menuLimit\": 200,\n  \"cols\": [],\n  \"rows\": [],\n  \"vals\": [],\n  \"exclusions\": {},\n  \"inclusions\": {},\n  \"unusedAttrsVertical\": 85,\n  \"autoSortUnusedAttrs\": false,\n  \"inclusionsInfo\": {},\n  \"aggregatorName\": \"Count\",\n  \"rendererName\": \"Table\"\n}"
      },
      "id" : "19F259914B0B4C1FAD16F9D80810990E"
    },
    "cell_type" : "code",
    "source" : [ "// Empty cell for you to try out some more Scala tests here!\n", "// Add a cell below to create more space for playing around with Scala.\n", "\n", "\n" ],
    "outputs" : [ ]
  }, {
    "metadata" : {
      "id" : "A5E4E1A5CCB0421887D57DC131629722"
    },
    "cell_type" : "markdown",
    "source" : "_Just in case:_ some Scala background is definitely useful to get things done, but __do not get carried away__, _this_ course is about big data processing, not about functional programming!"
  }, {
    "metadata" : {
      "id" : "D1C7F975861E47B5A264ABAE7D54B597"
    },
    "cell_type" : "markdown",
    "source" : "## Spark\n\nFrom now on, we consider Scala only as a __host language__ for the Spark big data platform. We access Spark from the host language through a special variable, the Spark Context, in these Spark Notebooks available as `sc`.\n\nThe basic data structure in Spark is the __Resilient Distributed Dataset (RDD)__, that represents collections of items stored _in memory_ on many different computers in the data center (similar to files in Hadoop being represented by one or more blocks in the Hadoop distributed filesystem, RDDs consist of one or more so-called _partitions_ that may reside on different worker nodes).\n\n### Background information\n\nThe following two links give (1) an introduction to using Spark's RDDs to represent collections and (2) the complete programming guide discussing all operations you can apply to RDDs (the latter as a reference to check for more detailed information).\n\n* http://spark.apache.org/examples.html\n* http://spark.apache.org/docs/2.3.2/programming-guide.html\n\n### My First RDD\n\nRDDs can be initiated from in-memory collections or from files in the (distributed or local) file system.\n\nLet's first initialize a new RDD from a collection of numbers created by Scala expression `0 to 999` using\noperation `parallelize` on the `Spark Context` \n([see the documentation](http://spark.apache.org/docs/2.3.2/api/scala/index.html#org.apache.spark.SparkContext)).\nThe second parameter is optional, and instructs the platform to split the data in 8 partitions."
  }, {
    "metadata" : {
      "trusted" : true,
      "input_collapsed" : false,
      "collapsed" : false,
      "id" : "DA4E277FAF7C4B778E8ABB13B4B9AFB8"
    },
    "cell_type" : "code",
    "source" : [ "val rdd = sc.parallelize(0 to 999,8)" ],
    "outputs" : [ {
      "name" : "stdout",
      "output_type" : "stream",
      "text" : "rdd: org.apache.spark.rdd.RDD[Int] = ParallelCollectionRDD[0] at parallelize at <console>:60\n"
    }, {
      "metadata" : { },
      "data" : {
        "text/html" : ""
      },
      "output_type" : "execute_result",
      "execution_count" : 1,
      "time" : "Took: 1.294s, at 2020-04-23 12:51"
    } ]
  }, {
    "metadata" : {
      "id" : "4BFD4BBEBE904EF68E25F4C7EA3BCA39"
    },
    "cell_type" : "markdown",
    "source" : "Evaluation of operations in Spark is lazy - only operations that require output to be materialized will actually trigger execution. Remember that evaluation is lazy, and only happens upon actions, not transformations; i.e., so far, nothing happened.\n\n_Check:_ Spark UI: [stages](http://localhost:4040/stages/) is still empty."
  }, {
    "metadata" : {
      "trusted" : true,
      "input_collapsed" : false,
      "collapsed" : false,
      "presentation" : {
        "tabs_state" : "{\n  \"tab_id\": \"#tab18227827-0\"\n}"
      },
      "id" : "4BE5337693CC44BF82E9ABCB48106FF4"
    },
    "cell_type" : "code",
    "source" : [ "val sample = rdd.takeSample(false, 4)" ],
    "outputs" : [ {
      "name" : "stdout",
      "output_type" : "stream",
      "text" : "sample: Array[Int] = Array(445, 53, 544, 897)\n"
    }, {
      "metadata" : { },
      "data" : {
        "text/html" : ""
      },
      "output_type" : "execute_result",
      "execution_count" : 2,
      "time" : "Took: 2.404s, at 2020-04-23 12:51"
    } ]
  }, {
    "metadata" : {
      "id" : "545599137D8E4CEB8844C430F48BA0CC"
    },
    "cell_type" : "markdown",
    "source" : "Only now, evaluation took place: see the [stages](http://localhost:4040/stages/) in the Spark UI.\nClick on the links!\n\nTry to explain for yourself: _Why would Spark have created two jobs?_"
  }, {
    "metadata" : {
      "id" : "24BABECC852D44758D23663C539DD7ED"
    },
    "cell_type" : "markdown",
    "source" : "### Data\n\nUse a shell escape to test if the Gutenberg data was correctly loaded on the docker container running the Spark Notebook.\n\nNote: [Assignment 2](http://rubigdata.github.io/course/assignments/A2-mapreduce.html) gave detailed instructions how to get the Project Gutenberg Shakespeare texts on your Spark Notebook container; download the data (again, if needed) and use `docker cp 100.txt snb:/opt/docker/hadoop-2.9.2` if your container is new."
  }, {
    "metadata" : {
      "trusted" : true,
      "input_collapsed" : false,
      "collapsed" : false,
      "id" : "B40E747B538E47279FE00F1CEF405832"
    },
    "cell_type" : "code",
    "source" : [ ":sh ls hadoop-2.9.2" ],
    "outputs" : [ {
      "name" : "stdout",
      "output_type" : "stream",
      "text" : "LICENSE.txt\nNOTICE.txt\nREADME.txt\nbin\netc\ninclude\nlib\nlibexec\nsbin\nshare\n\nimport sys.process._\n"
    }, {
      "metadata" : { },
      "data" : {
        "text/plain" : ""
      },
      "output_type" : "execute_result",
      "execution_count" : 11,
      "time" : "Took: 2.210s, at 2020-04-23 13:11"
    } ]
  }, {
    "metadata" : {
      "trusted" : true,
      "input_collapsed" : false,
      "collapsed" : false,
      "id" : "3F206A4C70FF4C9680631DF621FB0CCE"
    },
    "cell_type" : "code",
    "source" : [ ":sh ls /opt/docker/hadoop-2.9.2/100.txt" ],
    "outputs" : [ {
      "name" : "stdout",
      "output_type" : "stream",
      "text" : "ls: cannot access /opt/docker/hadoop-2.9.2/100.txt: No such file or directory\njava.lang.RuntimeException: Nonzero exit value: 2\n  at scala.sys.package$.error(package.scala:27)\n  at scala.sys.process.ProcessBuilderImpl$AbstractBuilder.slurp(ProcessBuilderImpl.scala:132)\n  at scala.sys.process.ProcessBuilderImpl$AbstractBuilder.$bang$bang(ProcessBuilderImpl.scala:103)\n  ... 103 elided\n"
    } ]
  }, {
    "metadata" : {
      "id" : "A8195BB9B8624DFC80DADD10D7E6881E"
    },
    "cell_type" : "markdown",
    "source" : "### Counting words\n\nWe will use the Shakespeare data for the classic Big Data \"Hello World\" exercise, counting words.\n\n_If you reached this part of the exercise before the first Spark lecture, feel free to continue, but definitely revisit this notebook **after** the lecture (you can clear previous output using the All Output in the Cell menu)._"
  }, {
    "metadata" : {
      "trusted" : true,
      "input_collapsed" : false,
      "collapsed" : true,
      "id" : "2338CDA0C3F743EE83C5FC5342E533F4"
    },
    "cell_type" : "code",
    "source" : [ "val lines = sc.textFile(\"/opt/docker/hadoop-2.9.2/100.txt\")" ],
    "outputs" : [ ]
  }, {
    "metadata" : {
      "id" : "B057B5D2E84548BCB735D89DD152C141"
    },
    "cell_type" : "markdown",
    "source" : "Can you predict what the following commands will do?\nRecognize the Map Reduce pattern on lines 2 and 3?"
  }, {
    "metadata" : {
      "trusted" : true,
      "input_collapsed" : false,
      "collapsed" : true,
      "id" : "23D1AF9D2CE1411E8B6F999DC05F63D3"
    },
    "cell_type" : "code",
    "source" : [ "println( \"Lines:\\t\", lines.count, \"\\n\" + \n", "         \"Chars:\\t\", lines.map(s => s.length).\n", "                           reduce((a, b) => a + b))" ],
    "outputs" : [ ]
  }, {
    "metadata" : {
      "id" : "00E7284A28DF42E7898D5F04431534D6"
    },
    "cell_type" : "markdown",
    "source" : "The map operator executes its parameter, the lambda function, on every item in the RDD.\nReduce is also defined using a lambda function.\n\n_Note:_ if you never took a functional programming course, look at [this answer on StackExchange](http://stackoverflow.com/a/16509/2127435).\n\nNow try to understand in detail the following example.\n_Try to understand why we used `flatMap` and not `map`._\n\nIt is worth copying the cell, and inspecting output at intermediate steps (use `take()`, not `collect()`.\n_After the first Spark lecture, in April, you should understand why!_"
  }, {
    "metadata" : {
      "trusted" : true,
      "input_collapsed" : false,
      "collapsed" : true,
      "id" : "0718A7BDEFFA4E5B8A5F6B1DB6BCBDE4"
    },
    "cell_type" : "code",
    "source" : [ "val words = lines.flatMap(line => line.split(\" \"))\n", "              .filter(_ != \"\")\n", "              .map(word => (word,1))" ],
    "outputs" : [ ]
  }, {
    "metadata" : {
      "trusted" : true,
      "input_collapsed" : false,
      "collapsed" : true,
      "id" : "C10358C3D581449683E5E3EA737012F3"
    },
    "cell_type" : "code",
    "source" : [ "val wc = words.reduceByKey(_ + _)" ],
    "outputs" : [ ]
  }, {
    "metadata" : {
      "trusted" : true,
      "input_collapsed" : false,
      "collapsed" : true,
      "presentation" : {
        "tabs_state" : "{\n  \"tab_id\": \"#tab617899619-0\"\n}",
        "pivot_chart_state" : "{\n  \"hiddenAttributes\": [],\n  \"menuLimit\": 200,\n  \"cols\": [],\n  \"rows\": [],\n  \"vals\": [],\n  \"exclusions\": {},\n  \"inclusions\": {},\n  \"unusedAttrsVertical\": 85,\n  \"autoSortUnusedAttrs\": false,\n  \"inclusionsInfo\": {},\n  \"aggregatorName\": \"Count\",\n  \"rendererName\": \"Table\"\n}"
      },
      "id" : "397206C23B6748F68657C4441680CB72"
    },
    "cell_type" : "code",
    "source" : [ "wc.take(10)" ],
    "outputs" : [ ]
  }, {
    "metadata" : {
      "id" : "A77042B6782C45D395B30CA193D344EB"
    },
    "cell_type" : "markdown",
    "source" : "Take a look at how the platform processes this query:"
  }, {
    "metadata" : {
      "trusted" : true,
      "input_collapsed" : false,
      "collapsed" : true,
      "id" : "1B893A39F6724E20BEE3715A68BC813E"
    },
    "cell_type" : "code",
    "source" : [ "wc.toDebugString" ],
    "outputs" : [ ]
  }, {
    "metadata" : {
      "id" : "F431CE5F87464C1A82606D456A883CE4"
    },
    "cell_type" : "markdown",
    "source" : "Inspect the Spark UI to see the computations in the cluster → \n[see stages](http://localhost:4040/stages/) and their constituent tasks."
  }, {
    "metadata" : {
      "id" : "7B8904D8F4464B5D9EF451DE82482F98"
    },
    "cell_type" : "markdown",
    "source" : "### To count or not to count\nOk, we can count words - let us find out which words Shakespeare used most often!"
  }, {
    "metadata" : {
      "trusted" : true,
      "input_collapsed" : false,
      "collapsed" : true,
      "presentation" : {
        "tabs_state" : "{\n  \"tab_id\": \"#tab758044651-0\"\n}"
      },
      "id" : "50F56A1566844BFB81CD15193D77C590"
    },
    "cell_type" : "code",
    "source" : [ "val top10 = wc.takeOrdered(10)" ],
    "outputs" : [ ]
  }, {
    "metadata" : {
      "id" : "00F186A4DB7F410C93A01D8D4E6BD7C2"
    },
    "cell_type" : "markdown",
    "source" : "Ok, not quite what we wanted!\nSee what's wrong?\n\nLet's fix the result ordering as follows."
  }, {
    "metadata" : {
      "trusted" : true,
      "input_collapsed" : false,
      "collapsed" : true,
      "presentation" : {
        "tabs_state" : "{\n  \"tab_id\": \"#tab1387326668-0\"\n}"
      },
      "id" : "C32EE3BE19744CAF8752B47834966A9B"
    },
    "cell_type" : "code",
    "source" : [ "val top10 = wc.takeOrdered(10)(Ordering[Int].reverse.on(x=>x._2))" ],
    "outputs" : [ ]
  }, {
    "metadata" : {
      "id" : "3CEFFF2741F045CC8326532D7C30239F"
    },
    "cell_type" : "markdown",
    "source" : "You can render the collected results however you want to using the client programming language."
  }, {
    "metadata" : {
      "trusted" : true,
      "input_collapsed" : false,
      "collapsed" : true,
      "presentation" : {
        "tabs_state" : "{\n  \"tab_id\": \"#tab1459715444-0\"\n}",
        "pivot_chart_state" : "{\n  \"hiddenAttributes\": [],\n  \"menuLimit\": 200,\n  \"cols\": [],\n  \"rows\": [],\n  \"vals\": [],\n  \"exclusions\": {},\n  \"inclusions\": {},\n  \"unusedAttrsVertical\": 85,\n  \"autoSortUnusedAttrs\": false,\n  \"inclusionsInfo\": {},\n  \"aggregatorName\": \"Count\",\n  \"rendererName\": \"Table\"\n}"
      },
      "id" : "80879A64B623457183DBD741D1A4A034"
    },
    "cell_type" : "code",
    "source" : [ "top10.map({case(w,c) => \"Word '%s' occurs %d times\".format(w,c)}).map(println)" ],
    "outputs" : [ ]
  }, {
    "metadata" : {
      "id" : "71C7F0526A97490788D2F6BF15C50026"
    },
    "cell_type" : "markdown",
    "source" : "We can zoom in on specific word frequencies, that might be more interesting than stopwords!"
  }, {
    "metadata" : {
      "trusted" : true,
      "input_collapsed" : false,
      "collapsed" : true,
      "presentation" : {
        "tabs_state" : "{\n  \"tab_id\": \"#tab1829423346-0\"\n}",
        "pivot_chart_state" : "{\n  \"hiddenAttributes\": [],\n  \"menuLimit\": 200,\n  \"cols\": [],\n  \"rows\": [],\n  \"vals\": [],\n  \"exclusions\": {},\n  \"inclusions\": {},\n  \"unusedAttrsVertical\": 85,\n  \"autoSortUnusedAttrs\": false,\n  \"inclusionsInfo\": {},\n  \"aggregatorName\": \"Count\",\n  \"rendererName\": \"Table\"\n}"
      },
      "id" : "022554E0682B49429818282660C07E98"
    },
    "cell_type" : "code",
    "source" : [ "wc.filter(_._1 == \"Romeo\").collect" ],
    "outputs" : [ ]
  }, {
    "metadata" : {
      "trusted" : true,
      "input_collapsed" : false,
      "collapsed" : true,
      "presentation" : {
        "tabs_state" : "{\n  \"tab_id\": \"#tab1155248427-0\"\n}",
        "pivot_chart_state" : "{\n  \"hiddenAttributes\": [],\n  \"menuLimit\": 200,\n  \"cols\": [],\n  \"rows\": [],\n  \"vals\": [],\n  \"exclusions\": {},\n  \"inclusions\": {},\n  \"unusedAttrsVertical\": 85,\n  \"autoSortUnusedAttrs\": false,\n  \"inclusionsInfo\": {},\n  \"aggregatorName\": \"Count\",\n  \"rendererName\": \"Table\"\n}"
      },
      "id" : "412B8D1CA6D24D7E86B4FC001D530F56"
    },
    "cell_type" : "code",
    "source" : [ "wc.filter(_._1 == \"Julia\").collect" ],
    "outputs" : [ ]
  }, {
    "metadata" : {
      "trusted" : true,
      "input_collapsed" : false,
      "collapsed" : true,
      "id" : "31E04AFEBE4B40B2A8D36536E7D3E491"
    },
    "cell_type" : "code",
    "source" : [ "wc.cache()" ],
    "outputs" : [ ]
  }, {
    "metadata" : {
      "trusted" : true,
      "input_collapsed" : false,
      "collapsed" : true,
      "presentation" : {
        "tabs_state" : "{\n  \"tab_id\": \"#tab222457634-0\"\n}",
        "pivot_chart_state" : "{\n  \"hiddenAttributes\": [],\n  \"menuLimit\": 200,\n  \"cols\": [],\n  \"rows\": [],\n  \"vals\": [],\n  \"exclusions\": {},\n  \"inclusions\": {},\n  \"unusedAttrsVertical\": 85,\n  \"autoSortUnusedAttrs\": false,\n  \"inclusionsInfo\": {},\n  \"aggregatorName\": \"Count\",\n  \"rendererName\": \"Table\"\n}"
      },
      "id" : "82169E8C023C4E919C383CD2F6A6901D"
    },
    "cell_type" : "code",
    "source" : [ "wc.filter(_._1 == \"Macbeth\").collect" ],
    "outputs" : [ ]
  }, {
    "metadata" : {
      "trusted" : true,
      "input_collapsed" : false,
      "collapsed" : true,
      "presentation" : {
        "tabs_state" : "{\n  \"tab_id\": \"#tab407073836-0\"\n}",
        "pivot_chart_state" : "{\n  \"hiddenAttributes\": [],\n  \"menuLimit\": 200,\n  \"cols\": [],\n  \"rows\": [],\n  \"vals\": [],\n  \"exclusions\": {},\n  \"inclusions\": {},\n  \"unusedAttrsVertical\": 85,\n  \"autoSortUnusedAttrs\": false,\n  \"inclusionsInfo\": {},\n  \"aggregatorName\": \"Count\",\n  \"rendererName\": \"Table\"\n}"
      },
      "id" : "E37D99D4857F457B802D4A49E4CA8582"
    },
    "cell_type" : "code",
    "source" : [ "wc.filter(_._1 == \"Capulet\").collect" ],
    "outputs" : [ ]
  }, {
    "metadata" : {
      "id" : "A9AA7568D5EE45D785975A1131085309"
    },
    "cell_type" : "markdown",
    "source" : "Many different ways exist to compute the top N results. A few follow - _try to understand what actual work (for the cluster) is actually generated by the various alternatives._"
  }, {
    "metadata" : {
      "trusted" : true,
      "input_collapsed" : false,
      "collapsed" : true,
      "id" : "AAD7932FEAD345178AF23D96445985B3"
    },
    "cell_type" : "code",
    "source" : [ "val oCounts = wc.map(x => x._2 -> x._1).sortByKey(false).map(x => x._2 -> x._1).cache()\n", "oCounts.take(10).foreach(println)" ],
    "outputs" : [ ]
  }, {
    "metadata" : {
      "trusted" : true,
      "input_collapsed" : false,
      "collapsed" : true,
      "id" : "3F8A955F7B064805886B1FCC255E7081"
    },
    "cell_type" : "code",
    "source" : [ "// Alternative way to achieve the same:\n", "wc.sortBy(x => -x._2).take(10).foreach(println)" ],
    "outputs" : [ ]
  }, {
    "metadata" : {
      "trusted" : true,
      "input_collapsed" : false,
      "collapsed" : true,
      "id" : "465F5AADC3D647FC9030D3302BA05329"
    },
    "cell_type" : "code",
    "source" : [ "// Preferred way if you really just want the top results\n", "// Note that you do not first need to assign the ordering function to a variable - you could just pass along the Ordering.by expression instead.\n", "val asc = (Ordering.by[(String, Int), Int](_._2))\n", "wc.top(10)(asc).foreach(println)" ],
    "outputs" : [ ]
  }, {
    "metadata" : {
      "trusted" : true,
      "input_collapsed" : false,
      "collapsed" : true,
      "id" : "50047376F71F48D098CCE2961195D5EE"
    },
    "cell_type" : "code",
    "source" : [ "// Alternative formulation\n", "val desc = (Ordering.by[(String, Int), Int](-_._2))\n", "wc.takeOrdered(10)(desc).foreach(println)" ],
    "outputs" : [ ]
  }, {
    "metadata" : {
      "id" : "F8E29A81973A428586DAF1530FBCDDA7"
    },
    "cell_type" : "markdown",
    "source" : "The next section saves the results of word counting in the filesystem. \n\nWe use a simple shell command to look into the directory that has been created.\n(Alternatively, you can navigate the filesystem after issuing a `docker exec -it HASH bash` command on the machine running the notebook container.)"
  }, {
    "metadata" : {
      "trusted" : true,
      "input_collapsed" : false,
      "collapsed" : true,
      "id" : "85441E57359B42C2839BCCAF76482CBC"
    },
    "cell_type" : "code",
    "source" : [ "words.saveAsTextFile(\"wc\")" ],
    "outputs" : [ ]
  }, {
    "metadata" : {
      "trusted" : true,
      "input_collapsed" : false,
      "collapsed" : true,
      "id" : "A24D35BEA86A4F5B8566BFC83FC2449C"
    },
    "cell_type" : "code",
    "source" : [ ":sh ls wc" ],
    "outputs" : [ ]
  }, {
    "metadata" : {
      "id" : "F87FDE9370F44F0E86781659B54ABFC9"
    },
    "cell_type" : "markdown",
    "source" : "_Q: Explain why there are multiple result files._\n\nInspect the files from the command line in the docker container (using `docker exec`)."
  }, {
    "metadata" : {
      "id" : "A5743005ED4344CC8ECA842A0EB81403"
    },
    "cell_type" : "markdown",
    "source" : "Clean up the directory to save headaches when later rerunning the notebook."
  }, {
    "metadata" : {
      "trusted" : true,
      "input_collapsed" : false,
      "collapsed" : true,
      "id" : "EFE613DC0ED14B5999023336084A7123"
    },
    "cell_type" : "code",
    "source" : [ ":sh rm -rf wc" ],
    "outputs" : [ ]
  }, {
    "metadata" : {
      "id" : "1FF056C361C74E14900145A8AA82A39E"
    },
    "cell_type" : "markdown",
    "source" : "### How to count?"
  }, {
    "metadata" : {
      "trusted" : true,
      "input_collapsed" : false,
      "collapsed" : true,
      "id" : "940B8DC6670747C4B36B2EC22A1BA470"
    },
    "cell_type" : "code",
    "source" : [ "val words = lines.flatMap(line => line.split(\" \"))\n", "              .map(w => w.toLowerCase().replaceAll(\"(^[^a-z]+|[^a-z]+$)\", \"\"))\n", "              .filter(_ != \"\")\n", "              .map(w => (w,1))\n", "              .reduceByKey( _ + _ )" ],
    "outputs" : [ ]
  }, {
    "metadata" : {
      "trusted" : true,
      "input_collapsed" : false,
      "collapsed" : true,
      "presentation" : {
        "tabs_state" : "{\n  \"tab_id\": \"#tab1918255847-0\"\n}",
        "pivot_chart_state" : "{\n  \"hiddenAttributes\": [],\n  \"menuLimit\": 200,\n  \"cols\": [],\n  \"rows\": [],\n  \"vals\": [],\n  \"exclusions\": {},\n  \"inclusions\": {},\n  \"unusedAttrsVertical\": 85,\n  \"autoSortUnusedAttrs\": false,\n  \"inclusionsInfo\": {},\n  \"aggregatorName\": \"Count\",\n  \"rendererName\": \"Table\"\n}"
      },
      "id" : "278814F8FBE749A7846C6BD58BA18FB9"
    },
    "cell_type" : "code",
    "source" : [ "words.filter(_._1 == \"macbeth\").collect\n", "  .map({case (w,c) => \"%s occurs %d times\".format(w,c)}).map(println)" ],
    "outputs" : [ ]
  }, {
    "metadata" : {
      "id" : "89BBC292248E453C880A6C12DE59693C"
    },
    "cell_type" : "markdown",
    "source" : "_Q: why are the counts different?_"
  } ],
  "nbformat" : 4
}