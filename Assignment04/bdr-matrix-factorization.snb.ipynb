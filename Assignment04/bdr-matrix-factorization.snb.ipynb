{
  "metadata" : {
    "id" : "af087b8a-2f8d-4a28-bef9-c1f52d729c08",
    "name" : "bdr-matrix-factorization",
    "user_save_timestamp" : "1970-01-01T00:00:00.000Z",
    "auto_save_timestamp" : "1970-01-01T00:00:00.000Z",
    "language_info" : {
      "name" : "scala",
      "file_extension" : "scala",
      "codemirror_mode" : "text/x-scala"
    },
    "trusted" : true,
    "sparkNotebook" : null,
    "customLocalRepo" : null,
    "customRepos" : null,
    "customDeps" : null,
    "customImports" : null,
    "customArgs" : null,
    "customSparkConf" : null,
    "customVars" : null
  },
  "cells" : [ {
    "metadata" : {
      "id" : "1FD44A6FDA78453B8FE53F767F4C6910"
    },
    "cell_type" : "markdown",
    "source" : "# Building a recommender with BigData Republic\n<img src=\"https://www.bigdatarepublic.nl/wp-content/uploads/2019/05/BDR_Logo_RGB_no_whitespace_small.jpg\" alt=\"BigData Republic\" style=\"width: 400px;\"/>\n\nThis notebook serves as an exercise to get familiar with recommender systems. In the big data industry, building a recommender is a very common use case so getting familiar with this is important both for aspiring data scientists and data engineers. Throughout this notebook we will show you how to process a real-world dataset with all its hurdles. Importantly, real-world data is often entirely different from pre-cleaned data you will find on e.g. Kaggle and requires a lot more preprocessing. Some of this preprocessing we have already done for you, but you will still need to do some preprocessing yourself before you can get started building your recommender. This notebook consists of three parts: preprocessing your data, building a recommender system using matrix factorization and evaluating your results.\n\n\n## The data\n<img src=\"https://truckstar.nl/app/uploads/2000/01/randstad-logo-share.png\" alt=\"Randstad\" style=\"width: 200px;\"/>\n\nWe have prepared a subset of a real-world dataset for you from _Randstad_, one of our clients. Randstad is the biggest Dutch employment agency that processes thousands of vacancies every month. They have agreed to share this data for educational purposes, as long as data is appropriately anonymized and subsetted. We therefore provide you with a dataset of vacancy/candidate combinations. Here, a combination can either mean that a candidate clicked on a vacancy, that a candidate started an application procedure or a candidate applied to a vacancy. Per combination, we also provide some extra information, such as the function description and the physical distance between the company and the candidate. This might be useful to increase the accuracy of your model. Furthermore, we provide a table with _profile data_. This contains some extra information on the candidates, such as their desired hourly wage and the amount of hours they want to work per week. This might also be useful to enrich your model later on.\n\nSince this data is shared with you privately and only for this course, **we ask you not to redistribute it**.\n\n## Getting the data:\nFirst, we download the data from Amazon S3 storage and write it to a file. In total we're talking about approximately 300MB of data."
  }, {
    "metadata" : {
      "trusted" : true,
      "input_collapsed" : false,
      "collapsed" : false,
      "id" : "FC30FB85591F483788EF1A78107F0133"
    },
    "cell_type" : "code",
    "source" : [ "import sys.process._\n", "import java.net.URL\n", "import java.io.File\n", "import scala.language.postfixOps\n", "\n", "val src = \"https://s3-eu-west-1.amazonaws.com/bdr-college/\"\n", "val dst = \"notebooks/\"\n", "\n", "if (!new java.io.File(\"notebooks/profile_data.csv\").exists) {\n", "  new URL(src + \"profile_data.csv\") #> new File(dst + \"profile_data.csv\") !!\n", "}\n", "if (!new java.io.File(\"notebooks/click_data_train.csv\").exists) {\n", "  new URL(src + \"click_data_train.csv\") #> new File(dst + \"click_data_train.csv\") !!\n", "}\n", "if (!new java.io.File(\"notebooks/.csv\").exists) {\n", "  new URL(src + \"click_data_val.csv\") #> new File(dst + \"click_data_val.csv\") !!\n", "}\n", "if (!new java.io.File(\"notebooks/zipcode_distances.csv\").exists) {\n", "  new URL(src + \"zipcode_distances.csv\") #> new File(dst + \"zipcode_distances.csv\") !!\n", "}\n", "if (!new java.io.File(\"notebooks/vacancies_validation.csv\").exists) {\n", "  new URL(src + \"vacancies_validation.csv\") #> new File(dst + \"vacancies_validation.csv\") !!\n", "}" ],
    "outputs" : [ {
      "name" : "stdout",
      "output_type" : "stream",
      "text" : "import sys.process._\nimport java.net.URL\nimport java.io.File\nimport scala.language.postfixOps\nsrc: String = https://s3-eu-west-1.amazonaws.com/bdr-college/\ndst: String = notebooks/\nres21: Any = ()\n"
    }, {
      "metadata" : { },
      "data" : {
        "text/html" : "()"
      },
      "output_type" : "execute_result",
      "execution_count" : 1,
      "time" : "Took: 4.405s, at 2020-05-12 11:33"
    } ]
  }, {
    "metadata" : {
      "id" : "5F26BAC9A74640218B125842872B9016"
    },
    "cell_type" : "markdown",
    "source" : "Next, we read that data into Spark DataFrames:"
  }, {
    "metadata" : {
      "trusted" : true,
      "input_collapsed" : false,
      "collapsed" : false,
      "id" : "0F694F4E6AA14E878E5FDADAED1E0F81"
    },
    "cell_type" : "code",
    "source" : [ "val spark = SparkSession\n", "   .builder()\n", "   .appName(\"BDRAssignment\")\n", "   .getOrCreate()\n", "\n", "var profiles = spark.read.format(\"csv\").option(\"header\", \"true\").option(\"inferSchema\", \"true\").load(\"notebooks/profile_data.csv\")\n", "var clicks_train = spark.read.format(\"csv\").option(\"header\", \"true\").option(\"inferSchema\", \"true\").load(\"notebooks/click_data_train.csv\")\n", "var clicks_val = spark.read.format(\"csv\").option(\"header\", \"true\").option(\"inferSchema\", \"true\").load(\"notebooks/click_data_val.csv\")\n", "var zipcode_distances = spark.read.format(\"csv\").option(\"header\", \"true\").option(\"inferSchema\", \"true\").load(\"notebooks/zipcode_distances.csv\")\n", "var vacancies_val = spark.read.format(\"csv\").option(\"header\", \"true\").option(\"inferSchema\", \"true\").load(\"notebooks/vacancies_validation.csv\")" ],
    "outputs" : [ {
      "name" : "stdout",
      "output_type" : "stream",
      "text" : "spark: org.apache.spark.sql.SparkSession = org.apache.spark.sql.SparkSession@5b3ef543\nprofiles: org.apache.spark.sql.DataFrame = [_c0: int, candidate_number: int ... 5 more fields]\nclicks_train: org.apache.spark.sql.DataFrame = [_c0: int, Unnamed: 0: int ... 10 more fields]\nclicks_val: org.apache.spark.sql.DataFrame = [_c0: int, Unnamed: 0: int ... 10 more fields]\nzipcode_distances: org.apache.spark.sql.DataFrame = [_c0: int, from: int ... 2 more fields]\nvacancies_val: org.apache.spark.sql.DataFrame = [_c0: int, vacancy_number: int ... 4 more fields]\n"
    }, {
      "metadata" : { },
      "data" : {
        "text/html" : ""
      },
      "output_type" : "execute_result",
      "execution_count" : 2,
      "time" : "Took: 9.678s, at 2020-05-12 11:33"
    } ]
  }, {
    "metadata" : {
      "id" : "6624B81CF2524C3980E7ADF0B6B4B8A6"
    },
    "cell_type" : "markdown",
    "source" : "Since we have both clicks and applications from candidates, we can view these as ratings and add a weighting here to make applications weigh stronger than clicks. This usually gives better results. The \"ecom_action\" column in the clicks dataset determines the action of the candidate corresponding to that vacancy. 1 and 2 is a page view, 3 and 5 is starting an application procedure and a 6 is finishing an application. We use these values as weights for the model, however these initial values might be suboptimal. Experiment with different values for the optimal result. The values you choose as replacement directly influences the ratio of importance between a click and an application.\n\n### Describing the data:"
  }, {
    "metadata" : {
      "trusted" : true,
      "input_collapsed" : false,
      "collapsed" : false,
      "id" : "080DC4ED81974496B3FC336668B514C9"
    },
    "cell_type" : "code",
    "source" : [ "profiles.show(5, false)\n", "profiles.describe()" ],
    "outputs" : [ {
      "name" : "stdout",
      "output_type" : "stream",
      "text" : "+---+----------------+-----------------------+--------------+--------------+-------------------+-------+\n|_c0|candidate_number|maximum_travel_distance|week_hours_min|week_hours_max|candidate_hour_wage|cand_pc|\n+---+----------------+-----------------------+--------------+--------------+-------------------+-------+\n|0  |1330691123      |50.0                   |16.0          |24.0          |16.0               |1357   |\n|1  |1050390808      |50.0                   |24.0          |32.0          |13.5               |1353   |\n|2  |450737787       |25.0                   |24.0          |40.0          |14.423076923076923 |8242   |\n|3  |709909933       |30.0                   |32.0          |32.0          |15.865384615384615 |1313   |\n|4  |1703401364      |5.0                    |40.0          |40.0          |11.234817813765183 |1353   |\n+---+----------------+-----------------------+--------------+--------------+-------------------+-------+\nonly showing top 5 rows\n\nres24: org.apache.spark.sql.DataFrame = [summary: string, _c0: string ... 6 more fields]\n"
    }, {
      "metadata" : { },
      "data" : {
        "text/html" : "<div class=\"df-canvas\">\n      <script data-this=\"{&quot;dataId&quot;:&quot;anon93c9f18746bc08930fbfd26f01e6d8e0&quot;,&quot;partitionIndexId&quot;:&quot;anon3f553a7008c7c5160ed36518c28dd444&quot;,&quot;numPartitions&quot;:1,&quot;dfSchema&quot;:{&quot;type&quot;:&quot;struct&quot;,&quot;fields&quot;:[{&quot;name&quot;:&quot;summary&quot;,&quot;type&quot;:&quot;string&quot;,&quot;nullable&quot;:true,&quot;metadata&quot;:{}},{&quot;name&quot;:&quot;_c0&quot;,&quot;type&quot;:&quot;string&quot;,&quot;nullable&quot;:true,&quot;metadata&quot;:{}},{&quot;name&quot;:&quot;candidate_number&quot;,&quot;type&quot;:&quot;string&quot;,&quot;nullable&quot;:true,&quot;metadata&quot;:{}},{&quot;name&quot;:&quot;maximum_travel_distance&quot;,&quot;type&quot;:&quot;string&quot;,&quot;nullable&quot;:true,&quot;metadata&quot;:{}},{&quot;name&quot;:&quot;week_hours_min&quot;,&quot;type&quot;:&quot;string&quot;,&quot;nullable&quot;:true,&quot;metadata&quot;:{}},{&quot;name&quot;:&quot;week_hours_max&quot;,&quot;type&quot;:&quot;string&quot;,&quot;nullable&quot;:true,&quot;metadata&quot;:{}},{&quot;name&quot;:&quot;candidate_hour_wage&quot;,&quot;type&quot;:&quot;string&quot;,&quot;nullable&quot;:true,&quot;metadata&quot;:{}},{&quot;name&quot;:&quot;cand_pc&quot;,&quot;type&quot;:&quot;string&quot;,&quot;nullable&quot;:true,&quot;metadata&quot;:{}}]}}\" type=\"text/x-scoped-javascript\">/*<![CDATA[*/req(['../javascripts/notebook/dataframe','../javascripts/notebook/consoleDir'], \n      function(dataframe, extension) {\n        dataframe.call(data, this, extension);\n      }\n    );/*]]>*/</script>\n      <link rel=\"stylesheet\" href=\"/assets/stylesheets/ipython/css/dataframe.css\" type=\"text/css\"/>\n    </div>"
      },
      "output_type" : "execute_result",
      "execution_count" : 3,
      "time" : "Took: 5.703s, at 2020-05-12 11:33"
    } ]
  }, {
    "metadata" : {
      "trusted" : true,
      "input_collapsed" : false,
      "collapsed" : false,
      "id" : "D75E1790017644F587686FB07597F99F"
    },
    "cell_type" : "code",
    "source" : [ "clicks_train.show(5, false)\n", "clicks_train.describe()" ],
    "outputs" : [ {
      "name" : "stdout",
      "output_type" : "stream",
      "text" : "+---+----------+------------+----------------+--------------+-------------------+-------------------------+-----------------+--------+----------+-----------+----------+\n|_c0|Unnamed: 0|Unnamed: 0.1|candidate_number|vacancy_number|date_action        |function_name            |request_hour_wage|distance|week_hours|ecom_action|company_pc|\n+---+----------+------------+----------------+--------------+-------------------+-------------------------+-----------------+--------+----------+-----------+----------+\n|1  |1         |1           |425458424       |790077500     |2017-02-20 16:40:11|medewerker klantenservice|10.0             |1.0     |40.0      |6          |1062.0    |\n|2  |2         |2           |617788096       |790077500     |2017-02-14 13:26:46|medewerker klantenservice|10.0             |3.0     |40.0      |6          |1062.0    |\n|5  |5         |5           |245302391       |790077500     |2017-02-17 14:00:08|medewerker klantenservice|10.0             |4.0     |40.0      |2          |1062.0    |\n|7  |7         |7           |53842245        |790077500     |2017-02-15 12:57:22|medewerker klantenservice|10.0             |13.0    |40.0      |6          |1062.0    |\n|9  |9         |9           |32882468        |790077500     |2017-02-06 15:39:20|medewerker klantenservice|10.0             |35.0    |40.0      |6          |1062.0    |\n+---+----------+------------+----------------+--------------+-------------------+-------------------------+-----------------+--------+----------+-----------+----------+\nonly showing top 5 rows\n\nres26: org.apache.spark.sql.DataFrame = [summary: string, _c0: string ... 10 more fields]\n"
    }, {
      "metadata" : { },
      "data" : {
        "text/html" : "<div class=\"df-canvas\">\n      <script data-this=\"{&quot;dataId&quot;:&quot;anon61ad686d01deea2f807fc88f1296a11c&quot;,&quot;partitionIndexId&quot;:&quot;anone4dc8e8056624fec44634bac333fea45&quot;,&quot;numPartitions&quot;:1,&quot;dfSchema&quot;:{&quot;type&quot;:&quot;struct&quot;,&quot;fields&quot;:[{&quot;name&quot;:&quot;summary&quot;,&quot;type&quot;:&quot;string&quot;,&quot;nullable&quot;:true,&quot;metadata&quot;:{}},{&quot;name&quot;:&quot;_c0&quot;,&quot;type&quot;:&quot;string&quot;,&quot;nullable&quot;:true,&quot;metadata&quot;:{}},{&quot;name&quot;:&quot;Unnamed: 0&quot;,&quot;type&quot;:&quot;string&quot;,&quot;nullable&quot;:true,&quot;metadata&quot;:{}},{&quot;name&quot;:&quot;Unnamed: 0.1&quot;,&quot;type&quot;:&quot;string&quot;,&quot;nullable&quot;:true,&quot;metadata&quot;:{}},{&quot;name&quot;:&quot;candidate_number&quot;,&quot;type&quot;:&quot;string&quot;,&quot;nullable&quot;:true,&quot;metadata&quot;:{}},{&quot;name&quot;:&quot;vacancy_number&quot;,&quot;type&quot;:&quot;string&quot;,&quot;nullable&quot;:true,&quot;metadata&quot;:{}},{&quot;name&quot;:&quot;function_name&quot;,&quot;type&quot;:&quot;string&quot;,&quot;nullable&quot;:true,&quot;metadata&quot;:{}},{&quot;name&quot;:&quot;request_hour_wage&quot;,&quot;type&quot;:&quot;string&quot;,&quot;nullable&quot;:true,&quot;metadata&quot;:{}},{&quot;name&quot;:&quot;distance&quot;,&quot;type&quot;:&quot;string&quot;,&quot;nullable&quot;:true,&quot;metadata&quot;:{}},{&quot;name&quot;:&quot;week_hours&quot;,&quot;type&quot;:&quot;string&quot;,&quot;nullable&quot;:true,&quot;metadata&quot;:{}},{&quot;name&quot;:&quot;ecom_action&quot;,&quot;type&quot;:&quot;string&quot;,&quot;nullable&quot;:true,&quot;metadata&quot;:{}},{&quot;name&quot;:&quot;company_pc&quot;,&quot;type&quot;:&quot;string&quot;,&quot;nullable&quot;:true,&quot;metadata&quot;:{}}]}}\" type=\"text/x-scoped-javascript\">/*<![CDATA[*/req(['../javascripts/notebook/dataframe','../javascripts/notebook/consoleDir'], \n      function(dataframe, extension) {\n        dataframe.call(data, this, extension);\n      }\n    );/*]]>*/</script>\n      <link rel=\"stylesheet\" href=\"/assets/stylesheets/ipython/css/dataframe.css\" type=\"text/css\"/>\n    </div>"
      },
      "output_type" : "execute_result",
      "execution_count" : 4,
      "time" : "Took: 4.711s, at 2020-05-12 11:33"
    } ]
  }, {
    "metadata" : {
      "trusted" : true,
      "input_collapsed" : false,
      "collapsed" : false,
      "id" : "9B03AAF41D344944BD97340430ADD475"
    },
    "cell_type" : "code",
    "source" : [ "clicks_val.show(5, false)\n", "clicks_val.describe()" ],
    "outputs" : [ {
      "name" : "stdout",
      "output_type" : "stream",
      "text" : "+---+----------+------------+----------------+--------------+-------------------+----------------+-----------------+--------+----------+-----------+----------+\n|_c0|Unnamed: 0|Unnamed: 0.1|candidate_number|vacancy_number|date_action        |function_name   |request_hour_wage|distance|week_hours|ecom_action|company_pc|\n+---+----------+------------+----------------+--------------+-------------------+----------------+-----------------+--------+----------+-----------+----------+\n|1  |1         |10137       |425458424       |2140691097    |2017-12-26 19:46:18|transportplanner|13.26            |8.0     |40.0      |6          |1046.0    |\n|5  |5         |10173       |567376398       |2140691097    |2017-12-13 14:48:43|transportplanner|13.26            |7.0     |40.0      |6          |1046.0    |\n|7  |7         |10217       |101012305       |2140691097    |2017-12-21 14:13:38|transportplanner|13.26            |3.0     |40.0      |5          |1046.0    |\n|11 |11        |10232       |320185734       |2140691097    |2017-12-13 12:02:23|transportplanner|13.26            |4.0     |40.0      |2          |1046.0    |\n|13 |13        |10237       |471457293       |2140691097    |2017-12-09 09:57:46|transportplanner|13.26            |24.0    |40.0      |2          |1046.0    |\n+---+----------+------------+----------------+--------------+-------------------+----------------+-----------------+--------+----------+-----------+----------+\nonly showing top 5 rows\n\nres28: org.apache.spark.sql.DataFrame = [summary: string, _c0: string ... 10 more fields]\n"
    }, {
      "metadata" : { },
      "data" : {
        "text/html" : "<div class=\"df-canvas\">\n      <script data-this=\"{&quot;dataId&quot;:&quot;anon726b12bdfde4c5a16439920c29c27dc0&quot;,&quot;partitionIndexId&quot;:&quot;anon905d8bcfc351ae2d7b3109cb69376ab0&quot;,&quot;numPartitions&quot;:1,&quot;dfSchema&quot;:{&quot;type&quot;:&quot;struct&quot;,&quot;fields&quot;:[{&quot;name&quot;:&quot;summary&quot;,&quot;type&quot;:&quot;string&quot;,&quot;nullable&quot;:true,&quot;metadata&quot;:{}},{&quot;name&quot;:&quot;_c0&quot;,&quot;type&quot;:&quot;string&quot;,&quot;nullable&quot;:true,&quot;metadata&quot;:{}},{&quot;name&quot;:&quot;Unnamed: 0&quot;,&quot;type&quot;:&quot;string&quot;,&quot;nullable&quot;:true,&quot;metadata&quot;:{}},{&quot;name&quot;:&quot;Unnamed: 0.1&quot;,&quot;type&quot;:&quot;string&quot;,&quot;nullable&quot;:true,&quot;metadata&quot;:{}},{&quot;name&quot;:&quot;candidate_number&quot;,&quot;type&quot;:&quot;string&quot;,&quot;nullable&quot;:true,&quot;metadata&quot;:{}},{&quot;name&quot;:&quot;vacancy_number&quot;,&quot;type&quot;:&quot;string&quot;,&quot;nullable&quot;:true,&quot;metadata&quot;:{}},{&quot;name&quot;:&quot;function_name&quot;,&quot;type&quot;:&quot;string&quot;,&quot;nullable&quot;:true,&quot;metadata&quot;:{}},{&quot;name&quot;:&quot;request_hour_wage&quot;,&quot;type&quot;:&quot;string&quot;,&quot;nullable&quot;:true,&quot;metadata&quot;:{}},{&quot;name&quot;:&quot;distance&quot;,&quot;type&quot;:&quot;string&quot;,&quot;nullable&quot;:true,&quot;metadata&quot;:{}},{&quot;name&quot;:&quot;week_hours&quot;,&quot;type&quot;:&quot;string&quot;,&quot;nullable&quot;:true,&quot;metadata&quot;:{}},{&quot;name&quot;:&quot;ecom_action&quot;,&quot;type&quot;:&quot;string&quot;,&quot;nullable&quot;:true,&quot;metadata&quot;:{}},{&quot;name&quot;:&quot;company_pc&quot;,&quot;type&quot;:&quot;string&quot;,&quot;nullable&quot;:true,&quot;metadata&quot;:{}}]}}\" type=\"text/x-scoped-javascript\">/*<![CDATA[*/req(['../javascripts/notebook/dataframe','../javascripts/notebook/consoleDir'], \n      function(dataframe, extension) {\n        dataframe.call(data, this, extension);\n      }\n    );/*]]>*/</script>\n      <link rel=\"stylesheet\" href=\"/assets/stylesheets/ipython/css/dataframe.css\" type=\"text/css\"/>\n    </div>"
      },
      "output_type" : "execute_result",
      "execution_count" : 5,
      "time" : "Took: 1.854s, at 2020-05-12 11:33"
    } ]
  }, {
    "metadata" : {
      "trusted" : true,
      "input_collapsed" : false,
      "collapsed" : false,
      "id" : "F8121C10F3B844429A28600ADDE1B9EF"
    },
    "cell_type" : "code",
    "source" : [ "zipcode_distances.show(5, false)\n", "zipcode_distances.describe()" ],
    "outputs" : [ {
      "name" : "stdout",
      "output_type" : "stream",
      "text" : "+--------+----+----+--------+\n|_c0     |from|to  |distance|\n+--------+----+----+--------+\n|10111011|1011|1011|0.0     |\n|10111052|1011|1052|4.0     |\n|10111068|1011|1068|17.0    |\n|10111091|1011|1091|2.0     |\n|10111244|1011|1244|22.0    |\n+--------+----+----+--------+\nonly showing top 5 rows\n\nres30: org.apache.spark.sql.DataFrame = [summary: string, _c0: string ... 3 more fields]\n"
    }, {
      "metadata" : { },
      "data" : {
        "text/html" : "<div class=\"df-canvas\">\n      <script data-this=\"{&quot;dataId&quot;:&quot;anon2ba8f7414f9f3e793674c2a2f89665a9&quot;,&quot;partitionIndexId&quot;:&quot;anon35f9bce6fd78a755a70481c447231d8c&quot;,&quot;numPartitions&quot;:1,&quot;dfSchema&quot;:{&quot;type&quot;:&quot;struct&quot;,&quot;fields&quot;:[{&quot;name&quot;:&quot;summary&quot;,&quot;type&quot;:&quot;string&quot;,&quot;nullable&quot;:true,&quot;metadata&quot;:{}},{&quot;name&quot;:&quot;_c0&quot;,&quot;type&quot;:&quot;string&quot;,&quot;nullable&quot;:true,&quot;metadata&quot;:{}},{&quot;name&quot;:&quot;from&quot;,&quot;type&quot;:&quot;string&quot;,&quot;nullable&quot;:true,&quot;metadata&quot;:{}},{&quot;name&quot;:&quot;to&quot;,&quot;type&quot;:&quot;string&quot;,&quot;nullable&quot;:true,&quot;metadata&quot;:{}},{&quot;name&quot;:&quot;distance&quot;,&quot;type&quot;:&quot;string&quot;,&quot;nullable&quot;:true,&quot;metadata&quot;:{}}]}}\" type=\"text/x-scoped-javascript\">/*<![CDATA[*/req(['../javascripts/notebook/dataframe','../javascripts/notebook/consoleDir'], \n      function(dataframe, extension) {\n        dataframe.call(data, this, extension);\n      }\n    );/*]]>*/</script>\n      <link rel=\"stylesheet\" href=\"/assets/stylesheets/ipython/css/dataframe.css\" type=\"text/css\"/>\n    </div>"
      },
      "output_type" : "execute_result",
      "execution_count" : 6,
      "time" : "Took: 7.373s, at 2020-05-12 11:34"
    } ]
  }, {
    "metadata" : {
      "trusted" : true,
      "input_collapsed" : false,
      "collapsed" : false,
      "id" : "906E8F9B6FD6497E8D0E31A186653C4A"
    },
    "cell_type" : "code",
    "source" : [ "vacancies_val.show(5, false)\n", "vacancies_val.describe()" ],
    "outputs" : [ {
      "name" : "stdout",
      "output_type" : "stream",
      "text" : "+---+--------------+---------------------+------------------+----------+----------+\n|_c0|vacancy_number|function_name        |request_hour_wage |week_hours|company_pc|\n+---+--------------+---------------------+------------------+----------+----------+\n|0  |1388552       |postsorteerder       |9.2               |12.0      |1066.0    |\n|1  |1653383       |surveillant          |19.401098901098894|28.0      |7511.0    |\n|2  |1763831       |vakman wegenbouw     |10.0              |40.0      |4463.0    |\n|3  |1961784       |catering medewerker a|10.25             |25.0      |3454.0    |\n|4  |2589845       |orderpicker          |9.6               |24.0      |3542.0    |\n+---+--------------+---------------------+------------------+----------+----------+\nonly showing top 5 rows\n\nres32: org.apache.spark.sql.DataFrame = [summary: string, _c0: string ... 5 more fields]\n"
    }, {
      "metadata" : { },
      "data" : {
        "text/html" : "<div class=\"df-canvas\">\n      <script data-this=\"{&quot;dataId&quot;:&quot;anon95924c44ba1be1a9191c692c70b78bdb&quot;,&quot;partitionIndexId&quot;:&quot;anona1d257232070f418cded1bb63e0d7df3&quot;,&quot;numPartitions&quot;:1,&quot;dfSchema&quot;:{&quot;type&quot;:&quot;struct&quot;,&quot;fields&quot;:[{&quot;name&quot;:&quot;summary&quot;,&quot;type&quot;:&quot;string&quot;,&quot;nullable&quot;:true,&quot;metadata&quot;:{}},{&quot;name&quot;:&quot;_c0&quot;,&quot;type&quot;:&quot;string&quot;,&quot;nullable&quot;:true,&quot;metadata&quot;:{}},{&quot;name&quot;:&quot;vacancy_number&quot;,&quot;type&quot;:&quot;string&quot;,&quot;nullable&quot;:true,&quot;metadata&quot;:{}},{&quot;name&quot;:&quot;function_name&quot;,&quot;type&quot;:&quot;string&quot;,&quot;nullable&quot;:true,&quot;metadata&quot;:{}},{&quot;name&quot;:&quot;request_hour_wage&quot;,&quot;type&quot;:&quot;string&quot;,&quot;nullable&quot;:true,&quot;metadata&quot;:{}},{&quot;name&quot;:&quot;week_hours&quot;,&quot;type&quot;:&quot;string&quot;,&quot;nullable&quot;:true,&quot;metadata&quot;:{}},{&quot;name&quot;:&quot;company_pc&quot;,&quot;type&quot;:&quot;string&quot;,&quot;nullable&quot;:true,&quot;metadata&quot;:{}}]}}\" type=\"text/x-scoped-javascript\">/*<![CDATA[*/req(['../javascripts/notebook/dataframe','../javascripts/notebook/consoleDir'], \n      function(dataframe, extension) {\n        dataframe.call(data, this, extension);\n      }\n    );/*]]>*/</script>\n      <link rel=\"stylesheet\" href=\"/assets/stylesheets/ipython/css/dataframe.css\" type=\"text/css\"/>\n    </div>"
      },
      "output_type" : "execute_result",
      "execution_count" : 7,
      "time" : "Took: 3.215s, at 2020-05-12 11:34"
    } ]
  }, {
    "metadata" : {
      "id" : "EFDC321C16E9414481BFF2CA134E3ADE"
    },
    "cell_type" : "markdown",
    "source" : "### Assignment:\n* Convert all ones in the \"ecom_action\" column to a 2\n* Convert the 3's  and 5's  to 4's\n* Try to come up with a data-driven reasoning for choosing the ratio between clicks and applications"
  }, {
    "metadata" : {
      "trusted" : true,
      "input_collapsed" : false,
      "collapsed" : false,
      "id" : "8B193BCA98D04995BB873E79D521E9E5"
    },
    "cell_type" : "code",
    "source" : [ "clicks_val.groupBy(\"ecom_action\")\n", "          .count()\n", "          .show()" ],
    "outputs" : [ {
      "name" : "stdout",
      "output_type" : "stream",
      "text" : "+-----------+-----+\n|ecom_action|count|\n+-----------+-----+\n|          1|    1|\n|          6| 4355|\n|          3|   34|\n|          5|  973|\n|          2| 6387|\n+-----------+-----+\n\n"
    }, {
      "metadata" : { },
      "data" : {
        "text/html" : ""
      },
      "output_type" : "execute_result",
      "execution_count" : 8,
      "time" : "Took: 2.887s, at 2020-05-12 11:34"
    } ]
  }, {
    "metadata" : {
      "trusted" : true,
      "input_collapsed" : false,
      "collapsed" : false,
      "id" : "8BC8091C683A42A7AEAB6AF0BAEFC95C"
    },
    "cell_type" : "code",
    "source" : [ "import org.apache.spark.sql.functions._\n", "\n", "// Hint: make a UDF that you can apply on a certain column in a dataframe\n", "def ecomActionRemap(s: String): Option[Integer] = {\n", "  var i = 0;\n", "  try {\n", "    i = s.toInt;\n", "  } catch {\n", "    case e: Exception => Some(-1);\n", "  }\n", "  \n", "  if (i == 1) {\n", "    Some(2)\n", "  } else if (i == 3 || i == 5) {\n", "    Some(4)\n", "  } else {\n", "    Some(i);\n", "  }\n", "}\n", "\n", "val tRemap = udf((f: String) => ecomActionRemap(f))" ],
    "outputs" : [ {
      "name" : "stdout",
      "output_type" : "stream",
      "text" : "import org.apache.spark.sql.functions._\necomActionRemap: (s: String)Option[Integer]\ntRemap: org.apache.spark.sql.expressions.UserDefinedFunction = UserDefinedFunction(<function1>,IntegerType,Some(List(StringType)))\n"
    }, {
      "metadata" : { },
      "data" : {
        "text/html" : ""
      },
      "output_type" : "execute_result",
      "execution_count" : 9,
      "time" : "Took: 1.545s, at 2020-05-12 11:34"
    } ]
  }, {
    "metadata" : {
      "trusted" : true,
      "input_collapsed" : false,
      "collapsed" : false,
      "id" : "B8D2B7681A294FE8B342D7FD23A8D5D5"
    },
    "cell_type" : "code",
    "source" : [ "val clicks_val_remapped = clicks_val.withColumn(\"ecom_action\", tRemap('ecom_action))\n", "\n", "clicks_val_remapped.groupBy(\"ecom_action\")\n", "                   .count()\n", "                   .show()" ],
    "outputs" : [ {
      "name" : "stdout",
      "output_type" : "stream",
      "text" : "+-----------+-----+\n|ecom_action|count|\n+-----------+-----+\n|          6| 4355|\n|          4| 1007|\n|          2| 6388|\n+-----------+-----+\n\nclicks_val_remapped: org.apache.spark.sql.DataFrame = [_c0: int, Unnamed: 0: int ... 10 more fields]\n"
    }, {
      "metadata" : { },
      "data" : {
        "text/html" : ""
      },
      "output_type" : "execute_result",
      "execution_count" : 10,
      "time" : "Took: 2.926s, at 2020-05-12 11:34"
    } ]
  }, {
    "metadata" : {
      "id" : "E3DF5D801FB9485484A016184BA4B168"
    },
    "cell_type" : "markdown",
    "source" : "After modifying the \"ecom_action\" column we can now start training our recommender. For this we want to perform matrix factorization using the Alternative Least Squares algorithm. In Spark, we can do this using the org.apache.spark.ml.recommendation library. Use this library to perform ALS and make sure you understand the parameters that you need. There are some important choices that you will need to make, such as whether you want to use explicit or implicit matrix factorization and which values you want to use for regularization and the latent matrix rank. You can check out all these settings and more in the documentation: https://spark.apache.org/docs/2.2.0/ml-collaborative-filtering.html.\n\n### Assignment:\n* Perform ALS on the clicks_train dataset\n* Check whether to use implicit or explicit matrix factorization\n* Look into the possible hyperparameters of the ALS function"
  }, {
    "metadata" : {
      "trusted" : true,
      "input_collapsed" : false,
      "collapsed" : false,
      "id" : "BB128BA0F31949BD89A983D82F557507"
    },
    "cell_type" : "code",
    "source" : [ "import org.apache.spark.ml.recommendation.{ALS, ALSModel}\n", "\n", "// Hint: check out the documentation on ALS in Spark\n", "val als = new ALS()\n", "  .setMaxIter(5)\n", "  .setRegParam(0.01)\n", "  .setUserCol(\"candidate_number\")\n", "  .setItemCol(\"vacancy_number\")\n", "  .setRatingCol(\"ecom_action\")\n", "\n", "val model = als.fit(clicks_train)\n", "model.setColdStartStrategy(\"drop\")\n", "\n", "val predictions = model.transform(clicks_val)\n", "\n", "predictions.show(5, false)\n", "predictions.describe()" ],
    "outputs" : [ {
      "name" : "stdout",
      "output_type" : "stream",
      "text" : "+-----+----------+------------+----------------+--------------+-------------------+---------------------------+-----------------+--------+----------+-----------+----------+----------+\n|_c0  |Unnamed: 0|Unnamed: 0.1|candidate_number|vacancy_number|date_action        |function_name              |request_hour_wage|distance|week_hours|ecom_action|company_pc|prediction|\n+-----+----------+------------+----------------+--------------+-------------------+---------------------------+-----------------+--------+----------+-----------+----------+----------+\n|7024 |7024      |208781      |354503725       |58976820      |2017-12-12 23:45:13|assemblagemedewerker       |10.59            |14.0    |38.75     |6          |4461.0    |4.682991  |\n|8173 |8173      |227971      |408730715       |84040844      |2017-12-30 08:27:08|promotie medewerker        |10.74            |54.0    |12.0      |2          |2661.0    |-0.8928901|\n|41477|41477     |934451      |87396195        |336888829     |2017-12-19 12:03:05|medewerker bediening horeca|9.62             |6.0     |38.0      |6          |2586.0    |4.784357  |\n|41479|41479     |934454      |26304830        |336888829     |2017-12-08 17:46:33|medewerker bediening horeca|9.62             |9.0     |38.0      |6          |2586.0    |-0.5344577|\n|31112|31112     |727575      |320185734       |365224361     |2017-12-27 22:03:20|medewerker klantenservice  |10.14            |4.0     |40.0      |2          |1014.0    |2.0000098 |\n+-----+----------+------------+----------------+--------------+-------------------+---------------------------+-----------------+--------+----------+-----------+----------+----------+\nonly showing top 5 rows\n\nimport org.apache.spark.ml.recommendation.{ALS, ALSModel}\nals: org.apache.spark.ml.recommendation.ALS = als_edd370a20b07\nmodel: org.apache.spark.ml.recommendation.ALSModel = als_edd370a20b07\npredictions: org.apache.spark.sql.DataFrame = [_c0: int, Unnamed: 0: int ... 11 more fields]\nres39: org.apache.spark.sql.DataFrame = [summary: string, _c0: string ... 11 more fields]\n"
    }, {
      "metadata" : { },
      "data" : {
        "text/html" : "<div class=\"df-canvas\">\n      <script data-this=\"{&quot;dataId&quot;:&quot;anon22f8475deb083a6f161bec3595dd1b4f&quot;,&quot;partitionIndexId&quot;:&quot;anonf8a01f6f95c2fc562d0e1ea8367eeeb6&quot;,&quot;numPartitions&quot;:1,&quot;dfSchema&quot;:{&quot;type&quot;:&quot;struct&quot;,&quot;fields&quot;:[{&quot;name&quot;:&quot;summary&quot;,&quot;type&quot;:&quot;string&quot;,&quot;nullable&quot;:true,&quot;metadata&quot;:{}},{&quot;name&quot;:&quot;_c0&quot;,&quot;type&quot;:&quot;string&quot;,&quot;nullable&quot;:true,&quot;metadata&quot;:{}},{&quot;name&quot;:&quot;Unnamed: 0&quot;,&quot;type&quot;:&quot;string&quot;,&quot;nullable&quot;:true,&quot;metadata&quot;:{}},{&quot;name&quot;:&quot;Unnamed: 0.1&quot;,&quot;type&quot;:&quot;string&quot;,&quot;nullable&quot;:true,&quot;metadata&quot;:{}},{&quot;name&quot;:&quot;candidate_number&quot;,&quot;type&quot;:&quot;string&quot;,&quot;nullable&quot;:true,&quot;metadata&quot;:{}},{&quot;name&quot;:&quot;vacancy_number&quot;,&quot;type&quot;:&quot;string&quot;,&quot;nullable&quot;:true,&quot;metadata&quot;:{}},{&quot;name&quot;:&quot;function_name&quot;,&quot;type&quot;:&quot;string&quot;,&quot;nullable&quot;:true,&quot;metadata&quot;:{}},{&quot;name&quot;:&quot;request_hour_wage&quot;,&quot;type&quot;:&quot;string&quot;,&quot;nullable&quot;:true,&quot;metadata&quot;:{}},{&quot;name&quot;:&quot;distance&quot;,&quot;type&quot;:&quot;string&quot;,&quot;nullable&quot;:true,&quot;metadata&quot;:{}},{&quot;name&quot;:&quot;week_hours&quot;,&quot;type&quot;:&quot;string&quot;,&quot;nullable&quot;:true,&quot;metadata&quot;:{}},{&quot;name&quot;:&quot;ecom_action&quot;,&quot;type&quot;:&quot;string&quot;,&quot;nullable&quot;:true,&quot;metadata&quot;:{}},{&quot;name&quot;:&quot;company_pc&quot;,&quot;type&quot;:&quot;string&quot;,&quot;nullable&quot;:true,&quot;metadata&quot;:{}},{&quot;name&quot;:&quot;prediction&quot;,&quot;type&quot;:&quot;string&quot;,&quot;nullable&quot;:true,&quot;metadata&quot;:{}}]}}\" type=\"text/x-scoped-javascript\">/*<![CDATA[*/req(['../javascripts/notebook/dataframe','../javascripts/notebook/consoleDir'], \n      function(dataframe, extension) {\n        dataframe.call(data, this, extension);\n      }\n    );/*]]>*/</script>\n      <link rel=\"stylesheet\" href=\"/assets/stylesheets/ipython/css/dataframe.css\" type=\"text/css\"/>\n    </div>"
      },
      "output_type" : "execute_result",
      "execution_count" : 11,
      "time" : "Took: 25.038s, at 2020-05-12 11:34"
    } ]
  }, {
    "metadata" : {
      "trusted" : true,
      "input_collapsed" : false,
      "collapsed" : false,
      "id" : "7E784980FAE84BDEBFFC4AE3E9AB1622"
    },
    "cell_type" : "code",
    "source" : [ "import org.apache.spark.ml.evaluation.RegressionEvaluator\n", "\n", "val evaluator = new RegressionEvaluator()\n", "  .setMetricName(\"rmse\")\n", "  .setLabelCol(\"ecom_action\")\n", "  .setPredictionCol(\"prediction\")\n", "\n", "val rmse = evaluator.evaluate(predictions)" ],
    "outputs" : [ {
      "name" : "stdout",
      "output_type" : "stream",
      "text" : "import org.apache.spark.ml.evaluation.RegressionEvaluator\nevaluator: org.apache.spark.ml.evaluation.RegressionEvaluator = regEval_08cd4880cf06\nrmse: Double = 4.97659816769758\n"
    }, {
      "metadata" : { },
      "data" : {
        "text/html" : ""
      },
      "output_type" : "execute_result",
      "execution_count" : 12,
      "time" : "Took: 4.808s, at 2020-05-12 11:34"
    } ]
  }, {
    "metadata" : {
      "id" : "4BF458103C074613A1627158F9DC5665"
    },
    "cell_type" : "markdown",
    "source" : "You have now built your first recommender! However, there is a very important issue with the way we have set up this model. Think of the goal of this model. We can either try to recommend candidates to vacancies or vice versa, but vacancies are volatile! They come and go and are not always open to applications. To illustrate this, an example: let's say we've trained a recommender on data up until December 2017. There could exist a vacancy V_1 that was open in November 2017 which might be a great fit for a candidate C_1 looking for a job in May 2018, but we don't want to recommend him old vacancies because they are already closed. Of course, we can add a postprocessing filter to the output of the recommender to catch these erroneous recommendations, but still this won't fix the issue because there won't be any results left. This is caused by the recommender not being able to recommend vacancies that were not present in the training set (i.e. no vacancies that were posted after December 2017 will be recommended). Ergo, we need to find some way for the recommender to base its recommendations of NEW vacancies on the OLD vacancies. For this, we need the context of the vacancy, so that we can make comparisons between similar vacancies, instead of looking at each vacancy as a separate entity. We could, for example, look at the vacancy text to find common keywords. To keep it simple, we have added the \"function_name\" to each candidate/vacancy pair. This function name describes the category of the vacancy, and can be used to recommend job categories instead of specific vacancies. If we can recommend job categories (which can still be quite specific) we can later on search the most recent vacancies for that category and recommend those. This way, we solve the problem of not having any available data for recent vacancies.\n\n### Assignment:\n* Perform ALS on the function_name (item col) and candidate_number (user col)\n* ALS requires its inputs to be integers. Since the function_name is a string, you first need to convert this to an integer index. We've already done this for you.\n* There can be multiple rows for a single candidate/function_name pair. Make sure to aggregate the ratings (e.g. by summing the \"ecom_action\" column)"
  }, {
    "metadata" : {
      "trusted" : true,
      "input_collapsed" : false,
      "collapsed" : false,
      "id" : "50480AC72A6147E9B83A95D90E707B5E"
    },
    "cell_type" : "code",
    "source" : [ "import org.apache.spark.ml.feature.StringIndexer\n", "import org.apache.spark.ml.feature.IndexToString\n", "import org.apache.spark.ml.recommendation.{ALS, ALSModel}\n", "\n", "// We use a StringIndexer to convert strings to integers\n", "val indexer = new StringIndexer()\n", "  .setInputCol(\"function_name\")\n", "  .setOutputCol(\"function_index\")\n", "  .setHandleInvalid(\"skip\")\n", "\n", "// Fit the indexer\n", "val stringIndexerModel = indexer.fit(clicks_train)\n", "\n", "// By transforming the stringindexer we get a new column 'function_index'\n", "val clicks_train_indexed = stringIndexerModel.transform(clicks_train)\n", "val clicks_val_indexed = stringIndexerModel.transform(clicks_val)\n", "\n", "// Hint: aggregate actions per candidate/function combination (e.g. group by the candidate number and function id and sum the rating per group)\n", "val grouped_train = clicks_train_indexed.groupBy(\"candidate_number\", \"function_index\").sum(\"ecom_action\")\n", "val grouped_val = clicks_val_indexed.groupBy(\"candidate_number\", \"function_index\").sum(\"ecom_action\")" ],
    "outputs" : [ {
      "name" : "stdout",
      "output_type" : "stream",
      "text" : "import org.apache.spark.ml.feature.StringIndexer\nimport org.apache.spark.ml.feature.IndexToString\nimport org.apache.spark.ml.recommendation.{ALS, ALSModel}\nindexer: org.apache.spark.ml.feature.StringIndexer = strIdx_523b8f5f5d8b\nstringIndexerModel: org.apache.spark.ml.feature.StringIndexerModel = strIdx_523b8f5f5d8b\nclicks_train_indexed: org.apache.spark.sql.DataFrame = [_c0: int, Unnamed: 0: int ... 11 more fields]\nclicks_val_indexed: org.apache.spark.sql.DataFrame = [_c0: int, Unnamed: 0: int ... 11 more fields]\ngrouped_train: org.apache.spark.sql.DataFrame = [candidate_number: int, function_index: double ... 1 more field]\ngrouped_val: org.apache.spark.sql.DataFrame = [candidate_number: int, function_index: double ... 1 more field]\n"
    }, {
      "metadata" : { },
      "data" : {
        "text/html" : ""
      },
      "output_type" : "execute_result",
      "execution_count" : 13,
      "time" : "Took: 1.733s, at 2020-05-12 11:34"
    } ]
  }, {
    "metadata" : {
      "trusted" : true,
      "input_collapsed" : false,
      "collapsed" : false,
      "id" : "61BAC03EFDEB45FEB328C21B8461775E"
    },
    "cell_type" : "code",
    "source" : [ "// Hint: run ALS in the same manner as you did before\n", "// Don't make the rank and the number of iterations to high, it can cause memory issues\n", "\n", "val als = new ALS()\n", "  .setMaxIter(5)\n", "  .setRegParam(0.01)\n", "  .setUserCol(\"candidate_number\")\n", "  .setItemCol(\"function_index\")\n", "  .setRatingCol(\"sum(ecom_action)\")\n", "\n", "val model = als.fit(grouped_train)\n", "model.setColdStartStrategy(\"drop\")\n", "\n", "val predictions = model.transform(grouped_val)\n", "\n", "predictions.show(5, false)\n", "predictions.describe()" ],
    "outputs" : [ {
      "name" : "stdout",
      "output_type" : "stream",
      "text" : "+----------------+--------------+----------------+-----------+\n|candidate_number|function_index|sum(ecom_action)|prediction |\n+----------------+--------------+----------------+-----------+\n|472145989       |148.0         |6               |0.34950644 |\n|3767994         |148.0         |5               |0.75397694 |\n|486695951       |148.0         |2               |-0.42433658|\n|247164668       |148.0         |2               |5.0517845  |\n|590284484       |148.0         |6               |2.931975   |\n+----------------+--------------+----------------+-----------+\nonly showing top 5 rows\n\nals: org.apache.spark.ml.recommendation.ALS = als_dbee1395fea6\nmodel: org.apache.spark.ml.recommendation.ALSModel = als_dbee1395fea6\npredictions: org.apache.spark.sql.DataFrame = [candidate_number: int, function_index: double ... 2 more fields]\nres43: org.apache.spark.sql.DataFrame = [summary: string, candidate_number: string ... 3 more fields]\n"
    }, {
      "metadata" : { },
      "data" : {
        "text/html" : "<div class=\"df-canvas\">\n      <script data-this=\"{&quot;dataId&quot;:&quot;anon37dff2126e20336201f43748639ee626&quot;,&quot;partitionIndexId&quot;:&quot;anon0cc0efd9a55361fcb4d57f50a7aba681&quot;,&quot;numPartitions&quot;:1,&quot;dfSchema&quot;:{&quot;type&quot;:&quot;struct&quot;,&quot;fields&quot;:[{&quot;name&quot;:&quot;summary&quot;,&quot;type&quot;:&quot;string&quot;,&quot;nullable&quot;:true,&quot;metadata&quot;:{}},{&quot;name&quot;:&quot;candidate_number&quot;,&quot;type&quot;:&quot;string&quot;,&quot;nullable&quot;:true,&quot;metadata&quot;:{}},{&quot;name&quot;:&quot;function_index&quot;,&quot;type&quot;:&quot;string&quot;,&quot;nullable&quot;:true,&quot;metadata&quot;:{}},{&quot;name&quot;:&quot;sum(ecom_action)&quot;,&quot;type&quot;:&quot;string&quot;,&quot;nullable&quot;:true,&quot;metadata&quot;:{}},{&quot;name&quot;:&quot;prediction&quot;,&quot;type&quot;:&quot;string&quot;,&quot;nullable&quot;:true,&quot;metadata&quot;:{}}]}}\" type=\"text/x-scoped-javascript\">/*<![CDATA[*/req(['../javascripts/notebook/dataframe','../javascripts/notebook/consoleDir'], \n      function(dataframe, extension) {\n        dataframe.call(data, this, extension);\n      }\n    );/*]]>*/</script>\n      <link rel=\"stylesheet\" href=\"/assets/stylesheets/ipython/css/dataframe.css\" type=\"text/css\"/>\n    </div>"
      },
      "output_type" : "execute_result",
      "execution_count" : 14,
      "time" : "Took: 20.783s, at 2020-05-12 11:35"
    } ]
  }, {
    "metadata" : {
      "id" : "EFF0545BB2C04A5E9CAB36C55E2ED11C"
    },
    "cell_type" : "markdown",
    "source" : "## Sample predictions\nLets see if our recommender is producing expected results. We will look at a candidates clicking behavior and compare it with the output of the recommender for that candidate."
  }, {
    "metadata" : {
      "trusted" : true,
      "input_collapsed" : false,
      "collapsed" : false,
      "id" : "28F816B0749143D78A00A1A1682A10B9"
    },
    "cell_type" : "code",
    "source" : [ "// Take the first candidate\n", "val candidate = clicks_train.select(\"candidate_number\").take(1)\n", "\n", "// See the clicks of the first candidate in the training set\n", "val click_behavior = clicks_train.filter(col(\"candidate_number\") === candidate(0).getInt(0))\n", "\n", "click_behavior.show(10, false)" ],
    "outputs" : [ {
      "name" : "stdout",
      "output_type" : "stream",
      "text" : "+-----+----------+------------+----------------+--------------+-------------------+-----------------------------------+------------------+--------+----------+-----------+----------+\n|_c0  |Unnamed: 0|Unnamed: 0.1|candidate_number|vacancy_number|date_action        |function_name                      |request_hour_wage |distance|week_hours|ecom_action|company_pc|\n+-----+----------+------------+----------------+--------------+-------------------+-----------------------------------+------------------+--------+----------+-----------+----------+\n|1    |1         |1           |425458424       |790077500     |2017-02-20 16:40:11|medewerker klantenservice          |10.0              |1.0     |40.0      |6          |1062.0    |\n|5446 |5446      |5446        |425458424       |1207882682    |2017-06-13 04:12:47|callcentermedewerker inbound       |10.0              |6.0     |32.0      |2          |1014.0    |\n|6087 |6087      |6087        |425458424       |1396860979    |2017-03-21 20:10:14|administratief medewerker          |14.423076923076925|12.0    |40.0      |6          |1118.0    |\n|8477 |8477      |8477        |425458424       |1977671303    |2017-06-13 04:31:29|helpdeskmedewerker                 |9.23076923076923  |185.0   |40.0      |2          |9722.0    |\n|29416|29416     |34741       |425458424       |2005710950    |2017-07-11 16:53:08|financieeladministratief medewerker|9.04              |19.0    |40.0      |2          |1119.0    |\n|29475|29475     |34800       |425458424       |2095801206    |2017-07-31 05:00:20|administratief medewerker          |12.0              |12.0    |38.0      |2          |1118.0    |\n|29868|29868     |36052       |425458424       |19582005      |2017-06-13 04:32:33|medewerker klantenservice          |13.0              |6.0     |40.0      |2          |1014.0    |\n|41717|41717     |50434       |425458424       |887427653     |2017-07-11 16:55:59|medewerker klantenservice          |10.0              |6.0     |40.0      |6          |1014.0    |\n|51356|51356     |62192       |425458424       |821283322     |2017-06-13 04:18:38|administratief medewerker          |16.96             |11.0    |36.0      |2          |1011.0    |\n|51441|51441     |62277       |425458424       |620711954     |2017-06-13 04:17:39|directiesecretaresse               |18.0              |42.0    |32.0      |2          |3526.0    |\n+-----+----------+------------+----------------+--------------+-------------------+-----------------------------------+------------------+--------+----------+-----------+----------+\nonly showing top 10 rows\n\ncandidate: Array[org.apache.spark.sql.Row] = Array([425458424])\nclick_behavior: org.apache.spark.sql.Dataset[org.apache.spark.sql.Row] = [_c0: int, Unnamed: 0: int ... 10 more fields]\n"
    }, {
      "metadata" : { },
      "data" : {
        "text/html" : ""
      },
      "output_type" : "execute_result",
      "execution_count" : 15,
      "time" : "Took: 1.541s, at 2020-05-12 11:35"
    } ]
  }, {
    "metadata" : {
      "trusted" : true,
      "input_collapsed" : false,
      "collapsed" : false,
      "id" : "C1DCCDE379D94952A1F22CDA7222905E"
    },
    "cell_type" : "code",
    "source" : [ "// We need all the possible function ids in the training set\n", "val function_ids = grouped_train.select(\"function_index\")\n", "                                .distinct\n", "\n", "// Crossjoining the function ids with the candidate provides us with a dataframe that our model can use for prediction, \n", "// For every candidate_number (in this case only the first one) and function_id, the model can calculate the predicted score\n", "val candidate_functions = clicks_train.select(\"candidate_number\")\n", "                                      .limit(1)\n", "                                      .crossJoin(function_ids)\n", "\n", "// Predict the activations\n", "val activations = model.transform(candidate_functions)\n", "\n", "// Invert the stringindexed results for verification purposes\n", "val converter = new IndexToString()\n", "  .setInputCol(\"function_index\")\n", "  .setOutputCol(\"function_name\")\n", "\n", "// Convert the function indices to function names\n", "val converted = converter.transform(activations)\n", "\n", "// Show the top predicted functions\n", "converted.orderBy(desc(\"prediction\"))\n", "         .show(10, false)" ],
    "outputs" : [ {
      "name" : "stdout",
      "output_type" : "stream",
      "text" : "+----------------+--------------+----------+---------------------------------------+\n|candidate_number|function_index|prediction|function_name                          |\n+----------------+--------------+----------+---------------------------------------+\n|425458424       |720.0         |167.7869  |voorman hovenier                       |\n|425458424       |0.0           |149.48642 |administratief medewerker              |\n|425458424       |562.0         |139.26118 |laborant                               |\n|425458424       |434.0         |112.30455 |hulp in de huishouding                 |\n|425458424       |686.0         |84.16367  |chauffeur goederenvervoer              |\n|425458424       |451.0         |81.23554  |onderhoudsmonteur installatietechnieken|\n|425458424       |603.0         |80.73406  |troubleshooter procesindustrie         |\n|425458424       |310.0         |77.42052  |operator ei                            |\n|425458424       |743.0         |74.79908  |postbode                               |\n|425458424       |639.0         |73.47358  |schade-expert                          |\n+----------------+--------------+----------+---------------------------------------+\nonly showing top 10 rows\n\nfunction_ids: org.apache.spark.sql.Dataset[org.apache.spark.sql.Row] = [function_index: double]\ncandidate_functions: org.apache.spark.sql.DataFrame = [candidate_number: int, function_index: double]\nactivations: org.apache.spark.sql.DataFrame = [candidate_number: int, function_index: double ... 1 more field]\nconverter: org.apache.spark.ml.feature.IndexToString = idxToStr_99b31588b28b\nconverted: org.apache.spark.sql.DataFrame = [candidate_number: int, function_index: double ... 2 more fields]\n"
    }, {
      "metadata" : { },
      "data" : {
        "text/html" : ""
      },
      "output_type" : "execute_result",
      "execution_count" : 16,
      "time" : "Took: 12.957s, at 2020-05-12 11:35"
    } ]
  }, {
    "metadata" : {
      "id" : "12521C7CC0094CB8B78920D1F320AC15"
    },
    "cell_type" : "markdown",
    "source" : "## Predict the validation set\nTesting recommender systems is a difficult task. A/B testing is usually the best option for the evaluation of a model. However we have no possibility if doing this in the timeframe of this exercise. To still get a general idea about the performance we will predict a ranking for vacancies in the validation set, and compare the real behavior of the candidates with our predictions. \n\nFirst we extract all unique candidates and unique function IDs in the validation set."
  }, {
    "metadata" : {
      "trusted" : true,
      "input_collapsed" : false,
      "collapsed" : false,
      "id" : "D52B2CA87FF9432F8702350675E33643"
    },
    "cell_type" : "code",
    "source" : [ "var candidate_numbers = clicks_val_indexed.select(\"candidate_number\").distinct\n", "val function_ids = grouped_val.select(\"function_index\").distinct" ],
    "outputs" : [ {
      "name" : "stdout",
      "output_type" : "stream",
      "text" : "candidate_numbers: org.apache.spark.sql.Dataset[org.apache.spark.sql.Row] = [candidate_number: int]\nfunction_ids: org.apache.spark.sql.Dataset[org.apache.spark.sql.Row] = [function_index: double]\n"
    }, {
      "metadata" : { },
      "data" : {
        "text/html" : ""
      },
      "output_type" : "execute_result",
      "execution_count" : 17,
      "time" : "Took: 0.880s, at 2020-05-12 11:35"
    } ]
  }, {
    "metadata" : {
      "id" : "81511BDFF914484DACC57E03351B41E5"
    },
    "cell_type" : "markdown",
    "source" : "We want to predict a rating for every vacancy in the vacancies_val dataframe. In order to obtain the rating, we need to predict the job function score per candidate and optimize it using hourly wage, hours per week and distance as features. Lets take a look at the vacancies_val dataframe"
  }, {
    "metadata" : {
      "trusted" : true,
      "input_collapsed" : false,
      "collapsed" : false,
      "id" : "3B1FC99387344F319782BB9EBA2EEDC9"
    },
    "cell_type" : "code",
    "source" : [ "vacancies_val = stringIndexerModel.transform(vacancies_val)\n", "vacancies_val.show(10, false)" ],
    "outputs" : [ {
      "name" : "stdout",
      "output_type" : "stream",
      "text" : "+---+--------------+--------------------------------+------------------+----------+----------+--------------+\n|_c0|vacancy_number|function_name                   |request_hour_wage |week_hours|company_pc|function_index|\n+---+--------------+--------------------------------+------------------+----------+----------+--------------+\n|0  |1388552       |postsorteerder                  |9.2               |12.0      |1066.0    |97.0          |\n|1  |1653383       |surveillant                     |19.401098901098894|28.0      |7511.0    |294.0         |\n|2  |1763831       |vakman wegenbouw                |10.0              |40.0      |4463.0    |798.0         |\n|3  |1961784       |catering medewerker a           |10.25             |25.0      |3454.0    |139.0         |\n|4  |2589845       |orderpicker                     |9.6               |24.0      |3542.0    |7.0           |\n|5  |3104130       |productiemedewerker             |11.0              |16.0      |7091.0    |1.0           |\n|6  |3275229       |onderhoudsschilder              |9.42              |37.0      |7511.0    |271.0         |\n|7  |3926642       |voorbewerker industrieel spuiter|14.102564102564099|36.0      |2031.0    |377.0         |\n|8  |4124062       |verpleegkundige                 |14.0              |8.0       |2289.0    |111.0         |\n|9  |4606558       |intercedent                     |15.144230769230768|32.0      |6811.0    |69.0          |\n+---+--------------+--------------------------------+------------------+----------+----------+--------------+\nonly showing top 10 rows\n\nvacancies_val: org.apache.spark.sql.DataFrame = [_c0: int, vacancy_number: int ... 5 more fields]\n"
    }, {
      "metadata" : { },
      "data" : {
        "text/html" : ""
      },
      "output_type" : "execute_result",
      "execution_count" : 18,
      "time" : "Took: 1.187s, at 2020-05-12 11:35"
    } ]
  }, {
    "metadata" : {
      "id" : "500AC51BE77E42E88A3FA46F94F3FD83"
    },
    "cell_type" : "markdown",
    "source" : "We are going to work with large dataframes, therefore we define a helper function take_top_n_grouped that selects the n highest records based on a sort column in the group."
  }, {
    "metadata" : {
      "trusted" : true,
      "input_collapsed" : false,
      "collapsed" : false,
      "id" : "E700D817FD854927BFFF0DAF63549CFD"
    },
    "cell_type" : "code",
    "source" : [ "import org.apache.spark.sql.expressions.Window\n", "import org.apache.spark.sql.functions.row_number\n", "import org.apache.spark.sql.functions.{rank, desc}\n", "\n", "def takeTopGrouped(df: DataFrame, n: Int, sortColumn: String, groupColumn: String) : DataFrame = {\n", "  val w = Window.partitionBy(groupColumn)\n", "                .orderBy(desc(sortColumn))\n", "\n", "  return df.withColumn(\"rank\", row_number().over(w))\n", "           .where($\"rank\" <= n)\n", "}" ],
    "outputs" : [ {
      "name" : "stdout",
      "output_type" : "stream",
      "text" : "import org.apache.spark.sql.expressions.Window\nimport org.apache.spark.sql.functions.row_number\nimport org.apache.spark.sql.functions.{rank, desc}\ntakeTopGrouped: (df: org.apache.spark.sql.DataFrame, n: Int, sortColumn: String, groupColumn: String)org.apache.spark.sql.DataFrame\n"
    }, {
      "metadata" : { },
      "data" : {
        "text/html" : ""
      },
      "output_type" : "execute_result",
      "execution_count" : 19,
      "time" : "Took: 0.765s, at 2020-05-12 11:35"
    } ]
  }, {
    "metadata" : {
      "id" : "9F53832C36C84B5D9986334C6F33F6B7"
    },
    "cell_type" : "markdown",
    "source" : "For every unique candidate in the validation set we create their function predictions by joining the function ids with the candidates. The model transforms these pairs to an activation of which we select the top 5 activations per candidate."
  }, {
    "metadata" : {
      "trusted" : true,
      "input_collapsed" : false,
      "collapsed" : false,
      "id" : "7CF5A52068474D5D9F6F1D8764B69581"
    },
    "cell_type" : "code",
    "source" : [ "// Create all the candidate-function pairs\n", "val validation = candidate_numbers.crossJoin(function_ids)\n", "\n", "// Predict the function ids score in the validation set for all users using the ALS model\n", "var predictions = model.transform(validation)\n", "\n", "// For each candidate, select the top 5 job functions\n", "predictions = takeTopGrouped(predictions, n=5, sortColumn=\"prediction\", groupColumn=\"candidate_number\")" ],
    "outputs" : [ {
      "name" : "stdout",
      "output_type" : "stream",
      "text" : "validation: org.apache.spark.sql.DataFrame = [candidate_number: int, function_index: double]\npredictions: org.apache.spark.sql.DataFrame = [candidate_number: int, function_index: double ... 2 more fields]\npredictions: org.apache.spark.sql.DataFrame = [candidate_number: int, function_index: double ... 2 more fields]\n"
    }, {
      "metadata" : { },
      "data" : {
        "text/html" : ""
      },
      "output_type" : "execute_result",
      "execution_count" : 20,
      "time" : "Took: 0.802s, at 2020-05-12 11:35"
    } ]
  }, {
    "metadata" : {
      "id" : "7E5062CBC26142BE8142FE2C8FADB35F"
    },
    "cell_type" : "markdown",
    "source" : "To reduce the amount of vacancies we have to predict per candidate we filter the vacancies in the validation set by the top predicted functions per candidate. By joining these vacancies with the predictions we get new vacancy/candidate pairs. \nThere is one feature missing which is the distance for the candidate to the job. By joining with the profile information we can add the candidate zipcode to the vacancy/candidate pairs. \nBoth candidate and vacancy zipcodes are then in the dataframe. The distance is obtained by joining the dataframe with the zipcode_distances table."
  }, {
    "metadata" : {
      "trusted" : true,
      "input_collapsed" : false,
      "collapsed" : false,
      "id" : "FBA8556A63584D8C8E1B5488F697F0D3"
    },
    "cell_type" : "code",
    "source" : [ "// Add vacancies containing the correct function ids\n", "val vacancies_filtered = vacancies_val.join(predictions, Seq(\"function_index\"), \"inner\")\n", "\n", "// We only need the candidate zipcode.\n", "// Hint: you can try taking more columns (such as hourly wage) to incorporate additional features into the model.\n", "val profiles_limited = profiles.select(\"candidate_number\", \"cand_pc\")\n", "\n", "// Add zipcode by joining on candidate number\n", "val vacancies_zipcodes = vacancies_filtered.join(profiles_limited, Seq(\"candidate_number\"), \"left\")\n", "\n", "// Join on company postal code and candidate postal code\n", "val vacancies_distance = vacancies_zipcodes.join(zipcode_distances,\n", "                                                 vacancies_zipcodes(\"company_pc\") === zipcode_distances(\"to\")\n", "                                                   && vacancies_zipcodes(\"cand_pc\") === zipcode_distances(\"from\"), \"left\")" ],
    "outputs" : [ {
      "name" : "stdout",
      "output_type" : "stream",
      "text" : "vacancies_filtered: org.apache.spark.sql.DataFrame = [function_index: double, _c0: int ... 8 more fields]\nprofiles_limited: org.apache.spark.sql.DataFrame = [candidate_number: int, cand_pc: int]\nvacancies_zipcodes: org.apache.spark.sql.DataFrame = [candidate_number: int, function_index: double ... 9 more fields]\nvacancies_distance: org.apache.spark.sql.DataFrame = [candidate_number: int, function_index: double ... 13 more fields]\n"
    }, {
      "metadata" : { },
      "data" : {
        "text/html" : ""
      },
      "output_type" : "execute_result",
      "execution_count" : 21,
      "time" : "Took: 0.876s, at 2020-05-12 11:35"
    } ]
  }, {
    "metadata" : {
      "id" : "764B77E320E34C83870AB49B73CD2CEC"
    },
    "cell_type" : "markdown",
    "source" : "All features are now present in our large table, however the values differ a lot between the features, therefore we need to normalize the distance, hour wage and function prediction between 0 and 1."
  }, {
    "metadata" : {
      "trusted" : true,
      "input_collapsed" : false,
      "collapsed" : false,
      "id" : "4CF37A1ED6CD44C88B4D6C0F89219212"
    },
    "cell_type" : "code",
    "source" : [ "// First calculate the maximum per candidate for each feature and create \n", "val max_distances = vacancies_distance\n", "  .groupBy(\"candidate_number\")\n", "  .agg(max($\"distance\").alias(\"max_distance\"),\n", "       max($\"request_hour_wage\").alias(\"max_request_hour_wage\"),\n", "       max($\"prediction\").alias(\"max_prediction\"))\n", "\n", "// Join the max distances in the vacancies table. Every candidate has now a unique maximum\n", "var vacancies_max_joined = vacancies_distance.join(max_distances, Seq(\"candidate_number\"), \"inner\")\n", "\n", "// A lower distance is in this case better than a higher distance,\n", "// therefore we subtract the normalized value from 1 after dividing by the maximum for that candidate\n", "vacancies_max_joined = vacancies_max_joined.withColumn(\"normalized_distance\", lit(1) - col(\"distance\").divide(col(\"max_distance\")))\n", "\n", "// The other two features are divided by the maximum\n", "vacancies_max_joined = vacancies_max_joined.withColumn(\"normalized_prediction\",\n", "                                                       col(\"prediction\").divide(col(\"max_prediction\")))\n", "vacancies_max_joined = vacancies_max_joined.withColumn(\"normalized_request_hour_wage\",\n", "                                                       col(\"request_hour_wage\").divide(col(\"max_request_hour_wage\")))" ],
    "outputs" : [ {
      "name" : "stdout",
      "output_type" : "stream",
      "text" : "max_distances: org.apache.spark.sql.DataFrame = [candidate_number: int, max_distance: double ... 2 more fields]\nvacancies_max_joined: org.apache.spark.sql.DataFrame = [candidate_number: int, function_index: double ... 19 more fields]\nvacancies_max_joined: org.apache.spark.sql.DataFrame = [candidate_number: int, function_index: double ... 19 more fields]\nvacancies_max_joined: org.apache.spark.sql.DataFrame = [candidate_number: int, function_index: double ... 19 more fields]\nvacancies_max_joined: org.apache.spark.sql.DataFrame = [candidate_number: int, function_index: double ... 19 more fields]\n"
    }, {
      "metadata" : { },
      "data" : {
        "text/html" : ""
      },
      "output_type" : "execute_result",
      "execution_count" : 22,
      "time" : "Took: 0.845s, at 2020-05-12 11:35"
    } ]
  }, {
    "metadata" : {
      "id" : "1ECC1E5FE68E4937958A31713365BFA8"
    },
    "cell_type" : "markdown",
    "source" : "With the normalized features we only have to combine them to create a prediction for that vacancy. The hour wage is weighted half, however these weights can be experimented with. For every candidate we select the 15 highest scored vacancies wich should appear on the first page if a candidate searched for vacancies on the Randstad site."
  }, {
    "metadata" : {
      "trusted" : true,
      "input_collapsed" : false,
      "collapsed" : false,
      "presentation" : {
        "tabs_state" : "{\n  \"tab_id\": \"#tab2143038358-0\"\n}",
        "pivot_chart_state" : "{\n  \"hiddenAttributes\": [],\n  \"menuLimit\": 200,\n  \"cols\": [],\n  \"rows\": [],\n  \"vals\": [],\n  \"exclusions\": {},\n  \"inclusions\": {},\n  \"unusedAttrsVertical\": 85,\n  \"autoSortUnusedAttrs\": false,\n  \"inclusionsInfo\": {},\n  \"aggregatorName\": \"Count\",\n  \"rendererName\": \"Table\"\n}"
      },
      "id" : "449264455C9644598ADED24DA284253A"
    },
    "cell_type" : "code",
    "source" : [ "// Sum our three features. Hint: you can try playing with the multipliers of the features to see\n", "// what works better. You can even do a grid search to really optimize your multipliers!\n", "val scored_df = vacancies_max_joined.withColumn(\"total_score\",\n", "  col(\"normalized_distance\") + col(\"normalized_prediction\") + lit(0.5) * col(\"normalized_request_hour_wage\"))\n", "\n", "// Take the top 15 per candidate\n", "val top_n_scored_df = takeTopGrouped(scored_df, n=15, sortColumn=\"total_score\", groupColumn=\"candidate_number\")" ],
    "outputs" : [ {
      "name" : "stdout",
      "output_type" : "stream",
      "text" : "scored_df: org.apache.spark.sql.DataFrame = [candidate_number: int, function_index: double ... 20 more fields]\ntop_n_scored_df: org.apache.spark.sql.DataFrame = [candidate_number: int, function_index: double ... 20 more fields]\n"
    }, {
      "metadata" : { },
      "data" : {
        "text/html" : ""
      },
      "output_type" : "execute_result",
      "execution_count" : 23,
      "time" : "Took: 0.693s, at 2020-05-12 11:35"
    } ]
  }, {
    "metadata" : {
      "id" : "FF813D7C774741768D10F91B954CC31C"
    },
    "cell_type" : "markdown",
    "source" : "## Evaluate the predictions\nThe last step is evaluating our predictions. We calculate the percentage of true applications that appeared in our predictions (recall)."
  }, {
    "metadata" : {
      "trusted" : true,
      "input_collapsed" : false,
      "collapsed" : false,
      "id" : "F185C9733E084831AAB11AE0662DD34B"
    },
    "cell_type" : "code",
    "source" : [ "// Select applications only\n", "clicks_val = clicks_val.drop(\"action\")\n", "val true_set = clicks_val.filter($\"ecom_action\" === 6)\n", "\n", "// Join our predictions with the true set, using \"inner\" join provides us with rows that appear in both sets.\n", "val cross_set = true_set.join(top_n_scored_df, \n", "                              (top_n_scored_df(\"vacancy_number\") === true_set(\"vacancy_number\"))\n", "                                && (top_n_scored_df(\"candidate_number\") === true_set(\"candidate_number\")),\n", "                              \"inner\")\n", "\n", "val len_true = true_set.count()\n", "val len_cross = cross_set.count()\n", "if (len_true > 0) {\n", "  // Simply use the lengths of the dataframes for our final score\n", "  val final_percentage =  100 * len_cross / len_true.toDouble\n", "  println(final_percentage.toString + \"% of the applications were in the prediction set\")\n", "}" ],
    "outputs" : [ {
      "name" : "stdout",
      "output_type" : "stream",
      "text" : "1.285878300803674% of the applications were in the prediction set\nclicks_val: org.apache.spark.sql.DataFrame = [_c0: int, Unnamed: 0: int ... 10 more fields]\ntrue_set: org.apache.spark.sql.Dataset[org.apache.spark.sql.Row] = [_c0: int, Unnamed: 0: int ... 10 more fields]\ncross_set: org.apache.spark.sql.DataFrame = [_c0: int, Unnamed: 0: int ... 32 more fields]\nlen_true: Long = 4355\nlen_cross: Long = 56\n"
    }, {
      "metadata" : { },
      "data" : {
        "text/html" : ""
      },
      "output_type" : "execute_result",
      "execution_count" : 24,
      "time" : "Took: 51.388s, at 2020-05-12 11:36"
    } ]
  }, {
    "metadata" : {
      "id" : "3F9F41B476624E8887D8049EE191BE68"
    },
    "cell_type" : "markdown",
    "source" : "## Compare with a baseline\nThe final percentage itself does not say much, is it high? low? To have a better feeling about this we need to compare it with a baseline score. In our case we select the top 15 most popular vacancies for every candidate. This baseline is better than selecting vacancies at random and provides a bit of insight."
  }, {
    "metadata" : {
      "trusted" : true,
      "input_collapsed" : false,
      "collapsed" : false,
      "id" : "6B352AEA09D84276B2345F737C66DF4F"
    },
    "cell_type" : "code",
    "source" : [ "val true_set = clicks_val.filter($\"ecom_action\" === 6)\n", "\n", "// Select the 15 most applied vacancies\n", "val popular_set = true_set.groupBy(\"vacancy_number\")\n", "                          .count()\n", "                          .orderBy(desc(\"count\"))\n", "                          .limit(15)\n", "\n", "// Sum the count\n", "val pop_count = popular_set.agg(sum(\"count\"))\n", "                           .first\n", "                           .getLong(0)\n", "\n", "// The summed count is equal to the number of users that applied to the popular vacancies, dividing by the total gives us the recall.\n", "val final_percentage =  100 * pop_count / true_set.count().toDouble\n", "println(final_percentage.toString + \"% of the applications were in the prediction set\\n\")" ],
    "outputs" : [ {
      "name" : "stdout",
      "output_type" : "stream",
      "text" : "3.3065442020665903% of the applications were in the prediction set\n\ntrue_set: org.apache.spark.sql.Dataset[org.apache.spark.sql.Row] = [_c0: int, Unnamed: 0: int ... 10 more fields]\npopular_set: org.apache.spark.sql.Dataset[org.apache.spark.sql.Row] = [vacancy_number: int, count: bigint]\npop_count: Long = 144\nfinal_percentage: Double = 3.3065442020665903\n"
    }, {
      "metadata" : { },
      "data" : {
        "text/html" : ""
      },
      "output_type" : "execute_result",
      "execution_count" : 25,
      "time" : "Took: 1.886s, at 2020-05-12 11:36"
    } ]
  }, {
    "metadata" : {
      "id" : "94196E04548A49219A905FC511F8691F"
    },
    "cell_type" : "markdown",
    "source" : "## Start finetuning now!\nYou now have a working recommender and decent validation method. Try to improve performance by for instance:\n* Tuning feature weight parameters\n* Optimize ALS \n* Incorporate the profile data\n* Add week hours as feature\n* Filter out vacancies using rules (e.g. week hours don't fit the profile)"
  }, {
    "metadata" : {
      "trusted" : true,
      "input_collapsed" : false,
      "collapsed" : true,
      "id" : "572DB476E3B8499095BBDA6B26CD5ACD"
    },
    "cell_type" : "code",
    "source" : [ "" ],
    "outputs" : [ ]
  } ],
  "nbformat" : 4
}